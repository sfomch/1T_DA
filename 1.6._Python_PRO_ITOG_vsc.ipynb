{
 "cells": [
  {
   "cell_type": "markdown",
   "metadata": {},
   "source": [
    "## "
   ]
  },
  {
   "cell_type": "markdown",
   "metadata": {},
   "source": [
    "# <center>Steam games<center>"
   ]
  },
  {
   "cell_type": "markdown",
   "metadata": {},
   "source": [
    "Перед Вами представлен датасет с данными по играм на площадке `Steam`. Ниже присутствует описание данных. Вашей задачей будет провести исследовательский анализ данных и выполнить определенные задачи:\n",
    "* Провести предобработку данных (пропуски, дубликаты и т.д.) \n",
    "* Рассчитайте среднюю стоимость игр в `Steam`\n",
    "* Постройте диаграмму, которая иллюстрирует какое количество игр поддерживает английский язык, а какое — нет\n",
    "* Постройте диаграмму, которая иллюстрирует какое количество игр является бесплатными, а какое требуется покупать\n",
    "* Постройте сводную таблицу с количеством выпущенных игр за каждый год (постройте для неё гистограмму)\n",
    "* Найдите и постройте диаграмму для топ 10 разработчиков видеоигр и отдельно для топ 10 издателей видеоигр, начиная с 2017 года (включительно)\n",
    "* Необходимо вывести топ 6 игр по количеству пользователей (`owners`)\n",
    "\n",
    "---\n",
    "**ЗАДАНИЯ ПРО:**\n",
    "* Необходимо вывести топ 10 жанров, начиная с 2015 года включительно (отдельно для платных игр и бесплатных). Постройте диаграмму\n",
    "* Необходимо вывести игры, процент положительных отзывов у которых `>=99%` (не учитывать игры, у которых нет отрицательных отзывов). Постройте диаграмму\n",
    "* Постройте диаграмму, иллюстрирующую распределение игр по платформам. То есть сколько игр поддерживает каждая из них\n",
    "* Выведите на экран строки, которые удовлятворяют следующему условию: возраст `+18`, год выпуска `2019`, жанр `симулятор`\n",
    "\n",
    "**После выполнения каждого условия необходимо писать выводы. Также необходим общий вывод в конце о всей проделанной работе с краткими выводами из данных пунктов.**\n",
    "\n",
    "\n"
   ]
  },
  {
   "cell_type": "markdown",
   "metadata": {},
   "source": [
    "## Описание данных"
   ]
  },
  {
   "cell_type": "markdown",
   "metadata": {},
   "source": [
    "* `appid` — Уникальный идентификатор игры\n",
    "* `name` — Название игры\n",
    "* `release_date` — Год релиза игры\n",
    "* `english` — Поддержка английского языка\n",
    "* `developer` — Имя разработчика игры\n",
    "* `publisher` — Имя издателя игры\n",
    "* `platforms` — Названия поддерживаемых платформ\n",
    "* `required_age` - Рекомендуемый возраст\n",
    "* `genres` — Жанр игры\n",
    "* `positive_ratings` — Количество позитивных отзывов\n",
    "* `negative_ratings` — Количество отрицательных отзывов\n",
    "* `average_playtime` — Среднее время игры\n",
    "* `median_playtime` — Медианное время игры\n",
    "* `owners` — Количество владельцев игры, то есть людей, купивших игру\n",
    "* `price` — Стоимость игры\n"
   ]
  },
  {
   "cell_type": "markdown",
   "metadata": {},
   "source": [
    "## Предобработка данных"
   ]
  },
  {
   "cell_type": "code",
   "execution_count": 1,
   "metadata": {},
   "outputs": [],
   "source": [
    "#Импорт библитек \n",
    "import plotly.express as px\n",
    "import plotly.graph_objects as go\n",
    "import pandas as pd\n",
    "import numpy as np\n",
    "#для vsc\n",
    "import matplotlib.pyplot as plt\n",
    "from matplotlib import colors\n",
    "import plotly.io as pio\n",
    "pio.renderers.default = \"vscode\""
   ]
  },
  {
   "cell_type": "code",
   "execution_count": 2,
   "metadata": {},
   "outputs": [],
   "source": [
    "#Импорт данных их файла в датасет и создание копии для дальнейшей работы с данными\n",
    "data = pd.read_csv('Steam.csv', sep = ',')\n",
    "copy = data.copy(deep = True)"
   ]
  },
  {
   "cell_type": "code",
   "execution_count": 4,
   "metadata": {
    "scrolled": true
   },
   "outputs": [
    {
     "data": {
      "text/html": [
       "<div>\n",
       "<style scoped>\n",
       "    .dataframe tbody tr th:only-of-type {\n",
       "        vertical-align: middle;\n",
       "    }\n",
       "\n",
       "    .dataframe tbody tr th {\n",
       "        vertical-align: top;\n",
       "    }\n",
       "\n",
       "    .dataframe thead th {\n",
       "        text-align: right;\n",
       "    }\n",
       "</style>\n",
       "<table border=\"1\" class=\"dataframe\">\n",
       "  <thead>\n",
       "    <tr style=\"text-align: right;\">\n",
       "      <th></th>\n",
       "      <th>appid</th>\n",
       "      <th>name</th>\n",
       "      <th>release_date</th>\n",
       "      <th>english</th>\n",
       "      <th>developer</th>\n",
       "      <th>publisher</th>\n",
       "      <th>platforms</th>\n",
       "      <th>required_age</th>\n",
       "      <th>genres</th>\n",
       "      <th>achievements</th>\n",
       "      <th>positive_ratings</th>\n",
       "      <th>negative_ratings</th>\n",
       "      <th>average_playtime</th>\n",
       "      <th>median_playtime</th>\n",
       "      <th>owners</th>\n",
       "      <th>price</th>\n",
       "    </tr>\n",
       "  </thead>\n",
       "  <tbody>\n",
       "    <tr>\n",
       "      <th>0</th>\n",
       "      <td>10</td>\n",
       "      <td>Counter-Strike</td>\n",
       "      <td>2000-11-01</td>\n",
       "      <td>1</td>\n",
       "      <td>Valve</td>\n",
       "      <td>Valve</td>\n",
       "      <td>windows;mac;linux</td>\n",
       "      <td>0</td>\n",
       "      <td>Action</td>\n",
       "      <td>0</td>\n",
       "      <td>124534</td>\n",
       "      <td>3339</td>\n",
       "      <td>17612</td>\n",
       "      <td>317</td>\n",
       "      <td>10000000-20000000</td>\n",
       "      <td>7.19</td>\n",
       "    </tr>\n",
       "    <tr>\n",
       "      <th>1</th>\n",
       "      <td>20</td>\n",
       "      <td>Team Fortress Classic</td>\n",
       "      <td>1999-04-01</td>\n",
       "      <td>1</td>\n",
       "      <td>Valve</td>\n",
       "      <td>Valve</td>\n",
       "      <td>windows;mac;linux</td>\n",
       "      <td>0</td>\n",
       "      <td>Action</td>\n",
       "      <td>0</td>\n",
       "      <td>3318</td>\n",
       "      <td>633</td>\n",
       "      <td>277</td>\n",
       "      <td>62</td>\n",
       "      <td>5000000-10000000</td>\n",
       "      <td>3.99</td>\n",
       "    </tr>\n",
       "    <tr>\n",
       "      <th>2</th>\n",
       "      <td>30</td>\n",
       "      <td>Day of Defeat</td>\n",
       "      <td>2003-05-01</td>\n",
       "      <td>1</td>\n",
       "      <td>Valve</td>\n",
       "      <td>Valve</td>\n",
       "      <td>windows;mac;linux</td>\n",
       "      <td>0</td>\n",
       "      <td>Action</td>\n",
       "      <td>0</td>\n",
       "      <td>3416</td>\n",
       "      <td>398</td>\n",
       "      <td>187</td>\n",
       "      <td>34</td>\n",
       "      <td>5000000-10000000</td>\n",
       "      <td>3.99</td>\n",
       "    </tr>\n",
       "    <tr>\n",
       "      <th>3</th>\n",
       "      <td>40</td>\n",
       "      <td>Deathmatch Classic</td>\n",
       "      <td>2001-06-01</td>\n",
       "      <td>1</td>\n",
       "      <td>Valve</td>\n",
       "      <td>Valve</td>\n",
       "      <td>windows;mac;linux</td>\n",
       "      <td>0</td>\n",
       "      <td>Action</td>\n",
       "      <td>0</td>\n",
       "      <td>1273</td>\n",
       "      <td>267</td>\n",
       "      <td>258</td>\n",
       "      <td>184</td>\n",
       "      <td>5000000-10000000</td>\n",
       "      <td>3.99</td>\n",
       "    </tr>\n",
       "    <tr>\n",
       "      <th>4</th>\n",
       "      <td>50</td>\n",
       "      <td>Half-Life: Opposing Force</td>\n",
       "      <td>1999-11-01</td>\n",
       "      <td>1</td>\n",
       "      <td>Gearbox Software</td>\n",
       "      <td>Valve</td>\n",
       "      <td>windows;mac;linux</td>\n",
       "      <td>0</td>\n",
       "      <td>Action</td>\n",
       "      <td>0</td>\n",
       "      <td>5250</td>\n",
       "      <td>288</td>\n",
       "      <td>624</td>\n",
       "      <td>415</td>\n",
       "      <td>5000000-10000000</td>\n",
       "      <td>3.99</td>\n",
       "    </tr>\n",
       "    <tr>\n",
       "      <th>...</th>\n",
       "      <td>...</td>\n",
       "      <td>...</td>\n",
       "      <td>...</td>\n",
       "      <td>...</td>\n",
       "      <td>...</td>\n",
       "      <td>...</td>\n",
       "      <td>...</td>\n",
       "      <td>...</td>\n",
       "      <td>...</td>\n",
       "      <td>...</td>\n",
       "      <td>...</td>\n",
       "      <td>...</td>\n",
       "      <td>...</td>\n",
       "      <td>...</td>\n",
       "      <td>...</td>\n",
       "      <td>...</td>\n",
       "    </tr>\n",
       "    <tr>\n",
       "      <th>27070</th>\n",
       "      <td>1065230</td>\n",
       "      <td>Room of Pandora</td>\n",
       "      <td>2019-04-24</td>\n",
       "      <td>1</td>\n",
       "      <td>SHEN JIAWEI</td>\n",
       "      <td>SHEN JIAWEI</td>\n",
       "      <td>windows</td>\n",
       "      <td>0</td>\n",
       "      <td>Adventure;Casual;Indie</td>\n",
       "      <td>7</td>\n",
       "      <td>3</td>\n",
       "      <td>0</td>\n",
       "      <td>0</td>\n",
       "      <td>0</td>\n",
       "      <td>0-20000</td>\n",
       "      <td>2.09</td>\n",
       "    </tr>\n",
       "    <tr>\n",
       "      <th>27071</th>\n",
       "      <td>1065570</td>\n",
       "      <td>Cyber Gun</td>\n",
       "      <td>2019-04-23</td>\n",
       "      <td>1</td>\n",
       "      <td>Semyon Maximov</td>\n",
       "      <td>BekkerDev Studio</td>\n",
       "      <td>windows</td>\n",
       "      <td>0</td>\n",
       "      <td>Action;Adventure;Indie</td>\n",
       "      <td>0</td>\n",
       "      <td>8</td>\n",
       "      <td>1</td>\n",
       "      <td>0</td>\n",
       "      <td>0</td>\n",
       "      <td>0-20000</td>\n",
       "      <td>1.69</td>\n",
       "    </tr>\n",
       "    <tr>\n",
       "      <th>27072</th>\n",
       "      <td>1065650</td>\n",
       "      <td>Super Star Blast</td>\n",
       "      <td>2019-04-24</td>\n",
       "      <td>1</td>\n",
       "      <td>EntwicklerX</td>\n",
       "      <td>EntwicklerX</td>\n",
       "      <td>windows</td>\n",
       "      <td>0</td>\n",
       "      <td>Action;Casual;Indie</td>\n",
       "      <td>24</td>\n",
       "      <td>0</td>\n",
       "      <td>1</td>\n",
       "      <td>0</td>\n",
       "      <td>0</td>\n",
       "      <td>0-20000</td>\n",
       "      <td>3.99</td>\n",
       "    </tr>\n",
       "    <tr>\n",
       "      <th>27073</th>\n",
       "      <td>1066700</td>\n",
       "      <td>New Yankee 7: Deer Hunters</td>\n",
       "      <td>2019-04-17</td>\n",
       "      <td>1</td>\n",
       "      <td>Yustas Game Studio</td>\n",
       "      <td>Alawar Entertainment</td>\n",
       "      <td>windows;mac</td>\n",
       "      <td>0</td>\n",
       "      <td>Adventure;Casual;Indie</td>\n",
       "      <td>0</td>\n",
       "      <td>2</td>\n",
       "      <td>0</td>\n",
       "      <td>0</td>\n",
       "      <td>0</td>\n",
       "      <td>0-20000</td>\n",
       "      <td>5.19</td>\n",
       "    </tr>\n",
       "    <tr>\n",
       "      <th>27074</th>\n",
       "      <td>1069460</td>\n",
       "      <td>Rune Lord</td>\n",
       "      <td>2019-04-24</td>\n",
       "      <td>1</td>\n",
       "      <td>Adept Studios GD</td>\n",
       "      <td>Alawar Entertainment</td>\n",
       "      <td>windows;mac</td>\n",
       "      <td>0</td>\n",
       "      <td>Adventure;Casual;Indie</td>\n",
       "      <td>0</td>\n",
       "      <td>4</td>\n",
       "      <td>0</td>\n",
       "      <td>0</td>\n",
       "      <td>0</td>\n",
       "      <td>0-20000</td>\n",
       "      <td>5.19</td>\n",
       "    </tr>\n",
       "  </tbody>\n",
       "</table>\n",
       "<p>27075 rows × 16 columns</p>\n",
       "</div>"
      ],
      "text/plain": [
       "         appid                        name release_date  english  \\\n",
       "0           10              Counter-Strike   2000-11-01        1   \n",
       "1           20       Team Fortress Classic   1999-04-01        1   \n",
       "2           30               Day of Defeat   2003-05-01        1   \n",
       "3           40          Deathmatch Classic   2001-06-01        1   \n",
       "4           50   Half-Life: Opposing Force   1999-11-01        1   \n",
       "...        ...                         ...          ...      ...   \n",
       "27070  1065230             Room of Pandora   2019-04-24        1   \n",
       "27071  1065570                   Cyber Gun   2019-04-23        1   \n",
       "27072  1065650            Super Star Blast   2019-04-24        1   \n",
       "27073  1066700  New Yankee 7: Deer Hunters   2019-04-17        1   \n",
       "27074  1069460                   Rune Lord   2019-04-24        1   \n",
       "\n",
       "                developer             publisher          platforms  \\\n",
       "0                   Valve                 Valve  windows;mac;linux   \n",
       "1                   Valve                 Valve  windows;mac;linux   \n",
       "2                   Valve                 Valve  windows;mac;linux   \n",
       "3                   Valve                 Valve  windows;mac;linux   \n",
       "4        Gearbox Software                 Valve  windows;mac;linux   \n",
       "...                   ...                   ...                ...   \n",
       "27070         SHEN JIAWEI           SHEN JIAWEI            windows   \n",
       "27071      Semyon Maximov      BekkerDev Studio            windows   \n",
       "27072         EntwicklerX           EntwicklerX            windows   \n",
       "27073  Yustas Game Studio  Alawar Entertainment        windows;mac   \n",
       "27074    Adept Studios GD  Alawar Entertainment        windows;mac   \n",
       "\n",
       "       required_age                  genres  achievements  positive_ratings  \\\n",
       "0                 0                  Action             0            124534   \n",
       "1                 0                  Action             0              3318   \n",
       "2                 0                  Action             0              3416   \n",
       "3                 0                  Action             0              1273   \n",
       "4                 0                  Action             0              5250   \n",
       "...             ...                     ...           ...               ...   \n",
       "27070             0  Adventure;Casual;Indie             7                 3   \n",
       "27071             0  Action;Adventure;Indie             0                 8   \n",
       "27072             0     Action;Casual;Indie            24                 0   \n",
       "27073             0  Adventure;Casual;Indie             0                 2   \n",
       "27074             0  Adventure;Casual;Indie             0                 4   \n",
       "\n",
       "       negative_ratings  average_playtime  median_playtime             owners  \\\n",
       "0                  3339             17612              317  10000000-20000000   \n",
       "1                   633               277               62   5000000-10000000   \n",
       "2                   398               187               34   5000000-10000000   \n",
       "3                   267               258              184   5000000-10000000   \n",
       "4                   288               624              415   5000000-10000000   \n",
       "...                 ...               ...              ...                ...   \n",
       "27070                 0                 0                0            0-20000   \n",
       "27071                 1                 0                0            0-20000   \n",
       "27072                 1                 0                0            0-20000   \n",
       "27073                 0                 0                0            0-20000   \n",
       "27074                 0                 0                0            0-20000   \n",
       "\n",
       "       price  \n",
       "0       7.19  \n",
       "1       3.99  \n",
       "2       3.99  \n",
       "3       3.99  \n",
       "4       3.99  \n",
       "...      ...  \n",
       "27070   2.09  \n",
       "27071   1.69  \n",
       "27072   3.99  \n",
       "27073   5.19  \n",
       "27074   5.19  \n",
       "\n",
       "[27075 rows x 16 columns]"
      ]
     },
     "metadata": {},
     "output_type": "display_data"
    }
   ],
   "source": [
    "#Просмотр датасета\n",
    "display(copy)"
   ]
  },
  {
   "cell_type": "markdown",
   "metadata": {},
   "source": [
    "Датасет содежит 27075 строк и 16 столбцов"
   ]
  },
  {
   "cell_type": "code",
   "execution_count": 6,
   "metadata": {},
   "outputs": [
    {
     "name": "stdout",
     "output_type": "stream",
     "text": [
      "В датасете 0 дубликатов строк\n"
     ]
    }
   ],
   "source": [
    "#Проверка датасета на наличие дубликатов строк\n",
    "print(f'В датасете {len(copy) - len(copy.drop_duplicates())} дубликатов строк')"
   ]
  },
  {
   "cell_type": "code",
   "execution_count": 7,
   "metadata": {},
   "outputs": [
    {
     "name": "stdout",
     "output_type": "stream",
     "text": [
      "<class 'pandas.core.frame.DataFrame'>\n",
      "RangeIndex: 27075 entries, 0 to 27074\n",
      "Data columns (total 16 columns):\n",
      " #   Column            Non-Null Count  Dtype  \n",
      "---  ------            --------------  -----  \n",
      " 0   appid             27075 non-null  int64  \n",
      " 1   name              27075 non-null  object \n",
      " 2   release_date      27075 non-null  object \n",
      " 3   english           27075 non-null  int64  \n",
      " 4   developer         27074 non-null  object \n",
      " 5   publisher         27061 non-null  object \n",
      " 6   platforms         27075 non-null  object \n",
      " 7   required_age      27075 non-null  int64  \n",
      " 8   genres            27075 non-null  object \n",
      " 9   achievements      27075 non-null  int64  \n",
      " 10  positive_ratings  27075 non-null  int64  \n",
      " 11  negative_ratings  27075 non-null  int64  \n",
      " 12  average_playtime  27075 non-null  int64  \n",
      " 13  median_playtime   27075 non-null  int64  \n",
      " 14  owners            27075 non-null  object \n",
      " 15  price             27075 non-null  float64\n",
      "dtypes: float64(1), int64(8), object(7)\n",
      "memory usage: 3.3+ MB\n"
     ]
    }
   ],
   "source": [
    "#Просмотр типов данных в датасете\n",
    "copy.info()"
   ]
  },
  {
   "cell_type": "markdown",
   "metadata": {},
   "source": [
    "Из вывода информации о типах данных в датасете следует что:\n",
    "- столбец **release_date** имеет тип **object**;\n",
    "- столбец **owners** имеет тип **object**\n",
    "\n",
    "Для удобства анализа датасета необходимо изметить типы данных в этих столбцах"
   ]
  },
  {
   "cell_type": "code",
   "execution_count": 5,
   "metadata": {},
   "outputs": [],
   "source": [
    "#Меняем тип данных в release_date'\n",
    "copy['release_date'] = copy['release_date'].astype(\"datetime64[ns]\")"
   ]
  },
  {
   "cell_type": "markdown",
   "metadata": {},
   "source": [
    "Для удобства анализа создадим столбец **yaer** который заполним годом выпуска игры"
   ]
  },
  {
   "cell_type": "code",
   "execution_count": 6,
   "metadata": {},
   "outputs": [],
   "source": [
    "copy['year'] = copy['release_date'].dt.year"
   ]
  },
  {
   "cell_type": "markdown",
   "metadata": {},
   "source": [
    "Столбец **owners** содержит данные о количестве пользователей в формате \"от - до\".\n",
    "для возможности анализа данных по количеству пользователей я создам в датасете два столбца (owners_min и owners_max) с типом данных  int64\n",
    "(*можно преобразовать данные в столбце **owners** в списки с целыми числами*) "
   ]
  },
  {
   "cell_type": "code",
   "execution_count": 7,
   "metadata": {},
   "outputs": [],
   "source": [
    "#Вставляем два столбца\n",
    "copy.insert(15, 'owners_min', 0 , allow_duplicates = False)\n",
    "copy.insert(16, 'owners_max', 0 , allow_duplicates = False)"
   ]
  },
  {
   "cell_type": "code",
   "execution_count": 8,
   "metadata": {},
   "outputs": [],
   "source": [
    "#Заполняем столбцы минимальным и максимальным значением числа пользователей\n",
    "\n",
    "for i in range(copy.shape[0]):\n",
    "    list_ = copy['owners'][i].split(\"-\")\n",
    "    copy.loc[i,'owners_min'] = int(list_[0])\n",
    "    copy.loc[i, 'owners_max'] = int(list_[1])"
   ]
  },
  {
   "cell_type": "code",
   "execution_count": 12,
   "metadata": {},
   "outputs": [
    {
     "data": {
      "text/html": [
       "<div>\n",
       "<style scoped>\n",
       "    .dataframe tbody tr th:only-of-type {\n",
       "        vertical-align: middle;\n",
       "    }\n",
       "\n",
       "    .dataframe tbody tr th {\n",
       "        vertical-align: top;\n",
       "    }\n",
       "\n",
       "    .dataframe thead th {\n",
       "        text-align: right;\n",
       "    }\n",
       "</style>\n",
       "<table border=\"1\" class=\"dataframe\">\n",
       "  <thead>\n",
       "    <tr style=\"text-align: right;\">\n",
       "      <th></th>\n",
       "      <th>appid</th>\n",
       "      <th>name</th>\n",
       "      <th>release_date</th>\n",
       "      <th>english</th>\n",
       "      <th>developer</th>\n",
       "      <th>publisher</th>\n",
       "      <th>platforms</th>\n",
       "      <th>required_age</th>\n",
       "      <th>genres</th>\n",
       "      <th>achievements</th>\n",
       "      <th>positive_ratings</th>\n",
       "      <th>negative_ratings</th>\n",
       "      <th>average_playtime</th>\n",
       "      <th>median_playtime</th>\n",
       "      <th>owners</th>\n",
       "      <th>owners_min</th>\n",
       "      <th>owners_max</th>\n",
       "      <th>price</th>\n",
       "      <th>year</th>\n",
       "    </tr>\n",
       "  </thead>\n",
       "  <tbody>\n",
       "    <tr>\n",
       "      <th>0</th>\n",
       "      <td>10</td>\n",
       "      <td>Counter-Strike</td>\n",
       "      <td>2000-11-01</td>\n",
       "      <td>1</td>\n",
       "      <td>Valve</td>\n",
       "      <td>Valve</td>\n",
       "      <td>windows;mac;linux</td>\n",
       "      <td>0</td>\n",
       "      <td>Action</td>\n",
       "      <td>0</td>\n",
       "      <td>124534</td>\n",
       "      <td>3339</td>\n",
       "      <td>17612</td>\n",
       "      <td>317</td>\n",
       "      <td>10000000-20000000</td>\n",
       "      <td>10000000</td>\n",
       "      <td>20000000</td>\n",
       "      <td>7.19</td>\n",
       "      <td>2000</td>\n",
       "    </tr>\n",
       "    <tr>\n",
       "      <th>1</th>\n",
       "      <td>20</td>\n",
       "      <td>Team Fortress Classic</td>\n",
       "      <td>1999-04-01</td>\n",
       "      <td>1</td>\n",
       "      <td>Valve</td>\n",
       "      <td>Valve</td>\n",
       "      <td>windows;mac;linux</td>\n",
       "      <td>0</td>\n",
       "      <td>Action</td>\n",
       "      <td>0</td>\n",
       "      <td>3318</td>\n",
       "      <td>633</td>\n",
       "      <td>277</td>\n",
       "      <td>62</td>\n",
       "      <td>5000000-10000000</td>\n",
       "      <td>5000000</td>\n",
       "      <td>10000000</td>\n",
       "      <td>3.99</td>\n",
       "      <td>1999</td>\n",
       "    </tr>\n",
       "    <tr>\n",
       "      <th>2</th>\n",
       "      <td>30</td>\n",
       "      <td>Day of Defeat</td>\n",
       "      <td>2003-05-01</td>\n",
       "      <td>1</td>\n",
       "      <td>Valve</td>\n",
       "      <td>Valve</td>\n",
       "      <td>windows;mac;linux</td>\n",
       "      <td>0</td>\n",
       "      <td>Action</td>\n",
       "      <td>0</td>\n",
       "      <td>3416</td>\n",
       "      <td>398</td>\n",
       "      <td>187</td>\n",
       "      <td>34</td>\n",
       "      <td>5000000-10000000</td>\n",
       "      <td>5000000</td>\n",
       "      <td>10000000</td>\n",
       "      <td>3.99</td>\n",
       "      <td>2003</td>\n",
       "    </tr>\n",
       "    <tr>\n",
       "      <th>3</th>\n",
       "      <td>40</td>\n",
       "      <td>Deathmatch Classic</td>\n",
       "      <td>2001-06-01</td>\n",
       "      <td>1</td>\n",
       "      <td>Valve</td>\n",
       "      <td>Valve</td>\n",
       "      <td>windows;mac;linux</td>\n",
       "      <td>0</td>\n",
       "      <td>Action</td>\n",
       "      <td>0</td>\n",
       "      <td>1273</td>\n",
       "      <td>267</td>\n",
       "      <td>258</td>\n",
       "      <td>184</td>\n",
       "      <td>5000000-10000000</td>\n",
       "      <td>5000000</td>\n",
       "      <td>10000000</td>\n",
       "      <td>3.99</td>\n",
       "      <td>2001</td>\n",
       "    </tr>\n",
       "    <tr>\n",
       "      <th>4</th>\n",
       "      <td>50</td>\n",
       "      <td>Half-Life: Opposing Force</td>\n",
       "      <td>1999-11-01</td>\n",
       "      <td>1</td>\n",
       "      <td>Gearbox Software</td>\n",
       "      <td>Valve</td>\n",
       "      <td>windows;mac;linux</td>\n",
       "      <td>0</td>\n",
       "      <td>Action</td>\n",
       "      <td>0</td>\n",
       "      <td>5250</td>\n",
       "      <td>288</td>\n",
       "      <td>624</td>\n",
       "      <td>415</td>\n",
       "      <td>5000000-10000000</td>\n",
       "      <td>5000000</td>\n",
       "      <td>10000000</td>\n",
       "      <td>3.99</td>\n",
       "      <td>1999</td>\n",
       "    </tr>\n",
       "    <tr>\n",
       "      <th>...</th>\n",
       "      <td>...</td>\n",
       "      <td>...</td>\n",
       "      <td>...</td>\n",
       "      <td>...</td>\n",
       "      <td>...</td>\n",
       "      <td>...</td>\n",
       "      <td>...</td>\n",
       "      <td>...</td>\n",
       "      <td>...</td>\n",
       "      <td>...</td>\n",
       "      <td>...</td>\n",
       "      <td>...</td>\n",
       "      <td>...</td>\n",
       "      <td>...</td>\n",
       "      <td>...</td>\n",
       "      <td>...</td>\n",
       "      <td>...</td>\n",
       "      <td>...</td>\n",
       "      <td>...</td>\n",
       "    </tr>\n",
       "    <tr>\n",
       "      <th>27070</th>\n",
       "      <td>1065230</td>\n",
       "      <td>Room of Pandora</td>\n",
       "      <td>2019-04-24</td>\n",
       "      <td>1</td>\n",
       "      <td>SHEN JIAWEI</td>\n",
       "      <td>SHEN JIAWEI</td>\n",
       "      <td>windows</td>\n",
       "      <td>0</td>\n",
       "      <td>Adventure;Casual;Indie</td>\n",
       "      <td>7</td>\n",
       "      <td>3</td>\n",
       "      <td>0</td>\n",
       "      <td>0</td>\n",
       "      <td>0</td>\n",
       "      <td>0-20000</td>\n",
       "      <td>0</td>\n",
       "      <td>20000</td>\n",
       "      <td>2.09</td>\n",
       "      <td>2019</td>\n",
       "    </tr>\n",
       "    <tr>\n",
       "      <th>27071</th>\n",
       "      <td>1065570</td>\n",
       "      <td>Cyber Gun</td>\n",
       "      <td>2019-04-23</td>\n",
       "      <td>1</td>\n",
       "      <td>Semyon Maximov</td>\n",
       "      <td>BekkerDev Studio</td>\n",
       "      <td>windows</td>\n",
       "      <td>0</td>\n",
       "      <td>Action;Adventure;Indie</td>\n",
       "      <td>0</td>\n",
       "      <td>8</td>\n",
       "      <td>1</td>\n",
       "      <td>0</td>\n",
       "      <td>0</td>\n",
       "      <td>0-20000</td>\n",
       "      <td>0</td>\n",
       "      <td>20000</td>\n",
       "      <td>1.69</td>\n",
       "      <td>2019</td>\n",
       "    </tr>\n",
       "    <tr>\n",
       "      <th>27072</th>\n",
       "      <td>1065650</td>\n",
       "      <td>Super Star Blast</td>\n",
       "      <td>2019-04-24</td>\n",
       "      <td>1</td>\n",
       "      <td>EntwicklerX</td>\n",
       "      <td>EntwicklerX</td>\n",
       "      <td>windows</td>\n",
       "      <td>0</td>\n",
       "      <td>Action;Casual;Indie</td>\n",
       "      <td>24</td>\n",
       "      <td>0</td>\n",
       "      <td>1</td>\n",
       "      <td>0</td>\n",
       "      <td>0</td>\n",
       "      <td>0-20000</td>\n",
       "      <td>0</td>\n",
       "      <td>20000</td>\n",
       "      <td>3.99</td>\n",
       "      <td>2019</td>\n",
       "    </tr>\n",
       "    <tr>\n",
       "      <th>27073</th>\n",
       "      <td>1066700</td>\n",
       "      <td>New Yankee 7: Deer Hunters</td>\n",
       "      <td>2019-04-17</td>\n",
       "      <td>1</td>\n",
       "      <td>Yustas Game Studio</td>\n",
       "      <td>Alawar Entertainment</td>\n",
       "      <td>windows;mac</td>\n",
       "      <td>0</td>\n",
       "      <td>Adventure;Casual;Indie</td>\n",
       "      <td>0</td>\n",
       "      <td>2</td>\n",
       "      <td>0</td>\n",
       "      <td>0</td>\n",
       "      <td>0</td>\n",
       "      <td>0-20000</td>\n",
       "      <td>0</td>\n",
       "      <td>20000</td>\n",
       "      <td>5.19</td>\n",
       "      <td>2019</td>\n",
       "    </tr>\n",
       "    <tr>\n",
       "      <th>27074</th>\n",
       "      <td>1069460</td>\n",
       "      <td>Rune Lord</td>\n",
       "      <td>2019-04-24</td>\n",
       "      <td>1</td>\n",
       "      <td>Adept Studios GD</td>\n",
       "      <td>Alawar Entertainment</td>\n",
       "      <td>windows;mac</td>\n",
       "      <td>0</td>\n",
       "      <td>Adventure;Casual;Indie</td>\n",
       "      <td>0</td>\n",
       "      <td>4</td>\n",
       "      <td>0</td>\n",
       "      <td>0</td>\n",
       "      <td>0</td>\n",
       "      <td>0-20000</td>\n",
       "      <td>0</td>\n",
       "      <td>20000</td>\n",
       "      <td>5.19</td>\n",
       "      <td>2019</td>\n",
       "    </tr>\n",
       "  </tbody>\n",
       "</table>\n",
       "<p>27075 rows × 19 columns</p>\n",
       "</div>"
      ],
      "text/plain": [
       "         appid                        name release_date  english  \\\n",
       "0           10              Counter-Strike   2000-11-01        1   \n",
       "1           20       Team Fortress Classic   1999-04-01        1   \n",
       "2           30               Day of Defeat   2003-05-01        1   \n",
       "3           40          Deathmatch Classic   2001-06-01        1   \n",
       "4           50   Half-Life: Opposing Force   1999-11-01        1   \n",
       "...        ...                         ...          ...      ...   \n",
       "27070  1065230             Room of Pandora   2019-04-24        1   \n",
       "27071  1065570                   Cyber Gun   2019-04-23        1   \n",
       "27072  1065650            Super Star Blast   2019-04-24        1   \n",
       "27073  1066700  New Yankee 7: Deer Hunters   2019-04-17        1   \n",
       "27074  1069460                   Rune Lord   2019-04-24        1   \n",
       "\n",
       "                developer             publisher          platforms  \\\n",
       "0                   Valve                 Valve  windows;mac;linux   \n",
       "1                   Valve                 Valve  windows;mac;linux   \n",
       "2                   Valve                 Valve  windows;mac;linux   \n",
       "3                   Valve                 Valve  windows;mac;linux   \n",
       "4        Gearbox Software                 Valve  windows;mac;linux   \n",
       "...                   ...                   ...                ...   \n",
       "27070         SHEN JIAWEI           SHEN JIAWEI            windows   \n",
       "27071      Semyon Maximov      BekkerDev Studio            windows   \n",
       "27072         EntwicklerX           EntwicklerX            windows   \n",
       "27073  Yustas Game Studio  Alawar Entertainment        windows;mac   \n",
       "27074    Adept Studios GD  Alawar Entertainment        windows;mac   \n",
       "\n",
       "       required_age                  genres  achievements  positive_ratings  \\\n",
       "0                 0                  Action             0            124534   \n",
       "1                 0                  Action             0              3318   \n",
       "2                 0                  Action             0              3416   \n",
       "3                 0                  Action             0              1273   \n",
       "4                 0                  Action             0              5250   \n",
       "...             ...                     ...           ...               ...   \n",
       "27070             0  Adventure;Casual;Indie             7                 3   \n",
       "27071             0  Action;Adventure;Indie             0                 8   \n",
       "27072             0     Action;Casual;Indie            24                 0   \n",
       "27073             0  Adventure;Casual;Indie             0                 2   \n",
       "27074             0  Adventure;Casual;Indie             0                 4   \n",
       "\n",
       "       negative_ratings  average_playtime  median_playtime             owners  \\\n",
       "0                  3339             17612              317  10000000-20000000   \n",
       "1                   633               277               62   5000000-10000000   \n",
       "2                   398               187               34   5000000-10000000   \n",
       "3                   267               258              184   5000000-10000000   \n",
       "4                   288               624              415   5000000-10000000   \n",
       "...                 ...               ...              ...                ...   \n",
       "27070                 0                 0                0            0-20000   \n",
       "27071                 1                 0                0            0-20000   \n",
       "27072                 1                 0                0            0-20000   \n",
       "27073                 0                 0                0            0-20000   \n",
       "27074                 0                 0                0            0-20000   \n",
       "\n",
       "       owners_min  owners_max  price  year  \n",
       "0        10000000    20000000   7.19  2000  \n",
       "1         5000000    10000000   3.99  1999  \n",
       "2         5000000    10000000   3.99  2003  \n",
       "3         5000000    10000000   3.99  2001  \n",
       "4         5000000    10000000   3.99  1999  \n",
       "...           ...         ...    ...   ...  \n",
       "27070           0       20000   2.09  2019  \n",
       "27071           0       20000   1.69  2019  \n",
       "27072           0       20000   3.99  2019  \n",
       "27073           0       20000   5.19  2019  \n",
       "27074           0       20000   5.19  2019  \n",
       "\n",
       "[27075 rows x 19 columns]"
      ]
     },
     "metadata": {},
     "output_type": "display_data"
    }
   ],
   "source": [
    "#Просмотр датасета\n",
    "display(copy)"
   ]
  },
  {
   "cell_type": "code",
   "execution_count": 13,
   "metadata": {
    "scrolled": true
   },
   "outputs": [
    {
     "name": "stdout",
     "output_type": "stream",
     "text": [
      "<class 'pandas.core.frame.DataFrame'>\n",
      "RangeIndex: 27075 entries, 0 to 27074\n",
      "Data columns (total 19 columns):\n",
      " #   Column            Non-Null Count  Dtype         \n",
      "---  ------            --------------  -----         \n",
      " 0   appid             27075 non-null  int64         \n",
      " 1   name              27075 non-null  object        \n",
      " 2   release_date      27075 non-null  datetime64[ns]\n",
      " 3   english           27075 non-null  int64         \n",
      " 4   developer         27074 non-null  object        \n",
      " 5   publisher         27061 non-null  object        \n",
      " 6   platforms         27075 non-null  object        \n",
      " 7   required_age      27075 non-null  int64         \n",
      " 8   genres            27075 non-null  object        \n",
      " 9   achievements      27075 non-null  int64         \n",
      " 10  positive_ratings  27075 non-null  int64         \n",
      " 11  negative_ratings  27075 non-null  int64         \n",
      " 12  average_playtime  27075 non-null  int64         \n",
      " 13  median_playtime   27075 non-null  int64         \n",
      " 14  owners            27075 non-null  object        \n",
      " 15  owners_min        27075 non-null  int64         \n",
      " 16  owners_max        27075 non-null  int64         \n",
      " 17  price             27075 non-null  float64       \n",
      " 18  year              27075 non-null  int32         \n",
      "dtypes: datetime64[ns](1), float64(1), int32(1), int64(10), object(6)\n",
      "memory usage: 3.8+ MB\n"
     ]
    }
   ],
   "source": [
    "#Проверим тип данных в столбцах датасета\n",
    "copy.info()"
   ]
  },
  {
   "cell_type": "markdown",
   "metadata": {},
   "source": [
    "Из вывода **copy.info()** видно что столбцы **publisher** и **developer** содержат пропуски. Отобразим их количество и выведем на экран"
   ]
  },
  {
   "cell_type": "code",
   "execution_count": 14,
   "metadata": {
    "scrolled": true
   },
   "outputs": [
    {
     "data": {
      "text/plain": [
       "appid                0\n",
       "name                 0\n",
       "release_date         0\n",
       "english              0\n",
       "developer            1\n",
       "publisher           14\n",
       "platforms            0\n",
       "required_age         0\n",
       "genres               0\n",
       "achievements         0\n",
       "positive_ratings     0\n",
       "negative_ratings     0\n",
       "average_playtime     0\n",
       "median_playtime      0\n",
       "owners               0\n",
       "owners_min           0\n",
       "owners_max           0\n",
       "price                0\n",
       "year                 0\n",
       "dtype: int64"
      ]
     },
     "execution_count": 14,
     "metadata": {},
     "output_type": "execute_result"
    }
   ],
   "source": [
    "copy.isnull().sum()"
   ]
  },
  {
   "cell_type": "code",
   "execution_count": 8,
   "metadata": {},
   "outputs": [
    {
     "data": {
      "text/html": [
       "<style type=\"text/css\">\n",
       "#T_ddcd8_row0_col5, #T_ddcd8_row1_col5, #T_ddcd8_row2_col5, #T_ddcd8_row3_col5, #T_ddcd8_row4_col5, #T_ddcd8_row5_col5, #T_ddcd8_row6_col5, #T_ddcd8_row7_col5, #T_ddcd8_row8_col5, #T_ddcd8_row9_col5, #T_ddcd8_row10_col5, #T_ddcd8_row11_col5, #T_ddcd8_row12_col4, #T_ddcd8_row12_col5, #T_ddcd8_row13_col5 {\n",
       "  background-color: LightSalmon;\n",
       "}\n",
       "</style>\n",
       "<table id=\"T_ddcd8\">\n",
       "  <thead>\n",
       "    <tr>\n",
       "      <th class=\"blank level0\" >&nbsp;</th>\n",
       "      <th id=\"T_ddcd8_level0_col0\" class=\"col_heading level0 col0\" >appid</th>\n",
       "      <th id=\"T_ddcd8_level0_col1\" class=\"col_heading level0 col1\" >name</th>\n",
       "      <th id=\"T_ddcd8_level0_col2\" class=\"col_heading level0 col2\" >release_date</th>\n",
       "      <th id=\"T_ddcd8_level0_col3\" class=\"col_heading level0 col3\" >english</th>\n",
       "      <th id=\"T_ddcd8_level0_col4\" class=\"col_heading level0 col4\" >developer</th>\n",
       "      <th id=\"T_ddcd8_level0_col5\" class=\"col_heading level0 col5\" >publisher</th>\n",
       "      <th id=\"T_ddcd8_level0_col6\" class=\"col_heading level0 col6\" >platforms</th>\n",
       "      <th id=\"T_ddcd8_level0_col7\" class=\"col_heading level0 col7\" >required_age</th>\n",
       "      <th id=\"T_ddcd8_level0_col8\" class=\"col_heading level0 col8\" >genres</th>\n",
       "      <th id=\"T_ddcd8_level0_col9\" class=\"col_heading level0 col9\" >achievements</th>\n",
       "      <th id=\"T_ddcd8_level0_col10\" class=\"col_heading level0 col10\" >positive_ratings</th>\n",
       "      <th id=\"T_ddcd8_level0_col11\" class=\"col_heading level0 col11\" >negative_ratings</th>\n",
       "      <th id=\"T_ddcd8_level0_col12\" class=\"col_heading level0 col12\" >average_playtime</th>\n",
       "      <th id=\"T_ddcd8_level0_col13\" class=\"col_heading level0 col13\" >median_playtime</th>\n",
       "      <th id=\"T_ddcd8_level0_col14\" class=\"col_heading level0 col14\" >owners</th>\n",
       "      <th id=\"T_ddcd8_level0_col15\" class=\"col_heading level0 col15\" >owners_min</th>\n",
       "      <th id=\"T_ddcd8_level0_col16\" class=\"col_heading level0 col16\" >owners_max</th>\n",
       "      <th id=\"T_ddcd8_level0_col17\" class=\"col_heading level0 col17\" >price</th>\n",
       "      <th id=\"T_ddcd8_level0_col18\" class=\"col_heading level0 col18\" >year</th>\n",
       "    </tr>\n",
       "  </thead>\n",
       "  <tbody>\n",
       "    <tr>\n",
       "      <th id=\"T_ddcd8_level0_row0\" class=\"row_heading level0 row0\" >3420</th>\n",
       "      <td id=\"T_ddcd8_row0_col0\" class=\"data row0 col0\" >307170</td>\n",
       "      <td id=\"T_ddcd8_row0_col1\" class=\"data row0 col1\" >Borealis</td>\n",
       "      <td id=\"T_ddcd8_row0_col2\" class=\"data row0 col2\" >2014-09-02 00:00:00</td>\n",
       "      <td id=\"T_ddcd8_row0_col3\" class=\"data row0 col3\" >1</td>\n",
       "      <td id=\"T_ddcd8_row0_col4\" class=\"data row0 col4\" >Conrad Nelson</td>\n",
       "      <td id=\"T_ddcd8_row0_col5\" class=\"data row0 col5\" >nan</td>\n",
       "      <td id=\"T_ddcd8_row0_col6\" class=\"data row0 col6\" >windows</td>\n",
       "      <td id=\"T_ddcd8_row0_col7\" class=\"data row0 col7\" >0</td>\n",
       "      <td id=\"T_ddcd8_row0_col8\" class=\"data row0 col8\" >Action;Casual;Indie</td>\n",
       "      <td id=\"T_ddcd8_row0_col9\" class=\"data row0 col9\" >17</td>\n",
       "      <td id=\"T_ddcd8_row0_col10\" class=\"data row0 col10\" >301</td>\n",
       "      <td id=\"T_ddcd8_row0_col11\" class=\"data row0 col11\" >192</td>\n",
       "      <td id=\"T_ddcd8_row0_col12\" class=\"data row0 col12\" >132</td>\n",
       "      <td id=\"T_ddcd8_row0_col13\" class=\"data row0 col13\" >146</td>\n",
       "      <td id=\"T_ddcd8_row0_col14\" class=\"data row0 col14\" >50000-100000</td>\n",
       "      <td id=\"T_ddcd8_row0_col15\" class=\"data row0 col15\" >50000</td>\n",
       "      <td id=\"T_ddcd8_row0_col16\" class=\"data row0 col16\" >100000</td>\n",
       "      <td id=\"T_ddcd8_row0_col17\" class=\"data row0 col17\" >3.990000</td>\n",
       "      <td id=\"T_ddcd8_row0_col18\" class=\"data row0 col18\" >2014</td>\n",
       "    </tr>\n",
       "    <tr>\n",
       "      <th id=\"T_ddcd8_level0_row1\" class=\"row_heading level0 row1\" >4511</th>\n",
       "      <td id=\"T_ddcd8_row1_col0\" class=\"data row1 col0\" >341120</td>\n",
       "      <td id=\"T_ddcd8_row1_col1\" class=\"data row1 col1\" >Glorkian Warrior: The Trials Of Glork</td>\n",
       "      <td id=\"T_ddcd8_row1_col2\" class=\"data row1 col2\" >2015-03-24 00:00:00</td>\n",
       "      <td id=\"T_ddcd8_row1_col3\" class=\"data row1 col3\" >1</td>\n",
       "      <td id=\"T_ddcd8_row1_col4\" class=\"data row1 col4\" >Pixeljam</td>\n",
       "      <td id=\"T_ddcd8_row1_col5\" class=\"data row1 col5\" >nan</td>\n",
       "      <td id=\"T_ddcd8_row1_col6\" class=\"data row1 col6\" >windows;mac</td>\n",
       "      <td id=\"T_ddcd8_row1_col7\" class=\"data row1 col7\" >0</td>\n",
       "      <td id=\"T_ddcd8_row1_col8\" class=\"data row1 col8\" >Indie</td>\n",
       "      <td id=\"T_ddcd8_row1_col9\" class=\"data row1 col9\" >18</td>\n",
       "      <td id=\"T_ddcd8_row1_col10\" class=\"data row1 col10\" >234</td>\n",
       "      <td id=\"T_ddcd8_row1_col11\" class=\"data row1 col11\" >26</td>\n",
       "      <td id=\"T_ddcd8_row1_col12\" class=\"data row1 col12\" >274</td>\n",
       "      <td id=\"T_ddcd8_row1_col13\" class=\"data row1 col13\" >274</td>\n",
       "      <td id=\"T_ddcd8_row1_col14\" class=\"data row1 col14\" >20000-50000</td>\n",
       "      <td id=\"T_ddcd8_row1_col15\" class=\"data row1 col15\" >20000</td>\n",
       "      <td id=\"T_ddcd8_row1_col16\" class=\"data row1 col16\" >50000</td>\n",
       "      <td id=\"T_ddcd8_row1_col17\" class=\"data row1 col17\" >2.790000</td>\n",
       "      <td id=\"T_ddcd8_row1_col18\" class=\"data row1 col18\" >2015</td>\n",
       "    </tr>\n",
       "    <tr>\n",
       "      <th id=\"T_ddcd8_level0_row2\" class=\"row_heading level0 row2\" >5229</th>\n",
       "      <td id=\"T_ddcd8_row2_col0\" class=\"data row2 col0\" >359370</td>\n",
       "      <td id=\"T_ddcd8_row2_col1\" class=\"data row2 col1\" >Pirate's Life</td>\n",
       "      <td id=\"T_ddcd8_row2_col2\" class=\"data row2 col2\" >2015-04-17 00:00:00</td>\n",
       "      <td id=\"T_ddcd8_row2_col3\" class=\"data row2 col3\" >1</td>\n",
       "      <td id=\"T_ddcd8_row2_col4\" class=\"data row2 col4\" >Team Eyepatch</td>\n",
       "      <td id=\"T_ddcd8_row2_col5\" class=\"data row2 col5\" >nan</td>\n",
       "      <td id=\"T_ddcd8_row2_col6\" class=\"data row2 col6\" >windows</td>\n",
       "      <td id=\"T_ddcd8_row2_col7\" class=\"data row2 col7\" >0</td>\n",
       "      <td id=\"T_ddcd8_row2_col8\" class=\"data row2 col8\" >Simulation;Strategy</td>\n",
       "      <td id=\"T_ddcd8_row2_col9\" class=\"data row2 col9\" >0</td>\n",
       "      <td id=\"T_ddcd8_row2_col10\" class=\"data row2 col10\" >25</td>\n",
       "      <td id=\"T_ddcd8_row2_col11\" class=\"data row2 col11\" >41</td>\n",
       "      <td id=\"T_ddcd8_row2_col12\" class=\"data row2 col12\" >0</td>\n",
       "      <td id=\"T_ddcd8_row2_col13\" class=\"data row2 col13\" >0</td>\n",
       "      <td id=\"T_ddcd8_row2_col14\" class=\"data row2 col14\" >0-20000</td>\n",
       "      <td id=\"T_ddcd8_row2_col15\" class=\"data row2 col15\" >0</td>\n",
       "      <td id=\"T_ddcd8_row2_col16\" class=\"data row2 col16\" >20000</td>\n",
       "      <td id=\"T_ddcd8_row2_col17\" class=\"data row2 col17\" >3.990000</td>\n",
       "      <td id=\"T_ddcd8_row2_col18\" class=\"data row2 col18\" >2015</td>\n",
       "    </tr>\n",
       "    <tr>\n",
       "      <th id=\"T_ddcd8_level0_row3\" class=\"row_heading level0 row3\" >7464</th>\n",
       "      <td id=\"T_ddcd8_row3_col0\" class=\"data row3 col0\" >422940</td>\n",
       "      <td id=\"T_ddcd8_row3_col1\" class=\"data row3 col1\" >Divergence: Online</td>\n",
       "      <td id=\"T_ddcd8_row3_col2\" class=\"data row3 col2\" >2016-01-06 00:00:00</td>\n",
       "      <td id=\"T_ddcd8_row3_col3\" class=\"data row3 col3\" >1</td>\n",
       "      <td id=\"T_ddcd8_row3_col4\" class=\"data row3 col4\" >Stained Glass Llama</td>\n",
       "      <td id=\"T_ddcd8_row3_col5\" class=\"data row3 col5\" >nan</td>\n",
       "      <td id=\"T_ddcd8_row3_col6\" class=\"data row3 col6\" >windows</td>\n",
       "      <td id=\"T_ddcd8_row3_col7\" class=\"data row3 col7\" >0</td>\n",
       "      <td id=\"T_ddcd8_row3_col8\" class=\"data row3 col8\" >Action;Indie;Massively Multiplayer;RPG;Early Access</td>\n",
       "      <td id=\"T_ddcd8_row3_col9\" class=\"data row3 col9\" >0</td>\n",
       "      <td id=\"T_ddcd8_row3_col10\" class=\"data row3 col10\" >72</td>\n",
       "      <td id=\"T_ddcd8_row3_col11\" class=\"data row3 col11\" >51</td>\n",
       "      <td id=\"T_ddcd8_row3_col12\" class=\"data row3 col12\" >0</td>\n",
       "      <td id=\"T_ddcd8_row3_col13\" class=\"data row3 col13\" >0</td>\n",
       "      <td id=\"T_ddcd8_row3_col14\" class=\"data row3 col14\" >0-20000</td>\n",
       "      <td id=\"T_ddcd8_row3_col15\" class=\"data row3 col15\" >0</td>\n",
       "      <td id=\"T_ddcd8_row3_col16\" class=\"data row3 col16\" >20000</td>\n",
       "      <td id=\"T_ddcd8_row3_col17\" class=\"data row3 col17\" >14.990000</td>\n",
       "      <td id=\"T_ddcd8_row3_col18\" class=\"data row3 col18\" >2016</td>\n",
       "    </tr>\n",
       "    <tr>\n",
       "      <th id=\"T_ddcd8_level0_row4\" class=\"row_heading level0 row4\" >7911</th>\n",
       "      <td id=\"T_ddcd8_row4_col0\" class=\"data row4 col0\" >436240</td>\n",
       "      <td id=\"T_ddcd8_row4_col1\" class=\"data row4 col1\" >Melancholy Republic</td>\n",
       "      <td id=\"T_ddcd8_row4_col2\" class=\"data row4 col2\" >2018-04-12 00:00:00</td>\n",
       "      <td id=\"T_ddcd8_row4_col3\" class=\"data row4 col3\" >1</td>\n",
       "      <td id=\"T_ddcd8_row4_col4\" class=\"data row4 col4\" >Cloud Runner Studios</td>\n",
       "      <td id=\"T_ddcd8_row4_col5\" class=\"data row4 col5\" >nan</td>\n",
       "      <td id=\"T_ddcd8_row4_col6\" class=\"data row4 col6\" >windows</td>\n",
       "      <td id=\"T_ddcd8_row4_col7\" class=\"data row4 col7\" >0</td>\n",
       "      <td id=\"T_ddcd8_row4_col8\" class=\"data row4 col8\" >Adventure;Casual;Indie</td>\n",
       "      <td id=\"T_ddcd8_row4_col9\" class=\"data row4 col9\" >0</td>\n",
       "      <td id=\"T_ddcd8_row4_col10\" class=\"data row4 col10\" >14</td>\n",
       "      <td id=\"T_ddcd8_row4_col11\" class=\"data row4 col11\" >6</td>\n",
       "      <td id=\"T_ddcd8_row4_col12\" class=\"data row4 col12\" >0</td>\n",
       "      <td id=\"T_ddcd8_row4_col13\" class=\"data row4 col13\" >0</td>\n",
       "      <td id=\"T_ddcd8_row4_col14\" class=\"data row4 col14\" >0-20000</td>\n",
       "      <td id=\"T_ddcd8_row4_col15\" class=\"data row4 col15\" >0</td>\n",
       "      <td id=\"T_ddcd8_row4_col16\" class=\"data row4 col16\" >20000</td>\n",
       "      <td id=\"T_ddcd8_row4_col17\" class=\"data row4 col17\" >6.990000</td>\n",
       "      <td id=\"T_ddcd8_row4_col18\" class=\"data row4 col18\" >2018</td>\n",
       "    </tr>\n",
       "    <tr>\n",
       "      <th id=\"T_ddcd8_level0_row5\" class=\"row_heading level0 row5\" >9894</th>\n",
       "      <td id=\"T_ddcd8_row5_col0\" class=\"data row5 col0\" >498710</td>\n",
       "      <td id=\"T_ddcd8_row5_col1\" class=\"data row5 col1\" >After Dreams</td>\n",
       "      <td id=\"T_ddcd8_row5_col2\" class=\"data row5 col2\" >2018-05-06 00:00:00</td>\n",
       "      <td id=\"T_ddcd8_row5_col3\" class=\"data row5 col3\" >1</td>\n",
       "      <td id=\"T_ddcd8_row5_col4\" class=\"data row5 col4\" >Matt Boyer</td>\n",
       "      <td id=\"T_ddcd8_row5_col5\" class=\"data row5 col5\" >nan</td>\n",
       "      <td id=\"T_ddcd8_row5_col6\" class=\"data row5 col6\" >windows</td>\n",
       "      <td id=\"T_ddcd8_row5_col7\" class=\"data row5 col7\" >0</td>\n",
       "      <td id=\"T_ddcd8_row5_col8\" class=\"data row5 col8\" >Violent;Adventure;Casual;Free to Play;Indie;Simulation</td>\n",
       "      <td id=\"T_ddcd8_row5_col9\" class=\"data row5 col9\" >0</td>\n",
       "      <td id=\"T_ddcd8_row5_col10\" class=\"data row5 col10\" >126</td>\n",
       "      <td id=\"T_ddcd8_row5_col11\" class=\"data row5 col11\" >47</td>\n",
       "      <td id=\"T_ddcd8_row5_col12\" class=\"data row5 col12\" >1</td>\n",
       "      <td id=\"T_ddcd8_row5_col13\" class=\"data row5 col13\" >1</td>\n",
       "      <td id=\"T_ddcd8_row5_col14\" class=\"data row5 col14\" >20000-50000</td>\n",
       "      <td id=\"T_ddcd8_row5_col15\" class=\"data row5 col15\" >20000</td>\n",
       "      <td id=\"T_ddcd8_row5_col16\" class=\"data row5 col16\" >50000</td>\n",
       "      <td id=\"T_ddcd8_row5_col17\" class=\"data row5 col17\" >0.000000</td>\n",
       "      <td id=\"T_ddcd8_row5_col18\" class=\"data row5 col18\" >2018</td>\n",
       "    </tr>\n",
       "    <tr>\n",
       "      <th id=\"T_ddcd8_level0_row6\" class=\"row_heading level0 row6\" >10011</th>\n",
       "      <td id=\"T_ddcd8_row6_col0\" class=\"data row6 col0\" >502150</td>\n",
       "      <td id=\"T_ddcd8_row6_col1\" class=\"data row6 col1\" >Interstellar Logistics Inc</td>\n",
       "      <td id=\"T_ddcd8_row6_col2\" class=\"data row6 col2\" >2016-08-15 00:00:00</td>\n",
       "      <td id=\"T_ddcd8_row6_col3\" class=\"data row6 col3\" >1</td>\n",
       "      <td id=\"T_ddcd8_row6_col4\" class=\"data row6 col4\" >Exalted Guy Interactive</td>\n",
       "      <td id=\"T_ddcd8_row6_col5\" class=\"data row6 col5\" >nan</td>\n",
       "      <td id=\"T_ddcd8_row6_col6\" class=\"data row6 col6\" >windows</td>\n",
       "      <td id=\"T_ddcd8_row6_col7\" class=\"data row6 col7\" >0</td>\n",
       "      <td id=\"T_ddcd8_row6_col8\" class=\"data row6 col8\" >Casual</td>\n",
       "      <td id=\"T_ddcd8_row6_col9\" class=\"data row6 col9\" >9</td>\n",
       "      <td id=\"T_ddcd8_row6_col10\" class=\"data row6 col10\" >25</td>\n",
       "      <td id=\"T_ddcd8_row6_col11\" class=\"data row6 col11\" >4</td>\n",
       "      <td id=\"T_ddcd8_row6_col12\" class=\"data row6 col12\" >281</td>\n",
       "      <td id=\"T_ddcd8_row6_col13\" class=\"data row6 col13\" >281</td>\n",
       "      <td id=\"T_ddcd8_row6_col14\" class=\"data row6 col14\" >0-20000</td>\n",
       "      <td id=\"T_ddcd8_row6_col15\" class=\"data row6 col15\" >0</td>\n",
       "      <td id=\"T_ddcd8_row6_col16\" class=\"data row6 col16\" >20000</td>\n",
       "      <td id=\"T_ddcd8_row6_col17\" class=\"data row6 col17\" >2.090000</td>\n",
       "      <td id=\"T_ddcd8_row6_col18\" class=\"data row6 col18\" >2016</td>\n",
       "    </tr>\n",
       "    <tr>\n",
       "      <th id=\"T_ddcd8_level0_row7\" class=\"row_heading level0 row7\" >10564</th>\n",
       "      <td id=\"T_ddcd8_row7_col0\" class=\"data row7 col0\" >516430</td>\n",
       "      <td id=\"T_ddcd8_row7_col1\" class=\"data row7 col1\" >Ruin of the Reckless</td>\n",
       "      <td id=\"T_ddcd8_row7_col2\" class=\"data row7 col2\" >2017-04-26 00:00:00</td>\n",
       "      <td id=\"T_ddcd8_row7_col3\" class=\"data row7 col3\" >1</td>\n",
       "      <td id=\"T_ddcd8_row7_col4\" class=\"data row7 col4\" >Faux-Operative Games</td>\n",
       "      <td id=\"T_ddcd8_row7_col5\" class=\"data row7 col5\" >nan</td>\n",
       "      <td id=\"T_ddcd8_row7_col6\" class=\"data row7 col6\" >windows</td>\n",
       "      <td id=\"T_ddcd8_row7_col7\" class=\"data row7 col7\" >0</td>\n",
       "      <td id=\"T_ddcd8_row7_col8\" class=\"data row7 col8\" >Action;Adventure;Indie;RPG</td>\n",
       "      <td id=\"T_ddcd8_row7_col9\" class=\"data row7 col9\" >0</td>\n",
       "      <td id=\"T_ddcd8_row7_col10\" class=\"data row7 col10\" >63</td>\n",
       "      <td id=\"T_ddcd8_row7_col11\" class=\"data row7 col11\" >11</td>\n",
       "      <td id=\"T_ddcd8_row7_col12\" class=\"data row7 col12\" >0</td>\n",
       "      <td id=\"T_ddcd8_row7_col13\" class=\"data row7 col13\" >0</td>\n",
       "      <td id=\"T_ddcd8_row7_col14\" class=\"data row7 col14\" >0-20000</td>\n",
       "      <td id=\"T_ddcd8_row7_col15\" class=\"data row7 col15\" >0</td>\n",
       "      <td id=\"T_ddcd8_row7_col16\" class=\"data row7 col16\" >20000</td>\n",
       "      <td id=\"T_ddcd8_row7_col17\" class=\"data row7 col17\" >6.990000</td>\n",
       "      <td id=\"T_ddcd8_row7_col18\" class=\"data row7 col18\" >2017</td>\n",
       "    </tr>\n",
       "    <tr>\n",
       "      <th id=\"T_ddcd8_level0_row8\" class=\"row_heading level0 row8\" >11123</th>\n",
       "      <td id=\"T_ddcd8_row8_col0\" class=\"data row8 col0\" >531240</td>\n",
       "      <td id=\"T_ddcd8_row8_col1\" class=\"data row8 col1\" >Max Stern</td>\n",
       "      <td id=\"T_ddcd8_row8_col2\" class=\"data row8 col2\" >2016-10-21 00:00:00</td>\n",
       "      <td id=\"T_ddcd8_row8_col3\" class=\"data row8 col3\" >1</td>\n",
       "      <td id=\"T_ddcd8_row8_col4\" class=\"data row8 col4\" >Lupan Artiom Oleg</td>\n",
       "      <td id=\"T_ddcd8_row8_col5\" class=\"data row8 col5\" >nan</td>\n",
       "      <td id=\"T_ddcd8_row8_col6\" class=\"data row8 col6\" >windows;mac;linux</td>\n",
       "      <td id=\"T_ddcd8_row8_col7\" class=\"data row8 col7\" >0</td>\n",
       "      <td id=\"T_ddcd8_row8_col8\" class=\"data row8 col8\" >Action;Adventure;Indie</td>\n",
       "      <td id=\"T_ddcd8_row8_col9\" class=\"data row8 col9\" >10</td>\n",
       "      <td id=\"T_ddcd8_row8_col10\" class=\"data row8 col10\" >17</td>\n",
       "      <td id=\"T_ddcd8_row8_col11\" class=\"data row8 col11\" >13</td>\n",
       "      <td id=\"T_ddcd8_row8_col12\" class=\"data row8 col12\" >266</td>\n",
       "      <td id=\"T_ddcd8_row8_col13\" class=\"data row8 col13\" >266</td>\n",
       "      <td id=\"T_ddcd8_row8_col14\" class=\"data row8 col14\" >0-20000</td>\n",
       "      <td id=\"T_ddcd8_row8_col15\" class=\"data row8 col15\" >0</td>\n",
       "      <td id=\"T_ddcd8_row8_col16\" class=\"data row8 col16\" >20000</td>\n",
       "      <td id=\"T_ddcd8_row8_col17\" class=\"data row8 col17\" >3.990000</td>\n",
       "      <td id=\"T_ddcd8_row8_col18\" class=\"data row8 col18\" >2016</td>\n",
       "    </tr>\n",
       "    <tr>\n",
       "      <th id=\"T_ddcd8_level0_row9\" class=\"row_heading level0 row9\" >13901</th>\n",
       "      <td id=\"T_ddcd8_row9_col0\" class=\"data row9 col0\" >610740</td>\n",
       "      <td id=\"T_ddcd8_row9_col1\" class=\"data row9 col1\" >SuperCluster: Void</td>\n",
       "      <td id=\"T_ddcd8_row9_col2\" class=\"data row9 col2\" >2017-05-15 00:00:00</td>\n",
       "      <td id=\"T_ddcd8_row9_col3\" class=\"data row9 col3\" >1</td>\n",
       "      <td id=\"T_ddcd8_row9_col4\" class=\"data row9 col4\" >Logan McClure</td>\n",
       "      <td id=\"T_ddcd8_row9_col5\" class=\"data row9 col5\" >nan</td>\n",
       "      <td id=\"T_ddcd8_row9_col6\" class=\"data row9 col6\" >windows</td>\n",
       "      <td id=\"T_ddcd8_row9_col7\" class=\"data row9 col7\" >0</td>\n",
       "      <td id=\"T_ddcd8_row9_col8\" class=\"data row9 col8\" >Adventure;Indie;RPG</td>\n",
       "      <td id=\"T_ddcd8_row9_col9\" class=\"data row9 col9\" >0</td>\n",
       "      <td id=\"T_ddcd8_row9_col10\" class=\"data row9 col10\" >16</td>\n",
       "      <td id=\"T_ddcd8_row9_col11\" class=\"data row9 col11\" >4</td>\n",
       "      <td id=\"T_ddcd8_row9_col12\" class=\"data row9 col12\" >0</td>\n",
       "      <td id=\"T_ddcd8_row9_col13\" class=\"data row9 col13\" >0</td>\n",
       "      <td id=\"T_ddcd8_row9_col14\" class=\"data row9 col14\" >0-20000</td>\n",
       "      <td id=\"T_ddcd8_row9_col15\" class=\"data row9 col15\" >0</td>\n",
       "      <td id=\"T_ddcd8_row9_col16\" class=\"data row9 col16\" >20000</td>\n",
       "      <td id=\"T_ddcd8_row9_col17\" class=\"data row9 col17\" >3.990000</td>\n",
       "      <td id=\"T_ddcd8_row9_col18\" class=\"data row9 col18\" >2017</td>\n",
       "    </tr>\n",
       "    <tr>\n",
       "      <th id=\"T_ddcd8_level0_row10\" class=\"row_heading level0 row10\" >17829</th>\n",
       "      <td id=\"T_ddcd8_row10_col0\" class=\"data row10 col0\" >727280</td>\n",
       "      <td id=\"T_ddcd8_row10_col1\" class=\"data row10 col1\" >Scrap</td>\n",
       "      <td id=\"T_ddcd8_row10_col2\" class=\"data row10 col2\" >2017-10-18 00:00:00</td>\n",
       "      <td id=\"T_ddcd8_row10_col3\" class=\"data row10 col3\" >1</td>\n",
       "      <td id=\"T_ddcd8_row10_col4\" class=\"data row10 col4\" >Top Shelf Studios</td>\n",
       "      <td id=\"T_ddcd8_row10_col5\" class=\"data row10 col5\" >nan</td>\n",
       "      <td id=\"T_ddcd8_row10_col6\" class=\"data row10 col6\" >windows</td>\n",
       "      <td id=\"T_ddcd8_row10_col7\" class=\"data row10 col7\" >0</td>\n",
       "      <td id=\"T_ddcd8_row10_col8\" class=\"data row10 col8\" >Action;Free to Play;Indie</td>\n",
       "      <td id=\"T_ddcd8_row10_col9\" class=\"data row10 col9\" >0</td>\n",
       "      <td id=\"T_ddcd8_row10_col10\" class=\"data row10 col10\" >24</td>\n",
       "      <td id=\"T_ddcd8_row10_col11\" class=\"data row10 col11\" >22</td>\n",
       "      <td id=\"T_ddcd8_row10_col12\" class=\"data row10 col12\" >0</td>\n",
       "      <td id=\"T_ddcd8_row10_col13\" class=\"data row10 col13\" >0</td>\n",
       "      <td id=\"T_ddcd8_row10_col14\" class=\"data row10 col14\" >50000-100000</td>\n",
       "      <td id=\"T_ddcd8_row10_col15\" class=\"data row10 col15\" >50000</td>\n",
       "      <td id=\"T_ddcd8_row10_col16\" class=\"data row10 col16\" >100000</td>\n",
       "      <td id=\"T_ddcd8_row10_col17\" class=\"data row10 col17\" >0.000000</td>\n",
       "      <td id=\"T_ddcd8_row10_col18\" class=\"data row10 col18\" >2017</td>\n",
       "    </tr>\n",
       "    <tr>\n",
       "      <th id=\"T_ddcd8_level0_row11\" class=\"row_heading level0 row11\" >22867</th>\n",
       "      <td id=\"T_ddcd8_row11_col0\" class=\"data row11 col0\" >875710</td>\n",
       "      <td id=\"T_ddcd8_row11_col1\" class=\"data row11 col1\" >BRANE™: Prototype</td>\n",
       "      <td id=\"T_ddcd8_row11_col2\" class=\"data row11 col2\" >2018-07-01 00:00:00</td>\n",
       "      <td id=\"T_ddcd8_row11_col3\" class=\"data row11 col3\" >1</td>\n",
       "      <td id=\"T_ddcd8_row11_col4\" class=\"data row11 col4\" >John Wanot</td>\n",
       "      <td id=\"T_ddcd8_row11_col5\" class=\"data row11 col5\" >nan</td>\n",
       "      <td id=\"T_ddcd8_row11_col6\" class=\"data row11 col6\" >windows;linux</td>\n",
       "      <td id=\"T_ddcd8_row11_col7\" class=\"data row11 col7\" >0</td>\n",
       "      <td id=\"T_ddcd8_row11_col8\" class=\"data row11 col8\" >Casual;Indie</td>\n",
       "      <td id=\"T_ddcd8_row11_col9\" class=\"data row11 col9\" >0</td>\n",
       "      <td id=\"T_ddcd8_row11_col10\" class=\"data row11 col10\" >5</td>\n",
       "      <td id=\"T_ddcd8_row11_col11\" class=\"data row11 col11\" >1</td>\n",
       "      <td id=\"T_ddcd8_row11_col12\" class=\"data row11 col12\" >0</td>\n",
       "      <td id=\"T_ddcd8_row11_col13\" class=\"data row11 col13\" >0</td>\n",
       "      <td id=\"T_ddcd8_row11_col14\" class=\"data row11 col14\" >0-20000</td>\n",
       "      <td id=\"T_ddcd8_row11_col15\" class=\"data row11 col15\" >0</td>\n",
       "      <td id=\"T_ddcd8_row11_col16\" class=\"data row11 col16\" >20000</td>\n",
       "      <td id=\"T_ddcd8_row11_col17\" class=\"data row11 col17\" >0.000000</td>\n",
       "      <td id=\"T_ddcd8_row11_col18\" class=\"data row11 col18\" >2018</td>\n",
       "    </tr>\n",
       "    <tr>\n",
       "      <th id=\"T_ddcd8_level0_row12\" class=\"row_heading level0 row12\" >23071</th>\n",
       "      <td id=\"T_ddcd8_row12_col0\" class=\"data row12 col0\" >881910</td>\n",
       "      <td id=\"T_ddcd8_row12_col1\" class=\"data row12 col1\" >The Battle Of Ages</td>\n",
       "      <td id=\"T_ddcd8_row12_col2\" class=\"data row12 col2\" >2018-09-07 00:00:00</td>\n",
       "      <td id=\"T_ddcd8_row12_col3\" class=\"data row12 col3\" >1</td>\n",
       "      <td id=\"T_ddcd8_row12_col4\" class=\"data row12 col4\" >nan</td>\n",
       "      <td id=\"T_ddcd8_row12_col5\" class=\"data row12 col5\" >nan</td>\n",
       "      <td id=\"T_ddcd8_row12_col6\" class=\"data row12 col6\" >windows</td>\n",
       "      <td id=\"T_ddcd8_row12_col7\" class=\"data row12 col7\" >0</td>\n",
       "      <td id=\"T_ddcd8_row12_col8\" class=\"data row12 col8\" >Action;Indie;Massively Multiplayer;RPG;Early Access</td>\n",
       "      <td id=\"T_ddcd8_row12_col9\" class=\"data row12 col9\" >0</td>\n",
       "      <td id=\"T_ddcd8_row12_col10\" class=\"data row12 col10\" >2</td>\n",
       "      <td id=\"T_ddcd8_row12_col11\" class=\"data row12 col11\" >1</td>\n",
       "      <td id=\"T_ddcd8_row12_col12\" class=\"data row12 col12\" >0</td>\n",
       "      <td id=\"T_ddcd8_row12_col13\" class=\"data row12 col13\" >0</td>\n",
       "      <td id=\"T_ddcd8_row12_col14\" class=\"data row12 col14\" >0-20000</td>\n",
       "      <td id=\"T_ddcd8_row12_col15\" class=\"data row12 col15\" >0</td>\n",
       "      <td id=\"T_ddcd8_row12_col16\" class=\"data row12 col16\" >20000</td>\n",
       "      <td id=\"T_ddcd8_row12_col17\" class=\"data row12 col17\" >3.990000</td>\n",
       "      <td id=\"T_ddcd8_row12_col18\" class=\"data row12 col18\" >2018</td>\n",
       "    </tr>\n",
       "    <tr>\n",
       "      <th id=\"T_ddcd8_level0_row13\" class=\"row_heading level0 row13\" >23876</th>\n",
       "      <td id=\"T_ddcd8_row13_col0\" class=\"data row13 col0\" >911050</td>\n",
       "      <td id=\"T_ddcd8_row13_col1\" class=\"data row13 col1\" >Holiday Escape</td>\n",
       "      <td id=\"T_ddcd8_row13_col2\" class=\"data row13 col2\" >2018-08-18 00:00:00</td>\n",
       "      <td id=\"T_ddcd8_row13_col3\" class=\"data row13 col3\" >1</td>\n",
       "      <td id=\"T_ddcd8_row13_col4\" class=\"data row13 col4\" >Kit Gardner;Sam Robinson;Holly Gardner;Jason Runkel;Tommy Yoder;Josh Perusse</td>\n",
       "      <td id=\"T_ddcd8_row13_col5\" class=\"data row13 col5\" >nan</td>\n",
       "      <td id=\"T_ddcd8_row13_col6\" class=\"data row13 col6\" >windows</td>\n",
       "      <td id=\"T_ddcd8_row13_col7\" class=\"data row13 col7\" >0</td>\n",
       "      <td id=\"T_ddcd8_row13_col8\" class=\"data row13 col8\" >Action;Casual;Free to Play</td>\n",
       "      <td id=\"T_ddcd8_row13_col9\" class=\"data row13 col9\" >0</td>\n",
       "      <td id=\"T_ddcd8_row13_col10\" class=\"data row13 col10\" >12</td>\n",
       "      <td id=\"T_ddcd8_row13_col11\" class=\"data row13 col11\" >7</td>\n",
       "      <td id=\"T_ddcd8_row13_col12\" class=\"data row13 col12\" >0</td>\n",
       "      <td id=\"T_ddcd8_row13_col13\" class=\"data row13 col13\" >0</td>\n",
       "      <td id=\"T_ddcd8_row13_col14\" class=\"data row13 col14\" >0-20000</td>\n",
       "      <td id=\"T_ddcd8_row13_col15\" class=\"data row13 col15\" >0</td>\n",
       "      <td id=\"T_ddcd8_row13_col16\" class=\"data row13 col16\" >20000</td>\n",
       "      <td id=\"T_ddcd8_row13_col17\" class=\"data row13 col17\" >0.000000</td>\n",
       "      <td id=\"T_ddcd8_row13_col18\" class=\"data row13 col18\" >2018</td>\n",
       "    </tr>\n",
       "  </tbody>\n",
       "</table>\n"
      ],
      "text/plain": [
       "<pandas.io.formats.style.Styler at 0x182cfa7d650>"
      ]
     },
     "execution_count": 8,
     "metadata": {},
     "output_type": "execute_result"
    }
   ],
   "source": [
    "#Выведем строки с пропусками\n",
    "copy[copy.isnull().any(axis = 1)].style.highlight_null(color = 'LightSalmon')"
   ]
  },
  {
   "cell_type": "code",
   "execution_count": 4,
   "metadata": {},
   "outputs": [],
   "source": [
    "#Заменим пропущенные значения на 'Unknown'.\n",
    "copy.developer.fillna('Unknown', inplace = True)\n",
    "copy.publisher.fillna('Unknown', inplace = True)"
   ]
  },
  {
   "cell_type": "markdown",
   "metadata": {},
   "source": [
    "## Исследовательский анализ данных (EDA)"
   ]
  },
  {
   "cell_type": "markdown",
   "metadata": {},
   "source": [
    "Изучим сводную статистическую информацию о датасете"
   ]
  },
  {
   "cell_type": "code",
   "execution_count": 10,
   "metadata": {},
   "outputs": [
    {
     "data": {
      "text/html": [
       "<div>\n",
       "<style scoped>\n",
       "    .dataframe tbody tr th:only-of-type {\n",
       "        vertical-align: middle;\n",
       "    }\n",
       "\n",
       "    .dataframe tbody tr th {\n",
       "        vertical-align: top;\n",
       "    }\n",
       "\n",
       "    .dataframe thead th {\n",
       "        text-align: right;\n",
       "    }\n",
       "</style>\n",
       "<table border=\"1\" class=\"dataframe\">\n",
       "  <thead>\n",
       "    <tr style=\"text-align: right;\">\n",
       "      <th></th>\n",
       "      <th>count</th>\n",
       "      <th>unique</th>\n",
       "      <th>top</th>\n",
       "      <th>freq</th>\n",
       "      <th>mean</th>\n",
       "      <th>min</th>\n",
       "      <th>25%</th>\n",
       "      <th>50%</th>\n",
       "      <th>75%</th>\n",
       "      <th>max</th>\n",
       "      <th>std</th>\n",
       "    </tr>\n",
       "  </thead>\n",
       "  <tbody>\n",
       "    <tr>\n",
       "      <th>appid</th>\n",
       "      <td>27075.0</td>\n",
       "      <td>NaN</td>\n",
       "      <td>NaN</td>\n",
       "      <td>NaN</td>\n",
       "      <td>596203.508661</td>\n",
       "      <td>10.0</td>\n",
       "      <td>401230.0</td>\n",
       "      <td>599070.0</td>\n",
       "      <td>798760.0</td>\n",
       "      <td>1069460.0</td>\n",
       "      <td>250894.167246</td>\n",
       "    </tr>\n",
       "    <tr>\n",
       "      <th>name</th>\n",
       "      <td>27075</td>\n",
       "      <td>27033</td>\n",
       "      <td>Dark Matter</td>\n",
       "      <td>3</td>\n",
       "      <td>NaN</td>\n",
       "      <td>NaN</td>\n",
       "      <td>NaN</td>\n",
       "      <td>NaN</td>\n",
       "      <td>NaN</td>\n",
       "      <td>NaN</td>\n",
       "      <td>NaN</td>\n",
       "    </tr>\n",
       "    <tr>\n",
       "      <th>release_date</th>\n",
       "      <td>27075</td>\n",
       "      <td>NaN</td>\n",
       "      <td>NaN</td>\n",
       "      <td>NaN</td>\n",
       "      <td>2016-12-31 14:21:17.252077568</td>\n",
       "      <td>1997-06-30 00:00:00</td>\n",
       "      <td>2016-04-04 00:00:00</td>\n",
       "      <td>2017-08-08 00:00:00</td>\n",
       "      <td>2018-06-06 12:00:00</td>\n",
       "      <td>2019-05-01 00:00:00</td>\n",
       "      <td>NaN</td>\n",
       "    </tr>\n",
       "    <tr>\n",
       "      <th>english</th>\n",
       "      <td>27075.0</td>\n",
       "      <td>NaN</td>\n",
       "      <td>NaN</td>\n",
       "      <td>NaN</td>\n",
       "      <td>0.981127</td>\n",
       "      <td>0.0</td>\n",
       "      <td>1.0</td>\n",
       "      <td>1.0</td>\n",
       "      <td>1.0</td>\n",
       "      <td>1.0</td>\n",
       "      <td>0.136081</td>\n",
       "    </tr>\n",
       "    <tr>\n",
       "      <th>developer</th>\n",
       "      <td>27075</td>\n",
       "      <td>17113</td>\n",
       "      <td>Choice of Games</td>\n",
       "      <td>94</td>\n",
       "      <td>NaN</td>\n",
       "      <td>NaN</td>\n",
       "      <td>NaN</td>\n",
       "      <td>NaN</td>\n",
       "      <td>NaN</td>\n",
       "      <td>NaN</td>\n",
       "      <td>NaN</td>\n",
       "    </tr>\n",
       "    <tr>\n",
       "      <th>publisher</th>\n",
       "      <td>27075</td>\n",
       "      <td>14354</td>\n",
       "      <td>Big Fish Games</td>\n",
       "      <td>212</td>\n",
       "      <td>NaN</td>\n",
       "      <td>NaN</td>\n",
       "      <td>NaN</td>\n",
       "      <td>NaN</td>\n",
       "      <td>NaN</td>\n",
       "      <td>NaN</td>\n",
       "      <td>NaN</td>\n",
       "    </tr>\n",
       "    <tr>\n",
       "      <th>platforms</th>\n",
       "      <td>27075</td>\n",
       "      <td>7</td>\n",
       "      <td>windows</td>\n",
       "      <td>18398</td>\n",
       "      <td>NaN</td>\n",
       "      <td>NaN</td>\n",
       "      <td>NaN</td>\n",
       "      <td>NaN</td>\n",
       "      <td>NaN</td>\n",
       "      <td>NaN</td>\n",
       "      <td>NaN</td>\n",
       "    </tr>\n",
       "    <tr>\n",
       "      <th>required_age</th>\n",
       "      <td>27075.0</td>\n",
       "      <td>NaN</td>\n",
       "      <td>NaN</td>\n",
       "      <td>NaN</td>\n",
       "      <td>0.354903</td>\n",
       "      <td>0.0</td>\n",
       "      <td>0.0</td>\n",
       "      <td>0.0</td>\n",
       "      <td>0.0</td>\n",
       "      <td>18.0</td>\n",
       "      <td>2.406044</td>\n",
       "    </tr>\n",
       "    <tr>\n",
       "      <th>genres</th>\n",
       "      <td>27075</td>\n",
       "      <td>1552</td>\n",
       "      <td>Action;Indie</td>\n",
       "      <td>1852</td>\n",
       "      <td>NaN</td>\n",
       "      <td>NaN</td>\n",
       "      <td>NaN</td>\n",
       "      <td>NaN</td>\n",
       "      <td>NaN</td>\n",
       "      <td>NaN</td>\n",
       "      <td>NaN</td>\n",
       "    </tr>\n",
       "    <tr>\n",
       "      <th>achievements</th>\n",
       "      <td>27075.0</td>\n",
       "      <td>NaN</td>\n",
       "      <td>NaN</td>\n",
       "      <td>NaN</td>\n",
       "      <td>45.248864</td>\n",
       "      <td>0.0</td>\n",
       "      <td>0.0</td>\n",
       "      <td>7.0</td>\n",
       "      <td>23.0</td>\n",
       "      <td>9821.0</td>\n",
       "      <td>352.670281</td>\n",
       "    </tr>\n",
       "    <tr>\n",
       "      <th>positive_ratings</th>\n",
       "      <td>27075.0</td>\n",
       "      <td>NaN</td>\n",
       "      <td>NaN</td>\n",
       "      <td>NaN</td>\n",
       "      <td>1000.558523</td>\n",
       "      <td>0.0</td>\n",
       "      <td>6.0</td>\n",
       "      <td>24.0</td>\n",
       "      <td>126.0</td>\n",
       "      <td>2644404.0</td>\n",
       "      <td>18988.724439</td>\n",
       "    </tr>\n",
       "    <tr>\n",
       "      <th>negative_ratings</th>\n",
       "      <td>27075.0</td>\n",
       "      <td>NaN</td>\n",
       "      <td>NaN</td>\n",
       "      <td>NaN</td>\n",
       "      <td>211.027147</td>\n",
       "      <td>0.0</td>\n",
       "      <td>2.0</td>\n",
       "      <td>9.0</td>\n",
       "      <td>42.0</td>\n",
       "      <td>487076.0</td>\n",
       "      <td>4284.938531</td>\n",
       "    </tr>\n",
       "    <tr>\n",
       "      <th>average_playtime</th>\n",
       "      <td>27075.0</td>\n",
       "      <td>NaN</td>\n",
       "      <td>NaN</td>\n",
       "      <td>NaN</td>\n",
       "      <td>149.804949</td>\n",
       "      <td>0.0</td>\n",
       "      <td>0.0</td>\n",
       "      <td>0.0</td>\n",
       "      <td>0.0</td>\n",
       "      <td>190625.0</td>\n",
       "      <td>1827.038141</td>\n",
       "    </tr>\n",
       "    <tr>\n",
       "      <th>median_playtime</th>\n",
       "      <td>27075.0</td>\n",
       "      <td>NaN</td>\n",
       "      <td>NaN</td>\n",
       "      <td>NaN</td>\n",
       "      <td>146.05603</td>\n",
       "      <td>0.0</td>\n",
       "      <td>0.0</td>\n",
       "      <td>0.0</td>\n",
       "      <td>0.0</td>\n",
       "      <td>190625.0</td>\n",
       "      <td>2353.88008</td>\n",
       "    </tr>\n",
       "    <tr>\n",
       "      <th>owners</th>\n",
       "      <td>27075</td>\n",
       "      <td>13</td>\n",
       "      <td>0-20000</td>\n",
       "      <td>18596</td>\n",
       "      <td>NaN</td>\n",
       "      <td>NaN</td>\n",
       "      <td>NaN</td>\n",
       "      <td>NaN</td>\n",
       "      <td>NaN</td>\n",
       "      <td>NaN</td>\n",
       "      <td>NaN</td>\n",
       "    </tr>\n",
       "    <tr>\n",
       "      <th>owners_min</th>\n",
       "      <td>27075.0</td>\n",
       "      <td>NaN</td>\n",
       "      <td>NaN</td>\n",
       "      <td>NaN</td>\n",
       "      <td>80126.685134</td>\n",
       "      <td>0.0</td>\n",
       "      <td>0.0</td>\n",
       "      <td>0.0</td>\n",
       "      <td>20000.0</td>\n",
       "      <td>100000000.0</td>\n",
       "      <td>870897.698168</td>\n",
       "    </tr>\n",
       "    <tr>\n",
       "      <th>owners_max</th>\n",
       "      <td>27075.0</td>\n",
       "      <td>NaN</td>\n",
       "      <td>NaN</td>\n",
       "      <td>NaN</td>\n",
       "      <td>188054.293629</td>\n",
       "      <td>20000.0</td>\n",
       "      <td>20000.0</td>\n",
       "      <td>20000.0</td>\n",
       "      <td>50000.0</td>\n",
       "      <td>200000000.0</td>\n",
       "      <td>1786800.655352</td>\n",
       "    </tr>\n",
       "    <tr>\n",
       "      <th>price</th>\n",
       "      <td>27075.0</td>\n",
       "      <td>NaN</td>\n",
       "      <td>NaN</td>\n",
       "      <td>NaN</td>\n",
       "      <td>6.078193</td>\n",
       "      <td>0.0</td>\n",
       "      <td>1.69</td>\n",
       "      <td>3.99</td>\n",
       "      <td>7.19</td>\n",
       "      <td>421.99</td>\n",
       "      <td>7.874922</td>\n",
       "    </tr>\n",
       "    <tr>\n",
       "      <th>year</th>\n",
       "      <td>27075.0</td>\n",
       "      <td>NaN</td>\n",
       "      <td>NaN</td>\n",
       "      <td>NaN</td>\n",
       "      <td>2016.498098</td>\n",
       "      <td>1997.0</td>\n",
       "      <td>2016.0</td>\n",
       "      <td>2017.0</td>\n",
       "      <td>2018.0</td>\n",
       "      <td>2019.0</td>\n",
       "      <td>2.15699</td>\n",
       "    </tr>\n",
       "  </tbody>\n",
       "</table>\n",
       "</div>"
      ],
      "text/plain": [
       "                    count unique              top   freq  \\\n",
       "appid             27075.0    NaN              NaN    NaN   \n",
       "name                27075  27033      Dark Matter      3   \n",
       "release_date        27075    NaN              NaN    NaN   \n",
       "english           27075.0    NaN              NaN    NaN   \n",
       "developer           27075  17113  Choice of Games     94   \n",
       "publisher           27075  14354   Big Fish Games    212   \n",
       "platforms           27075      7          windows  18398   \n",
       "required_age      27075.0    NaN              NaN    NaN   \n",
       "genres              27075   1552     Action;Indie   1852   \n",
       "achievements      27075.0    NaN              NaN    NaN   \n",
       "positive_ratings  27075.0    NaN              NaN    NaN   \n",
       "negative_ratings  27075.0    NaN              NaN    NaN   \n",
       "average_playtime  27075.0    NaN              NaN    NaN   \n",
       "median_playtime   27075.0    NaN              NaN    NaN   \n",
       "owners              27075     13          0-20000  18596   \n",
       "owners_min        27075.0    NaN              NaN    NaN   \n",
       "owners_max        27075.0    NaN              NaN    NaN   \n",
       "price             27075.0    NaN              NaN    NaN   \n",
       "year              27075.0    NaN              NaN    NaN   \n",
       "\n",
       "                                           mean                  min  \\\n",
       "appid                             596203.508661                 10.0   \n",
       "name                                        NaN                  NaN   \n",
       "release_date      2016-12-31 14:21:17.252077568  1997-06-30 00:00:00   \n",
       "english                                0.981127                  0.0   \n",
       "developer                                   NaN                  NaN   \n",
       "publisher                                   NaN                  NaN   \n",
       "platforms                                   NaN                  NaN   \n",
       "required_age                           0.354903                  0.0   \n",
       "genres                                      NaN                  NaN   \n",
       "achievements                          45.248864                  0.0   \n",
       "positive_ratings                    1000.558523                  0.0   \n",
       "negative_ratings                     211.027147                  0.0   \n",
       "average_playtime                     149.804949                  0.0   \n",
       "median_playtime                       146.05603                  0.0   \n",
       "owners                                      NaN                  NaN   \n",
       "owners_min                         80126.685134                  0.0   \n",
       "owners_max                        188054.293629              20000.0   \n",
       "price                                  6.078193                  0.0   \n",
       "year                                2016.498098               1997.0   \n",
       "\n",
       "                                  25%                  50%  \\\n",
       "appid                        401230.0             599070.0   \n",
       "name                              NaN                  NaN   \n",
       "release_date      2016-04-04 00:00:00  2017-08-08 00:00:00   \n",
       "english                           1.0                  1.0   \n",
       "developer                         NaN                  NaN   \n",
       "publisher                         NaN                  NaN   \n",
       "platforms                         NaN                  NaN   \n",
       "required_age                      0.0                  0.0   \n",
       "genres                            NaN                  NaN   \n",
       "achievements                      0.0                  7.0   \n",
       "positive_ratings                  6.0                 24.0   \n",
       "negative_ratings                  2.0                  9.0   \n",
       "average_playtime                  0.0                  0.0   \n",
       "median_playtime                   0.0                  0.0   \n",
       "owners                            NaN                  NaN   \n",
       "owners_min                        0.0                  0.0   \n",
       "owners_max                    20000.0              20000.0   \n",
       "price                            1.69                 3.99   \n",
       "year                           2016.0               2017.0   \n",
       "\n",
       "                                  75%                  max             std  \n",
       "appid                        798760.0            1069460.0   250894.167246  \n",
       "name                              NaN                  NaN             NaN  \n",
       "release_date      2018-06-06 12:00:00  2019-05-01 00:00:00             NaN  \n",
       "english                           1.0                  1.0        0.136081  \n",
       "developer                         NaN                  NaN             NaN  \n",
       "publisher                         NaN                  NaN             NaN  \n",
       "platforms                         NaN                  NaN             NaN  \n",
       "required_age                      0.0                 18.0        2.406044  \n",
       "genres                            NaN                  NaN             NaN  \n",
       "achievements                     23.0               9821.0      352.670281  \n",
       "positive_ratings                126.0            2644404.0    18988.724439  \n",
       "negative_ratings                 42.0             487076.0     4284.938531  \n",
       "average_playtime                  0.0             190625.0     1827.038141  \n",
       "median_playtime                   0.0             190625.0      2353.88008  \n",
       "owners                            NaN                  NaN             NaN  \n",
       "owners_min                    20000.0          100000000.0   870897.698168  \n",
       "owners_max                    50000.0          200000000.0  1786800.655352  \n",
       "price                            7.19               421.99        7.874922  \n",
       "year                           2018.0               2019.0         2.15699  "
      ]
     },
     "execution_count": 10,
     "metadata": {},
     "output_type": "execute_result"
    }
   ],
   "source": [
    "copy.describe(include = \"all\").T"
   ]
  },
  {
   "cell_type": "markdown",
   "metadata": {},
   "source": [
    "На основании полученой информации можно сделать некоторые предварительные выводы:\n",
    "- в датасете представлены данные за период с 1997-06-30 по 2019-05-01;\n",
    "- больше всего игр разработали Choice of Games (94);\n",
    "- больше всего игр издали Big Fish Games(212);\n",
    "- самая популярная платформа windows;\n",
    "- самый популярный жанр игр Action - Indie;\n",
    "- минимальная цена игры - 0, максимальная - 421.99, средняя 6.078193\n"
   ]
  },
  {
   "cell_type": "markdown",
   "metadata": {},
   "source": [
    "Рассчитаем среднюю стоимость игр в Steam"
   ]
  },
  {
   "cell_type": "code",
   "execution_count": 11,
   "metadata": {},
   "outputs": [
    {
     "name": "stdout",
     "output_type": "stream",
     "text": [
      "Средняя стоимость игр в Steam: 6.08\n"
     ]
    }
   ],
   "source": [
    "mean_price = copy.price.agg(\"mean\").round(2)\n",
    "print(f'Средняя стоимость игр в Steam: {mean_price}')"
   ]
  },
  {
   "cell_type": "markdown",
   "metadata": {},
   "source": [
    "Построим диаграмму, которая иллюстрирует какое количество игр поддерживает английский язык, а какое — нет"
   ]
  },
  {
   "cell_type": "code",
   "execution_count": 12,
   "metadata": {},
   "outputs": [
    {
     "data": {
      "application/vnd.plotly.v1+json": {
       "config": {
        "plotlyServerURL": "https://plot.ly"
       },
       "data": [
        {
         "labels": [
          "Английский язык поддерживается",
          "Английский язык не поддерживается"
         ],
         "pull": [
          0,
          0.2
         ],
         "textinfo": "percent+label+value",
         "textposition": "outside",
         "type": "pie",
         "values": [
          26564,
          511
         ]
        }
       ],
       "layout": {
        "template": {
         "data": {
          "bar": [
           {
            "error_x": {
             "color": "#2a3f5f"
            },
            "error_y": {
             "color": "#2a3f5f"
            },
            "marker": {
             "line": {
              "color": "#E5ECF6",
              "width": 0.5
             },
             "pattern": {
              "fillmode": "overlay",
              "size": 10,
              "solidity": 0.2
             }
            },
            "type": "bar"
           }
          ],
          "barpolar": [
           {
            "marker": {
             "line": {
              "color": "#E5ECF6",
              "width": 0.5
             },
             "pattern": {
              "fillmode": "overlay",
              "size": 10,
              "solidity": 0.2
             }
            },
            "type": "barpolar"
           }
          ],
          "carpet": [
           {
            "aaxis": {
             "endlinecolor": "#2a3f5f",
             "gridcolor": "white",
             "linecolor": "white",
             "minorgridcolor": "white",
             "startlinecolor": "#2a3f5f"
            },
            "baxis": {
             "endlinecolor": "#2a3f5f",
             "gridcolor": "white",
             "linecolor": "white",
             "minorgridcolor": "white",
             "startlinecolor": "#2a3f5f"
            },
            "type": "carpet"
           }
          ],
          "choropleth": [
           {
            "colorbar": {
             "outlinewidth": 0,
             "ticks": ""
            },
            "type": "choropleth"
           }
          ],
          "contour": [
           {
            "colorbar": {
             "outlinewidth": 0,
             "ticks": ""
            },
            "colorscale": [
             [
              0,
              "#0d0887"
             ],
             [
              0.1111111111111111,
              "#46039f"
             ],
             [
              0.2222222222222222,
              "#7201a8"
             ],
             [
              0.3333333333333333,
              "#9c179e"
             ],
             [
              0.4444444444444444,
              "#bd3786"
             ],
             [
              0.5555555555555556,
              "#d8576b"
             ],
             [
              0.6666666666666666,
              "#ed7953"
             ],
             [
              0.7777777777777778,
              "#fb9f3a"
             ],
             [
              0.8888888888888888,
              "#fdca26"
             ],
             [
              1,
              "#f0f921"
             ]
            ],
            "type": "contour"
           }
          ],
          "contourcarpet": [
           {
            "colorbar": {
             "outlinewidth": 0,
             "ticks": ""
            },
            "type": "contourcarpet"
           }
          ],
          "heatmap": [
           {
            "colorbar": {
             "outlinewidth": 0,
             "ticks": ""
            },
            "colorscale": [
             [
              0,
              "#0d0887"
             ],
             [
              0.1111111111111111,
              "#46039f"
             ],
             [
              0.2222222222222222,
              "#7201a8"
             ],
             [
              0.3333333333333333,
              "#9c179e"
             ],
             [
              0.4444444444444444,
              "#bd3786"
             ],
             [
              0.5555555555555556,
              "#d8576b"
             ],
             [
              0.6666666666666666,
              "#ed7953"
             ],
             [
              0.7777777777777778,
              "#fb9f3a"
             ],
             [
              0.8888888888888888,
              "#fdca26"
             ],
             [
              1,
              "#f0f921"
             ]
            ],
            "type": "heatmap"
           }
          ],
          "heatmapgl": [
           {
            "colorbar": {
             "outlinewidth": 0,
             "ticks": ""
            },
            "colorscale": [
             [
              0,
              "#0d0887"
             ],
             [
              0.1111111111111111,
              "#46039f"
             ],
             [
              0.2222222222222222,
              "#7201a8"
             ],
             [
              0.3333333333333333,
              "#9c179e"
             ],
             [
              0.4444444444444444,
              "#bd3786"
             ],
             [
              0.5555555555555556,
              "#d8576b"
             ],
             [
              0.6666666666666666,
              "#ed7953"
             ],
             [
              0.7777777777777778,
              "#fb9f3a"
             ],
             [
              0.8888888888888888,
              "#fdca26"
             ],
             [
              1,
              "#f0f921"
             ]
            ],
            "type": "heatmapgl"
           }
          ],
          "histogram": [
           {
            "marker": {
             "pattern": {
              "fillmode": "overlay",
              "size": 10,
              "solidity": 0.2
             }
            },
            "type": "histogram"
           }
          ],
          "histogram2d": [
           {
            "colorbar": {
             "outlinewidth": 0,
             "ticks": ""
            },
            "colorscale": [
             [
              0,
              "#0d0887"
             ],
             [
              0.1111111111111111,
              "#46039f"
             ],
             [
              0.2222222222222222,
              "#7201a8"
             ],
             [
              0.3333333333333333,
              "#9c179e"
             ],
             [
              0.4444444444444444,
              "#bd3786"
             ],
             [
              0.5555555555555556,
              "#d8576b"
             ],
             [
              0.6666666666666666,
              "#ed7953"
             ],
             [
              0.7777777777777778,
              "#fb9f3a"
             ],
             [
              0.8888888888888888,
              "#fdca26"
             ],
             [
              1,
              "#f0f921"
             ]
            ],
            "type": "histogram2d"
           }
          ],
          "histogram2dcontour": [
           {
            "colorbar": {
             "outlinewidth": 0,
             "ticks": ""
            },
            "colorscale": [
             [
              0,
              "#0d0887"
             ],
             [
              0.1111111111111111,
              "#46039f"
             ],
             [
              0.2222222222222222,
              "#7201a8"
             ],
             [
              0.3333333333333333,
              "#9c179e"
             ],
             [
              0.4444444444444444,
              "#bd3786"
             ],
             [
              0.5555555555555556,
              "#d8576b"
             ],
             [
              0.6666666666666666,
              "#ed7953"
             ],
             [
              0.7777777777777778,
              "#fb9f3a"
             ],
             [
              0.8888888888888888,
              "#fdca26"
             ],
             [
              1,
              "#f0f921"
             ]
            ],
            "type": "histogram2dcontour"
           }
          ],
          "mesh3d": [
           {
            "colorbar": {
             "outlinewidth": 0,
             "ticks": ""
            },
            "type": "mesh3d"
           }
          ],
          "parcoords": [
           {
            "line": {
             "colorbar": {
              "outlinewidth": 0,
              "ticks": ""
             }
            },
            "type": "parcoords"
           }
          ],
          "pie": [
           {
            "automargin": true,
            "type": "pie"
           }
          ],
          "scatter": [
           {
            "fillpattern": {
             "fillmode": "overlay",
             "size": 10,
             "solidity": 0.2
            },
            "type": "scatter"
           }
          ],
          "scatter3d": [
           {
            "line": {
             "colorbar": {
              "outlinewidth": 0,
              "ticks": ""
             }
            },
            "marker": {
             "colorbar": {
              "outlinewidth": 0,
              "ticks": ""
             }
            },
            "type": "scatter3d"
           }
          ],
          "scattercarpet": [
           {
            "marker": {
             "colorbar": {
              "outlinewidth": 0,
              "ticks": ""
             }
            },
            "type": "scattercarpet"
           }
          ],
          "scattergeo": [
           {
            "marker": {
             "colorbar": {
              "outlinewidth": 0,
              "ticks": ""
             }
            },
            "type": "scattergeo"
           }
          ],
          "scattergl": [
           {
            "marker": {
             "colorbar": {
              "outlinewidth": 0,
              "ticks": ""
             }
            },
            "type": "scattergl"
           }
          ],
          "scattermapbox": [
           {
            "marker": {
             "colorbar": {
              "outlinewidth": 0,
              "ticks": ""
             }
            },
            "type": "scattermapbox"
           }
          ],
          "scatterpolar": [
           {
            "marker": {
             "colorbar": {
              "outlinewidth": 0,
              "ticks": ""
             }
            },
            "type": "scatterpolar"
           }
          ],
          "scatterpolargl": [
           {
            "marker": {
             "colorbar": {
              "outlinewidth": 0,
              "ticks": ""
             }
            },
            "type": "scatterpolargl"
           }
          ],
          "scatterternary": [
           {
            "marker": {
             "colorbar": {
              "outlinewidth": 0,
              "ticks": ""
             }
            },
            "type": "scatterternary"
           }
          ],
          "surface": [
           {
            "colorbar": {
             "outlinewidth": 0,
             "ticks": ""
            },
            "colorscale": [
             [
              0,
              "#0d0887"
             ],
             [
              0.1111111111111111,
              "#46039f"
             ],
             [
              0.2222222222222222,
              "#7201a8"
             ],
             [
              0.3333333333333333,
              "#9c179e"
             ],
             [
              0.4444444444444444,
              "#bd3786"
             ],
             [
              0.5555555555555556,
              "#d8576b"
             ],
             [
              0.6666666666666666,
              "#ed7953"
             ],
             [
              0.7777777777777778,
              "#fb9f3a"
             ],
             [
              0.8888888888888888,
              "#fdca26"
             ],
             [
              1,
              "#f0f921"
             ]
            ],
            "type": "surface"
           }
          ],
          "table": [
           {
            "cells": {
             "fill": {
              "color": "#EBF0F8"
             },
             "line": {
              "color": "white"
             }
            },
            "header": {
             "fill": {
              "color": "#C8D4E3"
             },
             "line": {
              "color": "white"
             }
            },
            "type": "table"
           }
          ]
         },
         "layout": {
          "annotationdefaults": {
           "arrowcolor": "#2a3f5f",
           "arrowhead": 0,
           "arrowwidth": 1
          },
          "autotypenumbers": "strict",
          "coloraxis": {
           "colorbar": {
            "outlinewidth": 0,
            "ticks": ""
           }
          },
          "colorscale": {
           "diverging": [
            [
             0,
             "#8e0152"
            ],
            [
             0.1,
             "#c51b7d"
            ],
            [
             0.2,
             "#de77ae"
            ],
            [
             0.3,
             "#f1b6da"
            ],
            [
             0.4,
             "#fde0ef"
            ],
            [
             0.5,
             "#f7f7f7"
            ],
            [
             0.6,
             "#e6f5d0"
            ],
            [
             0.7,
             "#b8e186"
            ],
            [
             0.8,
             "#7fbc41"
            ],
            [
             0.9,
             "#4d9221"
            ],
            [
             1,
             "#276419"
            ]
           ],
           "sequential": [
            [
             0,
             "#0d0887"
            ],
            [
             0.1111111111111111,
             "#46039f"
            ],
            [
             0.2222222222222222,
             "#7201a8"
            ],
            [
             0.3333333333333333,
             "#9c179e"
            ],
            [
             0.4444444444444444,
             "#bd3786"
            ],
            [
             0.5555555555555556,
             "#d8576b"
            ],
            [
             0.6666666666666666,
             "#ed7953"
            ],
            [
             0.7777777777777778,
             "#fb9f3a"
            ],
            [
             0.8888888888888888,
             "#fdca26"
            ],
            [
             1,
             "#f0f921"
            ]
           ],
           "sequentialminus": [
            [
             0,
             "#0d0887"
            ],
            [
             0.1111111111111111,
             "#46039f"
            ],
            [
             0.2222222222222222,
             "#7201a8"
            ],
            [
             0.3333333333333333,
             "#9c179e"
            ],
            [
             0.4444444444444444,
             "#bd3786"
            ],
            [
             0.5555555555555556,
             "#d8576b"
            ],
            [
             0.6666666666666666,
             "#ed7953"
            ],
            [
             0.7777777777777778,
             "#fb9f3a"
            ],
            [
             0.8888888888888888,
             "#fdca26"
            ],
            [
             1,
             "#f0f921"
            ]
           ]
          },
          "colorway": [
           "#636efa",
           "#EF553B",
           "#00cc96",
           "#ab63fa",
           "#FFA15A",
           "#19d3f3",
           "#FF6692",
           "#B6E880",
           "#FF97FF",
           "#FECB52"
          ],
          "font": {
           "color": "#2a3f5f"
          },
          "geo": {
           "bgcolor": "white",
           "lakecolor": "white",
           "landcolor": "#E5ECF6",
           "showlakes": true,
           "showland": true,
           "subunitcolor": "white"
          },
          "hoverlabel": {
           "align": "left"
          },
          "hovermode": "closest",
          "mapbox": {
           "style": "light"
          },
          "paper_bgcolor": "white",
          "plot_bgcolor": "#E5ECF6",
          "polar": {
           "angularaxis": {
            "gridcolor": "white",
            "linecolor": "white",
            "ticks": ""
           },
           "bgcolor": "#E5ECF6",
           "radialaxis": {
            "gridcolor": "white",
            "linecolor": "white",
            "ticks": ""
           }
          },
          "scene": {
           "xaxis": {
            "backgroundcolor": "#E5ECF6",
            "gridcolor": "white",
            "gridwidth": 2,
            "linecolor": "white",
            "showbackground": true,
            "ticks": "",
            "zerolinecolor": "white"
           },
           "yaxis": {
            "backgroundcolor": "#E5ECF6",
            "gridcolor": "white",
            "gridwidth": 2,
            "linecolor": "white",
            "showbackground": true,
            "ticks": "",
            "zerolinecolor": "white"
           },
           "zaxis": {
            "backgroundcolor": "#E5ECF6",
            "gridcolor": "white",
            "gridwidth": 2,
            "linecolor": "white",
            "showbackground": true,
            "ticks": "",
            "zerolinecolor": "white"
           }
          },
          "shapedefaults": {
           "line": {
            "color": "#2a3f5f"
           }
          },
          "ternary": {
           "aaxis": {
            "gridcolor": "white",
            "linecolor": "white",
            "ticks": ""
           },
           "baxis": {
            "gridcolor": "white",
            "linecolor": "white",
            "ticks": ""
           },
           "bgcolor": "#E5ECF6",
           "caxis": {
            "gridcolor": "white",
            "linecolor": "white",
            "ticks": ""
           }
          },
          "title": {
           "x": 0.05
          },
          "xaxis": {
           "automargin": true,
           "gridcolor": "white",
           "linecolor": "white",
           "ticks": "",
           "title": {
            "standoff": 15
           },
           "zerolinecolor": "white",
           "zerolinewidth": 2
          },
          "yaxis": {
           "automargin": true,
           "gridcolor": "white",
           "linecolor": "white",
           "ticks": "",
           "title": {
            "standoff": 15
           },
           "zerolinecolor": "white",
           "zerolinewidth": 2
          }
         }
        },
        "title": {
         "text": "Соотношение количества игр поддерживающих и неподдерживающих английский язык "
        }
       }
      }
     },
     "metadata": {},
     "output_type": "display_data"
    }
   ],
   "source": [
    "value = copy.english.value_counts()\n",
    "labels = ['Английский язык поддерживается', 'Английский язык не поддерживается']\n",
    "fig = go.Figure(data = [go.Pie(labels = labels, values = value, pull = [0, 0.2])])\n",
    "fig.update_traces(textposition = 'outside', textinfo = 'percent+label+value')\n",
    "fig.update_layout(title = 'Соотношение количества игр поддерживающих и неподдерживающих английский язык ')\n",
    "fig.show()"
   ]
  },
  {
   "cell_type": "markdown",
   "metadata": {},
   "source": [
    "Как видно из диаграммы, подавляющее большинство игр поддерживают английский язык (98.1%)"
   ]
  },
  {
   "cell_type": "markdown",
   "metadata": {},
   "source": [
    "Построим диаграмму, которая иллюстрирует какое количество игр является бесплатными, а какое требуется покупать"
   ]
  },
  {
   "cell_type": "code",
   "execution_count": 13,
   "metadata": {},
   "outputs": [
    {
     "data": {
      "application/vnd.plotly.v1+json": {
       "config": {
        "plotlyServerURL": "https://plot.ly"
       },
       "data": [
        {
         "labels": [
          "Платные игры",
          "Бесплатные игры"
         ],
         "pull": [
          0,
          0.2
         ],
         "textinfo": "percent+label+value",
         "textposition": "outside",
         "type": "pie",
         "values": [
          24515,
          2560
         ]
        }
       ],
       "layout": {
        "template": {
         "data": {
          "bar": [
           {
            "error_x": {
             "color": "#2a3f5f"
            },
            "error_y": {
             "color": "#2a3f5f"
            },
            "marker": {
             "line": {
              "color": "#E5ECF6",
              "width": 0.5
             },
             "pattern": {
              "fillmode": "overlay",
              "size": 10,
              "solidity": 0.2
             }
            },
            "type": "bar"
           }
          ],
          "barpolar": [
           {
            "marker": {
             "line": {
              "color": "#E5ECF6",
              "width": 0.5
             },
             "pattern": {
              "fillmode": "overlay",
              "size": 10,
              "solidity": 0.2
             }
            },
            "type": "barpolar"
           }
          ],
          "carpet": [
           {
            "aaxis": {
             "endlinecolor": "#2a3f5f",
             "gridcolor": "white",
             "linecolor": "white",
             "minorgridcolor": "white",
             "startlinecolor": "#2a3f5f"
            },
            "baxis": {
             "endlinecolor": "#2a3f5f",
             "gridcolor": "white",
             "linecolor": "white",
             "minorgridcolor": "white",
             "startlinecolor": "#2a3f5f"
            },
            "type": "carpet"
           }
          ],
          "choropleth": [
           {
            "colorbar": {
             "outlinewidth": 0,
             "ticks": ""
            },
            "type": "choropleth"
           }
          ],
          "contour": [
           {
            "colorbar": {
             "outlinewidth": 0,
             "ticks": ""
            },
            "colorscale": [
             [
              0,
              "#0d0887"
             ],
             [
              0.1111111111111111,
              "#46039f"
             ],
             [
              0.2222222222222222,
              "#7201a8"
             ],
             [
              0.3333333333333333,
              "#9c179e"
             ],
             [
              0.4444444444444444,
              "#bd3786"
             ],
             [
              0.5555555555555556,
              "#d8576b"
             ],
             [
              0.6666666666666666,
              "#ed7953"
             ],
             [
              0.7777777777777778,
              "#fb9f3a"
             ],
             [
              0.8888888888888888,
              "#fdca26"
             ],
             [
              1,
              "#f0f921"
             ]
            ],
            "type": "contour"
           }
          ],
          "contourcarpet": [
           {
            "colorbar": {
             "outlinewidth": 0,
             "ticks": ""
            },
            "type": "contourcarpet"
           }
          ],
          "heatmap": [
           {
            "colorbar": {
             "outlinewidth": 0,
             "ticks": ""
            },
            "colorscale": [
             [
              0,
              "#0d0887"
             ],
             [
              0.1111111111111111,
              "#46039f"
             ],
             [
              0.2222222222222222,
              "#7201a8"
             ],
             [
              0.3333333333333333,
              "#9c179e"
             ],
             [
              0.4444444444444444,
              "#bd3786"
             ],
             [
              0.5555555555555556,
              "#d8576b"
             ],
             [
              0.6666666666666666,
              "#ed7953"
             ],
             [
              0.7777777777777778,
              "#fb9f3a"
             ],
             [
              0.8888888888888888,
              "#fdca26"
             ],
             [
              1,
              "#f0f921"
             ]
            ],
            "type": "heatmap"
           }
          ],
          "heatmapgl": [
           {
            "colorbar": {
             "outlinewidth": 0,
             "ticks": ""
            },
            "colorscale": [
             [
              0,
              "#0d0887"
             ],
             [
              0.1111111111111111,
              "#46039f"
             ],
             [
              0.2222222222222222,
              "#7201a8"
             ],
             [
              0.3333333333333333,
              "#9c179e"
             ],
             [
              0.4444444444444444,
              "#bd3786"
             ],
             [
              0.5555555555555556,
              "#d8576b"
             ],
             [
              0.6666666666666666,
              "#ed7953"
             ],
             [
              0.7777777777777778,
              "#fb9f3a"
             ],
             [
              0.8888888888888888,
              "#fdca26"
             ],
             [
              1,
              "#f0f921"
             ]
            ],
            "type": "heatmapgl"
           }
          ],
          "histogram": [
           {
            "marker": {
             "pattern": {
              "fillmode": "overlay",
              "size": 10,
              "solidity": 0.2
             }
            },
            "type": "histogram"
           }
          ],
          "histogram2d": [
           {
            "colorbar": {
             "outlinewidth": 0,
             "ticks": ""
            },
            "colorscale": [
             [
              0,
              "#0d0887"
             ],
             [
              0.1111111111111111,
              "#46039f"
             ],
             [
              0.2222222222222222,
              "#7201a8"
             ],
             [
              0.3333333333333333,
              "#9c179e"
             ],
             [
              0.4444444444444444,
              "#bd3786"
             ],
             [
              0.5555555555555556,
              "#d8576b"
             ],
             [
              0.6666666666666666,
              "#ed7953"
             ],
             [
              0.7777777777777778,
              "#fb9f3a"
             ],
             [
              0.8888888888888888,
              "#fdca26"
             ],
             [
              1,
              "#f0f921"
             ]
            ],
            "type": "histogram2d"
           }
          ],
          "histogram2dcontour": [
           {
            "colorbar": {
             "outlinewidth": 0,
             "ticks": ""
            },
            "colorscale": [
             [
              0,
              "#0d0887"
             ],
             [
              0.1111111111111111,
              "#46039f"
             ],
             [
              0.2222222222222222,
              "#7201a8"
             ],
             [
              0.3333333333333333,
              "#9c179e"
             ],
             [
              0.4444444444444444,
              "#bd3786"
             ],
             [
              0.5555555555555556,
              "#d8576b"
             ],
             [
              0.6666666666666666,
              "#ed7953"
             ],
             [
              0.7777777777777778,
              "#fb9f3a"
             ],
             [
              0.8888888888888888,
              "#fdca26"
             ],
             [
              1,
              "#f0f921"
             ]
            ],
            "type": "histogram2dcontour"
           }
          ],
          "mesh3d": [
           {
            "colorbar": {
             "outlinewidth": 0,
             "ticks": ""
            },
            "type": "mesh3d"
           }
          ],
          "parcoords": [
           {
            "line": {
             "colorbar": {
              "outlinewidth": 0,
              "ticks": ""
             }
            },
            "type": "parcoords"
           }
          ],
          "pie": [
           {
            "automargin": true,
            "type": "pie"
           }
          ],
          "scatter": [
           {
            "fillpattern": {
             "fillmode": "overlay",
             "size": 10,
             "solidity": 0.2
            },
            "type": "scatter"
           }
          ],
          "scatter3d": [
           {
            "line": {
             "colorbar": {
              "outlinewidth": 0,
              "ticks": ""
             }
            },
            "marker": {
             "colorbar": {
              "outlinewidth": 0,
              "ticks": ""
             }
            },
            "type": "scatter3d"
           }
          ],
          "scattercarpet": [
           {
            "marker": {
             "colorbar": {
              "outlinewidth": 0,
              "ticks": ""
             }
            },
            "type": "scattercarpet"
           }
          ],
          "scattergeo": [
           {
            "marker": {
             "colorbar": {
              "outlinewidth": 0,
              "ticks": ""
             }
            },
            "type": "scattergeo"
           }
          ],
          "scattergl": [
           {
            "marker": {
             "colorbar": {
              "outlinewidth": 0,
              "ticks": ""
             }
            },
            "type": "scattergl"
           }
          ],
          "scattermapbox": [
           {
            "marker": {
             "colorbar": {
              "outlinewidth": 0,
              "ticks": ""
             }
            },
            "type": "scattermapbox"
           }
          ],
          "scatterpolar": [
           {
            "marker": {
             "colorbar": {
              "outlinewidth": 0,
              "ticks": ""
             }
            },
            "type": "scatterpolar"
           }
          ],
          "scatterpolargl": [
           {
            "marker": {
             "colorbar": {
              "outlinewidth": 0,
              "ticks": ""
             }
            },
            "type": "scatterpolargl"
           }
          ],
          "scatterternary": [
           {
            "marker": {
             "colorbar": {
              "outlinewidth": 0,
              "ticks": ""
             }
            },
            "type": "scatterternary"
           }
          ],
          "surface": [
           {
            "colorbar": {
             "outlinewidth": 0,
             "ticks": ""
            },
            "colorscale": [
             [
              0,
              "#0d0887"
             ],
             [
              0.1111111111111111,
              "#46039f"
             ],
             [
              0.2222222222222222,
              "#7201a8"
             ],
             [
              0.3333333333333333,
              "#9c179e"
             ],
             [
              0.4444444444444444,
              "#bd3786"
             ],
             [
              0.5555555555555556,
              "#d8576b"
             ],
             [
              0.6666666666666666,
              "#ed7953"
             ],
             [
              0.7777777777777778,
              "#fb9f3a"
             ],
             [
              0.8888888888888888,
              "#fdca26"
             ],
             [
              1,
              "#f0f921"
             ]
            ],
            "type": "surface"
           }
          ],
          "table": [
           {
            "cells": {
             "fill": {
              "color": "#EBF0F8"
             },
             "line": {
              "color": "white"
             }
            },
            "header": {
             "fill": {
              "color": "#C8D4E3"
             },
             "line": {
              "color": "white"
             }
            },
            "type": "table"
           }
          ]
         },
         "layout": {
          "annotationdefaults": {
           "arrowcolor": "#2a3f5f",
           "arrowhead": 0,
           "arrowwidth": 1
          },
          "autotypenumbers": "strict",
          "coloraxis": {
           "colorbar": {
            "outlinewidth": 0,
            "ticks": ""
           }
          },
          "colorscale": {
           "diverging": [
            [
             0,
             "#8e0152"
            ],
            [
             0.1,
             "#c51b7d"
            ],
            [
             0.2,
             "#de77ae"
            ],
            [
             0.3,
             "#f1b6da"
            ],
            [
             0.4,
             "#fde0ef"
            ],
            [
             0.5,
             "#f7f7f7"
            ],
            [
             0.6,
             "#e6f5d0"
            ],
            [
             0.7,
             "#b8e186"
            ],
            [
             0.8,
             "#7fbc41"
            ],
            [
             0.9,
             "#4d9221"
            ],
            [
             1,
             "#276419"
            ]
           ],
           "sequential": [
            [
             0,
             "#0d0887"
            ],
            [
             0.1111111111111111,
             "#46039f"
            ],
            [
             0.2222222222222222,
             "#7201a8"
            ],
            [
             0.3333333333333333,
             "#9c179e"
            ],
            [
             0.4444444444444444,
             "#bd3786"
            ],
            [
             0.5555555555555556,
             "#d8576b"
            ],
            [
             0.6666666666666666,
             "#ed7953"
            ],
            [
             0.7777777777777778,
             "#fb9f3a"
            ],
            [
             0.8888888888888888,
             "#fdca26"
            ],
            [
             1,
             "#f0f921"
            ]
           ],
           "sequentialminus": [
            [
             0,
             "#0d0887"
            ],
            [
             0.1111111111111111,
             "#46039f"
            ],
            [
             0.2222222222222222,
             "#7201a8"
            ],
            [
             0.3333333333333333,
             "#9c179e"
            ],
            [
             0.4444444444444444,
             "#bd3786"
            ],
            [
             0.5555555555555556,
             "#d8576b"
            ],
            [
             0.6666666666666666,
             "#ed7953"
            ],
            [
             0.7777777777777778,
             "#fb9f3a"
            ],
            [
             0.8888888888888888,
             "#fdca26"
            ],
            [
             1,
             "#f0f921"
            ]
           ]
          },
          "colorway": [
           "#636efa",
           "#EF553B",
           "#00cc96",
           "#ab63fa",
           "#FFA15A",
           "#19d3f3",
           "#FF6692",
           "#B6E880",
           "#FF97FF",
           "#FECB52"
          ],
          "font": {
           "color": "#2a3f5f"
          },
          "geo": {
           "bgcolor": "white",
           "lakecolor": "white",
           "landcolor": "#E5ECF6",
           "showlakes": true,
           "showland": true,
           "subunitcolor": "white"
          },
          "hoverlabel": {
           "align": "left"
          },
          "hovermode": "closest",
          "mapbox": {
           "style": "light"
          },
          "paper_bgcolor": "white",
          "plot_bgcolor": "#E5ECF6",
          "polar": {
           "angularaxis": {
            "gridcolor": "white",
            "linecolor": "white",
            "ticks": ""
           },
           "bgcolor": "#E5ECF6",
           "radialaxis": {
            "gridcolor": "white",
            "linecolor": "white",
            "ticks": ""
           }
          },
          "scene": {
           "xaxis": {
            "backgroundcolor": "#E5ECF6",
            "gridcolor": "white",
            "gridwidth": 2,
            "linecolor": "white",
            "showbackground": true,
            "ticks": "",
            "zerolinecolor": "white"
           },
           "yaxis": {
            "backgroundcolor": "#E5ECF6",
            "gridcolor": "white",
            "gridwidth": 2,
            "linecolor": "white",
            "showbackground": true,
            "ticks": "",
            "zerolinecolor": "white"
           },
           "zaxis": {
            "backgroundcolor": "#E5ECF6",
            "gridcolor": "white",
            "gridwidth": 2,
            "linecolor": "white",
            "showbackground": true,
            "ticks": "",
            "zerolinecolor": "white"
           }
          },
          "shapedefaults": {
           "line": {
            "color": "#2a3f5f"
           }
          },
          "ternary": {
           "aaxis": {
            "gridcolor": "white",
            "linecolor": "white",
            "ticks": ""
           },
           "baxis": {
            "gridcolor": "white",
            "linecolor": "white",
            "ticks": ""
           },
           "bgcolor": "#E5ECF6",
           "caxis": {
            "gridcolor": "white",
            "linecolor": "white",
            "ticks": ""
           }
          },
          "title": {
           "x": 0.05
          },
          "xaxis": {
           "automargin": true,
           "gridcolor": "white",
           "linecolor": "white",
           "ticks": "",
           "title": {
            "standoff": 15
           },
           "zerolinecolor": "white",
           "zerolinewidth": 2
          },
          "yaxis": {
           "automargin": true,
           "gridcolor": "white",
           "linecolor": "white",
           "ticks": "",
           "title": {
            "standoff": 15
           },
           "zerolinecolor": "white",
           "zerolinewidth": 2
          }
         }
        },
        "title": {
         "text": "Соотношение количества бесплатных и платных игр"
        }
       }
      }
     },
     "metadata": {},
     "output_type": "display_data"
    }
   ],
   "source": [
    "value = [len(copy[copy['price'] > 0]), len(copy[copy['price'] == 0])]\n",
    "labels = ['Платные игры', 'Бесплатные игры']\n",
    "\n",
    "fig = go.Figure(data=[go.Pie(labels = labels, values = value, pull = [0, 0.2])])\n",
    "fig.update_traces(textposition = 'outside', textinfo = 'percent+label+value')\n",
    "fig.update_layout(title = 'Соотношение количества бесплатных и платных игр')\n",
    "fig.show()"
   ]
  },
  {
   "cell_type": "markdown",
   "metadata": {},
   "source": [
    "Как видно из диаграммы, подавляющее большинство игр являются платными (90,5%)"
   ]
  },
  {
   "cell_type": "markdown",
   "metadata": {},
   "source": [
    "Построим сводную таблицу с количеством выпущенных игр за каждый год (постройте для неё гистограмму)"
   ]
  },
  {
   "cell_type": "code",
   "execution_count": 14,
   "metadata": {},
   "outputs": [
    {
     "data": {
      "text/html": [
       "<div>\n",
       "<style scoped>\n",
       "    .dataframe tbody tr th:only-of-type {\n",
       "        vertical-align: middle;\n",
       "    }\n",
       "\n",
       "    .dataframe tbody tr th {\n",
       "        vertical-align: top;\n",
       "    }\n",
       "\n",
       "    .dataframe thead th {\n",
       "        text-align: right;\n",
       "    }\n",
       "</style>\n",
       "<table border=\"1\" class=\"dataframe\">\n",
       "  <thead>\n",
       "    <tr style=\"text-align: right;\">\n",
       "      <th></th>\n",
       "      <th>year</th>\n",
       "      <th>count</th>\n",
       "    </tr>\n",
       "  </thead>\n",
       "  <tbody>\n",
       "    <tr>\n",
       "      <th>0</th>\n",
       "      <td>2019</td>\n",
       "      <td>2213</td>\n",
       "    </tr>\n",
       "    <tr>\n",
       "      <th>1</th>\n",
       "      <td>2018</td>\n",
       "      <td>8160</td>\n",
       "    </tr>\n",
       "    <tr>\n",
       "      <th>2</th>\n",
       "      <td>2017</td>\n",
       "      <td>6357</td>\n",
       "    </tr>\n",
       "    <tr>\n",
       "      <th>3</th>\n",
       "      <td>2016</td>\n",
       "      <td>4361</td>\n",
       "    </tr>\n",
       "    <tr>\n",
       "      <th>4</th>\n",
       "      <td>2015</td>\n",
       "      <td>2597</td>\n",
       "    </tr>\n",
       "    <tr>\n",
       "      <th>5</th>\n",
       "      <td>2014</td>\n",
       "      <td>1555</td>\n",
       "    </tr>\n",
       "    <tr>\n",
       "      <th>6</th>\n",
       "      <td>2013</td>\n",
       "      <td>418</td>\n",
       "    </tr>\n",
       "    <tr>\n",
       "      <th>7</th>\n",
       "      <td>2012</td>\n",
       "      <td>320</td>\n",
       "    </tr>\n",
       "    <tr>\n",
       "      <th>8</th>\n",
       "      <td>2011</td>\n",
       "      <td>239</td>\n",
       "    </tr>\n",
       "    <tr>\n",
       "      <th>9</th>\n",
       "      <td>2010</td>\n",
       "      <td>238</td>\n",
       "    </tr>\n",
       "    <tr>\n",
       "      <th>10</th>\n",
       "      <td>2009</td>\n",
       "      <td>305</td>\n",
       "    </tr>\n",
       "    <tr>\n",
       "      <th>11</th>\n",
       "      <td>2008</td>\n",
       "      <td>145</td>\n",
       "    </tr>\n",
       "    <tr>\n",
       "      <th>12</th>\n",
       "      <td>2007</td>\n",
       "      <td>93</td>\n",
       "    </tr>\n",
       "    <tr>\n",
       "      <th>13</th>\n",
       "      <td>2006</td>\n",
       "      <td>48</td>\n",
       "    </tr>\n",
       "    <tr>\n",
       "      <th>14</th>\n",
       "      <td>2005</td>\n",
       "      <td>6</td>\n",
       "    </tr>\n",
       "    <tr>\n",
       "      <th>15</th>\n",
       "      <td>2004</td>\n",
       "      <td>6</td>\n",
       "    </tr>\n",
       "    <tr>\n",
       "      <th>16</th>\n",
       "      <td>2003</td>\n",
       "      <td>3</td>\n",
       "    </tr>\n",
       "    <tr>\n",
       "      <th>17</th>\n",
       "      <td>2002</td>\n",
       "      <td>1</td>\n",
       "    </tr>\n",
       "    <tr>\n",
       "      <th>18</th>\n",
       "      <td>2001</td>\n",
       "      <td>4</td>\n",
       "    </tr>\n",
       "    <tr>\n",
       "      <th>19</th>\n",
       "      <td>2000</td>\n",
       "      <td>2</td>\n",
       "    </tr>\n",
       "    <tr>\n",
       "      <th>20</th>\n",
       "      <td>1999</td>\n",
       "      <td>2</td>\n",
       "    </tr>\n",
       "    <tr>\n",
       "      <th>21</th>\n",
       "      <td>1998</td>\n",
       "      <td>1</td>\n",
       "    </tr>\n",
       "    <tr>\n",
       "      <th>22</th>\n",
       "      <td>1997</td>\n",
       "      <td>1</td>\n",
       "    </tr>\n",
       "  </tbody>\n",
       "</table>\n",
       "</div>"
      ],
      "text/plain": [
       "    year  count\n",
       "0   2019   2213\n",
       "1   2018   8160\n",
       "2   2017   6357\n",
       "3   2016   4361\n",
       "4   2015   2597\n",
       "5   2014   1555\n",
       "6   2013    418\n",
       "7   2012    320\n",
       "8   2011    239\n",
       "9   2010    238\n",
       "10  2009    305\n",
       "11  2008    145\n",
       "12  2007     93\n",
       "13  2006     48\n",
       "14  2005      6\n",
       "15  2004      6\n",
       "16  2003      3\n",
       "17  2002      1\n",
       "18  2001      4\n",
       "19  2000      2\n",
       "20  1999      2\n",
       "21  1998      1\n",
       "22  1997      1"
      ]
     },
     "execution_count": 14,
     "metadata": {},
     "output_type": "execute_result"
    }
   ],
   "source": [
    "pivot_table_ = copy.groupby(\n",
    "    by = 'year', as_index = False)[['year']].agg(\"value_counts\").sort_values(by = 'year', ascending = False)\n",
    "\n",
    "pivot_table_.reset_index(drop = True , inplace = True )\n",
    "pivot_table_"
   ]
  },
  {
   "cell_type": "code",
   "execution_count": 15,
   "metadata": {},
   "outputs": [
    {
     "data": {
      "application/vnd.plotly.v1+json": {
       "config": {
        "plotlyServerURL": "https://plot.ly"
       },
       "data": [
        {
         "nbinsx": 100,
         "type": "histogram",
         "x": [
          2213,
          8160,
          6357,
          4361,
          2597,
          1555,
          418,
          320,
          239,
          238,
          305,
          145,
          93,
          48,
          6,
          6,
          3,
          1,
          4,
          2,
          2,
          1,
          1
         ]
        }
       ],
       "layout": {
        "legend": {
         "orientation": "h",
         "x": 0.5,
         "xanchor": "center"
        },
        "margin": {
         "b": 0,
         "l": 0,
         "r": 0,
         "t": 30
        },
        "template": {
         "data": {
          "bar": [
           {
            "error_x": {
             "color": "#2a3f5f"
            },
            "error_y": {
             "color": "#2a3f5f"
            },
            "marker": {
             "line": {
              "color": "#E5ECF6",
              "width": 0.5
             },
             "pattern": {
              "fillmode": "overlay",
              "size": 10,
              "solidity": 0.2
             }
            },
            "type": "bar"
           }
          ],
          "barpolar": [
           {
            "marker": {
             "line": {
              "color": "#E5ECF6",
              "width": 0.5
             },
             "pattern": {
              "fillmode": "overlay",
              "size": 10,
              "solidity": 0.2
             }
            },
            "type": "barpolar"
           }
          ],
          "carpet": [
           {
            "aaxis": {
             "endlinecolor": "#2a3f5f",
             "gridcolor": "white",
             "linecolor": "white",
             "minorgridcolor": "white",
             "startlinecolor": "#2a3f5f"
            },
            "baxis": {
             "endlinecolor": "#2a3f5f",
             "gridcolor": "white",
             "linecolor": "white",
             "minorgridcolor": "white",
             "startlinecolor": "#2a3f5f"
            },
            "type": "carpet"
           }
          ],
          "choropleth": [
           {
            "colorbar": {
             "outlinewidth": 0,
             "ticks": ""
            },
            "type": "choropleth"
           }
          ],
          "contour": [
           {
            "colorbar": {
             "outlinewidth": 0,
             "ticks": ""
            },
            "colorscale": [
             [
              0,
              "#0d0887"
             ],
             [
              0.1111111111111111,
              "#46039f"
             ],
             [
              0.2222222222222222,
              "#7201a8"
             ],
             [
              0.3333333333333333,
              "#9c179e"
             ],
             [
              0.4444444444444444,
              "#bd3786"
             ],
             [
              0.5555555555555556,
              "#d8576b"
             ],
             [
              0.6666666666666666,
              "#ed7953"
             ],
             [
              0.7777777777777778,
              "#fb9f3a"
             ],
             [
              0.8888888888888888,
              "#fdca26"
             ],
             [
              1,
              "#f0f921"
             ]
            ],
            "type": "contour"
           }
          ],
          "contourcarpet": [
           {
            "colorbar": {
             "outlinewidth": 0,
             "ticks": ""
            },
            "type": "contourcarpet"
           }
          ],
          "heatmap": [
           {
            "colorbar": {
             "outlinewidth": 0,
             "ticks": ""
            },
            "colorscale": [
             [
              0,
              "#0d0887"
             ],
             [
              0.1111111111111111,
              "#46039f"
             ],
             [
              0.2222222222222222,
              "#7201a8"
             ],
             [
              0.3333333333333333,
              "#9c179e"
             ],
             [
              0.4444444444444444,
              "#bd3786"
             ],
             [
              0.5555555555555556,
              "#d8576b"
             ],
             [
              0.6666666666666666,
              "#ed7953"
             ],
             [
              0.7777777777777778,
              "#fb9f3a"
             ],
             [
              0.8888888888888888,
              "#fdca26"
             ],
             [
              1,
              "#f0f921"
             ]
            ],
            "type": "heatmap"
           }
          ],
          "heatmapgl": [
           {
            "colorbar": {
             "outlinewidth": 0,
             "ticks": ""
            },
            "colorscale": [
             [
              0,
              "#0d0887"
             ],
             [
              0.1111111111111111,
              "#46039f"
             ],
             [
              0.2222222222222222,
              "#7201a8"
             ],
             [
              0.3333333333333333,
              "#9c179e"
             ],
             [
              0.4444444444444444,
              "#bd3786"
             ],
             [
              0.5555555555555556,
              "#d8576b"
             ],
             [
              0.6666666666666666,
              "#ed7953"
             ],
             [
              0.7777777777777778,
              "#fb9f3a"
             ],
             [
              0.8888888888888888,
              "#fdca26"
             ],
             [
              1,
              "#f0f921"
             ]
            ],
            "type": "heatmapgl"
           }
          ],
          "histogram": [
           {
            "marker": {
             "pattern": {
              "fillmode": "overlay",
              "size": 10,
              "solidity": 0.2
             }
            },
            "type": "histogram"
           }
          ],
          "histogram2d": [
           {
            "colorbar": {
             "outlinewidth": 0,
             "ticks": ""
            },
            "colorscale": [
             [
              0,
              "#0d0887"
             ],
             [
              0.1111111111111111,
              "#46039f"
             ],
             [
              0.2222222222222222,
              "#7201a8"
             ],
             [
              0.3333333333333333,
              "#9c179e"
             ],
             [
              0.4444444444444444,
              "#bd3786"
             ],
             [
              0.5555555555555556,
              "#d8576b"
             ],
             [
              0.6666666666666666,
              "#ed7953"
             ],
             [
              0.7777777777777778,
              "#fb9f3a"
             ],
             [
              0.8888888888888888,
              "#fdca26"
             ],
             [
              1,
              "#f0f921"
             ]
            ],
            "type": "histogram2d"
           }
          ],
          "histogram2dcontour": [
           {
            "colorbar": {
             "outlinewidth": 0,
             "ticks": ""
            },
            "colorscale": [
             [
              0,
              "#0d0887"
             ],
             [
              0.1111111111111111,
              "#46039f"
             ],
             [
              0.2222222222222222,
              "#7201a8"
             ],
             [
              0.3333333333333333,
              "#9c179e"
             ],
             [
              0.4444444444444444,
              "#bd3786"
             ],
             [
              0.5555555555555556,
              "#d8576b"
             ],
             [
              0.6666666666666666,
              "#ed7953"
             ],
             [
              0.7777777777777778,
              "#fb9f3a"
             ],
             [
              0.8888888888888888,
              "#fdca26"
             ],
             [
              1,
              "#f0f921"
             ]
            ],
            "type": "histogram2dcontour"
           }
          ],
          "mesh3d": [
           {
            "colorbar": {
             "outlinewidth": 0,
             "ticks": ""
            },
            "type": "mesh3d"
           }
          ],
          "parcoords": [
           {
            "line": {
             "colorbar": {
              "outlinewidth": 0,
              "ticks": ""
             }
            },
            "type": "parcoords"
           }
          ],
          "pie": [
           {
            "automargin": true,
            "type": "pie"
           }
          ],
          "scatter": [
           {
            "fillpattern": {
             "fillmode": "overlay",
             "size": 10,
             "solidity": 0.2
            },
            "type": "scatter"
           }
          ],
          "scatter3d": [
           {
            "line": {
             "colorbar": {
              "outlinewidth": 0,
              "ticks": ""
             }
            },
            "marker": {
             "colorbar": {
              "outlinewidth": 0,
              "ticks": ""
             }
            },
            "type": "scatter3d"
           }
          ],
          "scattercarpet": [
           {
            "marker": {
             "colorbar": {
              "outlinewidth": 0,
              "ticks": ""
             }
            },
            "type": "scattercarpet"
           }
          ],
          "scattergeo": [
           {
            "marker": {
             "colorbar": {
              "outlinewidth": 0,
              "ticks": ""
             }
            },
            "type": "scattergeo"
           }
          ],
          "scattergl": [
           {
            "marker": {
             "colorbar": {
              "outlinewidth": 0,
              "ticks": ""
             }
            },
            "type": "scattergl"
           }
          ],
          "scattermapbox": [
           {
            "marker": {
             "colorbar": {
              "outlinewidth": 0,
              "ticks": ""
             }
            },
            "type": "scattermapbox"
           }
          ],
          "scatterpolar": [
           {
            "marker": {
             "colorbar": {
              "outlinewidth": 0,
              "ticks": ""
             }
            },
            "type": "scatterpolar"
           }
          ],
          "scatterpolargl": [
           {
            "marker": {
             "colorbar": {
              "outlinewidth": 0,
              "ticks": ""
             }
            },
            "type": "scatterpolargl"
           }
          ],
          "scatterternary": [
           {
            "marker": {
             "colorbar": {
              "outlinewidth": 0,
              "ticks": ""
             }
            },
            "type": "scatterternary"
           }
          ],
          "surface": [
           {
            "colorbar": {
             "outlinewidth": 0,
             "ticks": ""
            },
            "colorscale": [
             [
              0,
              "#0d0887"
             ],
             [
              0.1111111111111111,
              "#46039f"
             ],
             [
              0.2222222222222222,
              "#7201a8"
             ],
             [
              0.3333333333333333,
              "#9c179e"
             ],
             [
              0.4444444444444444,
              "#bd3786"
             ],
             [
              0.5555555555555556,
              "#d8576b"
             ],
             [
              0.6666666666666666,
              "#ed7953"
             ],
             [
              0.7777777777777778,
              "#fb9f3a"
             ],
             [
              0.8888888888888888,
              "#fdca26"
             ],
             [
              1,
              "#f0f921"
             ]
            ],
            "type": "surface"
           }
          ],
          "table": [
           {
            "cells": {
             "fill": {
              "color": "#EBF0F8"
             },
             "line": {
              "color": "white"
             }
            },
            "header": {
             "fill": {
              "color": "#C8D4E3"
             },
             "line": {
              "color": "white"
             }
            },
            "type": "table"
           }
          ]
         },
         "layout": {
          "annotationdefaults": {
           "arrowcolor": "#2a3f5f",
           "arrowhead": 0,
           "arrowwidth": 1
          },
          "autotypenumbers": "strict",
          "coloraxis": {
           "colorbar": {
            "outlinewidth": 0,
            "ticks": ""
           }
          },
          "colorscale": {
           "diverging": [
            [
             0,
             "#8e0152"
            ],
            [
             0.1,
             "#c51b7d"
            ],
            [
             0.2,
             "#de77ae"
            ],
            [
             0.3,
             "#f1b6da"
            ],
            [
             0.4,
             "#fde0ef"
            ],
            [
             0.5,
             "#f7f7f7"
            ],
            [
             0.6,
             "#e6f5d0"
            ],
            [
             0.7,
             "#b8e186"
            ],
            [
             0.8,
             "#7fbc41"
            ],
            [
             0.9,
             "#4d9221"
            ],
            [
             1,
             "#276419"
            ]
           ],
           "sequential": [
            [
             0,
             "#0d0887"
            ],
            [
             0.1111111111111111,
             "#46039f"
            ],
            [
             0.2222222222222222,
             "#7201a8"
            ],
            [
             0.3333333333333333,
             "#9c179e"
            ],
            [
             0.4444444444444444,
             "#bd3786"
            ],
            [
             0.5555555555555556,
             "#d8576b"
            ],
            [
             0.6666666666666666,
             "#ed7953"
            ],
            [
             0.7777777777777778,
             "#fb9f3a"
            ],
            [
             0.8888888888888888,
             "#fdca26"
            ],
            [
             1,
             "#f0f921"
            ]
           ],
           "sequentialminus": [
            [
             0,
             "#0d0887"
            ],
            [
             0.1111111111111111,
             "#46039f"
            ],
            [
             0.2222222222222222,
             "#7201a8"
            ],
            [
             0.3333333333333333,
             "#9c179e"
            ],
            [
             0.4444444444444444,
             "#bd3786"
            ],
            [
             0.5555555555555556,
             "#d8576b"
            ],
            [
             0.6666666666666666,
             "#ed7953"
            ],
            [
             0.7777777777777778,
             "#fb9f3a"
            ],
            [
             0.8888888888888888,
             "#fdca26"
            ],
            [
             1,
             "#f0f921"
            ]
           ]
          },
          "colorway": [
           "#636efa",
           "#EF553B",
           "#00cc96",
           "#ab63fa",
           "#FFA15A",
           "#19d3f3",
           "#FF6692",
           "#B6E880",
           "#FF97FF",
           "#FECB52"
          ],
          "font": {
           "color": "#2a3f5f"
          },
          "geo": {
           "bgcolor": "white",
           "lakecolor": "white",
           "landcolor": "#E5ECF6",
           "showlakes": true,
           "showland": true,
           "subunitcolor": "white"
          },
          "hoverlabel": {
           "align": "left"
          },
          "hovermode": "closest",
          "mapbox": {
           "style": "light"
          },
          "paper_bgcolor": "white",
          "plot_bgcolor": "#E5ECF6",
          "polar": {
           "angularaxis": {
            "gridcolor": "white",
            "linecolor": "white",
            "ticks": ""
           },
           "bgcolor": "#E5ECF6",
           "radialaxis": {
            "gridcolor": "white",
            "linecolor": "white",
            "ticks": ""
           }
          },
          "scene": {
           "xaxis": {
            "backgroundcolor": "#E5ECF6",
            "gridcolor": "white",
            "gridwidth": 2,
            "linecolor": "white",
            "showbackground": true,
            "ticks": "",
            "zerolinecolor": "white"
           },
           "yaxis": {
            "backgroundcolor": "#E5ECF6",
            "gridcolor": "white",
            "gridwidth": 2,
            "linecolor": "white",
            "showbackground": true,
            "ticks": "",
            "zerolinecolor": "white"
           },
           "zaxis": {
            "backgroundcolor": "#E5ECF6",
            "gridcolor": "white",
            "gridwidth": 2,
            "linecolor": "white",
            "showbackground": true,
            "ticks": "",
            "zerolinecolor": "white"
           }
          },
          "shapedefaults": {
           "line": {
            "color": "#2a3f5f"
           }
          },
          "ternary": {
           "aaxis": {
            "gridcolor": "white",
            "linecolor": "white",
            "ticks": ""
           },
           "baxis": {
            "gridcolor": "white",
            "linecolor": "white",
            "ticks": ""
           },
           "bgcolor": "#E5ECF6",
           "caxis": {
            "gridcolor": "white",
            "linecolor": "white",
            "ticks": ""
           }
          },
          "title": {
           "x": 0.05
          },
          "xaxis": {
           "automargin": true,
           "gridcolor": "white",
           "linecolor": "white",
           "ticks": "",
           "title": {
            "standoff": 15
           },
           "zerolinecolor": "white",
           "zerolinewidth": 2
          },
          "yaxis": {
           "automargin": true,
           "gridcolor": "white",
           "linecolor": "white",
           "ticks": "",
           "title": {
            "standoff": 15
           },
           "zerolinecolor": "white",
           "zerolinewidth": 2
          }
         }
        },
        "title": {
         "text": "Гистограмма количества игр за год",
         "x": 0.5
        },
        "xaxis": {
         "title": {
          "text": "Количество игр за год"
         }
        },
        "yaxis": {
         "title": {
          "text": "Плотность вероятности"
         }
        }
       }
      }
     },
     "metadata": {},
     "output_type": "display_data"
    }
   ],
   "source": [
    "fig = go.Figure(data = [go.Histogram(x = pivot_table_['count'], nbinsx = 100)])\n",
    "\n",
    "fig.update_layout(\n",
    "    title = \"Гистограмма количества игр за год\",\n",
    "    title_x = 0.5,\n",
    "    xaxis_title = \"Количество игр за год\",\n",
    "    yaxis_title = \"Плотность вероятности\",\n",
    "    legend = dict(x =.5, xanchor = \"center\", orientation = \"h\"),\n",
    "    margin = dict(l = 0, r = 0, t = 30, b  =0)\n",
    ")\n",
    "\n",
    "fig.show()"
   ]
  },
  {
   "cell_type": "markdown",
   "metadata": {},
   "source": [
    "Я не понимаю в чем ценность гистограммы в данном случае"
   ]
  },
  {
   "cell_type": "markdown",
   "metadata": {},
   "source": [
    "Проведу анализ на столбчатой диаграмме"
   ]
  },
  {
   "cell_type": "code",
   "execution_count": 16,
   "metadata": {},
   "outputs": [
    {
     "data": {
      "application/vnd.plotly.v1+json": {
       "config": {
        "plotlyServerURL": "https://plot.ly"
       },
       "data": [
        {
         "cliponaxis": false,
         "text": [
          "2213",
          "8160",
          "6357",
          "4361",
          "2597",
          "1555",
          "418",
          "320",
          "239",
          "238",
          "305",
          "145",
          "93",
          "48",
          "6",
          "6",
          "3",
          "1",
          "4",
          "2",
          "2",
          "1",
          "1"
         ],
         "textangle": 0,
         "textfont": {
          "size": 12
         },
         "textposition": "outside",
         "type": "bar",
         "x": [
          2019,
          2018,
          2017,
          2016,
          2015,
          2014,
          2013,
          2012,
          2011,
          2010,
          2009,
          2008,
          2007,
          2006,
          2005,
          2004,
          2003,
          2002,
          2001,
          2000,
          1999,
          1998,
          1997
         ],
         "y": [
          2213,
          8160,
          6357,
          4361,
          2597,
          1555,
          418,
          320,
          239,
          238,
          305,
          145,
          93,
          48,
          6,
          6,
          3,
          1,
          4,
          2,
          2,
          1,
          1
         ]
        }
       ],
       "layout": {
        "template": {
         "data": {
          "bar": [
           {
            "error_x": {
             "color": "#2a3f5f"
            },
            "error_y": {
             "color": "#2a3f5f"
            },
            "marker": {
             "line": {
              "color": "#E5ECF6",
              "width": 0.5
             },
             "pattern": {
              "fillmode": "overlay",
              "size": 10,
              "solidity": 0.2
             }
            },
            "type": "bar"
           }
          ],
          "barpolar": [
           {
            "marker": {
             "line": {
              "color": "#E5ECF6",
              "width": 0.5
             },
             "pattern": {
              "fillmode": "overlay",
              "size": 10,
              "solidity": 0.2
             }
            },
            "type": "barpolar"
           }
          ],
          "carpet": [
           {
            "aaxis": {
             "endlinecolor": "#2a3f5f",
             "gridcolor": "white",
             "linecolor": "white",
             "minorgridcolor": "white",
             "startlinecolor": "#2a3f5f"
            },
            "baxis": {
             "endlinecolor": "#2a3f5f",
             "gridcolor": "white",
             "linecolor": "white",
             "minorgridcolor": "white",
             "startlinecolor": "#2a3f5f"
            },
            "type": "carpet"
           }
          ],
          "choropleth": [
           {
            "colorbar": {
             "outlinewidth": 0,
             "ticks": ""
            },
            "type": "choropleth"
           }
          ],
          "contour": [
           {
            "colorbar": {
             "outlinewidth": 0,
             "ticks": ""
            },
            "colorscale": [
             [
              0,
              "#0d0887"
             ],
             [
              0.1111111111111111,
              "#46039f"
             ],
             [
              0.2222222222222222,
              "#7201a8"
             ],
             [
              0.3333333333333333,
              "#9c179e"
             ],
             [
              0.4444444444444444,
              "#bd3786"
             ],
             [
              0.5555555555555556,
              "#d8576b"
             ],
             [
              0.6666666666666666,
              "#ed7953"
             ],
             [
              0.7777777777777778,
              "#fb9f3a"
             ],
             [
              0.8888888888888888,
              "#fdca26"
             ],
             [
              1,
              "#f0f921"
             ]
            ],
            "type": "contour"
           }
          ],
          "contourcarpet": [
           {
            "colorbar": {
             "outlinewidth": 0,
             "ticks": ""
            },
            "type": "contourcarpet"
           }
          ],
          "heatmap": [
           {
            "colorbar": {
             "outlinewidth": 0,
             "ticks": ""
            },
            "colorscale": [
             [
              0,
              "#0d0887"
             ],
             [
              0.1111111111111111,
              "#46039f"
             ],
             [
              0.2222222222222222,
              "#7201a8"
             ],
             [
              0.3333333333333333,
              "#9c179e"
             ],
             [
              0.4444444444444444,
              "#bd3786"
             ],
             [
              0.5555555555555556,
              "#d8576b"
             ],
             [
              0.6666666666666666,
              "#ed7953"
             ],
             [
              0.7777777777777778,
              "#fb9f3a"
             ],
             [
              0.8888888888888888,
              "#fdca26"
             ],
             [
              1,
              "#f0f921"
             ]
            ],
            "type": "heatmap"
           }
          ],
          "heatmapgl": [
           {
            "colorbar": {
             "outlinewidth": 0,
             "ticks": ""
            },
            "colorscale": [
             [
              0,
              "#0d0887"
             ],
             [
              0.1111111111111111,
              "#46039f"
             ],
             [
              0.2222222222222222,
              "#7201a8"
             ],
             [
              0.3333333333333333,
              "#9c179e"
             ],
             [
              0.4444444444444444,
              "#bd3786"
             ],
             [
              0.5555555555555556,
              "#d8576b"
             ],
             [
              0.6666666666666666,
              "#ed7953"
             ],
             [
              0.7777777777777778,
              "#fb9f3a"
             ],
             [
              0.8888888888888888,
              "#fdca26"
             ],
             [
              1,
              "#f0f921"
             ]
            ],
            "type": "heatmapgl"
           }
          ],
          "histogram": [
           {
            "marker": {
             "pattern": {
              "fillmode": "overlay",
              "size": 10,
              "solidity": 0.2
             }
            },
            "type": "histogram"
           }
          ],
          "histogram2d": [
           {
            "colorbar": {
             "outlinewidth": 0,
             "ticks": ""
            },
            "colorscale": [
             [
              0,
              "#0d0887"
             ],
             [
              0.1111111111111111,
              "#46039f"
             ],
             [
              0.2222222222222222,
              "#7201a8"
             ],
             [
              0.3333333333333333,
              "#9c179e"
             ],
             [
              0.4444444444444444,
              "#bd3786"
             ],
             [
              0.5555555555555556,
              "#d8576b"
             ],
             [
              0.6666666666666666,
              "#ed7953"
             ],
             [
              0.7777777777777778,
              "#fb9f3a"
             ],
             [
              0.8888888888888888,
              "#fdca26"
             ],
             [
              1,
              "#f0f921"
             ]
            ],
            "type": "histogram2d"
           }
          ],
          "histogram2dcontour": [
           {
            "colorbar": {
             "outlinewidth": 0,
             "ticks": ""
            },
            "colorscale": [
             [
              0,
              "#0d0887"
             ],
             [
              0.1111111111111111,
              "#46039f"
             ],
             [
              0.2222222222222222,
              "#7201a8"
             ],
             [
              0.3333333333333333,
              "#9c179e"
             ],
             [
              0.4444444444444444,
              "#bd3786"
             ],
             [
              0.5555555555555556,
              "#d8576b"
             ],
             [
              0.6666666666666666,
              "#ed7953"
             ],
             [
              0.7777777777777778,
              "#fb9f3a"
             ],
             [
              0.8888888888888888,
              "#fdca26"
             ],
             [
              1,
              "#f0f921"
             ]
            ],
            "type": "histogram2dcontour"
           }
          ],
          "mesh3d": [
           {
            "colorbar": {
             "outlinewidth": 0,
             "ticks": ""
            },
            "type": "mesh3d"
           }
          ],
          "parcoords": [
           {
            "line": {
             "colorbar": {
              "outlinewidth": 0,
              "ticks": ""
             }
            },
            "type": "parcoords"
           }
          ],
          "pie": [
           {
            "automargin": true,
            "type": "pie"
           }
          ],
          "scatter": [
           {
            "fillpattern": {
             "fillmode": "overlay",
             "size": 10,
             "solidity": 0.2
            },
            "type": "scatter"
           }
          ],
          "scatter3d": [
           {
            "line": {
             "colorbar": {
              "outlinewidth": 0,
              "ticks": ""
             }
            },
            "marker": {
             "colorbar": {
              "outlinewidth": 0,
              "ticks": ""
             }
            },
            "type": "scatter3d"
           }
          ],
          "scattercarpet": [
           {
            "marker": {
             "colorbar": {
              "outlinewidth": 0,
              "ticks": ""
             }
            },
            "type": "scattercarpet"
           }
          ],
          "scattergeo": [
           {
            "marker": {
             "colorbar": {
              "outlinewidth": 0,
              "ticks": ""
             }
            },
            "type": "scattergeo"
           }
          ],
          "scattergl": [
           {
            "marker": {
             "colorbar": {
              "outlinewidth": 0,
              "ticks": ""
             }
            },
            "type": "scattergl"
           }
          ],
          "scattermapbox": [
           {
            "marker": {
             "colorbar": {
              "outlinewidth": 0,
              "ticks": ""
             }
            },
            "type": "scattermapbox"
           }
          ],
          "scatterpolar": [
           {
            "marker": {
             "colorbar": {
              "outlinewidth": 0,
              "ticks": ""
             }
            },
            "type": "scatterpolar"
           }
          ],
          "scatterpolargl": [
           {
            "marker": {
             "colorbar": {
              "outlinewidth": 0,
              "ticks": ""
             }
            },
            "type": "scatterpolargl"
           }
          ],
          "scatterternary": [
           {
            "marker": {
             "colorbar": {
              "outlinewidth": 0,
              "ticks": ""
             }
            },
            "type": "scatterternary"
           }
          ],
          "surface": [
           {
            "colorbar": {
             "outlinewidth": 0,
             "ticks": ""
            },
            "colorscale": [
             [
              0,
              "#0d0887"
             ],
             [
              0.1111111111111111,
              "#46039f"
             ],
             [
              0.2222222222222222,
              "#7201a8"
             ],
             [
              0.3333333333333333,
              "#9c179e"
             ],
             [
              0.4444444444444444,
              "#bd3786"
             ],
             [
              0.5555555555555556,
              "#d8576b"
             ],
             [
              0.6666666666666666,
              "#ed7953"
             ],
             [
              0.7777777777777778,
              "#fb9f3a"
             ],
             [
              0.8888888888888888,
              "#fdca26"
             ],
             [
              1,
              "#f0f921"
             ]
            ],
            "type": "surface"
           }
          ],
          "table": [
           {
            "cells": {
             "fill": {
              "color": "#EBF0F8"
             },
             "line": {
              "color": "white"
             }
            },
            "header": {
             "fill": {
              "color": "#C8D4E3"
             },
             "line": {
              "color": "white"
             }
            },
            "type": "table"
           }
          ]
         },
         "layout": {
          "annotationdefaults": {
           "arrowcolor": "#2a3f5f",
           "arrowhead": 0,
           "arrowwidth": 1
          },
          "autotypenumbers": "strict",
          "coloraxis": {
           "colorbar": {
            "outlinewidth": 0,
            "ticks": ""
           }
          },
          "colorscale": {
           "diverging": [
            [
             0,
             "#8e0152"
            ],
            [
             0.1,
             "#c51b7d"
            ],
            [
             0.2,
             "#de77ae"
            ],
            [
             0.3,
             "#f1b6da"
            ],
            [
             0.4,
             "#fde0ef"
            ],
            [
             0.5,
             "#f7f7f7"
            ],
            [
             0.6,
             "#e6f5d0"
            ],
            [
             0.7,
             "#b8e186"
            ],
            [
             0.8,
             "#7fbc41"
            ],
            [
             0.9,
             "#4d9221"
            ],
            [
             1,
             "#276419"
            ]
           ],
           "sequential": [
            [
             0,
             "#0d0887"
            ],
            [
             0.1111111111111111,
             "#46039f"
            ],
            [
             0.2222222222222222,
             "#7201a8"
            ],
            [
             0.3333333333333333,
             "#9c179e"
            ],
            [
             0.4444444444444444,
             "#bd3786"
            ],
            [
             0.5555555555555556,
             "#d8576b"
            ],
            [
             0.6666666666666666,
             "#ed7953"
            ],
            [
             0.7777777777777778,
             "#fb9f3a"
            ],
            [
             0.8888888888888888,
             "#fdca26"
            ],
            [
             1,
             "#f0f921"
            ]
           ],
           "sequentialminus": [
            [
             0,
             "#0d0887"
            ],
            [
             0.1111111111111111,
             "#46039f"
            ],
            [
             0.2222222222222222,
             "#7201a8"
            ],
            [
             0.3333333333333333,
             "#9c179e"
            ],
            [
             0.4444444444444444,
             "#bd3786"
            ],
            [
             0.5555555555555556,
             "#d8576b"
            ],
            [
             0.6666666666666666,
             "#ed7953"
            ],
            [
             0.7777777777777778,
             "#fb9f3a"
            ],
            [
             0.8888888888888888,
             "#fdca26"
            ],
            [
             1,
             "#f0f921"
            ]
           ]
          },
          "colorway": [
           "#636efa",
           "#EF553B",
           "#00cc96",
           "#ab63fa",
           "#FFA15A",
           "#19d3f3",
           "#FF6692",
           "#B6E880",
           "#FF97FF",
           "#FECB52"
          ],
          "font": {
           "color": "#2a3f5f"
          },
          "geo": {
           "bgcolor": "white",
           "lakecolor": "white",
           "landcolor": "#E5ECF6",
           "showlakes": true,
           "showland": true,
           "subunitcolor": "white"
          },
          "hoverlabel": {
           "align": "left"
          },
          "hovermode": "closest",
          "mapbox": {
           "style": "light"
          },
          "paper_bgcolor": "white",
          "plot_bgcolor": "#E5ECF6",
          "polar": {
           "angularaxis": {
            "gridcolor": "white",
            "linecolor": "white",
            "ticks": ""
           },
           "bgcolor": "#E5ECF6",
           "radialaxis": {
            "gridcolor": "white",
            "linecolor": "white",
            "ticks": ""
           }
          },
          "scene": {
           "xaxis": {
            "backgroundcolor": "#E5ECF6",
            "gridcolor": "white",
            "gridwidth": 2,
            "linecolor": "white",
            "showbackground": true,
            "ticks": "",
            "zerolinecolor": "white"
           },
           "yaxis": {
            "backgroundcolor": "#E5ECF6",
            "gridcolor": "white",
            "gridwidth": 2,
            "linecolor": "white",
            "showbackground": true,
            "ticks": "",
            "zerolinecolor": "white"
           },
           "zaxis": {
            "backgroundcolor": "#E5ECF6",
            "gridcolor": "white",
            "gridwidth": 2,
            "linecolor": "white",
            "showbackground": true,
            "ticks": "",
            "zerolinecolor": "white"
           }
          },
          "shapedefaults": {
           "line": {
            "color": "#2a3f5f"
           }
          },
          "ternary": {
           "aaxis": {
            "gridcolor": "white",
            "linecolor": "white",
            "ticks": ""
           },
           "baxis": {
            "gridcolor": "white",
            "linecolor": "white",
            "ticks": ""
           },
           "bgcolor": "#E5ECF6",
           "caxis": {
            "gridcolor": "white",
            "linecolor": "white",
            "ticks": ""
           }
          },
          "title": {
           "x": 0.05
          },
          "xaxis": {
           "automargin": true,
           "gridcolor": "white",
           "linecolor": "white",
           "ticks": "",
           "title": {
            "standoff": 15
           },
           "zerolinecolor": "white",
           "zerolinewidth": 2
          },
          "yaxis": {
           "automargin": true,
           "gridcolor": "white",
           "linecolor": "white",
           "ticks": "",
           "title": {
            "standoff": 15
           },
           "zerolinecolor": "white",
           "zerolinewidth": 2
          }
         }
        },
        "title": {
         "font": {
          "size": 20
         },
         "text": "Количество выпущенных игр по годам"
        },
        "xaxis": {
         "title": {
          "text": "Год"
         }
        },
        "yaxis": {
         "title": {
          "text": "Количество игр"
         }
        }
       }
      }
     },
     "metadata": {},
     "output_type": "display_data"
    }
   ],
   "source": [
    "value = list(pivot_table_['count'])\n",
    "labels = list(pivot_table_['year'])\n",
    "data = [go.Bar(\n",
    "   x = labels,\n",
    "   y = value,\n",
    "   text = value \n",
    "    \n",
    ")]\n",
    "fig = go.Figure(data = data)\n",
    "fig.update_layout(\n",
    "    title_text = \"Количество выпущенных игр по годам\",\n",
    "    title_font_size = 20,\n",
    "    xaxis_title = \"Год\",\n",
    "    yaxis_title = \"Количество игр\"\n",
    ")\n",
    "fig.update_traces(textfont_size = 12, textangle = 0, textposition = \"outside\", cliponaxis = False)\n",
    "fig.show()"
   ]
  },
  {
   "cell_type": "markdown",
   "metadata": {},
   "source": [
    "Из диаграммы я сделаю вывод, что первый всплеск количества выпускаемых игр был связан с ростом доступности Интернета, второй всплеск связан с развитием технологий мобильных устройств (за 2019 год данные по май)"
   ]
  },
  {
   "cell_type": "markdown",
   "metadata": {},
   "source": [
    "Найдем и построим диаграммы для топ 10 разработчиков видеоигр и отдельно для топ 10 издателей видеоигр, начиная с 2017 года (включительно)"
   ]
  },
  {
   "cell_type": "code",
   "execution_count": 17,
   "metadata": {},
   "outputs": [
    {
     "data": {
      "application/vnd.plotly.v1+json": {
       "config": {
        "plotlyServerURL": "https://plot.ly"
       },
       "data": [
        {
         "cliponaxis": false,
         "text": [
          "61",
          "57",
          "52",
          "51",
          "50",
          "45",
          "43",
          "40",
          "36",
          "32"
         ],
         "textangle": 0,
         "textfont": {
          "size": 12
         },
         "textposition": "outside",
         "type": "bar",
         "x": [
          "Ripknot Systems",
          "Choice of Games",
          "KOEI TECMO GAMES CO., LTD.",
          "Laush Dmitriy Sergeevich",
          "Nikita \"Ghost_RUS\"",
          "Dexion Games",
          "RewindApp",
          "Blender Games",
          "For Kids",
          "Nekyau Games"
         ],
         "y": [
          61,
          57,
          52,
          51,
          50,
          45,
          43,
          40,
          36,
          32
         ]
        }
       ],
       "layout": {
        "template": {
         "data": {
          "bar": [
           {
            "error_x": {
             "color": "#2a3f5f"
            },
            "error_y": {
             "color": "#2a3f5f"
            },
            "marker": {
             "line": {
              "color": "#E5ECF6",
              "width": 0.5
             },
             "pattern": {
              "fillmode": "overlay",
              "size": 10,
              "solidity": 0.2
             }
            },
            "type": "bar"
           }
          ],
          "barpolar": [
           {
            "marker": {
             "line": {
              "color": "#E5ECF6",
              "width": 0.5
             },
             "pattern": {
              "fillmode": "overlay",
              "size": 10,
              "solidity": 0.2
             }
            },
            "type": "barpolar"
           }
          ],
          "carpet": [
           {
            "aaxis": {
             "endlinecolor": "#2a3f5f",
             "gridcolor": "white",
             "linecolor": "white",
             "minorgridcolor": "white",
             "startlinecolor": "#2a3f5f"
            },
            "baxis": {
             "endlinecolor": "#2a3f5f",
             "gridcolor": "white",
             "linecolor": "white",
             "minorgridcolor": "white",
             "startlinecolor": "#2a3f5f"
            },
            "type": "carpet"
           }
          ],
          "choropleth": [
           {
            "colorbar": {
             "outlinewidth": 0,
             "ticks": ""
            },
            "type": "choropleth"
           }
          ],
          "contour": [
           {
            "colorbar": {
             "outlinewidth": 0,
             "ticks": ""
            },
            "colorscale": [
             [
              0,
              "#0d0887"
             ],
             [
              0.1111111111111111,
              "#46039f"
             ],
             [
              0.2222222222222222,
              "#7201a8"
             ],
             [
              0.3333333333333333,
              "#9c179e"
             ],
             [
              0.4444444444444444,
              "#bd3786"
             ],
             [
              0.5555555555555556,
              "#d8576b"
             ],
             [
              0.6666666666666666,
              "#ed7953"
             ],
             [
              0.7777777777777778,
              "#fb9f3a"
             ],
             [
              0.8888888888888888,
              "#fdca26"
             ],
             [
              1,
              "#f0f921"
             ]
            ],
            "type": "contour"
           }
          ],
          "contourcarpet": [
           {
            "colorbar": {
             "outlinewidth": 0,
             "ticks": ""
            },
            "type": "contourcarpet"
           }
          ],
          "heatmap": [
           {
            "colorbar": {
             "outlinewidth": 0,
             "ticks": ""
            },
            "colorscale": [
             [
              0,
              "#0d0887"
             ],
             [
              0.1111111111111111,
              "#46039f"
             ],
             [
              0.2222222222222222,
              "#7201a8"
             ],
             [
              0.3333333333333333,
              "#9c179e"
             ],
             [
              0.4444444444444444,
              "#bd3786"
             ],
             [
              0.5555555555555556,
              "#d8576b"
             ],
             [
              0.6666666666666666,
              "#ed7953"
             ],
             [
              0.7777777777777778,
              "#fb9f3a"
             ],
             [
              0.8888888888888888,
              "#fdca26"
             ],
             [
              1,
              "#f0f921"
             ]
            ],
            "type": "heatmap"
           }
          ],
          "heatmapgl": [
           {
            "colorbar": {
             "outlinewidth": 0,
             "ticks": ""
            },
            "colorscale": [
             [
              0,
              "#0d0887"
             ],
             [
              0.1111111111111111,
              "#46039f"
             ],
             [
              0.2222222222222222,
              "#7201a8"
             ],
             [
              0.3333333333333333,
              "#9c179e"
             ],
             [
              0.4444444444444444,
              "#bd3786"
             ],
             [
              0.5555555555555556,
              "#d8576b"
             ],
             [
              0.6666666666666666,
              "#ed7953"
             ],
             [
              0.7777777777777778,
              "#fb9f3a"
             ],
             [
              0.8888888888888888,
              "#fdca26"
             ],
             [
              1,
              "#f0f921"
             ]
            ],
            "type": "heatmapgl"
           }
          ],
          "histogram": [
           {
            "marker": {
             "pattern": {
              "fillmode": "overlay",
              "size": 10,
              "solidity": 0.2
             }
            },
            "type": "histogram"
           }
          ],
          "histogram2d": [
           {
            "colorbar": {
             "outlinewidth": 0,
             "ticks": ""
            },
            "colorscale": [
             [
              0,
              "#0d0887"
             ],
             [
              0.1111111111111111,
              "#46039f"
             ],
             [
              0.2222222222222222,
              "#7201a8"
             ],
             [
              0.3333333333333333,
              "#9c179e"
             ],
             [
              0.4444444444444444,
              "#bd3786"
             ],
             [
              0.5555555555555556,
              "#d8576b"
             ],
             [
              0.6666666666666666,
              "#ed7953"
             ],
             [
              0.7777777777777778,
              "#fb9f3a"
             ],
             [
              0.8888888888888888,
              "#fdca26"
             ],
             [
              1,
              "#f0f921"
             ]
            ],
            "type": "histogram2d"
           }
          ],
          "histogram2dcontour": [
           {
            "colorbar": {
             "outlinewidth": 0,
             "ticks": ""
            },
            "colorscale": [
             [
              0,
              "#0d0887"
             ],
             [
              0.1111111111111111,
              "#46039f"
             ],
             [
              0.2222222222222222,
              "#7201a8"
             ],
             [
              0.3333333333333333,
              "#9c179e"
             ],
             [
              0.4444444444444444,
              "#bd3786"
             ],
             [
              0.5555555555555556,
              "#d8576b"
             ],
             [
              0.6666666666666666,
              "#ed7953"
             ],
             [
              0.7777777777777778,
              "#fb9f3a"
             ],
             [
              0.8888888888888888,
              "#fdca26"
             ],
             [
              1,
              "#f0f921"
             ]
            ],
            "type": "histogram2dcontour"
           }
          ],
          "mesh3d": [
           {
            "colorbar": {
             "outlinewidth": 0,
             "ticks": ""
            },
            "type": "mesh3d"
           }
          ],
          "parcoords": [
           {
            "line": {
             "colorbar": {
              "outlinewidth": 0,
              "ticks": ""
             }
            },
            "type": "parcoords"
           }
          ],
          "pie": [
           {
            "automargin": true,
            "type": "pie"
           }
          ],
          "scatter": [
           {
            "fillpattern": {
             "fillmode": "overlay",
             "size": 10,
             "solidity": 0.2
            },
            "type": "scatter"
           }
          ],
          "scatter3d": [
           {
            "line": {
             "colorbar": {
              "outlinewidth": 0,
              "ticks": ""
             }
            },
            "marker": {
             "colorbar": {
              "outlinewidth": 0,
              "ticks": ""
             }
            },
            "type": "scatter3d"
           }
          ],
          "scattercarpet": [
           {
            "marker": {
             "colorbar": {
              "outlinewidth": 0,
              "ticks": ""
             }
            },
            "type": "scattercarpet"
           }
          ],
          "scattergeo": [
           {
            "marker": {
             "colorbar": {
              "outlinewidth": 0,
              "ticks": ""
             }
            },
            "type": "scattergeo"
           }
          ],
          "scattergl": [
           {
            "marker": {
             "colorbar": {
              "outlinewidth": 0,
              "ticks": ""
             }
            },
            "type": "scattergl"
           }
          ],
          "scattermapbox": [
           {
            "marker": {
             "colorbar": {
              "outlinewidth": 0,
              "ticks": ""
             }
            },
            "type": "scattermapbox"
           }
          ],
          "scatterpolar": [
           {
            "marker": {
             "colorbar": {
              "outlinewidth": 0,
              "ticks": ""
             }
            },
            "type": "scatterpolar"
           }
          ],
          "scatterpolargl": [
           {
            "marker": {
             "colorbar": {
              "outlinewidth": 0,
              "ticks": ""
             }
            },
            "type": "scatterpolargl"
           }
          ],
          "scatterternary": [
           {
            "marker": {
             "colorbar": {
              "outlinewidth": 0,
              "ticks": ""
             }
            },
            "type": "scatterternary"
           }
          ],
          "surface": [
           {
            "colorbar": {
             "outlinewidth": 0,
             "ticks": ""
            },
            "colorscale": [
             [
              0,
              "#0d0887"
             ],
             [
              0.1111111111111111,
              "#46039f"
             ],
             [
              0.2222222222222222,
              "#7201a8"
             ],
             [
              0.3333333333333333,
              "#9c179e"
             ],
             [
              0.4444444444444444,
              "#bd3786"
             ],
             [
              0.5555555555555556,
              "#d8576b"
             ],
             [
              0.6666666666666666,
              "#ed7953"
             ],
             [
              0.7777777777777778,
              "#fb9f3a"
             ],
             [
              0.8888888888888888,
              "#fdca26"
             ],
             [
              1,
              "#f0f921"
             ]
            ],
            "type": "surface"
           }
          ],
          "table": [
           {
            "cells": {
             "fill": {
              "color": "#EBF0F8"
             },
             "line": {
              "color": "white"
             }
            },
            "header": {
             "fill": {
              "color": "#C8D4E3"
             },
             "line": {
              "color": "white"
             }
            },
            "type": "table"
           }
          ]
         },
         "layout": {
          "annotationdefaults": {
           "arrowcolor": "#2a3f5f",
           "arrowhead": 0,
           "arrowwidth": 1
          },
          "autotypenumbers": "strict",
          "coloraxis": {
           "colorbar": {
            "outlinewidth": 0,
            "ticks": ""
           }
          },
          "colorscale": {
           "diverging": [
            [
             0,
             "#8e0152"
            ],
            [
             0.1,
             "#c51b7d"
            ],
            [
             0.2,
             "#de77ae"
            ],
            [
             0.3,
             "#f1b6da"
            ],
            [
             0.4,
             "#fde0ef"
            ],
            [
             0.5,
             "#f7f7f7"
            ],
            [
             0.6,
             "#e6f5d0"
            ],
            [
             0.7,
             "#b8e186"
            ],
            [
             0.8,
             "#7fbc41"
            ],
            [
             0.9,
             "#4d9221"
            ],
            [
             1,
             "#276419"
            ]
           ],
           "sequential": [
            [
             0,
             "#0d0887"
            ],
            [
             0.1111111111111111,
             "#46039f"
            ],
            [
             0.2222222222222222,
             "#7201a8"
            ],
            [
             0.3333333333333333,
             "#9c179e"
            ],
            [
             0.4444444444444444,
             "#bd3786"
            ],
            [
             0.5555555555555556,
             "#d8576b"
            ],
            [
             0.6666666666666666,
             "#ed7953"
            ],
            [
             0.7777777777777778,
             "#fb9f3a"
            ],
            [
             0.8888888888888888,
             "#fdca26"
            ],
            [
             1,
             "#f0f921"
            ]
           ],
           "sequentialminus": [
            [
             0,
             "#0d0887"
            ],
            [
             0.1111111111111111,
             "#46039f"
            ],
            [
             0.2222222222222222,
             "#7201a8"
            ],
            [
             0.3333333333333333,
             "#9c179e"
            ],
            [
             0.4444444444444444,
             "#bd3786"
            ],
            [
             0.5555555555555556,
             "#d8576b"
            ],
            [
             0.6666666666666666,
             "#ed7953"
            ],
            [
             0.7777777777777778,
             "#fb9f3a"
            ],
            [
             0.8888888888888888,
             "#fdca26"
            ],
            [
             1,
             "#f0f921"
            ]
           ]
          },
          "colorway": [
           "#636efa",
           "#EF553B",
           "#00cc96",
           "#ab63fa",
           "#FFA15A",
           "#19d3f3",
           "#FF6692",
           "#B6E880",
           "#FF97FF",
           "#FECB52"
          ],
          "font": {
           "color": "#2a3f5f"
          },
          "geo": {
           "bgcolor": "white",
           "lakecolor": "white",
           "landcolor": "#E5ECF6",
           "showlakes": true,
           "showland": true,
           "subunitcolor": "white"
          },
          "hoverlabel": {
           "align": "left"
          },
          "hovermode": "closest",
          "mapbox": {
           "style": "light"
          },
          "paper_bgcolor": "white",
          "plot_bgcolor": "#E5ECF6",
          "polar": {
           "angularaxis": {
            "gridcolor": "white",
            "linecolor": "white",
            "ticks": ""
           },
           "bgcolor": "#E5ECF6",
           "radialaxis": {
            "gridcolor": "white",
            "linecolor": "white",
            "ticks": ""
           }
          },
          "scene": {
           "xaxis": {
            "backgroundcolor": "#E5ECF6",
            "gridcolor": "white",
            "gridwidth": 2,
            "linecolor": "white",
            "showbackground": true,
            "ticks": "",
            "zerolinecolor": "white"
           },
           "yaxis": {
            "backgroundcolor": "#E5ECF6",
            "gridcolor": "white",
            "gridwidth": 2,
            "linecolor": "white",
            "showbackground": true,
            "ticks": "",
            "zerolinecolor": "white"
           },
           "zaxis": {
            "backgroundcolor": "#E5ECF6",
            "gridcolor": "white",
            "gridwidth": 2,
            "linecolor": "white",
            "showbackground": true,
            "ticks": "",
            "zerolinecolor": "white"
           }
          },
          "shapedefaults": {
           "line": {
            "color": "#2a3f5f"
           }
          },
          "ternary": {
           "aaxis": {
            "gridcolor": "white",
            "linecolor": "white",
            "ticks": ""
           },
           "baxis": {
            "gridcolor": "white",
            "linecolor": "white",
            "ticks": ""
           },
           "bgcolor": "#E5ECF6",
           "caxis": {
            "gridcolor": "white",
            "linecolor": "white",
            "ticks": ""
           }
          },
          "title": {
           "x": 0.05
          },
          "xaxis": {
           "automargin": true,
           "gridcolor": "white",
           "linecolor": "white",
           "ticks": "",
           "title": {
            "standoff": 15
           },
           "zerolinecolor": "white",
           "zerolinewidth": 2
          },
          "yaxis": {
           "automargin": true,
           "gridcolor": "white",
           "linecolor": "white",
           "ticks": "",
           "title": {
            "standoff": 15
           },
           "zerolinecolor": "white",
           "zerolinewidth": 2
          }
         }
        },
        "title": {
         "font": {
          "size": 20
         },
         "text": "Топ 10 разработчиков видеоигр"
        },
        "xaxis": {
         "title": {
          "text": "Разрботчик игр"
         }
        },
        "yaxis": {
         "title": {
          "text": "Количество игр"
         }
        }
       }
      }
     },
     "metadata": {},
     "output_type": "display_data"
    }
   ],
   "source": [
    "developer_ = copy[copy.release_date.dt.year > 2016]\n",
    "dev = developer_.groupby(\n",
    "    by = 'developer', as_index = False)[['developer']].agg(\"value_counts\").sort_values(by = 'count', ascending = False)[:10]\n",
    "\n",
    "value = list(dev['count'])\n",
    "labels = list(dev['developer'])\n",
    "data = [go.Bar(\n",
    "    x = labels,\n",
    "    y = value,\n",
    "    text = value \n",
    ")]\n",
    "fig = go.Figure(data = data)\n",
    "fig.update_layout(\n",
    "    title = 'Топ 10 разработчиков видеоигр',\n",
    "    title_font_size = 20,\n",
    "    xaxis_title = \"Разрботчик игр\",\n",
    "    yaxis_title = \"Количество игр\"\n",
    "    )\n",
    "fig.update_traces(textfont_size = 12, textangle = 0, textposition = \"outside\", cliponaxis = False)\n",
    "fig.show()"
   ]
  },
  {
   "cell_type": "code",
   "execution_count": 23,
   "metadata": {},
   "outputs": [
    {
     "data": {
      "application/vnd.plotly.v1+json": {
       "config": {
        "plotlyServerURL": "https://plot.ly"
       },
       "data": [
        {
         "cliponaxis": false,
         "text": [
          "131",
          "64",
          "61",
          "57",
          "55",
          "51",
          "51",
          "51",
          "51",
          "49"
         ],
         "textangle": 0,
         "textfont": {
          "size": 12
         },
         "textposition": "outside",
         "type": "bar",
         "x": [
          "Big Fish Games",
          "Dagestan Technology",
          "Ripknot Systems",
          "Choice of Games",
          "Laush Studio",
          "Atriagames",
          "VT Publishing",
          "Ghost_RUS Games",
          "KOEI TECMO GAMES CO., LTD.",
          "Sekai Project"
         ],
         "y": [
          131,
          64,
          61,
          57,
          55,
          51,
          51,
          51,
          51,
          49
         ]
        }
       ],
       "layout": {
        "template": {
         "data": {
          "bar": [
           {
            "error_x": {
             "color": "#2a3f5f"
            },
            "error_y": {
             "color": "#2a3f5f"
            },
            "marker": {
             "line": {
              "color": "#E5ECF6",
              "width": 0.5
             },
             "pattern": {
              "fillmode": "overlay",
              "size": 10,
              "solidity": 0.2
             }
            },
            "type": "bar"
           }
          ],
          "barpolar": [
           {
            "marker": {
             "line": {
              "color": "#E5ECF6",
              "width": 0.5
             },
             "pattern": {
              "fillmode": "overlay",
              "size": 10,
              "solidity": 0.2
             }
            },
            "type": "barpolar"
           }
          ],
          "carpet": [
           {
            "aaxis": {
             "endlinecolor": "#2a3f5f",
             "gridcolor": "white",
             "linecolor": "white",
             "minorgridcolor": "white",
             "startlinecolor": "#2a3f5f"
            },
            "baxis": {
             "endlinecolor": "#2a3f5f",
             "gridcolor": "white",
             "linecolor": "white",
             "minorgridcolor": "white",
             "startlinecolor": "#2a3f5f"
            },
            "type": "carpet"
           }
          ],
          "choropleth": [
           {
            "colorbar": {
             "outlinewidth": 0,
             "ticks": ""
            },
            "type": "choropleth"
           }
          ],
          "contour": [
           {
            "colorbar": {
             "outlinewidth": 0,
             "ticks": ""
            },
            "colorscale": [
             [
              0,
              "#0d0887"
             ],
             [
              0.1111111111111111,
              "#46039f"
             ],
             [
              0.2222222222222222,
              "#7201a8"
             ],
             [
              0.3333333333333333,
              "#9c179e"
             ],
             [
              0.4444444444444444,
              "#bd3786"
             ],
             [
              0.5555555555555556,
              "#d8576b"
             ],
             [
              0.6666666666666666,
              "#ed7953"
             ],
             [
              0.7777777777777778,
              "#fb9f3a"
             ],
             [
              0.8888888888888888,
              "#fdca26"
             ],
             [
              1,
              "#f0f921"
             ]
            ],
            "type": "contour"
           }
          ],
          "contourcarpet": [
           {
            "colorbar": {
             "outlinewidth": 0,
             "ticks": ""
            },
            "type": "contourcarpet"
           }
          ],
          "heatmap": [
           {
            "colorbar": {
             "outlinewidth": 0,
             "ticks": ""
            },
            "colorscale": [
             [
              0,
              "#0d0887"
             ],
             [
              0.1111111111111111,
              "#46039f"
             ],
             [
              0.2222222222222222,
              "#7201a8"
             ],
             [
              0.3333333333333333,
              "#9c179e"
             ],
             [
              0.4444444444444444,
              "#bd3786"
             ],
             [
              0.5555555555555556,
              "#d8576b"
             ],
             [
              0.6666666666666666,
              "#ed7953"
             ],
             [
              0.7777777777777778,
              "#fb9f3a"
             ],
             [
              0.8888888888888888,
              "#fdca26"
             ],
             [
              1,
              "#f0f921"
             ]
            ],
            "type": "heatmap"
           }
          ],
          "heatmapgl": [
           {
            "colorbar": {
             "outlinewidth": 0,
             "ticks": ""
            },
            "colorscale": [
             [
              0,
              "#0d0887"
             ],
             [
              0.1111111111111111,
              "#46039f"
             ],
             [
              0.2222222222222222,
              "#7201a8"
             ],
             [
              0.3333333333333333,
              "#9c179e"
             ],
             [
              0.4444444444444444,
              "#bd3786"
             ],
             [
              0.5555555555555556,
              "#d8576b"
             ],
             [
              0.6666666666666666,
              "#ed7953"
             ],
             [
              0.7777777777777778,
              "#fb9f3a"
             ],
             [
              0.8888888888888888,
              "#fdca26"
             ],
             [
              1,
              "#f0f921"
             ]
            ],
            "type": "heatmapgl"
           }
          ],
          "histogram": [
           {
            "marker": {
             "pattern": {
              "fillmode": "overlay",
              "size": 10,
              "solidity": 0.2
             }
            },
            "type": "histogram"
           }
          ],
          "histogram2d": [
           {
            "colorbar": {
             "outlinewidth": 0,
             "ticks": ""
            },
            "colorscale": [
             [
              0,
              "#0d0887"
             ],
             [
              0.1111111111111111,
              "#46039f"
             ],
             [
              0.2222222222222222,
              "#7201a8"
             ],
             [
              0.3333333333333333,
              "#9c179e"
             ],
             [
              0.4444444444444444,
              "#bd3786"
             ],
             [
              0.5555555555555556,
              "#d8576b"
             ],
             [
              0.6666666666666666,
              "#ed7953"
             ],
             [
              0.7777777777777778,
              "#fb9f3a"
             ],
             [
              0.8888888888888888,
              "#fdca26"
             ],
             [
              1,
              "#f0f921"
             ]
            ],
            "type": "histogram2d"
           }
          ],
          "histogram2dcontour": [
           {
            "colorbar": {
             "outlinewidth": 0,
             "ticks": ""
            },
            "colorscale": [
             [
              0,
              "#0d0887"
             ],
             [
              0.1111111111111111,
              "#46039f"
             ],
             [
              0.2222222222222222,
              "#7201a8"
             ],
             [
              0.3333333333333333,
              "#9c179e"
             ],
             [
              0.4444444444444444,
              "#bd3786"
             ],
             [
              0.5555555555555556,
              "#d8576b"
             ],
             [
              0.6666666666666666,
              "#ed7953"
             ],
             [
              0.7777777777777778,
              "#fb9f3a"
             ],
             [
              0.8888888888888888,
              "#fdca26"
             ],
             [
              1,
              "#f0f921"
             ]
            ],
            "type": "histogram2dcontour"
           }
          ],
          "mesh3d": [
           {
            "colorbar": {
             "outlinewidth": 0,
             "ticks": ""
            },
            "type": "mesh3d"
           }
          ],
          "parcoords": [
           {
            "line": {
             "colorbar": {
              "outlinewidth": 0,
              "ticks": ""
             }
            },
            "type": "parcoords"
           }
          ],
          "pie": [
           {
            "automargin": true,
            "type": "pie"
           }
          ],
          "scatter": [
           {
            "fillpattern": {
             "fillmode": "overlay",
             "size": 10,
             "solidity": 0.2
            },
            "type": "scatter"
           }
          ],
          "scatter3d": [
           {
            "line": {
             "colorbar": {
              "outlinewidth": 0,
              "ticks": ""
             }
            },
            "marker": {
             "colorbar": {
              "outlinewidth": 0,
              "ticks": ""
             }
            },
            "type": "scatter3d"
           }
          ],
          "scattercarpet": [
           {
            "marker": {
             "colorbar": {
              "outlinewidth": 0,
              "ticks": ""
             }
            },
            "type": "scattercarpet"
           }
          ],
          "scattergeo": [
           {
            "marker": {
             "colorbar": {
              "outlinewidth": 0,
              "ticks": ""
             }
            },
            "type": "scattergeo"
           }
          ],
          "scattergl": [
           {
            "marker": {
             "colorbar": {
              "outlinewidth": 0,
              "ticks": ""
             }
            },
            "type": "scattergl"
           }
          ],
          "scattermapbox": [
           {
            "marker": {
             "colorbar": {
              "outlinewidth": 0,
              "ticks": ""
             }
            },
            "type": "scattermapbox"
           }
          ],
          "scatterpolar": [
           {
            "marker": {
             "colorbar": {
              "outlinewidth": 0,
              "ticks": ""
             }
            },
            "type": "scatterpolar"
           }
          ],
          "scatterpolargl": [
           {
            "marker": {
             "colorbar": {
              "outlinewidth": 0,
              "ticks": ""
             }
            },
            "type": "scatterpolargl"
           }
          ],
          "scatterternary": [
           {
            "marker": {
             "colorbar": {
              "outlinewidth": 0,
              "ticks": ""
             }
            },
            "type": "scatterternary"
           }
          ],
          "surface": [
           {
            "colorbar": {
             "outlinewidth": 0,
             "ticks": ""
            },
            "colorscale": [
             [
              0,
              "#0d0887"
             ],
             [
              0.1111111111111111,
              "#46039f"
             ],
             [
              0.2222222222222222,
              "#7201a8"
             ],
             [
              0.3333333333333333,
              "#9c179e"
             ],
             [
              0.4444444444444444,
              "#bd3786"
             ],
             [
              0.5555555555555556,
              "#d8576b"
             ],
             [
              0.6666666666666666,
              "#ed7953"
             ],
             [
              0.7777777777777778,
              "#fb9f3a"
             ],
             [
              0.8888888888888888,
              "#fdca26"
             ],
             [
              1,
              "#f0f921"
             ]
            ],
            "type": "surface"
           }
          ],
          "table": [
           {
            "cells": {
             "fill": {
              "color": "#EBF0F8"
             },
             "line": {
              "color": "white"
             }
            },
            "header": {
             "fill": {
              "color": "#C8D4E3"
             },
             "line": {
              "color": "white"
             }
            },
            "type": "table"
           }
          ]
         },
         "layout": {
          "annotationdefaults": {
           "arrowcolor": "#2a3f5f",
           "arrowhead": 0,
           "arrowwidth": 1
          },
          "autotypenumbers": "strict",
          "coloraxis": {
           "colorbar": {
            "outlinewidth": 0,
            "ticks": ""
           }
          },
          "colorscale": {
           "diverging": [
            [
             0,
             "#8e0152"
            ],
            [
             0.1,
             "#c51b7d"
            ],
            [
             0.2,
             "#de77ae"
            ],
            [
             0.3,
             "#f1b6da"
            ],
            [
             0.4,
             "#fde0ef"
            ],
            [
             0.5,
             "#f7f7f7"
            ],
            [
             0.6,
             "#e6f5d0"
            ],
            [
             0.7,
             "#b8e186"
            ],
            [
             0.8,
             "#7fbc41"
            ],
            [
             0.9,
             "#4d9221"
            ],
            [
             1,
             "#276419"
            ]
           ],
           "sequential": [
            [
             0,
             "#0d0887"
            ],
            [
             0.1111111111111111,
             "#46039f"
            ],
            [
             0.2222222222222222,
             "#7201a8"
            ],
            [
             0.3333333333333333,
             "#9c179e"
            ],
            [
             0.4444444444444444,
             "#bd3786"
            ],
            [
             0.5555555555555556,
             "#d8576b"
            ],
            [
             0.6666666666666666,
             "#ed7953"
            ],
            [
             0.7777777777777778,
             "#fb9f3a"
            ],
            [
             0.8888888888888888,
             "#fdca26"
            ],
            [
             1,
             "#f0f921"
            ]
           ],
           "sequentialminus": [
            [
             0,
             "#0d0887"
            ],
            [
             0.1111111111111111,
             "#46039f"
            ],
            [
             0.2222222222222222,
             "#7201a8"
            ],
            [
             0.3333333333333333,
             "#9c179e"
            ],
            [
             0.4444444444444444,
             "#bd3786"
            ],
            [
             0.5555555555555556,
             "#d8576b"
            ],
            [
             0.6666666666666666,
             "#ed7953"
            ],
            [
             0.7777777777777778,
             "#fb9f3a"
            ],
            [
             0.8888888888888888,
             "#fdca26"
            ],
            [
             1,
             "#f0f921"
            ]
           ]
          },
          "colorway": [
           "#636efa",
           "#EF553B",
           "#00cc96",
           "#ab63fa",
           "#FFA15A",
           "#19d3f3",
           "#FF6692",
           "#B6E880",
           "#FF97FF",
           "#FECB52"
          ],
          "font": {
           "color": "#2a3f5f"
          },
          "geo": {
           "bgcolor": "white",
           "lakecolor": "white",
           "landcolor": "#E5ECF6",
           "showlakes": true,
           "showland": true,
           "subunitcolor": "white"
          },
          "hoverlabel": {
           "align": "left"
          },
          "hovermode": "closest",
          "mapbox": {
           "style": "light"
          },
          "paper_bgcolor": "white",
          "plot_bgcolor": "#E5ECF6",
          "polar": {
           "angularaxis": {
            "gridcolor": "white",
            "linecolor": "white",
            "ticks": ""
           },
           "bgcolor": "#E5ECF6",
           "radialaxis": {
            "gridcolor": "white",
            "linecolor": "white",
            "ticks": ""
           }
          },
          "scene": {
           "xaxis": {
            "backgroundcolor": "#E5ECF6",
            "gridcolor": "white",
            "gridwidth": 2,
            "linecolor": "white",
            "showbackground": true,
            "ticks": "",
            "zerolinecolor": "white"
           },
           "yaxis": {
            "backgroundcolor": "#E5ECF6",
            "gridcolor": "white",
            "gridwidth": 2,
            "linecolor": "white",
            "showbackground": true,
            "ticks": "",
            "zerolinecolor": "white"
           },
           "zaxis": {
            "backgroundcolor": "#E5ECF6",
            "gridcolor": "white",
            "gridwidth": 2,
            "linecolor": "white",
            "showbackground": true,
            "ticks": "",
            "zerolinecolor": "white"
           }
          },
          "shapedefaults": {
           "line": {
            "color": "#2a3f5f"
           }
          },
          "ternary": {
           "aaxis": {
            "gridcolor": "white",
            "linecolor": "white",
            "ticks": ""
           },
           "baxis": {
            "gridcolor": "white",
            "linecolor": "white",
            "ticks": ""
           },
           "bgcolor": "#E5ECF6",
           "caxis": {
            "gridcolor": "white",
            "linecolor": "white",
            "ticks": ""
           }
          },
          "title": {
           "x": 0.05
          },
          "xaxis": {
           "automargin": true,
           "gridcolor": "white",
           "linecolor": "white",
           "ticks": "",
           "title": {
            "standoff": 15
           },
           "zerolinecolor": "white",
           "zerolinewidth": 2
          },
          "yaxis": {
           "automargin": true,
           "gridcolor": "white",
           "linecolor": "white",
           "ticks": "",
           "title": {
            "standoff": 15
           },
           "zerolinecolor": "white",
           "zerolinewidth": 2
          }
         }
        },
        "title": {
         "font": {
          "size": 20
         },
         "text": "Топ 10 издателей видеоигр"
        },
        "xaxis": {
         "title": {
          "text": "Издатель игр"
         }
        },
        "yaxis": {
         "title": {
          "text": "Количество игр"
         }
        }
       }
      }
     },
     "metadata": {},
     "output_type": "display_data"
    }
   ],
   "source": [
    "publisher_ = copy[copy.release_date.dt.year > 2016]\n",
    "pub = publisher_.groupby(\n",
    "    by = 'publisher', as_index = False)[['publisher']].agg(\"value_counts\").sort_values(by = 'count', ascending = False)[:10]\n",
    "\n",
    "value = list(pub['count'])\n",
    "labels = list(pub['publisher'])\n",
    "data = [go.Bar(\n",
    "    x = labels,\n",
    "    y = value,\n",
    "    text = value\n",
    ")]\n",
    "fig = go.Figure(data=data)\n",
    "fig.update_layout(\n",
    "    title = 'Топ 10 издателей видеоигр',\n",
    "    title_font_size=20,\n",
    "    xaxis_title = \"Издатель игр\",\n",
    "    yaxis_title = \"Количество игр\"\n",
    "    )\n",
    "fig.update_traces(textfont_size = 12, textangle = 0, textposition = \"outside\", cliponaxis = False)\n",
    "fig.show()"
   ]
  },
  {
   "cell_type": "markdown",
   "metadata": {},
   "source": [
    "Больше всего игр начиная с 2017 года разработали Ripknot Systems, издали Big Fish Games. Big Fish Games более чем в два раза обходит идущую на втором месте компанию"
   ]
  },
  {
   "cell_type": "markdown",
   "metadata": {},
   "source": [
    "Выведем топ 6 игр по количеству пользователей (owners)"
   ]
  },
  {
   "cell_type": "code",
   "execution_count": 9,
   "metadata": {
    "scrolled": true
   },
   "outputs": [
    {
     "name": "stdout",
     "output_type": "stream",
     "text": [
      "Топ 6 игр по количеству пользователей :\n"
     ]
    },
    {
     "data": {
      "text/html": [
       "<style type=\"text/css\">\n",
       "#T_6e8a9_row0_col1 {\n",
       "  background-color: #67000d;\n",
       "  color: #f1f1f1;\n",
       "}\n",
       "#T_6e8a9_row1_col1, #T_6e8a9_row2_col1 {\n",
       "  background-color: #fca082;\n",
       "  color: #000000;\n",
       "}\n",
       "#T_6e8a9_row3_col1, #T_6e8a9_row4_col1, #T_6e8a9_row5_col1 {\n",
       "  background-color: #fff5f0;\n",
       "  color: #000000;\n",
       "}\n",
       "</style>\n",
       "<table id=\"T_6e8a9\">\n",
       "  <thead>\n",
       "    <tr>\n",
       "      <th class=\"blank level0\" >&nbsp;</th>\n",
       "      <th id=\"T_6e8a9_level0_col0\" class=\"col_heading level0 col0\" >name</th>\n",
       "      <th id=\"T_6e8a9_level0_col1\" class=\"col_heading level0 col1\" >owners_max</th>\n",
       "    </tr>\n",
       "  </thead>\n",
       "  <tbody>\n",
       "    <tr>\n",
       "      <th id=\"T_6e8a9_level0_row0\" class=\"row_heading level0 row0\" >1</th>\n",
       "      <td id=\"T_6e8a9_row0_col0\" class=\"data row0 col0\" >Dota 2</td>\n",
       "      <td id=\"T_6e8a9_row0_col1\" class=\"data row0 col1\" >200000000</td>\n",
       "    </tr>\n",
       "    <tr>\n",
       "      <th id=\"T_6e8a9_level0_row1\" class=\"row_heading level0 row1\" >2</th>\n",
       "      <td id=\"T_6e8a9_row1_col0\" class=\"data row1 col0\" >Counter-Strike: Global Offensive</td>\n",
       "      <td id=\"T_6e8a9_row1_col1\" class=\"data row1 col1\" >100000000</td>\n",
       "    </tr>\n",
       "    <tr>\n",
       "      <th id=\"T_6e8a9_level0_row2\" class=\"row_heading level0 row2\" >3</th>\n",
       "      <td id=\"T_6e8a9_row2_col0\" class=\"data row2 col0\" >PLAYERUNKNOWN'S BATTLEGROUNDS</td>\n",
       "      <td id=\"T_6e8a9_row2_col1\" class=\"data row2 col1\" >100000000</td>\n",
       "    </tr>\n",
       "    <tr>\n",
       "      <th id=\"T_6e8a9_level0_row3\" class=\"row_heading level0 row3\" >4</th>\n",
       "      <td id=\"T_6e8a9_row3_col0\" class=\"data row3 col0\" >Team Fortress 2</td>\n",
       "      <td id=\"T_6e8a9_row3_col1\" class=\"data row3 col1\" >50000000</td>\n",
       "    </tr>\n",
       "    <tr>\n",
       "      <th id=\"T_6e8a9_level0_row4\" class=\"row_heading level0 row4\" >5</th>\n",
       "      <td id=\"T_6e8a9_row4_col0\" class=\"data row4 col0\" >Warframe</td>\n",
       "      <td id=\"T_6e8a9_row4_col1\" class=\"data row4 col1\" >50000000</td>\n",
       "    </tr>\n",
       "    <tr>\n",
       "      <th id=\"T_6e8a9_level0_row5\" class=\"row_heading level0 row5\" >6</th>\n",
       "      <td id=\"T_6e8a9_row5_col0\" class=\"data row5 col0\" >Unturned</td>\n",
       "      <td id=\"T_6e8a9_row5_col1\" class=\"data row5 col1\" >50000000</td>\n",
       "    </tr>\n",
       "  </tbody>\n",
       "</table>\n"
      ],
      "text/plain": [
       "<pandas.io.formats.style.Styler at 0x216c6e06ed0>"
      ]
     },
     "execution_count": 9,
     "metadata": {},
     "output_type": "execute_result"
    }
   ],
   "source": [
    "print('Топ 6 игр по количеству пользователей :')\n",
    "top = copy.nlargest(6, 'owners_max')[['name', 'owners_max']]\n",
    "top.index = np.arange(1, len(top) + 1)\n",
    "top.style.background_gradient(cmap = \"Reds\")"
   ]
  },
  {
   "cell_type": "markdown",
   "metadata": {},
   "source": [
    "Самая популярная игра Dota 2 в двое обходит по количеству пользователей Counter-Strike: Global Offensive, идущую на втором месте"
   ]
  },
  {
   "cell_type": "markdown",
   "metadata": {},
   "source": [
    "Выведем топ 10 жанров, начиная с 2015 года включительно (отдельно для платных игр и бесплатных). Постройте диаграмму"
   ]
  },
  {
   "cell_type": "code",
   "execution_count": 11,
   "metadata": {},
   "outputs": [],
   "source": [
    "#Создадим множество жанров\n",
    "genre_ = set()\n",
    "for i in range(copy.shape[0]):\n",
    "    list_ = copy['genres'][i].split(\";\")\n",
    "    set_ = {list_[n] for n in range(len(list_))}\n",
    "    genre_.update(set_)  \n",
    "    \n",
    "#Функция создания датасета содержащего количество игр для каждого жанра\n",
    "def genre_def (df):\n",
    "    global top10\n",
    "    df_genre = pd.DataFrame({\n",
    "    'genre':[],\n",
    "    'number_of_games':[],\n",
    "    })\n",
    "    for i in genre_:\n",
    "        dict_genre_free = {}\n",
    "        dict_genre_free['genre'] = i\n",
    "        dict_genre_free['number_of_games'] = len(df[df.genres.str.contains(i)])\n",
    "        df_genre.loc[len(df_genre)] = dict_genre_free\n",
    "    top10 = df_genre.nlargest(10, 'number_of_games')[['genre', 'number_of_games']]\n",
    "    top10.index = np.arange(1, len(top10) + 1)\n",
    "    return    \n",
    "#Выбираем платные игры выпущенные с 2015 года включительно\n",
    "pay_ = copy[(copy.price > 0)  & (copy.release_date.dt.year > 2014)]\n",
    "#Выбираем бесплатные игры выпущенные с 2015 года включительно\n",
    "free_ = copy[(copy.price == 0)  & (copy.release_date.dt.year > 2014)] "
   ]
  },
  {
   "cell_type": "code",
   "execution_count": 12,
   "metadata": {},
   "outputs": [
    {
     "name": "stdout",
     "output_type": "stream",
     "text": [
      "Топ 10 жанров платных игр\n"
     ]
    },
    {
     "data": {
      "text/html": [
       "<style type=\"text/css\">\n",
       "#T_2d878_row0_col1 {\n",
       "  background-color: #67000d;\n",
       "  color: #f1f1f1;\n",
       "}\n",
       "#T_2d878_row1_col1 {\n",
       "  background-color: #f5523a;\n",
       "  color: #f1f1f1;\n",
       "}\n",
       "#T_2d878_row2_col1 {\n",
       "  background-color: #fb6b4b;\n",
       "  color: #f1f1f1;\n",
       "}\n",
       "#T_2d878_row3_col1 {\n",
       "  background-color: #fb7050;\n",
       "  color: #f1f1f1;\n",
       "}\n",
       "#T_2d878_row4_col1 {\n",
       "  background-color: #fcc4ad;\n",
       "  color: #000000;\n",
       "}\n",
       "#T_2d878_row5_col1 {\n",
       "  background-color: #fdcab5;\n",
       "  color: #000000;\n",
       "}\n",
       "#T_2d878_row6_col1 {\n",
       "  background-color: #fdd5c4;\n",
       "  color: #000000;\n",
       "}\n",
       "#T_2d878_row7_col1 {\n",
       "  background-color: #fee3d6;\n",
       "  color: #000000;\n",
       "}\n",
       "#T_2d878_row8_col1 {\n",
       "  background-color: #fff2ec;\n",
       "  color: #000000;\n",
       "}\n",
       "#T_2d878_row9_col1 {\n",
       "  background-color: #fff5f0;\n",
       "  color: #000000;\n",
       "}\n",
       "</style>\n",
       "<table id=\"T_2d878\">\n",
       "  <thead>\n",
       "    <tr>\n",
       "      <th class=\"blank level0\" >&nbsp;</th>\n",
       "      <th id=\"T_2d878_level0_col0\" class=\"col_heading level0 col0\" >genre</th>\n",
       "      <th id=\"T_2d878_level0_col1\" class=\"col_heading level0 col1\" >number_of_games</th>\n",
       "    </tr>\n",
       "  </thead>\n",
       "  <tbody>\n",
       "    <tr>\n",
       "      <th id=\"T_2d878_level0_row0\" class=\"row_heading level0 row0\" >1</th>\n",
       "      <td id=\"T_2d878_row0_col0\" class=\"data row0 col0\" >Indie</td>\n",
       "      <td id=\"T_2d878_row0_col1\" class=\"data row0 col1\" >16407</td>\n",
       "    </tr>\n",
       "    <tr>\n",
       "      <th id=\"T_2d878_level0_row1\" class=\"row_heading level0 row1\" >2</th>\n",
       "      <td id=\"T_2d878_row1_col0\" class=\"data row1 col0\" >Action</td>\n",
       "      <td id=\"T_2d878_row1_col1\" class=\"data row1 col1\" >9590</td>\n",
       "    </tr>\n",
       "    <tr>\n",
       "      <th id=\"T_2d878_level0_row2\" class=\"row_heading level0 row2\" >3</th>\n",
       "      <td id=\"T_2d878_row2_col0\" class=\"data row2 col0\" >Casual</td>\n",
       "      <td id=\"T_2d878_row2_col1\" class=\"data row2 col1\" >8604</td>\n",
       "    </tr>\n",
       "    <tr>\n",
       "      <th id=\"T_2d878_level0_row3\" class=\"row_heading level0 row3\" >4</th>\n",
       "      <td id=\"T_2d878_row3_col0\" class=\"data row3 col0\" >Adventure</td>\n",
       "      <td id=\"T_2d878_row3_col1\" class=\"data row3 col1\" >8311</td>\n",
       "    </tr>\n",
       "    <tr>\n",
       "      <th id=\"T_2d878_level0_row4\" class=\"row_heading level0 row4\" >5</th>\n",
       "      <td id=\"T_2d878_row4_col0\" class=\"data row4 col0\" >Simulation</td>\n",
       "      <td id=\"T_2d878_row4_col1\" class=\"data row4 col1\" >4270</td>\n",
       "    </tr>\n",
       "    <tr>\n",
       "      <th id=\"T_2d878_level0_row5\" class=\"row_heading level0 row5\" >6</th>\n",
       "      <td id=\"T_2d878_row5_col0\" class=\"data row5 col0\" >Strategy</td>\n",
       "      <td id=\"T_2d878_row5_col1\" class=\"data row5 col1\" >3987</td>\n",
       "    </tr>\n",
       "    <tr>\n",
       "      <th id=\"T_2d878_level0_row6\" class=\"row_heading level0 row6\" >7</th>\n",
       "      <td id=\"T_2d878_row6_col0\" class=\"data row6 col0\" >RPG</td>\n",
       "      <td id=\"T_2d878_row6_col1\" class=\"data row6 col1\" >3348</td>\n",
       "    </tr>\n",
       "    <tr>\n",
       "      <th id=\"T_2d878_level0_row7\" class=\"row_heading level0 row7\" >8</th>\n",
       "      <td id=\"T_2d878_row7_col0\" class=\"data row7 col0\" >Early Access</td>\n",
       "      <td id=\"T_2d878_row7_col1\" class=\"data row7 col1\" >2547</td>\n",
       "    </tr>\n",
       "    <tr>\n",
       "      <th id=\"T_2d878_level0_row8\" class=\"row_heading level0 row8\" >9</th>\n",
       "      <td id=\"T_2d878_row8_col0\" class=\"data row8 col0\" >Sports</td>\n",
       "      <td id=\"T_2d878_row8_col1\" class=\"data row8 col1\" >1114</td>\n",
       "    </tr>\n",
       "    <tr>\n",
       "      <th id=\"T_2d878_level0_row9\" class=\"row_heading level0 row9\" >10</th>\n",
       "      <td id=\"T_2d878_row9_col0\" class=\"data row9 col0\" >Racing</td>\n",
       "      <td id=\"T_2d878_row9_col1\" class=\"data row9 col1\" >823</td>\n",
       "    </tr>\n",
       "  </tbody>\n",
       "</table>\n"
      ],
      "text/plain": [
       "<pandas.io.formats.style.Styler at 0x216caa61650>"
      ]
     },
     "execution_count": 12,
     "metadata": {},
     "output_type": "execute_result"
    }
   ],
   "source": [
    "#Выводим топ платных игр\n",
    "genre_def(pay_)\n",
    "print ('Топ 10 жанров платных игр')\n",
    "top10.style.background_gradient(cmap = \"Reds\") "
   ]
  },
  {
   "cell_type": "code",
   "execution_count": 28,
   "metadata": {},
   "outputs": [
    {
     "data": {
      "application/vnd.plotly.v1+json": {
       "config": {
        "plotlyServerURL": "https://plot.ly"
       },
       "data": [
        {
         "cliponaxis": false,
         "text": [
          16407,
          9590,
          8604,
          8311,
          4270,
          3987,
          3348,
          2547,
          1114,
          823
         ],
         "textangle": 0,
         "textfont": {
          "size": 12
         },
         "textposition": "outside",
         "type": "bar",
         "x": [
          "Indie",
          "Action",
          "Casual",
          "Adventure",
          "Simulation",
          "Strategy",
          "RPG",
          "Early Access",
          "Sports",
          "Racing"
         ],
         "y": [
          16407,
          9590,
          8604,
          8311,
          4270,
          3987,
          3348,
          2547,
          1114,
          823
         ]
        }
       ],
       "layout": {
        "template": {
         "data": {
          "bar": [
           {
            "error_x": {
             "color": "#2a3f5f"
            },
            "error_y": {
             "color": "#2a3f5f"
            },
            "marker": {
             "line": {
              "color": "#E5ECF6",
              "width": 0.5
             },
             "pattern": {
              "fillmode": "overlay",
              "size": 10,
              "solidity": 0.2
             }
            },
            "type": "bar"
           }
          ],
          "barpolar": [
           {
            "marker": {
             "line": {
              "color": "#E5ECF6",
              "width": 0.5
             },
             "pattern": {
              "fillmode": "overlay",
              "size": 10,
              "solidity": 0.2
             }
            },
            "type": "barpolar"
           }
          ],
          "carpet": [
           {
            "aaxis": {
             "endlinecolor": "#2a3f5f",
             "gridcolor": "white",
             "linecolor": "white",
             "minorgridcolor": "white",
             "startlinecolor": "#2a3f5f"
            },
            "baxis": {
             "endlinecolor": "#2a3f5f",
             "gridcolor": "white",
             "linecolor": "white",
             "minorgridcolor": "white",
             "startlinecolor": "#2a3f5f"
            },
            "type": "carpet"
           }
          ],
          "choropleth": [
           {
            "colorbar": {
             "outlinewidth": 0,
             "ticks": ""
            },
            "type": "choropleth"
           }
          ],
          "contour": [
           {
            "colorbar": {
             "outlinewidth": 0,
             "ticks": ""
            },
            "colorscale": [
             [
              0,
              "#0d0887"
             ],
             [
              0.1111111111111111,
              "#46039f"
             ],
             [
              0.2222222222222222,
              "#7201a8"
             ],
             [
              0.3333333333333333,
              "#9c179e"
             ],
             [
              0.4444444444444444,
              "#bd3786"
             ],
             [
              0.5555555555555556,
              "#d8576b"
             ],
             [
              0.6666666666666666,
              "#ed7953"
             ],
             [
              0.7777777777777778,
              "#fb9f3a"
             ],
             [
              0.8888888888888888,
              "#fdca26"
             ],
             [
              1,
              "#f0f921"
             ]
            ],
            "type": "contour"
           }
          ],
          "contourcarpet": [
           {
            "colorbar": {
             "outlinewidth": 0,
             "ticks": ""
            },
            "type": "contourcarpet"
           }
          ],
          "heatmap": [
           {
            "colorbar": {
             "outlinewidth": 0,
             "ticks": ""
            },
            "colorscale": [
             [
              0,
              "#0d0887"
             ],
             [
              0.1111111111111111,
              "#46039f"
             ],
             [
              0.2222222222222222,
              "#7201a8"
             ],
             [
              0.3333333333333333,
              "#9c179e"
             ],
             [
              0.4444444444444444,
              "#bd3786"
             ],
             [
              0.5555555555555556,
              "#d8576b"
             ],
             [
              0.6666666666666666,
              "#ed7953"
             ],
             [
              0.7777777777777778,
              "#fb9f3a"
             ],
             [
              0.8888888888888888,
              "#fdca26"
             ],
             [
              1,
              "#f0f921"
             ]
            ],
            "type": "heatmap"
           }
          ],
          "heatmapgl": [
           {
            "colorbar": {
             "outlinewidth": 0,
             "ticks": ""
            },
            "colorscale": [
             [
              0,
              "#0d0887"
             ],
             [
              0.1111111111111111,
              "#46039f"
             ],
             [
              0.2222222222222222,
              "#7201a8"
             ],
             [
              0.3333333333333333,
              "#9c179e"
             ],
             [
              0.4444444444444444,
              "#bd3786"
             ],
             [
              0.5555555555555556,
              "#d8576b"
             ],
             [
              0.6666666666666666,
              "#ed7953"
             ],
             [
              0.7777777777777778,
              "#fb9f3a"
             ],
             [
              0.8888888888888888,
              "#fdca26"
             ],
             [
              1,
              "#f0f921"
             ]
            ],
            "type": "heatmapgl"
           }
          ],
          "histogram": [
           {
            "marker": {
             "pattern": {
              "fillmode": "overlay",
              "size": 10,
              "solidity": 0.2
             }
            },
            "type": "histogram"
           }
          ],
          "histogram2d": [
           {
            "colorbar": {
             "outlinewidth": 0,
             "ticks": ""
            },
            "colorscale": [
             [
              0,
              "#0d0887"
             ],
             [
              0.1111111111111111,
              "#46039f"
             ],
             [
              0.2222222222222222,
              "#7201a8"
             ],
             [
              0.3333333333333333,
              "#9c179e"
             ],
             [
              0.4444444444444444,
              "#bd3786"
             ],
             [
              0.5555555555555556,
              "#d8576b"
             ],
             [
              0.6666666666666666,
              "#ed7953"
             ],
             [
              0.7777777777777778,
              "#fb9f3a"
             ],
             [
              0.8888888888888888,
              "#fdca26"
             ],
             [
              1,
              "#f0f921"
             ]
            ],
            "type": "histogram2d"
           }
          ],
          "histogram2dcontour": [
           {
            "colorbar": {
             "outlinewidth": 0,
             "ticks": ""
            },
            "colorscale": [
             [
              0,
              "#0d0887"
             ],
             [
              0.1111111111111111,
              "#46039f"
             ],
             [
              0.2222222222222222,
              "#7201a8"
             ],
             [
              0.3333333333333333,
              "#9c179e"
             ],
             [
              0.4444444444444444,
              "#bd3786"
             ],
             [
              0.5555555555555556,
              "#d8576b"
             ],
             [
              0.6666666666666666,
              "#ed7953"
             ],
             [
              0.7777777777777778,
              "#fb9f3a"
             ],
             [
              0.8888888888888888,
              "#fdca26"
             ],
             [
              1,
              "#f0f921"
             ]
            ],
            "type": "histogram2dcontour"
           }
          ],
          "mesh3d": [
           {
            "colorbar": {
             "outlinewidth": 0,
             "ticks": ""
            },
            "type": "mesh3d"
           }
          ],
          "parcoords": [
           {
            "line": {
             "colorbar": {
              "outlinewidth": 0,
              "ticks": ""
             }
            },
            "type": "parcoords"
           }
          ],
          "pie": [
           {
            "automargin": true,
            "type": "pie"
           }
          ],
          "scatter": [
           {
            "fillpattern": {
             "fillmode": "overlay",
             "size": 10,
             "solidity": 0.2
            },
            "type": "scatter"
           }
          ],
          "scatter3d": [
           {
            "line": {
             "colorbar": {
              "outlinewidth": 0,
              "ticks": ""
             }
            },
            "marker": {
             "colorbar": {
              "outlinewidth": 0,
              "ticks": ""
             }
            },
            "type": "scatter3d"
           }
          ],
          "scattercarpet": [
           {
            "marker": {
             "colorbar": {
              "outlinewidth": 0,
              "ticks": ""
             }
            },
            "type": "scattercarpet"
           }
          ],
          "scattergeo": [
           {
            "marker": {
             "colorbar": {
              "outlinewidth": 0,
              "ticks": ""
             }
            },
            "type": "scattergeo"
           }
          ],
          "scattergl": [
           {
            "marker": {
             "colorbar": {
              "outlinewidth": 0,
              "ticks": ""
             }
            },
            "type": "scattergl"
           }
          ],
          "scattermapbox": [
           {
            "marker": {
             "colorbar": {
              "outlinewidth": 0,
              "ticks": ""
             }
            },
            "type": "scattermapbox"
           }
          ],
          "scatterpolar": [
           {
            "marker": {
             "colorbar": {
              "outlinewidth": 0,
              "ticks": ""
             }
            },
            "type": "scatterpolar"
           }
          ],
          "scatterpolargl": [
           {
            "marker": {
             "colorbar": {
              "outlinewidth": 0,
              "ticks": ""
             }
            },
            "type": "scatterpolargl"
           }
          ],
          "scatterternary": [
           {
            "marker": {
             "colorbar": {
              "outlinewidth": 0,
              "ticks": ""
             }
            },
            "type": "scatterternary"
           }
          ],
          "surface": [
           {
            "colorbar": {
             "outlinewidth": 0,
             "ticks": ""
            },
            "colorscale": [
             [
              0,
              "#0d0887"
             ],
             [
              0.1111111111111111,
              "#46039f"
             ],
             [
              0.2222222222222222,
              "#7201a8"
             ],
             [
              0.3333333333333333,
              "#9c179e"
             ],
             [
              0.4444444444444444,
              "#bd3786"
             ],
             [
              0.5555555555555556,
              "#d8576b"
             ],
             [
              0.6666666666666666,
              "#ed7953"
             ],
             [
              0.7777777777777778,
              "#fb9f3a"
             ],
             [
              0.8888888888888888,
              "#fdca26"
             ],
             [
              1,
              "#f0f921"
             ]
            ],
            "type": "surface"
           }
          ],
          "table": [
           {
            "cells": {
             "fill": {
              "color": "#EBF0F8"
             },
             "line": {
              "color": "white"
             }
            },
            "header": {
             "fill": {
              "color": "#C8D4E3"
             },
             "line": {
              "color": "white"
             }
            },
            "type": "table"
           }
          ]
         },
         "layout": {
          "annotationdefaults": {
           "arrowcolor": "#2a3f5f",
           "arrowhead": 0,
           "arrowwidth": 1
          },
          "autotypenumbers": "strict",
          "coloraxis": {
           "colorbar": {
            "outlinewidth": 0,
            "ticks": ""
           }
          },
          "colorscale": {
           "diverging": [
            [
             0,
             "#8e0152"
            ],
            [
             0.1,
             "#c51b7d"
            ],
            [
             0.2,
             "#de77ae"
            ],
            [
             0.3,
             "#f1b6da"
            ],
            [
             0.4,
             "#fde0ef"
            ],
            [
             0.5,
             "#f7f7f7"
            ],
            [
             0.6,
             "#e6f5d0"
            ],
            [
             0.7,
             "#b8e186"
            ],
            [
             0.8,
             "#7fbc41"
            ],
            [
             0.9,
             "#4d9221"
            ],
            [
             1,
             "#276419"
            ]
           ],
           "sequential": [
            [
             0,
             "#0d0887"
            ],
            [
             0.1111111111111111,
             "#46039f"
            ],
            [
             0.2222222222222222,
             "#7201a8"
            ],
            [
             0.3333333333333333,
             "#9c179e"
            ],
            [
             0.4444444444444444,
             "#bd3786"
            ],
            [
             0.5555555555555556,
             "#d8576b"
            ],
            [
             0.6666666666666666,
             "#ed7953"
            ],
            [
             0.7777777777777778,
             "#fb9f3a"
            ],
            [
             0.8888888888888888,
             "#fdca26"
            ],
            [
             1,
             "#f0f921"
            ]
           ],
           "sequentialminus": [
            [
             0,
             "#0d0887"
            ],
            [
             0.1111111111111111,
             "#46039f"
            ],
            [
             0.2222222222222222,
             "#7201a8"
            ],
            [
             0.3333333333333333,
             "#9c179e"
            ],
            [
             0.4444444444444444,
             "#bd3786"
            ],
            [
             0.5555555555555556,
             "#d8576b"
            ],
            [
             0.6666666666666666,
             "#ed7953"
            ],
            [
             0.7777777777777778,
             "#fb9f3a"
            ],
            [
             0.8888888888888888,
             "#fdca26"
            ],
            [
             1,
             "#f0f921"
            ]
           ]
          },
          "colorway": [
           "#636efa",
           "#EF553B",
           "#00cc96",
           "#ab63fa",
           "#FFA15A",
           "#19d3f3",
           "#FF6692",
           "#B6E880",
           "#FF97FF",
           "#FECB52"
          ],
          "font": {
           "color": "#2a3f5f"
          },
          "geo": {
           "bgcolor": "white",
           "lakecolor": "white",
           "landcolor": "#E5ECF6",
           "showlakes": true,
           "showland": true,
           "subunitcolor": "white"
          },
          "hoverlabel": {
           "align": "left"
          },
          "hovermode": "closest",
          "mapbox": {
           "style": "light"
          },
          "paper_bgcolor": "white",
          "plot_bgcolor": "#E5ECF6",
          "polar": {
           "angularaxis": {
            "gridcolor": "white",
            "linecolor": "white",
            "ticks": ""
           },
           "bgcolor": "#E5ECF6",
           "radialaxis": {
            "gridcolor": "white",
            "linecolor": "white",
            "ticks": ""
           }
          },
          "scene": {
           "xaxis": {
            "backgroundcolor": "#E5ECF6",
            "gridcolor": "white",
            "gridwidth": 2,
            "linecolor": "white",
            "showbackground": true,
            "ticks": "",
            "zerolinecolor": "white"
           },
           "yaxis": {
            "backgroundcolor": "#E5ECF6",
            "gridcolor": "white",
            "gridwidth": 2,
            "linecolor": "white",
            "showbackground": true,
            "ticks": "",
            "zerolinecolor": "white"
           },
           "zaxis": {
            "backgroundcolor": "#E5ECF6",
            "gridcolor": "white",
            "gridwidth": 2,
            "linecolor": "white",
            "showbackground": true,
            "ticks": "",
            "zerolinecolor": "white"
           }
          },
          "shapedefaults": {
           "line": {
            "color": "#2a3f5f"
           }
          },
          "ternary": {
           "aaxis": {
            "gridcolor": "white",
            "linecolor": "white",
            "ticks": ""
           },
           "baxis": {
            "gridcolor": "white",
            "linecolor": "white",
            "ticks": ""
           },
           "bgcolor": "#E5ECF6",
           "caxis": {
            "gridcolor": "white",
            "linecolor": "white",
            "ticks": ""
           }
          },
          "title": {
           "x": 0.05
          },
          "xaxis": {
           "automargin": true,
           "gridcolor": "white",
           "linecolor": "white",
           "ticks": "",
           "title": {
            "standoff": 15
           },
           "zerolinecolor": "white",
           "zerolinewidth": 2
          },
          "yaxis": {
           "automargin": true,
           "gridcolor": "white",
           "linecolor": "white",
           "ticks": "",
           "title": {
            "standoff": 15
           },
           "zerolinecolor": "white",
           "zerolinewidth": 2
          }
         }
        },
        "title": {
         "font": {
          "size": 20
         },
         "text": "Топ 10 жанров платных видеоигр"
        },
        "xaxis": {
         "title": {
          "text": "Жанры игр"
         }
        },
        "yaxis": {
         "title": {
          "text": "Количество игр"
         }
        }
       }
      }
     },
     "metadata": {},
     "output_type": "display_data"
    }
   ],
   "source": [
    "#Строим диаграмму платных игр\n",
    "labels = top10.genre\n",
    "values = top10.number_of_games\n",
    "\n",
    "fig = go.Figure(data = [go.Bar(x = labels, y = values, text = values)])\n",
    "fig.update_layout(\n",
    "    title = 'Топ 10 жанров платных видеоигр',\n",
    "    title_font_size = 20,\n",
    "    xaxis_title = \"Жанры игр\",\n",
    "    yaxis_title = \"Количество игр\"\n",
    "    )\n",
    "fig.update_traces(textfont_size = 12, textangle = 0, textposition = \"outside\", cliponaxis = False)\n",
    "fig.show()"
   ]
  },
  {
   "cell_type": "code",
   "execution_count": 13,
   "metadata": {},
   "outputs": [
    {
     "name": "stdout",
     "output_type": "stream",
     "text": [
      "Топ 10 жанров бесплатных игр\n"
     ]
    },
    {
     "data": {
      "text/html": [
       "<style type=\"text/css\">\n",
       "#T_43b54_row0_col1 {\n",
       "  background-color: #67000d;\n",
       "  color: #f1f1f1;\n",
       "}\n",
       "#T_43b54_row1_col1 {\n",
       "  background-color: #8e0912;\n",
       "  color: #f1f1f1;\n",
       "}\n",
       "#T_43b54_row2_col1 {\n",
       "  background-color: #fc7f5f;\n",
       "  color: #f1f1f1;\n",
       "}\n",
       "#T_43b54_row3_col1 {\n",
       "  background-color: #fc8060;\n",
       "  color: #f1f1f1;\n",
       "}\n",
       "#T_43b54_row4_col1 {\n",
       "  background-color: #fcae92;\n",
       "  color: #000000;\n",
       "}\n",
       "#T_43b54_row5_col1, #T_43b54_row6_col1 {\n",
       "  background-color: #fee2d5;\n",
       "  color: #000000;\n",
       "}\n",
       "#T_43b54_row7_col1 {\n",
       "  background-color: #fee9df;\n",
       "  color: #000000;\n",
       "}\n",
       "#T_43b54_row8_col1 {\n",
       "  background-color: #fff3ed;\n",
       "  color: #000000;\n",
       "}\n",
       "#T_43b54_row9_col1 {\n",
       "  background-color: #fff5f0;\n",
       "  color: #000000;\n",
       "}\n",
       "</style>\n",
       "<table id=\"T_43b54\">\n",
       "  <thead>\n",
       "    <tr>\n",
       "      <th class=\"blank level0\" >&nbsp;</th>\n",
       "      <th id=\"T_43b54_level0_col0\" class=\"col_heading level0 col0\" >genre</th>\n",
       "      <th id=\"T_43b54_level0_col1\" class=\"col_heading level0 col1\" >number_of_games</th>\n",
       "    </tr>\n",
       "  </thead>\n",
       "  <tbody>\n",
       "    <tr>\n",
       "      <th id=\"T_43b54_level0_row0\" class=\"row_heading level0 row0\" >1</th>\n",
       "      <td id=\"T_43b54_row0_col0\" class=\"data row0 col0\" >Free to Play</td>\n",
       "      <td id=\"T_43b54_row0_col1\" class=\"data row0 col1\" >1555</td>\n",
       "    </tr>\n",
       "    <tr>\n",
       "      <th id=\"T_43b54_level0_row1\" class=\"row_heading level0 row1\" >2</th>\n",
       "      <td id=\"T_43b54_row1_col0\" class=\"data row1 col0\" >Indie</td>\n",
       "      <td id=\"T_43b54_row1_col1\" class=\"data row1 col1\" >1458</td>\n",
       "    </tr>\n",
       "    <tr>\n",
       "      <th id=\"T_43b54_level0_row2\" class=\"row_heading level0 row2\" >3</th>\n",
       "      <td id=\"T_43b54_row2_col0\" class=\"data row2 col0\" >Casual</td>\n",
       "      <td id=\"T_43b54_row2_col1\" class=\"data row2 col1\" >859</td>\n",
       "    </tr>\n",
       "    <tr>\n",
       "      <th id=\"T_43b54_level0_row3\" class=\"row_heading level0 row3\" >4</th>\n",
       "      <td id=\"T_43b54_row3_col0\" class=\"data row3 col0\" >Action</td>\n",
       "      <td id=\"T_43b54_row3_col1\" class=\"data row3 col1\" >856</td>\n",
       "    </tr>\n",
       "    <tr>\n",
       "      <th id=\"T_43b54_level0_row4\" class=\"row_heading level0 row4\" >5</th>\n",
       "      <td id=\"T_43b54_row4_col0\" class=\"data row4 col0\" >Adventure</td>\n",
       "      <td id=\"T_43b54_row4_col1\" class=\"data row4 col1\" >685</td>\n",
       "    </tr>\n",
       "    <tr>\n",
       "      <th id=\"T_43b54_level0_row5\" class=\"row_heading level0 row5\" >6</th>\n",
       "      <td id=\"T_43b54_row5_col0\" class=\"data row5 col0\" >Simulation</td>\n",
       "      <td id=\"T_43b54_row5_col1\" class=\"data row5 col1\" >469</td>\n",
       "    </tr>\n",
       "    <tr>\n",
       "      <th id=\"T_43b54_level0_row6\" class=\"row_heading level0 row6\" >7</th>\n",
       "      <td id=\"T_43b54_row6_col0\" class=\"data row6 col0\" >Strategy</td>\n",
       "      <td id=\"T_43b54_row6_col1\" class=\"data row6 col1\" >468</td>\n",
       "    </tr>\n",
       "    <tr>\n",
       "      <th id=\"T_43b54_level0_row7\" class=\"row_heading level0 row7\" >8</th>\n",
       "      <td id=\"T_43b54_row7_col0\" class=\"data row7 col0\" >RPG</td>\n",
       "      <td id=\"T_43b54_row7_col1\" class=\"data row7 col1\" >412</td>\n",
       "    </tr>\n",
       "    <tr>\n",
       "      <th id=\"T_43b54_level0_row8\" class=\"row_heading level0 row8\" >9</th>\n",
       "      <td id=\"T_43b54_row8_col0\" class=\"data row8 col0\" >Early Access</td>\n",
       "      <td id=\"T_43b54_row8_col1\" class=\"data row8 col1\" >343</td>\n",
       "    </tr>\n",
       "    <tr>\n",
       "      <th id=\"T_43b54_level0_row9\" class=\"row_heading level0 row9\" >10</th>\n",
       "      <td id=\"T_43b54_row9_col0\" class=\"data row9 col0\" >Massively Multiplayer</td>\n",
       "      <td id=\"T_43b54_row9_col1\" class=\"data row9 col1\" >325</td>\n",
       "    </tr>\n",
       "  </tbody>\n",
       "</table>\n"
      ],
      "text/plain": [
       "<pandas.io.formats.style.Styler at 0x216ca76f710>"
      ]
     },
     "execution_count": 13,
     "metadata": {},
     "output_type": "execute_result"
    }
   ],
   "source": [
    "#Выводим топ бесплатных игр\n",
    "genre_def(free_)\n",
    "print ('Топ 10 жанров бесплатных игр')\n",
    "top10.style.background_gradient(cmap = \"Reds\") "
   ]
  },
  {
   "cell_type": "code",
   "execution_count": 30,
   "metadata": {},
   "outputs": [
    {
     "data": {
      "application/vnd.plotly.v1+json": {
       "config": {
        "plotlyServerURL": "https://plot.ly"
       },
       "data": [
        {
         "cliponaxis": false,
         "text": [
          1555,
          1458,
          859,
          856,
          685,
          469,
          468,
          412,
          343,
          325
         ],
         "textangle": 0,
         "textfont": {
          "size": 12
         },
         "textposition": "outside",
         "type": "bar",
         "x": [
          "Free to Play",
          "Indie",
          "Casual",
          "Action",
          "Adventure",
          "Simulation",
          "Strategy",
          "RPG",
          "Early Access",
          "Massively Multiplayer"
         ],
         "y": [
          1555,
          1458,
          859,
          856,
          685,
          469,
          468,
          412,
          343,
          325
         ]
        }
       ],
       "layout": {
        "template": {
         "data": {
          "bar": [
           {
            "error_x": {
             "color": "#2a3f5f"
            },
            "error_y": {
             "color": "#2a3f5f"
            },
            "marker": {
             "line": {
              "color": "#E5ECF6",
              "width": 0.5
             },
             "pattern": {
              "fillmode": "overlay",
              "size": 10,
              "solidity": 0.2
             }
            },
            "type": "bar"
           }
          ],
          "barpolar": [
           {
            "marker": {
             "line": {
              "color": "#E5ECF6",
              "width": 0.5
             },
             "pattern": {
              "fillmode": "overlay",
              "size": 10,
              "solidity": 0.2
             }
            },
            "type": "barpolar"
           }
          ],
          "carpet": [
           {
            "aaxis": {
             "endlinecolor": "#2a3f5f",
             "gridcolor": "white",
             "linecolor": "white",
             "minorgridcolor": "white",
             "startlinecolor": "#2a3f5f"
            },
            "baxis": {
             "endlinecolor": "#2a3f5f",
             "gridcolor": "white",
             "linecolor": "white",
             "minorgridcolor": "white",
             "startlinecolor": "#2a3f5f"
            },
            "type": "carpet"
           }
          ],
          "choropleth": [
           {
            "colorbar": {
             "outlinewidth": 0,
             "ticks": ""
            },
            "type": "choropleth"
           }
          ],
          "contour": [
           {
            "colorbar": {
             "outlinewidth": 0,
             "ticks": ""
            },
            "colorscale": [
             [
              0,
              "#0d0887"
             ],
             [
              0.1111111111111111,
              "#46039f"
             ],
             [
              0.2222222222222222,
              "#7201a8"
             ],
             [
              0.3333333333333333,
              "#9c179e"
             ],
             [
              0.4444444444444444,
              "#bd3786"
             ],
             [
              0.5555555555555556,
              "#d8576b"
             ],
             [
              0.6666666666666666,
              "#ed7953"
             ],
             [
              0.7777777777777778,
              "#fb9f3a"
             ],
             [
              0.8888888888888888,
              "#fdca26"
             ],
             [
              1,
              "#f0f921"
             ]
            ],
            "type": "contour"
           }
          ],
          "contourcarpet": [
           {
            "colorbar": {
             "outlinewidth": 0,
             "ticks": ""
            },
            "type": "contourcarpet"
           }
          ],
          "heatmap": [
           {
            "colorbar": {
             "outlinewidth": 0,
             "ticks": ""
            },
            "colorscale": [
             [
              0,
              "#0d0887"
             ],
             [
              0.1111111111111111,
              "#46039f"
             ],
             [
              0.2222222222222222,
              "#7201a8"
             ],
             [
              0.3333333333333333,
              "#9c179e"
             ],
             [
              0.4444444444444444,
              "#bd3786"
             ],
             [
              0.5555555555555556,
              "#d8576b"
             ],
             [
              0.6666666666666666,
              "#ed7953"
             ],
             [
              0.7777777777777778,
              "#fb9f3a"
             ],
             [
              0.8888888888888888,
              "#fdca26"
             ],
             [
              1,
              "#f0f921"
             ]
            ],
            "type": "heatmap"
           }
          ],
          "heatmapgl": [
           {
            "colorbar": {
             "outlinewidth": 0,
             "ticks": ""
            },
            "colorscale": [
             [
              0,
              "#0d0887"
             ],
             [
              0.1111111111111111,
              "#46039f"
             ],
             [
              0.2222222222222222,
              "#7201a8"
             ],
             [
              0.3333333333333333,
              "#9c179e"
             ],
             [
              0.4444444444444444,
              "#bd3786"
             ],
             [
              0.5555555555555556,
              "#d8576b"
             ],
             [
              0.6666666666666666,
              "#ed7953"
             ],
             [
              0.7777777777777778,
              "#fb9f3a"
             ],
             [
              0.8888888888888888,
              "#fdca26"
             ],
             [
              1,
              "#f0f921"
             ]
            ],
            "type": "heatmapgl"
           }
          ],
          "histogram": [
           {
            "marker": {
             "pattern": {
              "fillmode": "overlay",
              "size": 10,
              "solidity": 0.2
             }
            },
            "type": "histogram"
           }
          ],
          "histogram2d": [
           {
            "colorbar": {
             "outlinewidth": 0,
             "ticks": ""
            },
            "colorscale": [
             [
              0,
              "#0d0887"
             ],
             [
              0.1111111111111111,
              "#46039f"
             ],
             [
              0.2222222222222222,
              "#7201a8"
             ],
             [
              0.3333333333333333,
              "#9c179e"
             ],
             [
              0.4444444444444444,
              "#bd3786"
             ],
             [
              0.5555555555555556,
              "#d8576b"
             ],
             [
              0.6666666666666666,
              "#ed7953"
             ],
             [
              0.7777777777777778,
              "#fb9f3a"
             ],
             [
              0.8888888888888888,
              "#fdca26"
             ],
             [
              1,
              "#f0f921"
             ]
            ],
            "type": "histogram2d"
           }
          ],
          "histogram2dcontour": [
           {
            "colorbar": {
             "outlinewidth": 0,
             "ticks": ""
            },
            "colorscale": [
             [
              0,
              "#0d0887"
             ],
             [
              0.1111111111111111,
              "#46039f"
             ],
             [
              0.2222222222222222,
              "#7201a8"
             ],
             [
              0.3333333333333333,
              "#9c179e"
             ],
             [
              0.4444444444444444,
              "#bd3786"
             ],
             [
              0.5555555555555556,
              "#d8576b"
             ],
             [
              0.6666666666666666,
              "#ed7953"
             ],
             [
              0.7777777777777778,
              "#fb9f3a"
             ],
             [
              0.8888888888888888,
              "#fdca26"
             ],
             [
              1,
              "#f0f921"
             ]
            ],
            "type": "histogram2dcontour"
           }
          ],
          "mesh3d": [
           {
            "colorbar": {
             "outlinewidth": 0,
             "ticks": ""
            },
            "type": "mesh3d"
           }
          ],
          "parcoords": [
           {
            "line": {
             "colorbar": {
              "outlinewidth": 0,
              "ticks": ""
             }
            },
            "type": "parcoords"
           }
          ],
          "pie": [
           {
            "automargin": true,
            "type": "pie"
           }
          ],
          "scatter": [
           {
            "fillpattern": {
             "fillmode": "overlay",
             "size": 10,
             "solidity": 0.2
            },
            "type": "scatter"
           }
          ],
          "scatter3d": [
           {
            "line": {
             "colorbar": {
              "outlinewidth": 0,
              "ticks": ""
             }
            },
            "marker": {
             "colorbar": {
              "outlinewidth": 0,
              "ticks": ""
             }
            },
            "type": "scatter3d"
           }
          ],
          "scattercarpet": [
           {
            "marker": {
             "colorbar": {
              "outlinewidth": 0,
              "ticks": ""
             }
            },
            "type": "scattercarpet"
           }
          ],
          "scattergeo": [
           {
            "marker": {
             "colorbar": {
              "outlinewidth": 0,
              "ticks": ""
             }
            },
            "type": "scattergeo"
           }
          ],
          "scattergl": [
           {
            "marker": {
             "colorbar": {
              "outlinewidth": 0,
              "ticks": ""
             }
            },
            "type": "scattergl"
           }
          ],
          "scattermapbox": [
           {
            "marker": {
             "colorbar": {
              "outlinewidth": 0,
              "ticks": ""
             }
            },
            "type": "scattermapbox"
           }
          ],
          "scatterpolar": [
           {
            "marker": {
             "colorbar": {
              "outlinewidth": 0,
              "ticks": ""
             }
            },
            "type": "scatterpolar"
           }
          ],
          "scatterpolargl": [
           {
            "marker": {
             "colorbar": {
              "outlinewidth": 0,
              "ticks": ""
             }
            },
            "type": "scatterpolargl"
           }
          ],
          "scatterternary": [
           {
            "marker": {
             "colorbar": {
              "outlinewidth": 0,
              "ticks": ""
             }
            },
            "type": "scatterternary"
           }
          ],
          "surface": [
           {
            "colorbar": {
             "outlinewidth": 0,
             "ticks": ""
            },
            "colorscale": [
             [
              0,
              "#0d0887"
             ],
             [
              0.1111111111111111,
              "#46039f"
             ],
             [
              0.2222222222222222,
              "#7201a8"
             ],
             [
              0.3333333333333333,
              "#9c179e"
             ],
             [
              0.4444444444444444,
              "#bd3786"
             ],
             [
              0.5555555555555556,
              "#d8576b"
             ],
             [
              0.6666666666666666,
              "#ed7953"
             ],
             [
              0.7777777777777778,
              "#fb9f3a"
             ],
             [
              0.8888888888888888,
              "#fdca26"
             ],
             [
              1,
              "#f0f921"
             ]
            ],
            "type": "surface"
           }
          ],
          "table": [
           {
            "cells": {
             "fill": {
              "color": "#EBF0F8"
             },
             "line": {
              "color": "white"
             }
            },
            "header": {
             "fill": {
              "color": "#C8D4E3"
             },
             "line": {
              "color": "white"
             }
            },
            "type": "table"
           }
          ]
         },
         "layout": {
          "annotationdefaults": {
           "arrowcolor": "#2a3f5f",
           "arrowhead": 0,
           "arrowwidth": 1
          },
          "autotypenumbers": "strict",
          "coloraxis": {
           "colorbar": {
            "outlinewidth": 0,
            "ticks": ""
           }
          },
          "colorscale": {
           "diverging": [
            [
             0,
             "#8e0152"
            ],
            [
             0.1,
             "#c51b7d"
            ],
            [
             0.2,
             "#de77ae"
            ],
            [
             0.3,
             "#f1b6da"
            ],
            [
             0.4,
             "#fde0ef"
            ],
            [
             0.5,
             "#f7f7f7"
            ],
            [
             0.6,
             "#e6f5d0"
            ],
            [
             0.7,
             "#b8e186"
            ],
            [
             0.8,
             "#7fbc41"
            ],
            [
             0.9,
             "#4d9221"
            ],
            [
             1,
             "#276419"
            ]
           ],
           "sequential": [
            [
             0,
             "#0d0887"
            ],
            [
             0.1111111111111111,
             "#46039f"
            ],
            [
             0.2222222222222222,
             "#7201a8"
            ],
            [
             0.3333333333333333,
             "#9c179e"
            ],
            [
             0.4444444444444444,
             "#bd3786"
            ],
            [
             0.5555555555555556,
             "#d8576b"
            ],
            [
             0.6666666666666666,
             "#ed7953"
            ],
            [
             0.7777777777777778,
             "#fb9f3a"
            ],
            [
             0.8888888888888888,
             "#fdca26"
            ],
            [
             1,
             "#f0f921"
            ]
           ],
           "sequentialminus": [
            [
             0,
             "#0d0887"
            ],
            [
             0.1111111111111111,
             "#46039f"
            ],
            [
             0.2222222222222222,
             "#7201a8"
            ],
            [
             0.3333333333333333,
             "#9c179e"
            ],
            [
             0.4444444444444444,
             "#bd3786"
            ],
            [
             0.5555555555555556,
             "#d8576b"
            ],
            [
             0.6666666666666666,
             "#ed7953"
            ],
            [
             0.7777777777777778,
             "#fb9f3a"
            ],
            [
             0.8888888888888888,
             "#fdca26"
            ],
            [
             1,
             "#f0f921"
            ]
           ]
          },
          "colorway": [
           "#636efa",
           "#EF553B",
           "#00cc96",
           "#ab63fa",
           "#FFA15A",
           "#19d3f3",
           "#FF6692",
           "#B6E880",
           "#FF97FF",
           "#FECB52"
          ],
          "font": {
           "color": "#2a3f5f"
          },
          "geo": {
           "bgcolor": "white",
           "lakecolor": "white",
           "landcolor": "#E5ECF6",
           "showlakes": true,
           "showland": true,
           "subunitcolor": "white"
          },
          "hoverlabel": {
           "align": "left"
          },
          "hovermode": "closest",
          "mapbox": {
           "style": "light"
          },
          "paper_bgcolor": "white",
          "plot_bgcolor": "#E5ECF6",
          "polar": {
           "angularaxis": {
            "gridcolor": "white",
            "linecolor": "white",
            "ticks": ""
           },
           "bgcolor": "#E5ECF6",
           "radialaxis": {
            "gridcolor": "white",
            "linecolor": "white",
            "ticks": ""
           }
          },
          "scene": {
           "xaxis": {
            "backgroundcolor": "#E5ECF6",
            "gridcolor": "white",
            "gridwidth": 2,
            "linecolor": "white",
            "showbackground": true,
            "ticks": "",
            "zerolinecolor": "white"
           },
           "yaxis": {
            "backgroundcolor": "#E5ECF6",
            "gridcolor": "white",
            "gridwidth": 2,
            "linecolor": "white",
            "showbackground": true,
            "ticks": "",
            "zerolinecolor": "white"
           },
           "zaxis": {
            "backgroundcolor": "#E5ECF6",
            "gridcolor": "white",
            "gridwidth": 2,
            "linecolor": "white",
            "showbackground": true,
            "ticks": "",
            "zerolinecolor": "white"
           }
          },
          "shapedefaults": {
           "line": {
            "color": "#2a3f5f"
           }
          },
          "ternary": {
           "aaxis": {
            "gridcolor": "white",
            "linecolor": "white",
            "ticks": ""
           },
           "baxis": {
            "gridcolor": "white",
            "linecolor": "white",
            "ticks": ""
           },
           "bgcolor": "#E5ECF6",
           "caxis": {
            "gridcolor": "white",
            "linecolor": "white",
            "ticks": ""
           }
          },
          "title": {
           "x": 0.05
          },
          "xaxis": {
           "automargin": true,
           "gridcolor": "white",
           "linecolor": "white",
           "ticks": "",
           "title": {
            "standoff": 15
           },
           "zerolinecolor": "white",
           "zerolinewidth": 2
          },
          "yaxis": {
           "automargin": true,
           "gridcolor": "white",
           "linecolor": "white",
           "ticks": "",
           "title": {
            "standoff": 15
           },
           "zerolinecolor": "white",
           "zerolinewidth": 2
          }
         }
        },
        "title": {
         "font": {
          "size": 20
         },
         "text": "Топ 10 жанров бесплатных видеоигр"
        },
        "xaxis": {
         "title": {
          "text": "Жанры игр"
         }
        },
        "yaxis": {
         "title": {
          "text": "Количество игр"
         }
        }
       }
      }
     },
     "metadata": {},
     "output_type": "display_data"
    }
   ],
   "source": [
    "#Строим диаграмму платных игр\n",
    "labels = top10.genre\n",
    "values = top10.number_of_games\n",
    "\n",
    "fig = go.Figure(data=[go.Bar(x = labels, y = values, text = values)])\n",
    "fig.update_layout(\n",
    "    title = 'Топ 10 жанров бесплатных видеоигр',\n",
    "    title_font_size = 20,\n",
    "    xaxis_title = \"Жанры игр\",\n",
    "    yaxis_title = \"Количество игр\"\n",
    "                 )\n",
    "fig.update_traces(textfont_size = 12, textangle = 0, textposition = \"outside\", cliponaxis = False)\n",
    "fig.show()"
   ]
  },
  {
   "cell_type": "markdown",
   "metadata": {},
   "source": [
    "Наиболее популярные жанры для платных Indie, Action, Casual, Adventure\n",
    "Наиболее популярные жанры для бесплатных Free to Play, Indie, Сasual, Action, Adventure"
   ]
  },
  {
   "cell_type": "markdown",
   "metadata": {},
   "source": [
    "Необходимо вывести игры, процент положительных отзывов у которых >=99% (не учитывать игры, у которых нет отрицательных отзывов). Постройте диаграмму"
   ]
  },
  {
   "cell_type": "code",
   "execution_count": 31,
   "metadata": {
    "scrolled": true
   },
   "outputs": [
    {
     "data": {
      "text/html": [
       "<div>\n",
       "<style scoped>\n",
       "    .dataframe tbody tr th:only-of-type {\n",
       "        vertical-align: middle;\n",
       "    }\n",
       "\n",
       "    .dataframe tbody tr th {\n",
       "        vertical-align: top;\n",
       "    }\n",
       "\n",
       "    .dataframe thead th {\n",
       "        text-align: right;\n",
       "    }\n",
       "</style>\n",
       "<table border=\"1\" class=\"dataframe\">\n",
       "  <thead>\n",
       "    <tr style=\"text-align: right;\">\n",
       "      <th></th>\n",
       "      <th>appid</th>\n",
       "      <th>name</th>\n",
       "      <th>release_date</th>\n",
       "      <th>english</th>\n",
       "      <th>developer</th>\n",
       "      <th>publisher</th>\n",
       "      <th>platforms</th>\n",
       "      <th>required_age</th>\n",
       "      <th>genres</th>\n",
       "      <th>achievements</th>\n",
       "      <th>positive_ratings</th>\n",
       "      <th>negative_ratings</th>\n",
       "      <th>average_playtime</th>\n",
       "      <th>median_playtime</th>\n",
       "      <th>owners</th>\n",
       "      <th>owners_min</th>\n",
       "      <th>owners_max</th>\n",
       "      <th>price</th>\n",
       "      <th>year</th>\n",
       "    </tr>\n",
       "  </thead>\n",
       "  <tbody>\n",
       "    <tr>\n",
       "      <th>3379</th>\n",
       "      <td>305760</td>\n",
       "      <td>Redirection</td>\n",
       "      <td>2016-10-24</td>\n",
       "      <td>1</td>\n",
       "      <td>Daniel Ratcliffe</td>\n",
       "      <td>Daniel Ratcliffe</td>\n",
       "      <td>windows;mac;linux</td>\n",
       "      <td>0</td>\n",
       "      <td>Casual;Indie</td>\n",
       "      <td>21</td>\n",
       "      <td>118</td>\n",
       "      <td>1</td>\n",
       "      <td>0</td>\n",
       "      <td>0</td>\n",
       "      <td>0-20000</td>\n",
       "      <td>0</td>\n",
       "      <td>20000</td>\n",
       "      <td>2.89</td>\n",
       "      <td>2016</td>\n",
       "    </tr>\n",
       "    <tr>\n",
       "      <th>8021</th>\n",
       "      <td>439490</td>\n",
       "      <td>BLUE REVOLVER</td>\n",
       "      <td>2016-10-11</td>\n",
       "      <td>1</td>\n",
       "      <td>Stellar Circle</td>\n",
       "      <td>Stellar Circle</td>\n",
       "      <td>windows;mac;linux</td>\n",
       "      <td>0</td>\n",
       "      <td>Action;Indie</td>\n",
       "      <td>40</td>\n",
       "      <td>233</td>\n",
       "      <td>2</td>\n",
       "      <td>0</td>\n",
       "      <td>0</td>\n",
       "      <td>0-20000</td>\n",
       "      <td>0</td>\n",
       "      <td>20000</td>\n",
       "      <td>10.99</td>\n",
       "      <td>2016</td>\n",
       "    </tr>\n",
       "    <tr>\n",
       "      <th>10569</th>\n",
       "      <td>516480</td>\n",
       "      <td>Pinkman</td>\n",
       "      <td>2017-01-16</td>\n",
       "      <td>1</td>\n",
       "      <td>Green Dinosaur Games</td>\n",
       "      <td>Green Dinosaur Games</td>\n",
       "      <td>windows</td>\n",
       "      <td>0</td>\n",
       "      <td>Action;Adventure;Casual;Indie</td>\n",
       "      <td>20</td>\n",
       "      <td>245</td>\n",
       "      <td>2</td>\n",
       "      <td>0</td>\n",
       "      <td>0</td>\n",
       "      <td>0-20000</td>\n",
       "      <td>0</td>\n",
       "      <td>20000</td>\n",
       "      <td>0.79</td>\n",
       "      <td>2017</td>\n",
       "    </tr>\n",
       "    <tr>\n",
       "      <th>13937</th>\n",
       "      <td>611760</td>\n",
       "      <td>Don't Escape: 4 Days in a Wasteland</td>\n",
       "      <td>2019-03-11</td>\n",
       "      <td>1</td>\n",
       "      <td>scriptwelder</td>\n",
       "      <td>Armor Games Studios</td>\n",
       "      <td>windows;mac</td>\n",
       "      <td>0</td>\n",
       "      <td>Adventure;Indie</td>\n",
       "      <td>25</td>\n",
       "      <td>192</td>\n",
       "      <td>1</td>\n",
       "      <td>0</td>\n",
       "      <td>0</td>\n",
       "      <td>0-20000</td>\n",
       "      <td>0</td>\n",
       "      <td>20000</td>\n",
       "      <td>10.99</td>\n",
       "      <td>2019</td>\n",
       "    </tr>\n",
       "    <tr>\n",
       "      <th>17012</th>\n",
       "      <td>704470</td>\n",
       "      <td>VR Furballs - Demolition</td>\n",
       "      <td>2018-11-09</td>\n",
       "      <td>1</td>\n",
       "      <td>Gamily Studios</td>\n",
       "      <td>Gamily Studios</td>\n",
       "      <td>windows</td>\n",
       "      <td>0</td>\n",
       "      <td>Casual;Indie</td>\n",
       "      <td>480</td>\n",
       "      <td>108</td>\n",
       "      <td>1</td>\n",
       "      <td>0</td>\n",
       "      <td>0</td>\n",
       "      <td>0-20000</td>\n",
       "      <td>0</td>\n",
       "      <td>20000</td>\n",
       "      <td>11.49</td>\n",
       "      <td>2018</td>\n",
       "    </tr>\n",
       "    <tr>\n",
       "      <th>20135</th>\n",
       "      <td>793690</td>\n",
       "      <td>Final Assault</td>\n",
       "      <td>2019-03-21</td>\n",
       "      <td>1</td>\n",
       "      <td>Phaser Lock Interactive</td>\n",
       "      <td>Phaser Lock Interactive</td>\n",
       "      <td>windows</td>\n",
       "      <td>0</td>\n",
       "      <td>Strategy;Early Access</td>\n",
       "      <td>87</td>\n",
       "      <td>125</td>\n",
       "      <td>1</td>\n",
       "      <td>60</td>\n",
       "      <td>60</td>\n",
       "      <td>0-20000</td>\n",
       "      <td>0</td>\n",
       "      <td>20000</td>\n",
       "      <td>23.79</td>\n",
       "      <td>2019</td>\n",
       "    </tr>\n",
       "    <tr>\n",
       "      <th>21136</th>\n",
       "      <td>822760</td>\n",
       "      <td>Fureraba ~Friend to Lover~</td>\n",
       "      <td>2018-05-04</td>\n",
       "      <td>1</td>\n",
       "      <td>Smee</td>\n",
       "      <td>NekoNyan Ltd.</td>\n",
       "      <td>windows</td>\n",
       "      <td>0</td>\n",
       "      <td>Adventure;Casual;Simulation</td>\n",
       "      <td>0</td>\n",
       "      <td>120</td>\n",
       "      <td>1</td>\n",
       "      <td>393</td>\n",
       "      <td>393</td>\n",
       "      <td>0-20000</td>\n",
       "      <td>0</td>\n",
       "      <td>20000</td>\n",
       "      <td>23.79</td>\n",
       "      <td>2018</td>\n",
       "    </tr>\n",
       "    <tr>\n",
       "      <th>22281</th>\n",
       "      <td>858940</td>\n",
       "      <td>Flowers -Le volume sur ete-</td>\n",
       "      <td>2018-07-26</td>\n",
       "      <td>1</td>\n",
       "      <td>Innocent Grey</td>\n",
       "      <td>JAST USA\\t</td>\n",
       "      <td>windows</td>\n",
       "      <td>0</td>\n",
       "      <td>Casual</td>\n",
       "      <td>0</td>\n",
       "      <td>182</td>\n",
       "      <td>1</td>\n",
       "      <td>0</td>\n",
       "      <td>0</td>\n",
       "      <td>0-20000</td>\n",
       "      <td>0</td>\n",
       "      <td>20000</td>\n",
       "      <td>15.49</td>\n",
       "      <td>2018</td>\n",
       "    </tr>\n",
       "    <tr>\n",
       "      <th>22429</th>\n",
       "      <td>862570</td>\n",
       "      <td>Ding Dong XL</td>\n",
       "      <td>2018-06-15</td>\n",
       "      <td>1</td>\n",
       "      <td>Nickervision Studios</td>\n",
       "      <td>Nickervision Studios</td>\n",
       "      <td>windows;mac;linux</td>\n",
       "      <td>0</td>\n",
       "      <td>Action;Casual;Indie</td>\n",
       "      <td>32</td>\n",
       "      <td>226</td>\n",
       "      <td>2</td>\n",
       "      <td>0</td>\n",
       "      <td>0</td>\n",
       "      <td>0-20000</td>\n",
       "      <td>0</td>\n",
       "      <td>20000</td>\n",
       "      <td>0.79</td>\n",
       "      <td>2018</td>\n",
       "    </tr>\n",
       "    <tr>\n",
       "      <th>23080</th>\n",
       "      <td>882110</td>\n",
       "      <td>Google Spotlight Stories: Age of Sail</td>\n",
       "      <td>2018-11-13</td>\n",
       "      <td>1</td>\n",
       "      <td>Google Inc.</td>\n",
       "      <td>Google Inc.</td>\n",
       "      <td>windows</td>\n",
       "      <td>0</td>\n",
       "      <td>Adventure;Free to Play</td>\n",
       "      <td>0</td>\n",
       "      <td>148</td>\n",
       "      <td>1</td>\n",
       "      <td>0</td>\n",
       "      <td>0</td>\n",
       "      <td>20000-50000</td>\n",
       "      <td>20000</td>\n",
       "      <td>50000</td>\n",
       "      <td>0.00</td>\n",
       "      <td>2018</td>\n",
       "    </tr>\n",
       "    <tr>\n",
       "      <th>23296</th>\n",
       "      <td>888790</td>\n",
       "      <td>Sabbat of the Witch</td>\n",
       "      <td>2018-10-26</td>\n",
       "      <td>1</td>\n",
       "      <td>Yuzusoft</td>\n",
       "      <td>NekoNyan Ltd.</td>\n",
       "      <td>windows</td>\n",
       "      <td>0</td>\n",
       "      <td>Adventure;Casual;Simulation</td>\n",
       "      <td>20</td>\n",
       "      <td>521</td>\n",
       "      <td>2</td>\n",
       "      <td>0</td>\n",
       "      <td>0</td>\n",
       "      <td>0-20000</td>\n",
       "      <td>0</td>\n",
       "      <td>20000</td>\n",
       "      <td>23.79</td>\n",
       "      <td>2018</td>\n",
       "    </tr>\n",
       "    <tr>\n",
       "      <th>23545</th>\n",
       "      <td>896460</td>\n",
       "      <td>Lucah: Born of a Dream</td>\n",
       "      <td>2018-08-21</td>\n",
       "      <td>1</td>\n",
       "      <td>melessthanthree</td>\n",
       "      <td>Syndicate Atomic LLC.</td>\n",
       "      <td>windows;mac;linux</td>\n",
       "      <td>0</td>\n",
       "      <td>Action;Indie;RPG</td>\n",
       "      <td>29</td>\n",
       "      <td>159</td>\n",
       "      <td>1</td>\n",
       "      <td>0</td>\n",
       "      <td>0</td>\n",
       "      <td>0-20000</td>\n",
       "      <td>0</td>\n",
       "      <td>20000</td>\n",
       "      <td>15.49</td>\n",
       "      <td>2018</td>\n",
       "    </tr>\n",
       "    <tr>\n",
       "      <th>23867</th>\n",
       "      <td>910630</td>\n",
       "      <td>Arcade Spirits</td>\n",
       "      <td>2019-02-12</td>\n",
       "      <td>1</td>\n",
       "      <td>Fiction Factory Games</td>\n",
       "      <td>PQube Limited</td>\n",
       "      <td>windows;mac;linux</td>\n",
       "      <td>0</td>\n",
       "      <td>Indie</td>\n",
       "      <td>21</td>\n",
       "      <td>137</td>\n",
       "      <td>1</td>\n",
       "      <td>0</td>\n",
       "      <td>0</td>\n",
       "      <td>0-20000</td>\n",
       "      <td>0</td>\n",
       "      <td>20000</td>\n",
       "      <td>15.49</td>\n",
       "      <td>2019</td>\n",
       "    </tr>\n",
       "    <tr>\n",
       "      <th>24195</th>\n",
       "      <td>922400</td>\n",
       "      <td>DX-Ball 2: 20th Anniversary Edition</td>\n",
       "      <td>2018-11-21</td>\n",
       "      <td>1</td>\n",
       "      <td>Longbow Games</td>\n",
       "      <td>Longbow Games</td>\n",
       "      <td>windows</td>\n",
       "      <td>0</td>\n",
       "      <td>Casual;Indie</td>\n",
       "      <td>28</td>\n",
       "      <td>121</td>\n",
       "      <td>1</td>\n",
       "      <td>0</td>\n",
       "      <td>0</td>\n",
       "      <td>0-20000</td>\n",
       "      <td>0</td>\n",
       "      <td>20000</td>\n",
       "      <td>5.19</td>\n",
       "      <td>2018</td>\n",
       "    </tr>\n",
       "    <tr>\n",
       "      <th>24512</th>\n",
       "      <td>934580</td>\n",
       "      <td>Hell Wedding 夜嫁</td>\n",
       "      <td>2019-01-31</td>\n",
       "      <td>0</td>\n",
       "      <td>Phoenix Game Studio</td>\n",
       "      <td>Ggame Studio</td>\n",
       "      <td>windows</td>\n",
       "      <td>0</td>\n",
       "      <td>Indie;Early Access</td>\n",
       "      <td>0</td>\n",
       "      <td>117</td>\n",
       "      <td>1</td>\n",
       "      <td>0</td>\n",
       "      <td>0</td>\n",
       "      <td>0-20000</td>\n",
       "      <td>0</td>\n",
       "      <td>20000</td>\n",
       "      <td>0.00</td>\n",
       "      <td>2019</td>\n",
       "    </tr>\n",
       "    <tr>\n",
       "      <th>24596</th>\n",
       "      <td>937580</td>\n",
       "      <td>東方紺珠伝 ～ Legacy of Lunatic Kingdom.</td>\n",
       "      <td>2019-04-01</td>\n",
       "      <td>0</td>\n",
       "      <td>上海アリス幻樂団</td>\n",
       "      <td>Mediascape Co., Ltd.</td>\n",
       "      <td>windows</td>\n",
       "      <td>0</td>\n",
       "      <td>Action;Indie</td>\n",
       "      <td>0</td>\n",
       "      <td>151</td>\n",
       "      <td>1</td>\n",
       "      <td>0</td>\n",
       "      <td>0</td>\n",
       "      <td>0-20000</td>\n",
       "      <td>0</td>\n",
       "      <td>20000</td>\n",
       "      <td>11.39</td>\n",
       "      <td>2019</td>\n",
       "    </tr>\n",
       "    <tr>\n",
       "      <th>25642</th>\n",
       "      <td>979600</td>\n",
       "      <td>Kaori After Story</td>\n",
       "      <td>2018-12-03</td>\n",
       "      <td>1</td>\n",
       "      <td>PixelFade Inc</td>\n",
       "      <td>PixelFade Inc</td>\n",
       "      <td>windows;mac</td>\n",
       "      <td>0</td>\n",
       "      <td>Adventure;Indie;RPG;Simulation</td>\n",
       "      <td>0</td>\n",
       "      <td>255</td>\n",
       "      <td>2</td>\n",
       "      <td>0</td>\n",
       "      <td>0</td>\n",
       "      <td>0-20000</td>\n",
       "      <td>0</td>\n",
       "      <td>20000</td>\n",
       "      <td>7.19</td>\n",
       "      <td>2018</td>\n",
       "    </tr>\n",
       "    <tr>\n",
       "      <th>26561</th>\n",
       "      <td>1025070</td>\n",
       "      <td>淑女同萌！-New Division- / Hello Lady! -New Division-</td>\n",
       "      <td>2019-04-19</td>\n",
       "      <td>0</td>\n",
       "      <td>AKATSUKI-WORKS</td>\n",
       "      <td>HIKARI FIELD</td>\n",
       "      <td>windows</td>\n",
       "      <td>0</td>\n",
       "      <td>Adventure</td>\n",
       "      <td>0</td>\n",
       "      <td>126</td>\n",
       "      <td>1</td>\n",
       "      <td>0</td>\n",
       "      <td>0</td>\n",
       "      <td>0-20000</td>\n",
       "      <td>0</td>\n",
       "      <td>20000</td>\n",
       "      <td>11.39</td>\n",
       "      <td>2019</td>\n",
       "    </tr>\n",
       "    <tr>\n",
       "      <th>26780</th>\n",
       "      <td>1037190</td>\n",
       "      <td>Shipped</td>\n",
       "      <td>2019-03-28</td>\n",
       "      <td>1</td>\n",
       "      <td>Majorariatto</td>\n",
       "      <td>Majorariatto</td>\n",
       "      <td>windows;mac;linux</td>\n",
       "      <td>0</td>\n",
       "      <td>Action;Casual;Indie;Sports</td>\n",
       "      <td>11</td>\n",
       "      <td>296</td>\n",
       "      <td>2</td>\n",
       "      <td>0</td>\n",
       "      <td>0</td>\n",
       "      <td>0-20000</td>\n",
       "      <td>0</td>\n",
       "      <td>20000</td>\n",
       "      <td>5.20</td>\n",
       "      <td>2019</td>\n",
       "    </tr>\n",
       "  </tbody>\n",
       "</table>\n",
       "</div>"
      ],
      "text/plain": [
       "         appid                                              name release_date  \\\n",
       "3379    305760                                       Redirection   2016-10-24   \n",
       "8021    439490                                     BLUE REVOLVER   2016-10-11   \n",
       "10569   516480                                           Pinkman   2017-01-16   \n",
       "13937   611760               Don't Escape: 4 Days in a Wasteland   2019-03-11   \n",
       "17012   704470                          VR Furballs - Demolition   2018-11-09   \n",
       "20135   793690                                     Final Assault   2019-03-21   \n",
       "21136   822760                        Fureraba ~Friend to Lover~   2018-05-04   \n",
       "22281   858940                       Flowers -Le volume sur ete-   2018-07-26   \n",
       "22429   862570                                      Ding Dong XL   2018-06-15   \n",
       "23080   882110             Google Spotlight Stories: Age of Sail   2018-11-13   \n",
       "23296   888790                               Sabbat of the Witch   2018-10-26   \n",
       "23545   896460                            Lucah: Born of a Dream   2018-08-21   \n",
       "23867   910630                                    Arcade Spirits   2019-02-12   \n",
       "24195   922400               DX-Ball 2: 20th Anniversary Edition   2018-11-21   \n",
       "24512   934580                                   Hell Wedding 夜嫁   2019-01-31   \n",
       "24596   937580                東方紺珠伝 ～ Legacy of Lunatic Kingdom.   2019-04-01   \n",
       "25642   979600                                 Kaori After Story   2018-12-03   \n",
       "26561  1025070  淑女同萌！-New Division- / Hello Lady! -New Division-   2019-04-19   \n",
       "26780  1037190                                           Shipped   2019-03-28   \n",
       "\n",
       "       english                developer                publisher  \\\n",
       "3379         1         Daniel Ratcliffe         Daniel Ratcliffe   \n",
       "8021         1           Stellar Circle           Stellar Circle   \n",
       "10569        1     Green Dinosaur Games     Green Dinosaur Games   \n",
       "13937        1             scriptwelder      Armor Games Studios   \n",
       "17012        1           Gamily Studios           Gamily Studios   \n",
       "20135        1  Phaser Lock Interactive  Phaser Lock Interactive   \n",
       "21136        1                     Smee            NekoNyan Ltd.   \n",
       "22281        1            Innocent Grey               JAST USA\\t   \n",
       "22429        1     Nickervision Studios     Nickervision Studios   \n",
       "23080        1              Google Inc.              Google Inc.   \n",
       "23296        1                 Yuzusoft            NekoNyan Ltd.   \n",
       "23545        1          melessthanthree   Syndicate Atomic LLC.    \n",
       "23867        1    Fiction Factory Games            PQube Limited   \n",
       "24195        1            Longbow Games            Longbow Games   \n",
       "24512        0      Phoenix Game Studio             Ggame Studio   \n",
       "24596        0                 上海アリス幻樂団     Mediascape Co., Ltd.   \n",
       "25642        1            PixelFade Inc            PixelFade Inc   \n",
       "26561        0           AKATSUKI-WORKS             HIKARI FIELD   \n",
       "26780        1             Majorariatto             Majorariatto   \n",
       "\n",
       "               platforms  required_age                          genres  \\\n",
       "3379   windows;mac;linux             0                    Casual;Indie   \n",
       "8021   windows;mac;linux             0                    Action;Indie   \n",
       "10569            windows             0   Action;Adventure;Casual;Indie   \n",
       "13937        windows;mac             0                 Adventure;Indie   \n",
       "17012            windows             0                    Casual;Indie   \n",
       "20135            windows             0           Strategy;Early Access   \n",
       "21136            windows             0     Adventure;Casual;Simulation   \n",
       "22281            windows             0                          Casual   \n",
       "22429  windows;mac;linux             0             Action;Casual;Indie   \n",
       "23080            windows             0          Adventure;Free to Play   \n",
       "23296            windows             0     Adventure;Casual;Simulation   \n",
       "23545  windows;mac;linux             0                Action;Indie;RPG   \n",
       "23867  windows;mac;linux             0                           Indie   \n",
       "24195            windows             0                    Casual;Indie   \n",
       "24512            windows             0              Indie;Early Access   \n",
       "24596            windows             0                    Action;Indie   \n",
       "25642        windows;mac             0  Adventure;Indie;RPG;Simulation   \n",
       "26561            windows             0                       Adventure   \n",
       "26780  windows;mac;linux             0      Action;Casual;Indie;Sports   \n",
       "\n",
       "       achievements  positive_ratings  negative_ratings  average_playtime  \\\n",
       "3379             21               118                 1                 0   \n",
       "8021             40               233                 2                 0   \n",
       "10569            20               245                 2                 0   \n",
       "13937            25               192                 1                 0   \n",
       "17012           480               108                 1                 0   \n",
       "20135            87               125                 1                60   \n",
       "21136             0               120                 1               393   \n",
       "22281             0               182                 1                 0   \n",
       "22429            32               226                 2                 0   \n",
       "23080             0               148                 1                 0   \n",
       "23296            20               521                 2                 0   \n",
       "23545            29               159                 1                 0   \n",
       "23867            21               137                 1                 0   \n",
       "24195            28               121                 1                 0   \n",
       "24512             0               117                 1                 0   \n",
       "24596             0               151                 1                 0   \n",
       "25642             0               255                 2                 0   \n",
       "26561             0               126                 1                 0   \n",
       "26780            11               296                 2                 0   \n",
       "\n",
       "       median_playtime       owners  owners_min  owners_max  price  year  \n",
       "3379                 0      0-20000           0       20000   2.89  2016  \n",
       "8021                 0      0-20000           0       20000  10.99  2016  \n",
       "10569                0      0-20000           0       20000   0.79  2017  \n",
       "13937                0      0-20000           0       20000  10.99  2019  \n",
       "17012                0      0-20000           0       20000  11.49  2018  \n",
       "20135               60      0-20000           0       20000  23.79  2019  \n",
       "21136              393      0-20000           0       20000  23.79  2018  \n",
       "22281                0      0-20000           0       20000  15.49  2018  \n",
       "22429                0      0-20000           0       20000   0.79  2018  \n",
       "23080                0  20000-50000       20000       50000   0.00  2018  \n",
       "23296                0      0-20000           0       20000  23.79  2018  \n",
       "23545                0      0-20000           0       20000  15.49  2018  \n",
       "23867                0      0-20000           0       20000  15.49  2019  \n",
       "24195                0      0-20000           0       20000   5.19  2018  \n",
       "24512                0      0-20000           0       20000   0.00  2019  \n",
       "24596                0      0-20000           0       20000  11.39  2019  \n",
       "25642                0      0-20000           0       20000   7.19  2018  \n",
       "26561                0      0-20000           0       20000  11.39  2019  \n",
       "26780                0      0-20000           0       20000   5.20  2019  "
      ]
     },
     "execution_count": 31,
     "metadata": {},
     "output_type": "execute_result"
    }
   ],
   "source": [
    "ratings99 = copy[(copy.positive_ratings / (copy.positive_ratings + copy.negative_ratings) >= 0.99) & \n",
    "            (copy.negative_ratings > 0)]\n",
    "ratings99"
   ]
  },
  {
   "cell_type": "code",
   "execution_count": 32,
   "metadata": {},
   "outputs": [
    {
     "data": {
      "application/vnd.plotly.v1+json": {
       "config": {
        "plotlyServerURL": "https://plot.ly"
       },
       "data": [
        {
         "text": [
          "99.16",
          "99.15",
          "99.19",
          "99.48",
          "99.08",
          "99.21",
          "99.17",
          "99.45",
          "99.12",
          "99.33",
          "99.62",
          "99.38",
          "99.28",
          "99.18",
          "99.15",
          "99.34",
          "99.22",
          "99.21",
          "99.33"
         ],
         "type": "bar",
         "x": [
          "Redirection",
          "BLUE REVOLVER",
          "Pinkman",
          "Don't Escape: 4 Days in a Wasteland",
          "VR Furballs - Demolition",
          "Final Assault",
          "Fureraba ~Friend to Lover~",
          "Flowers -Le volume sur ete-",
          "Ding Dong XL",
          "Google Spotlight Stories: Age of Sail",
          "Sabbat of the Witch",
          "Lucah: Born of a Dream",
          "Arcade Spirits",
          "DX-Ball 2: 20th Anniversary Edition",
          "Hell Wedding 夜嫁",
          "東方紺珠伝 ～ Legacy of Lunatic Kingdom.",
          "Kaori After Story",
          "淑女同萌！-New Division- / Hello Lady! -New Division-",
          "Shipped"
         ],
         "y": [
          99.16,
          99.15,
          99.19,
          99.48,
          99.08,
          99.21,
          99.17,
          99.45,
          99.12,
          99.33,
          99.62,
          99.38,
          99.28,
          99.18,
          99.15,
          99.34,
          99.22,
          99.21,
          99.33
         ]
        }
       ],
       "layout": {
        "template": {
         "data": {
          "bar": [
           {
            "error_x": {
             "color": "#2a3f5f"
            },
            "error_y": {
             "color": "#2a3f5f"
            },
            "marker": {
             "line": {
              "color": "#E5ECF6",
              "width": 0.5
             },
             "pattern": {
              "fillmode": "overlay",
              "size": 10,
              "solidity": 0.2
             }
            },
            "type": "bar"
           }
          ],
          "barpolar": [
           {
            "marker": {
             "line": {
              "color": "#E5ECF6",
              "width": 0.5
             },
             "pattern": {
              "fillmode": "overlay",
              "size": 10,
              "solidity": 0.2
             }
            },
            "type": "barpolar"
           }
          ],
          "carpet": [
           {
            "aaxis": {
             "endlinecolor": "#2a3f5f",
             "gridcolor": "white",
             "linecolor": "white",
             "minorgridcolor": "white",
             "startlinecolor": "#2a3f5f"
            },
            "baxis": {
             "endlinecolor": "#2a3f5f",
             "gridcolor": "white",
             "linecolor": "white",
             "minorgridcolor": "white",
             "startlinecolor": "#2a3f5f"
            },
            "type": "carpet"
           }
          ],
          "choropleth": [
           {
            "colorbar": {
             "outlinewidth": 0,
             "ticks": ""
            },
            "type": "choropleth"
           }
          ],
          "contour": [
           {
            "colorbar": {
             "outlinewidth": 0,
             "ticks": ""
            },
            "colorscale": [
             [
              0,
              "#0d0887"
             ],
             [
              0.1111111111111111,
              "#46039f"
             ],
             [
              0.2222222222222222,
              "#7201a8"
             ],
             [
              0.3333333333333333,
              "#9c179e"
             ],
             [
              0.4444444444444444,
              "#bd3786"
             ],
             [
              0.5555555555555556,
              "#d8576b"
             ],
             [
              0.6666666666666666,
              "#ed7953"
             ],
             [
              0.7777777777777778,
              "#fb9f3a"
             ],
             [
              0.8888888888888888,
              "#fdca26"
             ],
             [
              1,
              "#f0f921"
             ]
            ],
            "type": "contour"
           }
          ],
          "contourcarpet": [
           {
            "colorbar": {
             "outlinewidth": 0,
             "ticks": ""
            },
            "type": "contourcarpet"
           }
          ],
          "heatmap": [
           {
            "colorbar": {
             "outlinewidth": 0,
             "ticks": ""
            },
            "colorscale": [
             [
              0,
              "#0d0887"
             ],
             [
              0.1111111111111111,
              "#46039f"
             ],
             [
              0.2222222222222222,
              "#7201a8"
             ],
             [
              0.3333333333333333,
              "#9c179e"
             ],
             [
              0.4444444444444444,
              "#bd3786"
             ],
             [
              0.5555555555555556,
              "#d8576b"
             ],
             [
              0.6666666666666666,
              "#ed7953"
             ],
             [
              0.7777777777777778,
              "#fb9f3a"
             ],
             [
              0.8888888888888888,
              "#fdca26"
             ],
             [
              1,
              "#f0f921"
             ]
            ],
            "type": "heatmap"
           }
          ],
          "heatmapgl": [
           {
            "colorbar": {
             "outlinewidth": 0,
             "ticks": ""
            },
            "colorscale": [
             [
              0,
              "#0d0887"
             ],
             [
              0.1111111111111111,
              "#46039f"
             ],
             [
              0.2222222222222222,
              "#7201a8"
             ],
             [
              0.3333333333333333,
              "#9c179e"
             ],
             [
              0.4444444444444444,
              "#bd3786"
             ],
             [
              0.5555555555555556,
              "#d8576b"
             ],
             [
              0.6666666666666666,
              "#ed7953"
             ],
             [
              0.7777777777777778,
              "#fb9f3a"
             ],
             [
              0.8888888888888888,
              "#fdca26"
             ],
             [
              1,
              "#f0f921"
             ]
            ],
            "type": "heatmapgl"
           }
          ],
          "histogram": [
           {
            "marker": {
             "pattern": {
              "fillmode": "overlay",
              "size": 10,
              "solidity": 0.2
             }
            },
            "type": "histogram"
           }
          ],
          "histogram2d": [
           {
            "colorbar": {
             "outlinewidth": 0,
             "ticks": ""
            },
            "colorscale": [
             [
              0,
              "#0d0887"
             ],
             [
              0.1111111111111111,
              "#46039f"
             ],
             [
              0.2222222222222222,
              "#7201a8"
             ],
             [
              0.3333333333333333,
              "#9c179e"
             ],
             [
              0.4444444444444444,
              "#bd3786"
             ],
             [
              0.5555555555555556,
              "#d8576b"
             ],
             [
              0.6666666666666666,
              "#ed7953"
             ],
             [
              0.7777777777777778,
              "#fb9f3a"
             ],
             [
              0.8888888888888888,
              "#fdca26"
             ],
             [
              1,
              "#f0f921"
             ]
            ],
            "type": "histogram2d"
           }
          ],
          "histogram2dcontour": [
           {
            "colorbar": {
             "outlinewidth": 0,
             "ticks": ""
            },
            "colorscale": [
             [
              0,
              "#0d0887"
             ],
             [
              0.1111111111111111,
              "#46039f"
             ],
             [
              0.2222222222222222,
              "#7201a8"
             ],
             [
              0.3333333333333333,
              "#9c179e"
             ],
             [
              0.4444444444444444,
              "#bd3786"
             ],
             [
              0.5555555555555556,
              "#d8576b"
             ],
             [
              0.6666666666666666,
              "#ed7953"
             ],
             [
              0.7777777777777778,
              "#fb9f3a"
             ],
             [
              0.8888888888888888,
              "#fdca26"
             ],
             [
              1,
              "#f0f921"
             ]
            ],
            "type": "histogram2dcontour"
           }
          ],
          "mesh3d": [
           {
            "colorbar": {
             "outlinewidth": 0,
             "ticks": ""
            },
            "type": "mesh3d"
           }
          ],
          "parcoords": [
           {
            "line": {
             "colorbar": {
              "outlinewidth": 0,
              "ticks": ""
             }
            },
            "type": "parcoords"
           }
          ],
          "pie": [
           {
            "automargin": true,
            "type": "pie"
           }
          ],
          "scatter": [
           {
            "fillpattern": {
             "fillmode": "overlay",
             "size": 10,
             "solidity": 0.2
            },
            "type": "scatter"
           }
          ],
          "scatter3d": [
           {
            "line": {
             "colorbar": {
              "outlinewidth": 0,
              "ticks": ""
             }
            },
            "marker": {
             "colorbar": {
              "outlinewidth": 0,
              "ticks": ""
             }
            },
            "type": "scatter3d"
           }
          ],
          "scattercarpet": [
           {
            "marker": {
             "colorbar": {
              "outlinewidth": 0,
              "ticks": ""
             }
            },
            "type": "scattercarpet"
           }
          ],
          "scattergeo": [
           {
            "marker": {
             "colorbar": {
              "outlinewidth": 0,
              "ticks": ""
             }
            },
            "type": "scattergeo"
           }
          ],
          "scattergl": [
           {
            "marker": {
             "colorbar": {
              "outlinewidth": 0,
              "ticks": ""
             }
            },
            "type": "scattergl"
           }
          ],
          "scattermapbox": [
           {
            "marker": {
             "colorbar": {
              "outlinewidth": 0,
              "ticks": ""
             }
            },
            "type": "scattermapbox"
           }
          ],
          "scatterpolar": [
           {
            "marker": {
             "colorbar": {
              "outlinewidth": 0,
              "ticks": ""
             }
            },
            "type": "scatterpolar"
           }
          ],
          "scatterpolargl": [
           {
            "marker": {
             "colorbar": {
              "outlinewidth": 0,
              "ticks": ""
             }
            },
            "type": "scatterpolargl"
           }
          ],
          "scatterternary": [
           {
            "marker": {
             "colorbar": {
              "outlinewidth": 0,
              "ticks": ""
             }
            },
            "type": "scatterternary"
           }
          ],
          "surface": [
           {
            "colorbar": {
             "outlinewidth": 0,
             "ticks": ""
            },
            "colorscale": [
             [
              0,
              "#0d0887"
             ],
             [
              0.1111111111111111,
              "#46039f"
             ],
             [
              0.2222222222222222,
              "#7201a8"
             ],
             [
              0.3333333333333333,
              "#9c179e"
             ],
             [
              0.4444444444444444,
              "#bd3786"
             ],
             [
              0.5555555555555556,
              "#d8576b"
             ],
             [
              0.6666666666666666,
              "#ed7953"
             ],
             [
              0.7777777777777778,
              "#fb9f3a"
             ],
             [
              0.8888888888888888,
              "#fdca26"
             ],
             [
              1,
              "#f0f921"
             ]
            ],
            "type": "surface"
           }
          ],
          "table": [
           {
            "cells": {
             "fill": {
              "color": "#EBF0F8"
             },
             "line": {
              "color": "white"
             }
            },
            "header": {
             "fill": {
              "color": "#C8D4E3"
             },
             "line": {
              "color": "white"
             }
            },
            "type": "table"
           }
          ]
         },
         "layout": {
          "annotationdefaults": {
           "arrowcolor": "#2a3f5f",
           "arrowhead": 0,
           "arrowwidth": 1
          },
          "autotypenumbers": "strict",
          "coloraxis": {
           "colorbar": {
            "outlinewidth": 0,
            "ticks": ""
           }
          },
          "colorscale": {
           "diverging": [
            [
             0,
             "#8e0152"
            ],
            [
             0.1,
             "#c51b7d"
            ],
            [
             0.2,
             "#de77ae"
            ],
            [
             0.3,
             "#f1b6da"
            ],
            [
             0.4,
             "#fde0ef"
            ],
            [
             0.5,
             "#f7f7f7"
            ],
            [
             0.6,
             "#e6f5d0"
            ],
            [
             0.7,
             "#b8e186"
            ],
            [
             0.8,
             "#7fbc41"
            ],
            [
             0.9,
             "#4d9221"
            ],
            [
             1,
             "#276419"
            ]
           ],
           "sequential": [
            [
             0,
             "#0d0887"
            ],
            [
             0.1111111111111111,
             "#46039f"
            ],
            [
             0.2222222222222222,
             "#7201a8"
            ],
            [
             0.3333333333333333,
             "#9c179e"
            ],
            [
             0.4444444444444444,
             "#bd3786"
            ],
            [
             0.5555555555555556,
             "#d8576b"
            ],
            [
             0.6666666666666666,
             "#ed7953"
            ],
            [
             0.7777777777777778,
             "#fb9f3a"
            ],
            [
             0.8888888888888888,
             "#fdca26"
            ],
            [
             1,
             "#f0f921"
            ]
           ],
           "sequentialminus": [
            [
             0,
             "#0d0887"
            ],
            [
             0.1111111111111111,
             "#46039f"
            ],
            [
             0.2222222222222222,
             "#7201a8"
            ],
            [
             0.3333333333333333,
             "#9c179e"
            ],
            [
             0.4444444444444444,
             "#bd3786"
            ],
            [
             0.5555555555555556,
             "#d8576b"
            ],
            [
             0.6666666666666666,
             "#ed7953"
            ],
            [
             0.7777777777777778,
             "#fb9f3a"
            ],
            [
             0.8888888888888888,
             "#fdca26"
            ],
            [
             1,
             "#f0f921"
            ]
           ]
          },
          "colorway": [
           "#636efa",
           "#EF553B",
           "#00cc96",
           "#ab63fa",
           "#FFA15A",
           "#19d3f3",
           "#FF6692",
           "#B6E880",
           "#FF97FF",
           "#FECB52"
          ],
          "font": {
           "color": "#2a3f5f"
          },
          "geo": {
           "bgcolor": "white",
           "lakecolor": "white",
           "landcolor": "#E5ECF6",
           "showlakes": true,
           "showland": true,
           "subunitcolor": "white"
          },
          "hoverlabel": {
           "align": "left"
          },
          "hovermode": "closest",
          "mapbox": {
           "style": "light"
          },
          "paper_bgcolor": "white",
          "plot_bgcolor": "#E5ECF6",
          "polar": {
           "angularaxis": {
            "gridcolor": "white",
            "linecolor": "white",
            "ticks": ""
           },
           "bgcolor": "#E5ECF6",
           "radialaxis": {
            "gridcolor": "white",
            "linecolor": "white",
            "ticks": ""
           }
          },
          "scene": {
           "xaxis": {
            "backgroundcolor": "#E5ECF6",
            "gridcolor": "white",
            "gridwidth": 2,
            "linecolor": "white",
            "showbackground": true,
            "ticks": "",
            "zerolinecolor": "white"
           },
           "yaxis": {
            "backgroundcolor": "#E5ECF6",
            "gridcolor": "white",
            "gridwidth": 2,
            "linecolor": "white",
            "showbackground": true,
            "ticks": "",
            "zerolinecolor": "white"
           },
           "zaxis": {
            "backgroundcolor": "#E5ECF6",
            "gridcolor": "white",
            "gridwidth": 2,
            "linecolor": "white",
            "showbackground": true,
            "ticks": "",
            "zerolinecolor": "white"
           }
          },
          "shapedefaults": {
           "line": {
            "color": "#2a3f5f"
           }
          },
          "ternary": {
           "aaxis": {
            "gridcolor": "white",
            "linecolor": "white",
            "ticks": ""
           },
           "baxis": {
            "gridcolor": "white",
            "linecolor": "white",
            "ticks": ""
           },
           "bgcolor": "#E5ECF6",
           "caxis": {
            "gridcolor": "white",
            "linecolor": "white",
            "ticks": ""
           }
          },
          "title": {
           "x": 0.05
          },
          "xaxis": {
           "automargin": true,
           "gridcolor": "white",
           "linecolor": "white",
           "ticks": "",
           "title": {
            "standoff": 15
           },
           "zerolinecolor": "white",
           "zerolinewidth": 2
          },
          "yaxis": {
           "automargin": true,
           "gridcolor": "white",
           "linecolor": "white",
           "ticks": "",
           "title": {
            "standoff": 15
           },
           "zerolinecolor": "white",
           "zerolinewidth": 2
          }
         }
        },
        "title": {
         "font": {
          "size": 20
         },
         "text": "Игры, процент положительных отзывов у которых >=99%"
        },
        "xaxis": {
         "title": {
          "text": "Название игры"
         }
        },
        "yaxis": {
         "range": [
          95,
          100
         ],
         "title": {
          "text": "Процент положительных отзывов"
         }
        }
       }
      }
     },
     "metadata": {},
     "output_type": "display_data"
    }
   ],
   "source": [
    "#Строим диаграмму\n",
    "labels = ratings99.name\n",
    "values = round((ratings99.positive_ratings / (ratings99.positive_ratings + ratings99.negative_ratings) * 100), 2).tolist()\n",
    "\n",
    "fig = go.Figure(data = [go.Bar(x = labels, y = values, text = values)])\n",
    "# Добавление подписей для графика\n",
    "fig.update_layout(\n",
    "    title_text = \"Игры, процент положительных отзывов у которых >=99%\",\n",
    "    title_font_size = 20,\n",
    "    xaxis_title = \"Название игры\",\n",
    "    yaxis_title = \"Процент положительных отзывов\")\n",
    "fig.update_yaxes(\n",
    "    range = [95, 100],  # ограничение графика\n",
    "   )\n",
    "fig.show()"
   ]
  },
  {
   "cell_type": "markdown",
   "metadata": {},
   "source": [
    "Игры, имеющие процент положительных отзывов >=99% получили такой высокий процент вследствии малого общего количества отзывов\n",
    "По высокому проценту положителных отзывов нельзя судить о игре (товаре) без учета общего количества отзывов.\n",
    "В нашем случае скорее всего это посредственные игры т.к. у них низкое количество пользователей и отзывов.\n",
    "Для примера выведу процент положителных отзывов для топ-10 игр по количеству пользователей"
   ]
  },
  {
   "cell_type": "code",
   "execution_count": 33,
   "metadata": {},
   "outputs": [
    {
     "data": {
      "application/vnd.plotly.v1+json": {
       "config": {
        "plotlyServerURL": "https://plot.ly"
       },
       "data": [
        {
         "text": [
          "85.87",
          "86.8",
          "50.46",
          "93.81",
          "91.79",
          "90.29",
          "97.39",
          "89.39",
          "96.56",
          "95.64"
         ],
         "type": "bar",
         "x": [
          "Dota 2",
          "Counter-Strike: Global Offensive",
          "PLAYERUNKNOWN'S BATTLEGROUNDS",
          "Team Fortress 2",
          "Warframe",
          "Unturned",
          "Counter-Strike",
          "Counter-Strike: Condition Zero",
          "Half-Life 2",
          "Counter-Strike: Source"
         ],
         "y": [
          85.87,
          86.8,
          50.46,
          93.81,
          91.79,
          90.29,
          97.39,
          89.39,
          96.56,
          95.64
         ]
        }
       ],
       "layout": {
        "template": {
         "data": {
          "bar": [
           {
            "error_x": {
             "color": "#2a3f5f"
            },
            "error_y": {
             "color": "#2a3f5f"
            },
            "marker": {
             "line": {
              "color": "#E5ECF6",
              "width": 0.5
             },
             "pattern": {
              "fillmode": "overlay",
              "size": 10,
              "solidity": 0.2
             }
            },
            "type": "bar"
           }
          ],
          "barpolar": [
           {
            "marker": {
             "line": {
              "color": "#E5ECF6",
              "width": 0.5
             },
             "pattern": {
              "fillmode": "overlay",
              "size": 10,
              "solidity": 0.2
             }
            },
            "type": "barpolar"
           }
          ],
          "carpet": [
           {
            "aaxis": {
             "endlinecolor": "#2a3f5f",
             "gridcolor": "white",
             "linecolor": "white",
             "minorgridcolor": "white",
             "startlinecolor": "#2a3f5f"
            },
            "baxis": {
             "endlinecolor": "#2a3f5f",
             "gridcolor": "white",
             "linecolor": "white",
             "minorgridcolor": "white",
             "startlinecolor": "#2a3f5f"
            },
            "type": "carpet"
           }
          ],
          "choropleth": [
           {
            "colorbar": {
             "outlinewidth": 0,
             "ticks": ""
            },
            "type": "choropleth"
           }
          ],
          "contour": [
           {
            "colorbar": {
             "outlinewidth": 0,
             "ticks": ""
            },
            "colorscale": [
             [
              0,
              "#0d0887"
             ],
             [
              0.1111111111111111,
              "#46039f"
             ],
             [
              0.2222222222222222,
              "#7201a8"
             ],
             [
              0.3333333333333333,
              "#9c179e"
             ],
             [
              0.4444444444444444,
              "#bd3786"
             ],
             [
              0.5555555555555556,
              "#d8576b"
             ],
             [
              0.6666666666666666,
              "#ed7953"
             ],
             [
              0.7777777777777778,
              "#fb9f3a"
             ],
             [
              0.8888888888888888,
              "#fdca26"
             ],
             [
              1,
              "#f0f921"
             ]
            ],
            "type": "contour"
           }
          ],
          "contourcarpet": [
           {
            "colorbar": {
             "outlinewidth": 0,
             "ticks": ""
            },
            "type": "contourcarpet"
           }
          ],
          "heatmap": [
           {
            "colorbar": {
             "outlinewidth": 0,
             "ticks": ""
            },
            "colorscale": [
             [
              0,
              "#0d0887"
             ],
             [
              0.1111111111111111,
              "#46039f"
             ],
             [
              0.2222222222222222,
              "#7201a8"
             ],
             [
              0.3333333333333333,
              "#9c179e"
             ],
             [
              0.4444444444444444,
              "#bd3786"
             ],
             [
              0.5555555555555556,
              "#d8576b"
             ],
             [
              0.6666666666666666,
              "#ed7953"
             ],
             [
              0.7777777777777778,
              "#fb9f3a"
             ],
             [
              0.8888888888888888,
              "#fdca26"
             ],
             [
              1,
              "#f0f921"
             ]
            ],
            "type": "heatmap"
           }
          ],
          "heatmapgl": [
           {
            "colorbar": {
             "outlinewidth": 0,
             "ticks": ""
            },
            "colorscale": [
             [
              0,
              "#0d0887"
             ],
             [
              0.1111111111111111,
              "#46039f"
             ],
             [
              0.2222222222222222,
              "#7201a8"
             ],
             [
              0.3333333333333333,
              "#9c179e"
             ],
             [
              0.4444444444444444,
              "#bd3786"
             ],
             [
              0.5555555555555556,
              "#d8576b"
             ],
             [
              0.6666666666666666,
              "#ed7953"
             ],
             [
              0.7777777777777778,
              "#fb9f3a"
             ],
             [
              0.8888888888888888,
              "#fdca26"
             ],
             [
              1,
              "#f0f921"
             ]
            ],
            "type": "heatmapgl"
           }
          ],
          "histogram": [
           {
            "marker": {
             "pattern": {
              "fillmode": "overlay",
              "size": 10,
              "solidity": 0.2
             }
            },
            "type": "histogram"
           }
          ],
          "histogram2d": [
           {
            "colorbar": {
             "outlinewidth": 0,
             "ticks": ""
            },
            "colorscale": [
             [
              0,
              "#0d0887"
             ],
             [
              0.1111111111111111,
              "#46039f"
             ],
             [
              0.2222222222222222,
              "#7201a8"
             ],
             [
              0.3333333333333333,
              "#9c179e"
             ],
             [
              0.4444444444444444,
              "#bd3786"
             ],
             [
              0.5555555555555556,
              "#d8576b"
             ],
             [
              0.6666666666666666,
              "#ed7953"
             ],
             [
              0.7777777777777778,
              "#fb9f3a"
             ],
             [
              0.8888888888888888,
              "#fdca26"
             ],
             [
              1,
              "#f0f921"
             ]
            ],
            "type": "histogram2d"
           }
          ],
          "histogram2dcontour": [
           {
            "colorbar": {
             "outlinewidth": 0,
             "ticks": ""
            },
            "colorscale": [
             [
              0,
              "#0d0887"
             ],
             [
              0.1111111111111111,
              "#46039f"
             ],
             [
              0.2222222222222222,
              "#7201a8"
             ],
             [
              0.3333333333333333,
              "#9c179e"
             ],
             [
              0.4444444444444444,
              "#bd3786"
             ],
             [
              0.5555555555555556,
              "#d8576b"
             ],
             [
              0.6666666666666666,
              "#ed7953"
             ],
             [
              0.7777777777777778,
              "#fb9f3a"
             ],
             [
              0.8888888888888888,
              "#fdca26"
             ],
             [
              1,
              "#f0f921"
             ]
            ],
            "type": "histogram2dcontour"
           }
          ],
          "mesh3d": [
           {
            "colorbar": {
             "outlinewidth": 0,
             "ticks": ""
            },
            "type": "mesh3d"
           }
          ],
          "parcoords": [
           {
            "line": {
             "colorbar": {
              "outlinewidth": 0,
              "ticks": ""
             }
            },
            "type": "parcoords"
           }
          ],
          "pie": [
           {
            "automargin": true,
            "type": "pie"
           }
          ],
          "scatter": [
           {
            "fillpattern": {
             "fillmode": "overlay",
             "size": 10,
             "solidity": 0.2
            },
            "type": "scatter"
           }
          ],
          "scatter3d": [
           {
            "line": {
             "colorbar": {
              "outlinewidth": 0,
              "ticks": ""
             }
            },
            "marker": {
             "colorbar": {
              "outlinewidth": 0,
              "ticks": ""
             }
            },
            "type": "scatter3d"
           }
          ],
          "scattercarpet": [
           {
            "marker": {
             "colorbar": {
              "outlinewidth": 0,
              "ticks": ""
             }
            },
            "type": "scattercarpet"
           }
          ],
          "scattergeo": [
           {
            "marker": {
             "colorbar": {
              "outlinewidth": 0,
              "ticks": ""
             }
            },
            "type": "scattergeo"
           }
          ],
          "scattergl": [
           {
            "marker": {
             "colorbar": {
              "outlinewidth": 0,
              "ticks": ""
             }
            },
            "type": "scattergl"
           }
          ],
          "scattermapbox": [
           {
            "marker": {
             "colorbar": {
              "outlinewidth": 0,
              "ticks": ""
             }
            },
            "type": "scattermapbox"
           }
          ],
          "scatterpolar": [
           {
            "marker": {
             "colorbar": {
              "outlinewidth": 0,
              "ticks": ""
             }
            },
            "type": "scatterpolar"
           }
          ],
          "scatterpolargl": [
           {
            "marker": {
             "colorbar": {
              "outlinewidth": 0,
              "ticks": ""
             }
            },
            "type": "scatterpolargl"
           }
          ],
          "scatterternary": [
           {
            "marker": {
             "colorbar": {
              "outlinewidth": 0,
              "ticks": ""
             }
            },
            "type": "scatterternary"
           }
          ],
          "surface": [
           {
            "colorbar": {
             "outlinewidth": 0,
             "ticks": ""
            },
            "colorscale": [
             [
              0,
              "#0d0887"
             ],
             [
              0.1111111111111111,
              "#46039f"
             ],
             [
              0.2222222222222222,
              "#7201a8"
             ],
             [
              0.3333333333333333,
              "#9c179e"
             ],
             [
              0.4444444444444444,
              "#bd3786"
             ],
             [
              0.5555555555555556,
              "#d8576b"
             ],
             [
              0.6666666666666666,
              "#ed7953"
             ],
             [
              0.7777777777777778,
              "#fb9f3a"
             ],
             [
              0.8888888888888888,
              "#fdca26"
             ],
             [
              1,
              "#f0f921"
             ]
            ],
            "type": "surface"
           }
          ],
          "table": [
           {
            "cells": {
             "fill": {
              "color": "#EBF0F8"
             },
             "line": {
              "color": "white"
             }
            },
            "header": {
             "fill": {
              "color": "#C8D4E3"
             },
             "line": {
              "color": "white"
             }
            },
            "type": "table"
           }
          ]
         },
         "layout": {
          "annotationdefaults": {
           "arrowcolor": "#2a3f5f",
           "arrowhead": 0,
           "arrowwidth": 1
          },
          "autotypenumbers": "strict",
          "coloraxis": {
           "colorbar": {
            "outlinewidth": 0,
            "ticks": ""
           }
          },
          "colorscale": {
           "diverging": [
            [
             0,
             "#8e0152"
            ],
            [
             0.1,
             "#c51b7d"
            ],
            [
             0.2,
             "#de77ae"
            ],
            [
             0.3,
             "#f1b6da"
            ],
            [
             0.4,
             "#fde0ef"
            ],
            [
             0.5,
             "#f7f7f7"
            ],
            [
             0.6,
             "#e6f5d0"
            ],
            [
             0.7,
             "#b8e186"
            ],
            [
             0.8,
             "#7fbc41"
            ],
            [
             0.9,
             "#4d9221"
            ],
            [
             1,
             "#276419"
            ]
           ],
           "sequential": [
            [
             0,
             "#0d0887"
            ],
            [
             0.1111111111111111,
             "#46039f"
            ],
            [
             0.2222222222222222,
             "#7201a8"
            ],
            [
             0.3333333333333333,
             "#9c179e"
            ],
            [
             0.4444444444444444,
             "#bd3786"
            ],
            [
             0.5555555555555556,
             "#d8576b"
            ],
            [
             0.6666666666666666,
             "#ed7953"
            ],
            [
             0.7777777777777778,
             "#fb9f3a"
            ],
            [
             0.8888888888888888,
             "#fdca26"
            ],
            [
             1,
             "#f0f921"
            ]
           ],
           "sequentialminus": [
            [
             0,
             "#0d0887"
            ],
            [
             0.1111111111111111,
             "#46039f"
            ],
            [
             0.2222222222222222,
             "#7201a8"
            ],
            [
             0.3333333333333333,
             "#9c179e"
            ],
            [
             0.4444444444444444,
             "#bd3786"
            ],
            [
             0.5555555555555556,
             "#d8576b"
            ],
            [
             0.6666666666666666,
             "#ed7953"
            ],
            [
             0.7777777777777778,
             "#fb9f3a"
            ],
            [
             0.8888888888888888,
             "#fdca26"
            ],
            [
             1,
             "#f0f921"
            ]
           ]
          },
          "colorway": [
           "#636efa",
           "#EF553B",
           "#00cc96",
           "#ab63fa",
           "#FFA15A",
           "#19d3f3",
           "#FF6692",
           "#B6E880",
           "#FF97FF",
           "#FECB52"
          ],
          "font": {
           "color": "#2a3f5f"
          },
          "geo": {
           "bgcolor": "white",
           "lakecolor": "white",
           "landcolor": "#E5ECF6",
           "showlakes": true,
           "showland": true,
           "subunitcolor": "white"
          },
          "hoverlabel": {
           "align": "left"
          },
          "hovermode": "closest",
          "mapbox": {
           "style": "light"
          },
          "paper_bgcolor": "white",
          "plot_bgcolor": "#E5ECF6",
          "polar": {
           "angularaxis": {
            "gridcolor": "white",
            "linecolor": "white",
            "ticks": ""
           },
           "bgcolor": "#E5ECF6",
           "radialaxis": {
            "gridcolor": "white",
            "linecolor": "white",
            "ticks": ""
           }
          },
          "scene": {
           "xaxis": {
            "backgroundcolor": "#E5ECF6",
            "gridcolor": "white",
            "gridwidth": 2,
            "linecolor": "white",
            "showbackground": true,
            "ticks": "",
            "zerolinecolor": "white"
           },
           "yaxis": {
            "backgroundcolor": "#E5ECF6",
            "gridcolor": "white",
            "gridwidth": 2,
            "linecolor": "white",
            "showbackground": true,
            "ticks": "",
            "zerolinecolor": "white"
           },
           "zaxis": {
            "backgroundcolor": "#E5ECF6",
            "gridcolor": "white",
            "gridwidth": 2,
            "linecolor": "white",
            "showbackground": true,
            "ticks": "",
            "zerolinecolor": "white"
           }
          },
          "shapedefaults": {
           "line": {
            "color": "#2a3f5f"
           }
          },
          "ternary": {
           "aaxis": {
            "gridcolor": "white",
            "linecolor": "white",
            "ticks": ""
           },
           "baxis": {
            "gridcolor": "white",
            "linecolor": "white",
            "ticks": ""
           },
           "bgcolor": "#E5ECF6",
           "caxis": {
            "gridcolor": "white",
            "linecolor": "white",
            "ticks": ""
           }
          },
          "title": {
           "x": 0.05
          },
          "xaxis": {
           "automargin": true,
           "gridcolor": "white",
           "linecolor": "white",
           "ticks": "",
           "title": {
            "standoff": 15
           },
           "zerolinecolor": "white",
           "zerolinewidth": 2
          },
          "yaxis": {
           "automargin": true,
           "gridcolor": "white",
           "linecolor": "white",
           "ticks": "",
           "title": {
            "standoff": 15
           },
           "zerolinecolor": "white",
           "zerolinewidth": 2
          }
         }
        },
        "title": {
         "font": {
          "size": 20
         },
         "text": "Процент положительных отзывов у топ-10 игр по количеству пользователей"
        },
        "xaxis": {
         "title": {
          "text": "Название игры"
         }
        },
        "yaxis": {
         "title": {
          "text": "Процент положительных отзывов"
         }
        }
       }
      }
     },
     "metadata": {},
     "output_type": "display_data"
    }
   ],
   "source": [
    "top = copy.nlargest(10, 'owners_max')\n",
    "values = round((top.positive_ratings / (top.positive_ratings + top.negative_ratings) * 100), 2).tolist()\n",
    "labels = top.name\n",
    "\n",
    "fig = go.Figure(data=[go.Bar(x = labels, y = values, text = values)])\n",
    "# Добавление подписей для графика\n",
    "fig.update_layout(\n",
    "    title_text = \"Процент положительных отзывов у топ-10 игр по количеству пользователей\",\n",
    "    title_font_size = 20,\n",
    "    xaxis_title = \"Название игры\",\n",
    "    yaxis_title = \"Процент положительных отзывов\"\n",
    "    )\n",
    "\n",
    "fig.show()"
   ]
  },
  {
   "cell_type": "markdown",
   "metadata": {},
   "source": [
    "Постройте диаграмму, иллюстрирующую распределение игр по платформам. То есть сколько игр поддерживает каждая из них"
   ]
  },
  {
   "cell_type": "code",
   "execution_count": 34,
   "metadata": {},
   "outputs": [
    {
     "data": {
      "application/vnd.plotly.v1+json": {
       "config": {
        "plotlyServerURL": "https://plot.ly"
       },
       "data": [
        {
         "text": [
          "27070",
          "5235",
          "8066"
         ],
         "type": "bar",
         "x": [
          "windows",
          "linux",
          "mac"
         ],
         "y": [
          27070,
          5235,
          8066
         ]
        }
       ],
       "layout": {
        "template": {
         "data": {
          "bar": [
           {
            "error_x": {
             "color": "#2a3f5f"
            },
            "error_y": {
             "color": "#2a3f5f"
            },
            "marker": {
             "line": {
              "color": "#E5ECF6",
              "width": 0.5
             },
             "pattern": {
              "fillmode": "overlay",
              "size": 10,
              "solidity": 0.2
             }
            },
            "type": "bar"
           }
          ],
          "barpolar": [
           {
            "marker": {
             "line": {
              "color": "#E5ECF6",
              "width": 0.5
             },
             "pattern": {
              "fillmode": "overlay",
              "size": 10,
              "solidity": 0.2
             }
            },
            "type": "barpolar"
           }
          ],
          "carpet": [
           {
            "aaxis": {
             "endlinecolor": "#2a3f5f",
             "gridcolor": "white",
             "linecolor": "white",
             "minorgridcolor": "white",
             "startlinecolor": "#2a3f5f"
            },
            "baxis": {
             "endlinecolor": "#2a3f5f",
             "gridcolor": "white",
             "linecolor": "white",
             "minorgridcolor": "white",
             "startlinecolor": "#2a3f5f"
            },
            "type": "carpet"
           }
          ],
          "choropleth": [
           {
            "colorbar": {
             "outlinewidth": 0,
             "ticks": ""
            },
            "type": "choropleth"
           }
          ],
          "contour": [
           {
            "colorbar": {
             "outlinewidth": 0,
             "ticks": ""
            },
            "colorscale": [
             [
              0,
              "#0d0887"
             ],
             [
              0.1111111111111111,
              "#46039f"
             ],
             [
              0.2222222222222222,
              "#7201a8"
             ],
             [
              0.3333333333333333,
              "#9c179e"
             ],
             [
              0.4444444444444444,
              "#bd3786"
             ],
             [
              0.5555555555555556,
              "#d8576b"
             ],
             [
              0.6666666666666666,
              "#ed7953"
             ],
             [
              0.7777777777777778,
              "#fb9f3a"
             ],
             [
              0.8888888888888888,
              "#fdca26"
             ],
             [
              1,
              "#f0f921"
             ]
            ],
            "type": "contour"
           }
          ],
          "contourcarpet": [
           {
            "colorbar": {
             "outlinewidth": 0,
             "ticks": ""
            },
            "type": "contourcarpet"
           }
          ],
          "heatmap": [
           {
            "colorbar": {
             "outlinewidth": 0,
             "ticks": ""
            },
            "colorscale": [
             [
              0,
              "#0d0887"
             ],
             [
              0.1111111111111111,
              "#46039f"
             ],
             [
              0.2222222222222222,
              "#7201a8"
             ],
             [
              0.3333333333333333,
              "#9c179e"
             ],
             [
              0.4444444444444444,
              "#bd3786"
             ],
             [
              0.5555555555555556,
              "#d8576b"
             ],
             [
              0.6666666666666666,
              "#ed7953"
             ],
             [
              0.7777777777777778,
              "#fb9f3a"
             ],
             [
              0.8888888888888888,
              "#fdca26"
             ],
             [
              1,
              "#f0f921"
             ]
            ],
            "type": "heatmap"
           }
          ],
          "heatmapgl": [
           {
            "colorbar": {
             "outlinewidth": 0,
             "ticks": ""
            },
            "colorscale": [
             [
              0,
              "#0d0887"
             ],
             [
              0.1111111111111111,
              "#46039f"
             ],
             [
              0.2222222222222222,
              "#7201a8"
             ],
             [
              0.3333333333333333,
              "#9c179e"
             ],
             [
              0.4444444444444444,
              "#bd3786"
             ],
             [
              0.5555555555555556,
              "#d8576b"
             ],
             [
              0.6666666666666666,
              "#ed7953"
             ],
             [
              0.7777777777777778,
              "#fb9f3a"
             ],
             [
              0.8888888888888888,
              "#fdca26"
             ],
             [
              1,
              "#f0f921"
             ]
            ],
            "type": "heatmapgl"
           }
          ],
          "histogram": [
           {
            "marker": {
             "pattern": {
              "fillmode": "overlay",
              "size": 10,
              "solidity": 0.2
             }
            },
            "type": "histogram"
           }
          ],
          "histogram2d": [
           {
            "colorbar": {
             "outlinewidth": 0,
             "ticks": ""
            },
            "colorscale": [
             [
              0,
              "#0d0887"
             ],
             [
              0.1111111111111111,
              "#46039f"
             ],
             [
              0.2222222222222222,
              "#7201a8"
             ],
             [
              0.3333333333333333,
              "#9c179e"
             ],
             [
              0.4444444444444444,
              "#bd3786"
             ],
             [
              0.5555555555555556,
              "#d8576b"
             ],
             [
              0.6666666666666666,
              "#ed7953"
             ],
             [
              0.7777777777777778,
              "#fb9f3a"
             ],
             [
              0.8888888888888888,
              "#fdca26"
             ],
             [
              1,
              "#f0f921"
             ]
            ],
            "type": "histogram2d"
           }
          ],
          "histogram2dcontour": [
           {
            "colorbar": {
             "outlinewidth": 0,
             "ticks": ""
            },
            "colorscale": [
             [
              0,
              "#0d0887"
             ],
             [
              0.1111111111111111,
              "#46039f"
             ],
             [
              0.2222222222222222,
              "#7201a8"
             ],
             [
              0.3333333333333333,
              "#9c179e"
             ],
             [
              0.4444444444444444,
              "#bd3786"
             ],
             [
              0.5555555555555556,
              "#d8576b"
             ],
             [
              0.6666666666666666,
              "#ed7953"
             ],
             [
              0.7777777777777778,
              "#fb9f3a"
             ],
             [
              0.8888888888888888,
              "#fdca26"
             ],
             [
              1,
              "#f0f921"
             ]
            ],
            "type": "histogram2dcontour"
           }
          ],
          "mesh3d": [
           {
            "colorbar": {
             "outlinewidth": 0,
             "ticks": ""
            },
            "type": "mesh3d"
           }
          ],
          "parcoords": [
           {
            "line": {
             "colorbar": {
              "outlinewidth": 0,
              "ticks": ""
             }
            },
            "type": "parcoords"
           }
          ],
          "pie": [
           {
            "automargin": true,
            "type": "pie"
           }
          ],
          "scatter": [
           {
            "fillpattern": {
             "fillmode": "overlay",
             "size": 10,
             "solidity": 0.2
            },
            "type": "scatter"
           }
          ],
          "scatter3d": [
           {
            "line": {
             "colorbar": {
              "outlinewidth": 0,
              "ticks": ""
             }
            },
            "marker": {
             "colorbar": {
              "outlinewidth": 0,
              "ticks": ""
             }
            },
            "type": "scatter3d"
           }
          ],
          "scattercarpet": [
           {
            "marker": {
             "colorbar": {
              "outlinewidth": 0,
              "ticks": ""
             }
            },
            "type": "scattercarpet"
           }
          ],
          "scattergeo": [
           {
            "marker": {
             "colorbar": {
              "outlinewidth": 0,
              "ticks": ""
             }
            },
            "type": "scattergeo"
           }
          ],
          "scattergl": [
           {
            "marker": {
             "colorbar": {
              "outlinewidth": 0,
              "ticks": ""
             }
            },
            "type": "scattergl"
           }
          ],
          "scattermapbox": [
           {
            "marker": {
             "colorbar": {
              "outlinewidth": 0,
              "ticks": ""
             }
            },
            "type": "scattermapbox"
           }
          ],
          "scatterpolar": [
           {
            "marker": {
             "colorbar": {
              "outlinewidth": 0,
              "ticks": ""
             }
            },
            "type": "scatterpolar"
           }
          ],
          "scatterpolargl": [
           {
            "marker": {
             "colorbar": {
              "outlinewidth": 0,
              "ticks": ""
             }
            },
            "type": "scatterpolargl"
           }
          ],
          "scatterternary": [
           {
            "marker": {
             "colorbar": {
              "outlinewidth": 0,
              "ticks": ""
             }
            },
            "type": "scatterternary"
           }
          ],
          "surface": [
           {
            "colorbar": {
             "outlinewidth": 0,
             "ticks": ""
            },
            "colorscale": [
             [
              0,
              "#0d0887"
             ],
             [
              0.1111111111111111,
              "#46039f"
             ],
             [
              0.2222222222222222,
              "#7201a8"
             ],
             [
              0.3333333333333333,
              "#9c179e"
             ],
             [
              0.4444444444444444,
              "#bd3786"
             ],
             [
              0.5555555555555556,
              "#d8576b"
             ],
             [
              0.6666666666666666,
              "#ed7953"
             ],
             [
              0.7777777777777778,
              "#fb9f3a"
             ],
             [
              0.8888888888888888,
              "#fdca26"
             ],
             [
              1,
              "#f0f921"
             ]
            ],
            "type": "surface"
           }
          ],
          "table": [
           {
            "cells": {
             "fill": {
              "color": "#EBF0F8"
             },
             "line": {
              "color": "white"
             }
            },
            "header": {
             "fill": {
              "color": "#C8D4E3"
             },
             "line": {
              "color": "white"
             }
            },
            "type": "table"
           }
          ]
         },
         "layout": {
          "annotationdefaults": {
           "arrowcolor": "#2a3f5f",
           "arrowhead": 0,
           "arrowwidth": 1
          },
          "autotypenumbers": "strict",
          "coloraxis": {
           "colorbar": {
            "outlinewidth": 0,
            "ticks": ""
           }
          },
          "colorscale": {
           "diverging": [
            [
             0,
             "#8e0152"
            ],
            [
             0.1,
             "#c51b7d"
            ],
            [
             0.2,
             "#de77ae"
            ],
            [
             0.3,
             "#f1b6da"
            ],
            [
             0.4,
             "#fde0ef"
            ],
            [
             0.5,
             "#f7f7f7"
            ],
            [
             0.6,
             "#e6f5d0"
            ],
            [
             0.7,
             "#b8e186"
            ],
            [
             0.8,
             "#7fbc41"
            ],
            [
             0.9,
             "#4d9221"
            ],
            [
             1,
             "#276419"
            ]
           ],
           "sequential": [
            [
             0,
             "#0d0887"
            ],
            [
             0.1111111111111111,
             "#46039f"
            ],
            [
             0.2222222222222222,
             "#7201a8"
            ],
            [
             0.3333333333333333,
             "#9c179e"
            ],
            [
             0.4444444444444444,
             "#bd3786"
            ],
            [
             0.5555555555555556,
             "#d8576b"
            ],
            [
             0.6666666666666666,
             "#ed7953"
            ],
            [
             0.7777777777777778,
             "#fb9f3a"
            ],
            [
             0.8888888888888888,
             "#fdca26"
            ],
            [
             1,
             "#f0f921"
            ]
           ],
           "sequentialminus": [
            [
             0,
             "#0d0887"
            ],
            [
             0.1111111111111111,
             "#46039f"
            ],
            [
             0.2222222222222222,
             "#7201a8"
            ],
            [
             0.3333333333333333,
             "#9c179e"
            ],
            [
             0.4444444444444444,
             "#bd3786"
            ],
            [
             0.5555555555555556,
             "#d8576b"
            ],
            [
             0.6666666666666666,
             "#ed7953"
            ],
            [
             0.7777777777777778,
             "#fb9f3a"
            ],
            [
             0.8888888888888888,
             "#fdca26"
            ],
            [
             1,
             "#f0f921"
            ]
           ]
          },
          "colorway": [
           "#636efa",
           "#EF553B",
           "#00cc96",
           "#ab63fa",
           "#FFA15A",
           "#19d3f3",
           "#FF6692",
           "#B6E880",
           "#FF97FF",
           "#FECB52"
          ],
          "font": {
           "color": "#2a3f5f"
          },
          "geo": {
           "bgcolor": "white",
           "lakecolor": "white",
           "landcolor": "#E5ECF6",
           "showlakes": true,
           "showland": true,
           "subunitcolor": "white"
          },
          "hoverlabel": {
           "align": "left"
          },
          "hovermode": "closest",
          "mapbox": {
           "style": "light"
          },
          "paper_bgcolor": "white",
          "plot_bgcolor": "#E5ECF6",
          "polar": {
           "angularaxis": {
            "gridcolor": "white",
            "linecolor": "white",
            "ticks": ""
           },
           "bgcolor": "#E5ECF6",
           "radialaxis": {
            "gridcolor": "white",
            "linecolor": "white",
            "ticks": ""
           }
          },
          "scene": {
           "xaxis": {
            "backgroundcolor": "#E5ECF6",
            "gridcolor": "white",
            "gridwidth": 2,
            "linecolor": "white",
            "showbackground": true,
            "ticks": "",
            "zerolinecolor": "white"
           },
           "yaxis": {
            "backgroundcolor": "#E5ECF6",
            "gridcolor": "white",
            "gridwidth": 2,
            "linecolor": "white",
            "showbackground": true,
            "ticks": "",
            "zerolinecolor": "white"
           },
           "zaxis": {
            "backgroundcolor": "#E5ECF6",
            "gridcolor": "white",
            "gridwidth": 2,
            "linecolor": "white",
            "showbackground": true,
            "ticks": "",
            "zerolinecolor": "white"
           }
          },
          "shapedefaults": {
           "line": {
            "color": "#2a3f5f"
           }
          },
          "ternary": {
           "aaxis": {
            "gridcolor": "white",
            "linecolor": "white",
            "ticks": ""
           },
           "baxis": {
            "gridcolor": "white",
            "linecolor": "white",
            "ticks": ""
           },
           "bgcolor": "#E5ECF6",
           "caxis": {
            "gridcolor": "white",
            "linecolor": "white",
            "ticks": ""
           }
          },
          "title": {
           "x": 0.05
          },
          "xaxis": {
           "automargin": true,
           "gridcolor": "white",
           "linecolor": "white",
           "ticks": "",
           "title": {
            "standoff": 15
           },
           "zerolinecolor": "white",
           "zerolinewidth": 2
          },
          "yaxis": {
           "automargin": true,
           "gridcolor": "white",
           "linecolor": "white",
           "ticks": "",
           "title": {
            "standoff": 15
           },
           "zerolinecolor": "white",
           "zerolinewidth": 2
          }
         }
        },
        "title": {
         "font": {
          "size": 20
         },
         "text": "Распределение количества игр по платформам"
        },
        "xaxis": {
         "title": {
          "text": "Платформа"
         }
        },
        "yaxis": {
         "title": {
          "text": "Количество игры"
         }
        }
       }
      }
     },
     "metadata": {},
     "output_type": "display_data"
    }
   ],
   "source": [
    "value = [len(copy[copy.platforms.str.contains('windows')]), \n",
    "         len(copy[copy.platforms.str.contains('linux')]), \n",
    "         len(copy[copy.platforms.str.contains('mac')])\n",
    "        ]          \n",
    "labels = ['windows', 'linux', 'mac']\n",
    "data = [go.Bar(\n",
    "    x = labels,\n",
    "    y = value,\n",
    "    text = value\n",
    ")]\n",
    "\n",
    "fig = go.Figure(data = data)\n",
    "fig.update_layout(\n",
    "    title_text = \"Распределение количества игр по платформам\",\n",
    "    title_font_size = 20,\n",
    "    xaxis_title = \"Платформа\",\n",
    "    yaxis_title = \"Количество игры\"\n",
    "    )\n",
    "fig.show()"
   ]
  },
  {
   "cell_type": "markdown",
   "metadata": {},
   "source": [
    "Как видно из диаграммы почти все игры имеют версию для Windows (27070 из 27075). Mac версии имеет 30% игр, а версии для Linux имеют всего 20% игр"
   ]
  },
  {
   "cell_type": "markdown",
   "metadata": {},
   "source": [
    "Выведем на экран строки, которые удовлятворяют следующему условию: возраст +18, год выпуска 2019, жанр симулятор"
   ]
  },
  {
   "cell_type": "code",
   "execution_count": 35,
   "metadata": {},
   "outputs": [
    {
     "data": {
      "text/html": [
       "<div>\n",
       "<style scoped>\n",
       "    .dataframe tbody tr th:only-of-type {\n",
       "        vertical-align: middle;\n",
       "    }\n",
       "\n",
       "    .dataframe tbody tr th {\n",
       "        vertical-align: top;\n",
       "    }\n",
       "\n",
       "    .dataframe thead th {\n",
       "        text-align: right;\n",
       "    }\n",
       "</style>\n",
       "<table border=\"1\" class=\"dataframe\">\n",
       "  <thead>\n",
       "    <tr style=\"text-align: right;\">\n",
       "      <th></th>\n",
       "      <th>appid</th>\n",
       "      <th>name</th>\n",
       "      <th>release_date</th>\n",
       "      <th>english</th>\n",
       "      <th>developer</th>\n",
       "      <th>publisher</th>\n",
       "      <th>platforms</th>\n",
       "      <th>required_age</th>\n",
       "      <th>genres</th>\n",
       "      <th>achievements</th>\n",
       "      <th>positive_ratings</th>\n",
       "      <th>negative_ratings</th>\n",
       "      <th>average_playtime</th>\n",
       "      <th>median_playtime</th>\n",
       "      <th>owners</th>\n",
       "      <th>owners_min</th>\n",
       "      <th>owners_max</th>\n",
       "      <th>price</th>\n",
       "      <th>year</th>\n",
       "    </tr>\n",
       "  </thead>\n",
       "  <tbody>\n",
       "    <tr>\n",
       "      <th>22231</th>\n",
       "      <td>857480</td>\n",
       "      <td>Seirei</td>\n",
       "      <td>2019-03-20</td>\n",
       "      <td>1</td>\n",
       "      <td>zoocros</td>\n",
       "      <td>zoocros</td>\n",
       "      <td>windows</td>\n",
       "      <td>18</td>\n",
       "      <td>Indie;Simulation</td>\n",
       "      <td>20</td>\n",
       "      <td>13</td>\n",
       "      <td>3</td>\n",
       "      <td>0</td>\n",
       "      <td>0</td>\n",
       "      <td>0-20000</td>\n",
       "      <td>0</td>\n",
       "      <td>20000</td>\n",
       "      <td>1.69</td>\n",
       "      <td>2019</td>\n",
       "    </tr>\n",
       "    <tr>\n",
       "      <th>23344</th>\n",
       "      <td>890500</td>\n",
       "      <td>Love ritual</td>\n",
       "      <td>2019-04-09</td>\n",
       "      <td>1</td>\n",
       "      <td>Xand arts</td>\n",
       "      <td>Xand arts</td>\n",
       "      <td>windows</td>\n",
       "      <td>18</td>\n",
       "      <td>Casual;Indie;Simulation</td>\n",
       "      <td>8</td>\n",
       "      <td>23</td>\n",
       "      <td>12</td>\n",
       "      <td>0</td>\n",
       "      <td>0</td>\n",
       "      <td>0-20000</td>\n",
       "      <td>0</td>\n",
       "      <td>20000</td>\n",
       "      <td>9.29</td>\n",
       "      <td>2019</td>\n",
       "    </tr>\n",
       "    <tr>\n",
       "      <th>25465</th>\n",
       "      <td>973090</td>\n",
       "      <td>Toilet Simulator</td>\n",
       "      <td>2019-01-18</td>\n",
       "      <td>1</td>\n",
       "      <td>Kavkaz Sila Games</td>\n",
       "      <td>Kavkaz Sila Games</td>\n",
       "      <td>windows</td>\n",
       "      <td>18</td>\n",
       "      <td>Simulation</td>\n",
       "      <td>0</td>\n",
       "      <td>24</td>\n",
       "      <td>47</td>\n",
       "      <td>0</td>\n",
       "      <td>0</td>\n",
       "      <td>20000-50000</td>\n",
       "      <td>20000</td>\n",
       "      <td>50000</td>\n",
       "      <td>0.79</td>\n",
       "      <td>2019</td>\n",
       "    </tr>\n",
       "    <tr>\n",
       "      <th>25503</th>\n",
       "      <td>974920</td>\n",
       "      <td>New Adult Reality</td>\n",
       "      <td>2019-01-01</td>\n",
       "      <td>1</td>\n",
       "      <td>New Adult Reality</td>\n",
       "      <td>New Adult Reality</td>\n",
       "      <td>windows</td>\n",
       "      <td>18</td>\n",
       "      <td>Action;Adventure;Casual;Simulation</td>\n",
       "      <td>0</td>\n",
       "      <td>1</td>\n",
       "      <td>1</td>\n",
       "      <td>0</td>\n",
       "      <td>0</td>\n",
       "      <td>0-20000</td>\n",
       "      <td>0</td>\n",
       "      <td>20000</td>\n",
       "      <td>7.19</td>\n",
       "      <td>2019</td>\n",
       "    </tr>\n",
       "    <tr>\n",
       "      <th>26372</th>\n",
       "      <td>1014730</td>\n",
       "      <td>Cyndy</td>\n",
       "      <td>2019-01-31</td>\n",
       "      <td>1</td>\n",
       "      <td>DreamBig Games</td>\n",
       "      <td>DreamBig Games</td>\n",
       "      <td>windows</td>\n",
       "      <td>18</td>\n",
       "      <td>Simulation;Early Access</td>\n",
       "      <td>21</td>\n",
       "      <td>16</td>\n",
       "      <td>6</td>\n",
       "      <td>0</td>\n",
       "      <td>0</td>\n",
       "      <td>0-20000</td>\n",
       "      <td>0</td>\n",
       "      <td>20000</td>\n",
       "      <td>2.99</td>\n",
       "      <td>2019</td>\n",
       "    </tr>\n",
       "    <tr>\n",
       "      <th>26695</th>\n",
       "      <td>1031920</td>\n",
       "      <td>Симулятор Сидения у Подъезда</td>\n",
       "      <td>2019-04-25</td>\n",
       "      <td>0</td>\n",
       "      <td>Kavkaz Sila Games</td>\n",
       "      <td>Kavkaz Sila Games</td>\n",
       "      <td>windows</td>\n",
       "      <td>18</td>\n",
       "      <td>Simulation</td>\n",
       "      <td>1</td>\n",
       "      <td>9</td>\n",
       "      <td>2</td>\n",
       "      <td>0</td>\n",
       "      <td>0</td>\n",
       "      <td>0-20000</td>\n",
       "      <td>0</td>\n",
       "      <td>20000</td>\n",
       "      <td>0.79</td>\n",
       "      <td>2019</td>\n",
       "    </tr>\n",
       "  </tbody>\n",
       "</table>\n",
       "</div>"
      ],
      "text/plain": [
       "         appid                          name release_date  english  \\\n",
       "22231   857480                        Seirei   2019-03-20        1   \n",
       "23344   890500                   Love ritual   2019-04-09        1   \n",
       "25465   973090              Toilet Simulator   2019-01-18        1   \n",
       "25503   974920             New Adult Reality   2019-01-01        1   \n",
       "26372  1014730                         Cyndy   2019-01-31        1   \n",
       "26695  1031920  Симулятор Сидения у Подъезда   2019-04-25        0   \n",
       "\n",
       "               developer          publisher platforms  required_age  \\\n",
       "22231            zoocros            zoocros   windows            18   \n",
       "23344          Xand arts          Xand arts   windows            18   \n",
       "25465  Kavkaz Sila Games  Kavkaz Sila Games   windows            18   \n",
       "25503  New Adult Reality  New Adult Reality   windows            18   \n",
       "26372     DreamBig Games     DreamBig Games   windows            18   \n",
       "26695  Kavkaz Sila Games  Kavkaz Sila Games   windows            18   \n",
       "\n",
       "                                   genres  achievements  positive_ratings  \\\n",
       "22231                    Indie;Simulation            20                13   \n",
       "23344             Casual;Indie;Simulation             8                23   \n",
       "25465                          Simulation             0                24   \n",
       "25503  Action;Adventure;Casual;Simulation             0                 1   \n",
       "26372             Simulation;Early Access            21                16   \n",
       "26695                          Simulation             1                 9   \n",
       "\n",
       "       negative_ratings  average_playtime  median_playtime       owners  \\\n",
       "22231                 3                 0                0      0-20000   \n",
       "23344                12                 0                0      0-20000   \n",
       "25465                47                 0                0  20000-50000   \n",
       "25503                 1                 0                0      0-20000   \n",
       "26372                 6                 0                0      0-20000   \n",
       "26695                 2                 0                0      0-20000   \n",
       "\n",
       "       owners_min  owners_max  price  year  \n",
       "22231           0       20000   1.69  2019  \n",
       "23344           0       20000   9.29  2019  \n",
       "25465       20000       50000   0.79  2019  \n",
       "25503           0       20000   7.19  2019  \n",
       "26372           0       20000   2.99  2019  \n",
       "26695           0       20000   0.79  2019  "
      ]
     },
     "execution_count": 35,
     "metadata": {},
     "output_type": "execute_result"
    }
   ],
   "source": [
    "copy[(copy.genres.str.contains('Simulation') == True) & (copy.required_age == 18)  & (copy.release_date.dt.year == 2019)]"
   ]
  },
  {
   "cell_type": "markdown",
   "metadata": {},
   "source": [
    "Из полученных данных можно сделать вывод, что симуляторы 18+ не пользуются попупулярностью, как у разработчиков, так и у пользователей"
   ]
  },
  {
   "cell_type": "markdown",
   "metadata": {},
   "source": [
    "## Вывод"
   ]
  },
  {
   "cell_type": "markdown",
   "metadata": {},
   "source": [
    "Был проанализирован датасет с 27075 играми с площадке Steam за период с 1997-06-30 по 2019-05-01\n",
    "Исследование датасета показало:\n",
    "- больше всего игр разработали Choice of Games (94);\n",
    "- больше всего игр издали Big Fish Games(212);\n",
    "- самая популярная платформа windows;\n",
    "- самый популярный жанр игр Action - Indie;\n",
    "- минимальная цена игры - 0, максимальная - 421.99, средняя 6.078193\n",
    "- подавляющее большинство игр поддерживают английский язык (98.1%)\n",
    "- подавляющее большинство игр являются платными (90,5%)\n",
    "- самая популярная игра Dota 2 (200 млн пользователей)\n",
    "- наиболее популярные жанры для платных Indie, Action, Casual, Adventure. \n",
    "- наиболее популярные жанры для бесплатных Free to Play, Indie, Сasual, Action, Adventure\n",
    "- больше всего игр с 2017 года по май 2019 года разработали Ripknot Systems, издали Big Fish Games. Big Fish Games более чем в два раза обходит идущую на втором месте компанию\n",
    "- почти все игры имеют версию для Windows (27070 из 27075). Mac версии имеет 30% игр, а версии для Linux имеют всего 20% игр\n",
    "- симуляторы 18+ не пользуются попупулярностью, как у разработчиков, так и у пользователей\n",
    "- высокий ретинг по отзывам пользователей могут иметь посредственные игры\n",
    "- игровая индустрия получила два толчка к развитию, первый всплеск количества выпускаемых игр был связан с ростом доступности Интернета, второй всплеск связан с развитием технологий мобильных устройств\n",
    "\n",
    "Общие выводы:\n",
    "**Для разработчиков** - Если вы хотите зарабатывать деньги на играх разрабатывайте в жанрах Indie, Action, Casual, Adventure под платформу windows с поддержкой английского языка.\n",
    "**Для ползователей** - Не ведитесь на высокий рейтинг по отзывам\n",
    "\n",
    "\n",
    "\n",
    "\n",
    "\n",
    "\n",
    "\n",
    "\n",
    "\n",
    "\n",
    "Игры, имеющие процент положительных отзывов >=99% получили такой высокий процент вследствии малого общего количества отзывов По высокому проценту положителных отзывов нельзя судить о игре (товаре) без учета общего количества отзывов. В нашем случае скорее всего это посредственные игры т.к. у них низкое количество пользователей и отзывов. Для примера выведу процент положителных отзывов для топ-10 игр по количеству пользователей\n",
    "\n",
    "\n",
    "\n"
   ]
  },
  {
   "cell_type": "code",
   "execution_count": null,
   "metadata": {},
   "outputs": [],
   "source": []
  }
 ],
 "metadata": {
  "kernelspec": {
   "display_name": "Python 3 (ipykernel)",
   "language": "python",
   "name": "python3"
  },
  "language_info": {
   "codemirror_mode": {
    "name": "ipython",
    "version": 3
   },
   "file_extension": ".py",
   "mimetype": "text/x-python",
   "name": "python",
   "nbconvert_exporter": "python",
   "pygments_lexer": "ipython3",
   "version": "3.11.3"
  }
 },
 "nbformat": 4,
 "nbformat_minor": 2
}
