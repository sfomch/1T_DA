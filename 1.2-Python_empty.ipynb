{
 "cells": [
  {
   "cell_type": "markdown",
   "id": "71926fa4",
   "metadata": {},
   "source": [
    "## Задачи с типами данных"
   ]
  },
  {
   "cell_type": "markdown",
   "id": "f5254f14",
   "metadata": {},
   "source": [
    "**1. Напишите программу, которая запрашивает у пользователя два числа, складывает их и выводит результат на экран. Затем программа должна запросить у пользователя две строки и объединить их в одну, после чего вывести результат на экран.**\n",
    "\n",
    "Пример результата выполнения программы:\n",
    "```\n",
    "Сумма: 30\n",
    "Объединенная строка: Hello world!\n",
    "```"
   ]
  },
  {
   "cell_type": "code",
   "execution_count": null,
   "id": "5a84daac",
   "metadata": {},
   "outputs": [],
   "source": [
    "a = int(input('Введите число А:'))\n",
    "b = int(input('Введите число B:'))\n",
    "print('Сумма:', a + b)\n",
    "str_1 = input('Введите первую строку:')\n",
    "str_2 = input('Введите вторую строку:')\n",
    "print(f'Объединенная строка: {str_1} {str_2}')\n"
   ]
  },
  {
   "cell_type": "markdown",
   "id": "22d684a6",
   "metadata": {},
   "source": [
    "**2. Напишите программу, которая запрашивает у пользователя количество фотографий, сделанных, например, за декабрь, январь и февраль, а затем выводит эти данные на экран, а также суммирует количество за сезон, а также выводит среднее значение в месяц**"
   ]
  },
  {
   "cell_type": "markdown",
   "id": "e62a4a67",
   "metadata": {},
   "source": [
    "Пример выполнения программы:\n",
    "```\n",
    "Сколько фотографий Вы сделали в декабре? 145\n",
    "Сколько фотографий Вы сделали в январе? 201\n",
    "Сколько фотографий Вы сделали в феврале? 97\n",
    "\n",
    "За зимний сезон Вы сделали 443 фотографий!\n",
    "В среднем, Вы сделали 147.67 фотографий в месяц!\n",
    "```"
   ]
  },
  {
   "cell_type": "code",
   "execution_count": null,
   "id": "b97be4a5",
   "metadata": {},
   "outputs": [],
   "source": [
    "a = int(input('Сколько фотографий Вы сделали в декабре?'))\n",
    "b = int(input('Сколько фотографий Вы сделали в январе?'))\n",
    "c = int(input('Сколько фотографий Вы сделали в феврале?'))\n",
    "print(f'\\n За зимний сезон Вы сделали {a+b+c} фотографий!')\n",
    "print(f'В среднем, Вы сделали {round((a+b+c)/3, 2)} фотографий в месяц!')\n",
    "\n"
   ]
  },
  {
   "cell_type": "markdown",
   "id": "ad6a9045",
   "metadata": {},
   "source": [
    "**3. Придумайте программу, которая на вход будет получать словарь, выводом которого будет являться жанр фильма, к которому обратились(необязательно связывать с кинематографом). Такжи приведите пример вывода данных**"
   ]
  },
  {
   "cell_type": "markdown",
   "id": "7de979f8",
   "metadata": {},
   "source": [
    "Шаблон программы:"
   ]
  },
  {
   "cell_type": "markdown",
   "id": "e0aa89cd",
   "metadata": {},
   "source": [
    "```\n",
    "{\n",
    "  'Название фильма': 'Жанр фильма',\n",
    "  'Название фильма': 'Жанр фильма',\n",
    "  ...\n",
    "}\n",
    "```"
   ]
  },
  {
   "cell_type": "markdown",
   "id": "233893cf",
   "metadata": {},
   "source": [
    "Пример вывода:"
   ]
  },
  {
   "cell_type": "markdown",
   "id": "25a5dc0d",
   "metadata": {},
   "source": [
    "Мой любимый фильм \"Терминатор\", он исполнен в жанре \"Боевик\""
   ]
  },
  {
   "cell_type": "code",
   "execution_count": null,
   "id": "ca4281f7",
   "metadata": {},
   "outputs": [],
   "source": [
    "dict_film ={\n",
    "    'Терминатор': 'Боевик',\n",
    "    'Красотка': 'Мелодрама',\n",
    "    'Меверик': 'Комедия',\n",
    "    'Звездные войны': 'Фантастика',\n",
    "    'Молчание ягнят': 'Триллер',\n",
    "}\n",
    "\n",
    "a = (input('Введите название фильма:')).lower().title()\n",
    "\n",
    "if dict_film.get(a) != None:\n",
    "    print(f'Фильм \"{a}\" снят в жанре {dict_film.get(a)}')\n",
    "else:\n",
    "    print(f'Увы, но запрашиваемого Вами фильма \"{a}\" нет в нашем каталоге')\n"
   ]
  },
  {
   "cell_type": "markdown",
   "id": "2831e565",
   "metadata": {},
   "source": [
    "## Условный оператор if...else"
   ]
  },
  {
   "cell_type": "markdown",
   "id": "9a9ae7b8",
   "metadata": {},
   "source": [
    "**4. Напишите программу, в которой пользователь должен указать свой возраст, а на вывод получить ответ - совершеннолетний или нет**"
   ]
  },
  {
   "cell_type": "code",
   "execution_count": null,
   "id": "15b0dd72",
   "metadata": {},
   "outputs": [],
   "source": [
    "a = None\n",
    "while type(a) != int:\n",
    "    try:\n",
    "        a = int(input('Введите Ваш возраст:'))\n",
    "    except:    \n",
    "        print('Вы ввели не число')\n",
    "if a < 18:\n",
    "    print('Вы не совершеннолетний')\n",
    "else:\n",
    "    print('Вы совершеннолетний')"
   ]
  },
  {
   "cell_type": "markdown",
   "id": "725dae15",
   "metadata": {},
   "source": [
    "**5. Напишите программу, в которую необходимо ввести два числа и операцию, которую необходимо провести между ними, на выходе должен получится результат выбранной операции. Усложнение: защитите программу от ошибки в случае некорректности данных.**"
   ]
  },
  {
   "cell_type": "code",
   "execution_count": null,
   "id": "ac373ab4",
   "metadata": {},
   "outputs": [],
   "source": [
    "def is_number (str_):\n",
    "    try:\n",
    "        float(str_)\n",
    "        return True\n",
    "    except:\n",
    "        return False\n",
    "a = input('Введите число A:')\n",
    "while not is_number(a):\n",
    "    print(f'Вы ввели не число.')\n",
    "    a = input(\"Введите число A:\")\n",
    "\n",
    "b = input('Введите число B:')\n",
    "while not is_number(b):\n",
    "    print(f'Вы ввели не число.')\n",
    "    b = input(\"Введите число B:\")\n",
    "s = '+-*/'\n",
    "x = input(\"Какую арифметическую операцию выполнить с числами? (+, -, *, /):\")\n",
    "while True:\n",
    "    if len(x) != 1 or x not in s:\n",
    "        print(f'Вы ввели неправильную операцию.')\n",
    "        x = input(\"Какую арифметическую операцию выполнить с числами? (+, -, *, /):\")\n",
    "    else: break\n",
    "if x == '+':\n",
    "    print(f'Сумма чисел равна: {float(a) + float(b)}')\n",
    "elif x == '-':\n",
    "    print(f'Разность чисел равна: {float(a) - float(b)}')\n",
    "elif x == '*':\n",
    "    print(f'Произведение чисел равно: {float(a) * float(b)}')\n",
    "else: print(f'Частное чисел равно: {round(float(a) / float(b), 2)}')"
   ]
  },
  {
   "cell_type": "markdown",
   "id": "42914d0e",
   "metadata": {},
   "source": [
    "##  Цикл For"
   ]
  },
  {
   "cell_type": "markdown",
   "id": "0f07e442",
   "metadata": {},
   "source": [
    "**6. Напишите программу, которая на выход получает список значений (от 5 до 10 будет достаточно). элементы списка будут возводиться в квадрат и выводить их по очереди. Для усложнения: создайте список, в котором будут ошибочные типы данных и защищите программу от ошибки.**"
   ]
  },
  {
   "cell_type": "markdown",
   "id": "c9788bf7",
   "metadata": {},
   "source": [
    "Пример выполнения программы:"
   ]
  },
  {
   "cell_type": "markdown",
   "id": "fcaae7b1",
   "metadata": {},
   "source": [
    "```\n",
    "квадрат числа 1 равен 1\n",
    "квадрат числа 20 равен 400\n",
    "квадрат числа 4 равен 16\n",
    "Ошибочный тип данных\n",
    "квадрат числа 16 равен 256\n",
    "квадрат числа 8 равен 64\n",
    "квадрат числа 23 равен 529\n",
    "Ошибочный тип данных\n",
    "```"
   ]
  },
  {
   "cell_type": "code",
   "execution_count": null,
   "id": "172673d6",
   "metadata": {},
   "outputs": [],
   "source": [
    "list_ = [2, 77, 23, [2, 4, 6], 'wer', 4, 3.5, {'color': 'grin'}]\n",
    "def is_number (str_):\n",
    "    try:\n",
    "        float(str_)\n",
    "        return True\n",
    "    except:\n",
    "        return False\n",
    "for i in list_:\n",
    "    if is_number(i):\n",
    "        print(f'Квадрат числа {i} равен {i * i}')\n",
    "    else:\n",
    "        print(f'Ошибочный тип данных - {type(i)}')"
   ]
  },
  {
   "cell_type": "markdown",
   "id": "b9159cf2",
   "metadata": {},
   "source": [
    "**7. Целью следующей программы будет создание цикла в цикле, на вход должна поступить последовательность чисел. На выводе должны получиться последовательность чисел, которая будет являться перемножением всех чисел в списке друг на друга**"
   ]
  },
  {
   "cell_type": "markdown",
   "id": "6a7bb1e7",
   "metadata": {},
   "source": [
    "Например при перемножении всех значений друг на друга от 1 до 3 должен получиться подобный список:  \n",
    "```\n",
    "[1, 2, 3, 2, 4, 6, 3, 6, 9]\n",
    "```"
   ]
  },
  {
   "cell_type": "code",
   "execution_count": null,
   "id": "37776a00",
   "metadata": {},
   "outputs": [],
   "source": [
    "a = [i for i in range(1,4)]\n",
    "b = [x * y  for x in a for y in a]\n",
    "print(b)  \n"
   ]
  },
  {
   "cell_type": "markdown",
   "id": "78101fe1",
   "metadata": {},
   "source": [
    "**8. Напишите программу, которая будет на вход получать список чисел  и определять чётное оно или нет**"
   ]
  },
  {
   "cell_type": "markdown",
   "id": "2ca3dc30",
   "metadata": {},
   "source": [
    "пример строки и вывода:"
   ]
  },
  {
   "cell_type": "markdown",
   "id": "8b18bd36",
   "metadata": {},
   "source": [
    "```\n",
    "lst = [2, 6, 7, 23, 908, 67, 33, 777]\n",
    "число чётное\n",
    "число чётное\n",
    "число нечётное\n",
    "число нечётное\n",
    "число чётное\n",
    "число нечётное\n",
    "число нечётное\n",
    "число нечётное\n",
    "```"
   ]
  },
  {
   "cell_type": "code",
   "execution_count": null,
   "id": "16a287d9",
   "metadata": {},
   "outputs": [],
   "source": [
    "list_int = [2, 6, 7, 23, 908, 67, 33, 777]\n",
    "def even_odd (list_):\n",
    "    even = 0\n",
    "    odd = 0\n",
    "    for i in range(len(list_int)):\n",
    "        if (list_int[i] % 2) == 0:\n",
    "            print(f'Число {list_int[i]} - четное')\n",
    "        else:\n",
    "            print(f'Число {list_int[i]} - нечетное')\n",
    "even_odd(list_int)"
   ]
  },
  {
   "cell_type": "markdown",
   "id": "c69d346f",
   "metadata": {},
   "source": [
    "##  Функции"
   ]
  },
  {
   "cell_type": "markdown",
   "id": "86320b9a",
   "metadata": {},
   "source": [
    "**9. Интерпретируйте задачу № 5, то есть создайте функцию, в которую вы будете закладывать два числа и оператор, а на выход получать необходимый результат**"
   ]
  },
  {
   "cell_type": "code",
   "execution_count": null,
   "id": "008bfafb",
   "metadata": {},
   "outputs": [],
   "source": [
    "def arifmet (a, b, c):\n",
    "    def is_number (str_):\n",
    "        try:\n",
    "            float(str_)\n",
    "            return True\n",
    "        except:\n",
    "            return False\n",
    "    s = '+-*/'\n",
    "    if is_number(a) and is_number(b) and len(c) == 1 and c in s:\n",
    "        if c == '+':\n",
    "            r = float(a) + float(b)\n",
    "            return r\n",
    "        elif c == '-':\n",
    "            r = float(a) - float(b)\n",
    "            return r\n",
    "        elif c == '*':\n",
    "            r = float(a) * float(b)\n",
    "            return r\n",
    "        elif c == '*':\n",
    "            r = float(a) / float(b)\n",
    "            return r\n",
    "    else: return print('Вы ввели не верные данные')\n",
    "\n",
    "arifmet(1, 2, '+')\n",
    "\n"
   ]
  },
  {
   "cell_type": "markdown",
   "id": "888df09e",
   "metadata": {},
   "source": [
    "**10.Напишите функцию, которая принимает на вход два списка и объединяет их в один список, удаляя при этом дубликаты элементов. Для удаления дубликатов воспользуйтесь методом set()**"
   ]
  },
  {
   "cell_type": "code",
   "execution_count": null,
   "id": "004d663c",
   "metadata": {},
   "outputs": [],
   "source": [
    "list_1 = [2,3,4,5,8,9, 'w', 'a']\n",
    "list_2 = [2,7,4,5,6,9,1]\n",
    "def list_сombined (list_1, list_2):\n",
    "    list_ = list(set(list_1) | set(list_2))\n",
    "    return list_\n",
    "list_сombined (list_1, list_2)"
   ]
  },
  {
   "cell_type": "markdown",
   "id": "9e3727c4",
   "metadata": {},
   "source": [
    "**11. Напишите функцию, которая будет принимать на вход два списка, а возвращать только общие элементы этих списков.**"
   ]
  },
  {
   "cell_type": "code",
   "execution_count": null,
   "id": "b100b23a",
   "metadata": {},
   "outputs": [],
   "source": [
    "list_1 = [2,3,4,5,8,9]\n",
    "list_2 = [2,7,4,5,6,9,1]\n",
    "\n",
    "def list_common (list_1, list_2):\n",
    "    list_ = []\n",
    "    for i in range(len(list_1)):\n",
    "        if list_1[i] in list_2:\n",
    "            list_.append(list_1[i])\n",
    "    return list_\n",
    "\n",
    "print(list_common(list_1, list_2))\n"
   ]
  },
  {
   "cell_type": "code",
   "execution_count": null,
   "id": "bd2a1450",
   "metadata": {},
   "outputs": [],
   "source": []
  }
 ],
 "metadata": {
  "kernelspec": {
   "display_name": "Python 3 (ipykernel)",
   "language": "python",
   "name": "python3"
  },
  "language_info": {
   "codemirror_mode": {
    "name": "ipython",
    "version": 3
   },
   "file_extension": ".py",
   "mimetype": "text/x-python",
   "name": "python",
   "nbconvert_exporter": "python",
   "pygments_lexer": "ipython3",
   "version": "3.10.9"
  }
 },
 "nbformat": 4,
 "nbformat_minor": 5
}
