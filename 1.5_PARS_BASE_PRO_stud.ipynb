{
 "cells": [
  {
   "cell_type": "markdown",
   "id": "def3f512-010b-429c-926a-3a6bfb624e97",
   "metadata": {},
   "source": [
    "# Парсинг с помощью BeautifulSoup"
   ]
  },
  {
   "cell_type": "markdown",
   "id": "451d5487-2526-4666-b067-25900579db42",
   "metadata": {},
   "source": [
    "Beautiful Soup - это библиотека для Python, которая позволяет парсить (анализировать) HTML и XML документы. Она предоставляет удобный способ искать, навигировать, и модифицировать дерево DOM (Document Object Model), представляющее HTML/XML документ."
   ]
  },
  {
   "cell_type": "markdown",
   "id": "a42df1cd-63c3-4698-81b0-4a3e0b3733d6",
   "metadata": {},
   "source": [
    "# Задание"
   ]
  },
  {
   "cell_type": "markdown",
   "id": "9843b013-346b-4b59-914b-a59fd34a1f2c",
   "metadata": {},
   "source": [
    "Вам необходимо собрать датасет, спарсив данные из этого сайта:\n",
    "\n",
    "https://books.toscrape.com/\n",
    "\n",
    "Всего на сайте 1000 книг. То есть длина датасета должна равняться количеству книг.\n",
    " \n",
    "Итоговая таблица должна содержать следующие столбцы:\n",
    "\n",
    "| Название столбца | Описание | \n",
    "|--|--|\n",
    "|id| Идентификатор книги |\n",
    "|book_name| Название книги |\n",
    "|price| Цена в £ |\n",
    "|stock| Наличие книги. 1 или 0|\n",
    "|url| Ссылка на книгу |\n",
    "\n",
    "**Примечание по столбцам:**\n",
    "- `id` - заполняется разработчиком датасета. Первая спарсенная книга имеет `id` = `0`.\n",
    "- `url` - должна содержать полную ссылку. Не только конец ссылки, указанный на сайте. То есть по данному url можно перейти одним кликом."
   ]
  },
  {
   "cell_type": "markdown",
   "id": "31bb859f-4867-4ccf-bbf0-358d2ebf1a1a",
   "metadata": {
    "tags": []
   },
   "source": [
    "## Импорт библиотек"
   ]
  },
  {
   "cell_type": "code",
   "execution_count": 1,
   "id": "cb4f0513-16dd-449b-aaa2-a8b58cca5d54",
   "metadata": {},
   "outputs": [],
   "source": [
    "import requests\n",
    "import pandas as pd\n",
    "from bs4 import BeautifulSoup"
   ]
  },
  {
   "cell_type": "markdown",
   "id": "dc6344fb-c068-4322-a1a8-f77ce86ca7e1",
   "metadata": {},
   "source": [
    "## Cоздание датасета и парсинг данных"
   ]
  },
  {
   "cell_type": "code",
   "execution_count": 2,
   "id": "4d73911d",
   "metadata": {},
   "outputs": [],
   "source": [
    "#Создаем пустой датафрейм\n",
    "df = pd.DataFrame({\n",
    "    'id':[],\n",
    "    'book_name':[],\n",
    "    'price':[],\n",
    "    'stock':[],\n",
    "    'url':[],\n",
    "})\n",
    "\n",
    "id_ = 0\n",
    "\n",
    "#функция наполнения датафрейма\n",
    "def books_df (soup, data = df):\n",
    "    articles = soup.find_all('article', attrs = {'class':'product_pod'})\n",
    "    global id_\n",
    "    for i in articles:\n",
    "        quote = {}\n",
    "        quote['id'] = id_\n",
    "        quote['book_name'] = i.find('h3').text \n",
    "        # удалил из цены без f и изменил тип на числовой, чтобы можно было анализировать\n",
    "        quote['price'] = float(i.find('p', attrs = {'class':'price_color'}).text[1:])  \n",
    "        \n",
    "        if i.find('p', attrs = {'class':'instock availability'}).text.strip() == 'In stock':\n",
    "            quote['stock'] = 1\n",
    "        else: \n",
    "            quote['stock'] = 0  \n",
    "            \n",
    "        quote['url'] = 'https://books.toscrape.com/catalogue/' + i.find('h3').find('a').get('href')\n",
    "        \n",
    "        df.loc[len(df)] = quote\n",
    "        id_ += 1\n",
    "\n",
    "#Парсинг сайта для наполнения датафрейма        \n",
    "\n",
    "url = 'http://books.toscrape.com/'\n",
    "\n",
    "for i in range(1, 51): #На сайте 50 страниц (1000 книг по 20 на странице)\n",
    "    r = requests.get(url + 'catalogue/page-'+ str(i) + '.html', timeout = 10)\n",
    "    soup = BeautifulSoup(r.content, 'html.parser')    \n",
    "    books_df(soup, df)  \n"
   ]
  },
  {
   "cell_type": "markdown",
   "id": "3af185d3-6aed-4fbc-a09e-a7f00e5efb68",
   "metadata": {
    "tags": []
   },
   "source": [
    "## Итоговый датасет"
   ]
  },
  {
   "cell_type": "code",
   "execution_count": 3,
   "id": "b52c1b5b-3064-45a6-8bcf-d6104eb8e063",
   "metadata": {
    "tags": []
   },
   "outputs": [
    {
     "data": {
      "text/plain": [
       "(1000, 5)"
      ]
     },
     "execution_count": 3,
     "metadata": {},
     "output_type": "execute_result"
    }
   ],
   "source": [
    "df.shape"
   ]
  },
  {
   "cell_type": "code",
   "execution_count": 4,
   "id": "d8f17a80",
   "metadata": {},
   "outputs": [
    {
     "data": {
      "text/html": [
       "<div>\n",
       "<style scoped>\n",
       "    .dataframe tbody tr th:only-of-type {\n",
       "        vertical-align: middle;\n",
       "    }\n",
       "\n",
       "    .dataframe tbody tr th {\n",
       "        vertical-align: top;\n",
       "    }\n",
       "\n",
       "    .dataframe thead th {\n",
       "        text-align: right;\n",
       "    }\n",
       "</style>\n",
       "<table border=\"1\" class=\"dataframe\">\n",
       "  <thead>\n",
       "    <tr style=\"text-align: right;\">\n",
       "      <th></th>\n",
       "      <th>id</th>\n",
       "      <th>book_name</th>\n",
       "      <th>price</th>\n",
       "      <th>stock</th>\n",
       "      <th>url</th>\n",
       "    </tr>\n",
       "  </thead>\n",
       "  <tbody>\n",
       "    <tr>\n",
       "      <th>0</th>\n",
       "      <td>0</td>\n",
       "      <td>A Light in the ...</td>\n",
       "      <td>51.77</td>\n",
       "      <td>1</td>\n",
       "      <td>https://books.toscrape.com/catalogue/a-light-i...</td>\n",
       "    </tr>\n",
       "    <tr>\n",
       "      <th>1</th>\n",
       "      <td>1</td>\n",
       "      <td>Tipping the Velvet</td>\n",
       "      <td>53.74</td>\n",
       "      <td>1</td>\n",
       "      <td>https://books.toscrape.com/catalogue/tipping-t...</td>\n",
       "    </tr>\n",
       "    <tr>\n",
       "      <th>2</th>\n",
       "      <td>2</td>\n",
       "      <td>Soumission</td>\n",
       "      <td>50.10</td>\n",
       "      <td>1</td>\n",
       "      <td>https://books.toscrape.com/catalogue/soumissio...</td>\n",
       "    </tr>\n",
       "    <tr>\n",
       "      <th>3</th>\n",
       "      <td>3</td>\n",
       "      <td>Sharp Objects</td>\n",
       "      <td>47.82</td>\n",
       "      <td>1</td>\n",
       "      <td>https://books.toscrape.com/catalogue/sharp-obj...</td>\n",
       "    </tr>\n",
       "    <tr>\n",
       "      <th>4</th>\n",
       "      <td>4</td>\n",
       "      <td>Sapiens: A Brief History ...</td>\n",
       "      <td>54.23</td>\n",
       "      <td>1</td>\n",
       "      <td>https://books.toscrape.com/catalogue/sapiens-a...</td>\n",
       "    </tr>\n",
       "  </tbody>\n",
       "</table>\n",
       "</div>"
      ],
      "text/plain": [
       "   id                     book_name  price  stock  \\\n",
       "0   0            A Light in the ...  51.77      1   \n",
       "1   1            Tipping the Velvet  53.74      1   \n",
       "2   2                    Soumission  50.10      1   \n",
       "3   3                 Sharp Objects  47.82      1   \n",
       "4   4  Sapiens: A Brief History ...  54.23      1   \n",
       "\n",
       "                                                 url  \n",
       "0  https://books.toscrape.com/catalogue/a-light-i...  \n",
       "1  https://books.toscrape.com/catalogue/tipping-t...  \n",
       "2  https://books.toscrape.com/catalogue/soumissio...  \n",
       "3  https://books.toscrape.com/catalogue/sharp-obj...  \n",
       "4  https://books.toscrape.com/catalogue/sapiens-a...  "
      ]
     },
     "metadata": {},
     "output_type": "display_data"
    },
    {
     "data": {
      "text/html": [
       "<div>\n",
       "<style scoped>\n",
       "    .dataframe tbody tr th:only-of-type {\n",
       "        vertical-align: middle;\n",
       "    }\n",
       "\n",
       "    .dataframe tbody tr th {\n",
       "        vertical-align: top;\n",
       "    }\n",
       "\n",
       "    .dataframe thead th {\n",
       "        text-align: right;\n",
       "    }\n",
       "</style>\n",
       "<table border=\"1\" class=\"dataframe\">\n",
       "  <thead>\n",
       "    <tr style=\"text-align: right;\">\n",
       "      <th></th>\n",
       "      <th>id</th>\n",
       "      <th>book_name</th>\n",
       "      <th>price</th>\n",
       "      <th>stock</th>\n",
       "      <th>url</th>\n",
       "    </tr>\n",
       "  </thead>\n",
       "  <tbody>\n",
       "    <tr>\n",
       "      <th>995</th>\n",
       "      <td>995</td>\n",
       "      <td>Alice in Wonderland (Alice's ...</td>\n",
       "      <td>55.53</td>\n",
       "      <td>1</td>\n",
       "      <td>https://books.toscrape.com/catalogue/alice-in-...</td>\n",
       "    </tr>\n",
       "    <tr>\n",
       "      <th>996</th>\n",
       "      <td>996</td>\n",
       "      <td>Ajin: Demi-Human, Volume 1 ...</td>\n",
       "      <td>57.06</td>\n",
       "      <td>1</td>\n",
       "      <td>https://books.toscrape.com/catalogue/ajin-demi...</td>\n",
       "    </tr>\n",
       "    <tr>\n",
       "      <th>997</th>\n",
       "      <td>997</td>\n",
       "      <td>A Spy's Devotion (The ...</td>\n",
       "      <td>16.97</td>\n",
       "      <td>1</td>\n",
       "      <td>https://books.toscrape.com/catalogue/a-spys-de...</td>\n",
       "    </tr>\n",
       "    <tr>\n",
       "      <th>998</th>\n",
       "      <td>998</td>\n",
       "      <td>1st to Die (Women's ...</td>\n",
       "      <td>53.98</td>\n",
       "      <td>1</td>\n",
       "      <td>https://books.toscrape.com/catalogue/1st-to-di...</td>\n",
       "    </tr>\n",
       "    <tr>\n",
       "      <th>999</th>\n",
       "      <td>999</td>\n",
       "      <td>1,000 Places to See ...</td>\n",
       "      <td>26.08</td>\n",
       "      <td>1</td>\n",
       "      <td>https://books.toscrape.com/catalogue/1000-plac...</td>\n",
       "    </tr>\n",
       "  </tbody>\n",
       "</table>\n",
       "</div>"
      ],
      "text/plain": [
       "      id                         book_name  price  stock  \\\n",
       "995  995  Alice in Wonderland (Alice's ...  55.53      1   \n",
       "996  996    Ajin: Demi-Human, Volume 1 ...  57.06      1   \n",
       "997  997         A Spy's Devotion (The ...  16.97      1   \n",
       "998  998           1st to Die (Women's ...  53.98      1   \n",
       "999  999           1,000 Places to See ...  26.08      1   \n",
       "\n",
       "                                                   url  \n",
       "995  https://books.toscrape.com/catalogue/alice-in-...  \n",
       "996  https://books.toscrape.com/catalogue/ajin-demi...  \n",
       "997  https://books.toscrape.com/catalogue/a-spys-de...  \n",
       "998  https://books.toscrape.com/catalogue/1st-to-di...  \n",
       "999  https://books.toscrape.com/catalogue/1000-plac...  "
      ]
     },
     "metadata": {},
     "output_type": "display_data"
    }
   ],
   "source": [
    "display(df.head(), df.tail())"
   ]
  },
  {
   "cell_type": "code",
   "execution_count": 5,
   "id": "332074ca",
   "metadata": {},
   "outputs": [
    {
     "name": "stdout",
     "output_type": "stream",
     "text": [
      "<class 'pandas.core.frame.DataFrame'>\n",
      "Int64Index: 1000 entries, 0 to 999\n",
      "Data columns (total 5 columns):\n",
      " #   Column     Non-Null Count  Dtype  \n",
      "---  ------     --------------  -----  \n",
      " 0   id         1000 non-null   int64  \n",
      " 1   book_name  1000 non-null   object \n",
      " 2   price      1000 non-null   float64\n",
      " 3   stock      1000 non-null   int64  \n",
      " 4   url        1000 non-null   object \n",
      "dtypes: float64(1), int64(2), object(2)\n",
      "memory usage: 46.9+ KB\n"
     ]
    }
   ],
   "source": [
    "df.info()"
   ]
  },
  {
   "cell_type": "markdown",
   "id": "b6483175-e72a-44cd-a701-f571e91236c4",
   "metadata": {},
   "source": [
    "# ЗАДАНИЕ ПРО"
   ]
  },
  {
   "cell_type": "markdown",
   "id": "ccde500e-b0d1-47d7-bd6d-be83ae17909d",
   "metadata": {},
   "source": [
    "Так, мы спарсили данные о книгах. Но данные какие-то неполные. Часть названия стирается из-за отображения и нет ни полного названия книги, ни описания этой книги, ни жанра.\n",
    "\n",
    "Вам необходимо дополнить датасет, спарсив дополнительные данные из того же сайта:\n",
    "\n",
    "https://books.toscrape.com/\n",
    " \n",
    "Итоговая таблица должна содержать следующие столбцы:\n",
    "\n",
    "| Название столбца | Описание | \n",
    "|--|--|\n",
    "|id| Идентификатор книги |\n",
    "|book_name| Название книги - только полное название|\n",
    "|genre| жанр книги |\n",
    "|desc| описание |\n",
    "|price| Цена в £ |\n",
    "|stock| Наличие книги. 1 или 0|\n",
    "|url| Ссылка на книгу |\n",
    "| num_of_rev | количество отзывов|"
   ]
  },
  {
   "cell_type": "markdown",
   "id": "6e73f6ff-9b5b-4a3f-84d1-49bf7656fc9b",
   "metadata": {},
   "source": [
    "## Парсинг данных и обогащение датасета"
   ]
  },
  {
   "cell_type": "code",
   "execution_count": 6,
   "id": "97403bc5",
   "metadata": {},
   "outputs": [],
   "source": [
    "#Вставляем в середину два столбца\n",
    "df.insert(2, 'genre', '', allow_duplicates = False)\n",
    "df.insert(3, 'desc', '', allow_duplicates = False)"
   ]
  },
  {
   "cell_type": "code",
   "execution_count": 10,
   "id": "357311a9",
   "metadata": {
    "scrolled": false
   },
   "outputs": [],
   "source": [
    "#Парсим страницы книг и добавляем данные из них в датасет\n",
    "n = 0\n",
    "for i in df['url']:\n",
    "    r = requests.get(i, verify=True, timeout=10)\n",
    "    soup = BeautifulSoup(r.content, 'html.parser')\n",
    "    content = soup.find_all('div', attrs = {'class':'container-fluid page'})\n",
    "    df.at[n, 'genre'] = (content[0].find_all('a'))[2].text\n",
    "    df.at[n,'book_name'] = content[0].find('h1').text\n",
    "    df.at[n,'desc'] = (content[0].find_all('p'))[3].text\n",
    "    df.at[n,'num_of_rev'] = int((content[0].find_all('td'))[6].text) \n",
    "    n += 1\n"
   ]
  },
  {
   "cell_type": "markdown",
   "id": "95f4828b-c51c-41d5-9a65-3978f2ae5816",
   "metadata": {
    "tags": []
   },
   "source": [
    "## Итоговый датасет PRO"
   ]
  },
  {
   "cell_type": "code",
   "execution_count": 11,
   "id": "86929986-26d8-4c77-938e-2315719b303f",
   "metadata": {
    "tags": []
   },
   "outputs": [
    {
     "data": {
      "text/plain": [
       "(1000, 8)"
      ]
     },
     "execution_count": 11,
     "metadata": {},
     "output_type": "execute_result"
    }
   ],
   "source": [
    "df.shape"
   ]
  },
  {
   "cell_type": "code",
   "execution_count": 12,
   "id": "ae76f7ea-bdf2-4434-9e2f-995f9f780601",
   "metadata": {
    "tags": []
   },
   "outputs": [
    {
     "data": {
      "text/html": [
       "<div>\n",
       "<style scoped>\n",
       "    .dataframe tbody tr th:only-of-type {\n",
       "        vertical-align: middle;\n",
       "    }\n",
       "\n",
       "    .dataframe tbody tr th {\n",
       "        vertical-align: top;\n",
       "    }\n",
       "\n",
       "    .dataframe thead th {\n",
       "        text-align: right;\n",
       "    }\n",
       "</style>\n",
       "<table border=\"1\" class=\"dataframe\">\n",
       "  <thead>\n",
       "    <tr style=\"text-align: right;\">\n",
       "      <th></th>\n",
       "      <th>id</th>\n",
       "      <th>book_name</th>\n",
       "      <th>genre</th>\n",
       "      <th>desc</th>\n",
       "      <th>price</th>\n",
       "      <th>stock</th>\n",
       "      <th>url</th>\n",
       "      <th>num_of_rev</th>\n",
       "    </tr>\n",
       "  </thead>\n",
       "  <tbody>\n",
       "    <tr>\n",
       "      <th>0</th>\n",
       "      <td>0</td>\n",
       "      <td>A Light in the Attic</td>\n",
       "      <td>Poetry</td>\n",
       "      <td>It's hard to imagine a world without A Light i...</td>\n",
       "      <td>51.77</td>\n",
       "      <td>1</td>\n",
       "      <td>https://books.toscrape.com/catalogue/a-light-i...</td>\n",
       "      <td>0.0</td>\n",
       "    </tr>\n",
       "    <tr>\n",
       "      <th>1</th>\n",
       "      <td>1</td>\n",
       "      <td>Tipping the Velvet</td>\n",
       "      <td>Historical Fiction</td>\n",
       "      <td>\"Erotic and absorbing...Written with starling ...</td>\n",
       "      <td>53.74</td>\n",
       "      <td>1</td>\n",
       "      <td>https://books.toscrape.com/catalogue/tipping-t...</td>\n",
       "      <td>0.0</td>\n",
       "    </tr>\n",
       "    <tr>\n",
       "      <th>2</th>\n",
       "      <td>2</td>\n",
       "      <td>Soumission</td>\n",
       "      <td>Fiction</td>\n",
       "      <td>Dans une France assez proche de la nôtre, un h...</td>\n",
       "      <td>50.10</td>\n",
       "      <td>1</td>\n",
       "      <td>https://books.toscrape.com/catalogue/soumissio...</td>\n",
       "      <td>0.0</td>\n",
       "    </tr>\n",
       "    <tr>\n",
       "      <th>3</th>\n",
       "      <td>3</td>\n",
       "      <td>Sharp Objects</td>\n",
       "      <td>Mystery</td>\n",
       "      <td>WICKED above her hipbone, GIRL across her hear...</td>\n",
       "      <td>47.82</td>\n",
       "      <td>1</td>\n",
       "      <td>https://books.toscrape.com/catalogue/sharp-obj...</td>\n",
       "      <td>0.0</td>\n",
       "    </tr>\n",
       "    <tr>\n",
       "      <th>4</th>\n",
       "      <td>4</td>\n",
       "      <td>Sapiens: A Brief History of Humankind</td>\n",
       "      <td>History</td>\n",
       "      <td>From a renowned historian comes a groundbreaki...</td>\n",
       "      <td>54.23</td>\n",
       "      <td>1</td>\n",
       "      <td>https://books.toscrape.com/catalogue/sapiens-a...</td>\n",
       "      <td>0.0</td>\n",
       "    </tr>\n",
       "  </tbody>\n",
       "</table>\n",
       "</div>"
      ],
      "text/plain": [
       "   id                              book_name               genre  \\\n",
       "0   0                   A Light in the Attic              Poetry   \n",
       "1   1                     Tipping the Velvet  Historical Fiction   \n",
       "2   2                             Soumission             Fiction   \n",
       "3   3                          Sharp Objects             Mystery   \n",
       "4   4  Sapiens: A Brief History of Humankind             History   \n",
       "\n",
       "                                                desc  price  stock  \\\n",
       "0  It's hard to imagine a world without A Light i...  51.77      1   \n",
       "1  \"Erotic and absorbing...Written with starling ...  53.74      1   \n",
       "2  Dans une France assez proche de la nôtre, un h...  50.10      1   \n",
       "3  WICKED above her hipbone, GIRL across her hear...  47.82      1   \n",
       "4  From a renowned historian comes a groundbreaki...  54.23      1   \n",
       "\n",
       "                                                 url  num_of_rev  \n",
       "0  https://books.toscrape.com/catalogue/a-light-i...         0.0  \n",
       "1  https://books.toscrape.com/catalogue/tipping-t...         0.0  \n",
       "2  https://books.toscrape.com/catalogue/soumissio...         0.0  \n",
       "3  https://books.toscrape.com/catalogue/sharp-obj...         0.0  \n",
       "4  https://books.toscrape.com/catalogue/sapiens-a...         0.0  "
      ]
     },
     "metadata": {},
     "output_type": "display_data"
    },
    {
     "data": {
      "text/html": [
       "<div>\n",
       "<style scoped>\n",
       "    .dataframe tbody tr th:only-of-type {\n",
       "        vertical-align: middle;\n",
       "    }\n",
       "\n",
       "    .dataframe tbody tr th {\n",
       "        vertical-align: top;\n",
       "    }\n",
       "\n",
       "    .dataframe thead th {\n",
       "        text-align: right;\n",
       "    }\n",
       "</style>\n",
       "<table border=\"1\" class=\"dataframe\">\n",
       "  <thead>\n",
       "    <tr style=\"text-align: right;\">\n",
       "      <th></th>\n",
       "      <th>id</th>\n",
       "      <th>book_name</th>\n",
       "      <th>genre</th>\n",
       "      <th>desc</th>\n",
       "      <th>price</th>\n",
       "      <th>stock</th>\n",
       "      <th>url</th>\n",
       "      <th>num_of_rev</th>\n",
       "    </tr>\n",
       "  </thead>\n",
       "  <tbody>\n",
       "    <tr>\n",
       "      <th>995</th>\n",
       "      <td>995</td>\n",
       "      <td>Alice in Wonderland (Alice's Adventures in Won...</td>\n",
       "      <td>Classics</td>\n",
       "      <td>\\n\\n\\n\\n\\n\\n</td>\n",
       "      <td>55.53</td>\n",
       "      <td>1</td>\n",
       "      <td>https://books.toscrape.com/catalogue/alice-in-...</td>\n",
       "      <td>0.0</td>\n",
       "    </tr>\n",
       "    <tr>\n",
       "      <th>996</th>\n",
       "      <td>996</td>\n",
       "      <td>Ajin: Demi-Human, Volume 1 (Ajin: Demi-Human #1)</td>\n",
       "      <td>Sequential Art</td>\n",
       "      <td>High school student Kei Nagai is struck dead i...</td>\n",
       "      <td>57.06</td>\n",
       "      <td>1</td>\n",
       "      <td>https://books.toscrape.com/catalogue/ajin-demi...</td>\n",
       "      <td>0.0</td>\n",
       "    </tr>\n",
       "    <tr>\n",
       "      <th>997</th>\n",
       "      <td>997</td>\n",
       "      <td>A Spy's Devotion (The Regency Spies of London #1)</td>\n",
       "      <td>Historical Fiction</td>\n",
       "      <td>In England’s Regency era, manners and elegance...</td>\n",
       "      <td>16.97</td>\n",
       "      <td>1</td>\n",
       "      <td>https://books.toscrape.com/catalogue/a-spys-de...</td>\n",
       "      <td>0.0</td>\n",
       "    </tr>\n",
       "    <tr>\n",
       "      <th>998</th>\n",
       "      <td>998</td>\n",
       "      <td>1st to Die (Women's Murder Club #1)</td>\n",
       "      <td>Mystery</td>\n",
       "      <td>James Patterson, bestselling author of the Ale...</td>\n",
       "      <td>53.98</td>\n",
       "      <td>1</td>\n",
       "      <td>https://books.toscrape.com/catalogue/1st-to-di...</td>\n",
       "      <td>0.0</td>\n",
       "    </tr>\n",
       "    <tr>\n",
       "      <th>999</th>\n",
       "      <td>999</td>\n",
       "      <td>1,000 Places to See Before You Die</td>\n",
       "      <td>Travel</td>\n",
       "      <td>Around the World, continent by continent, here...</td>\n",
       "      <td>26.08</td>\n",
       "      <td>1</td>\n",
       "      <td>https://books.toscrape.com/catalogue/1000-plac...</td>\n",
       "      <td>0.0</td>\n",
       "    </tr>\n",
       "  </tbody>\n",
       "</table>\n",
       "</div>"
      ],
      "text/plain": [
       "      id                                          book_name  \\\n",
       "995  995  Alice in Wonderland (Alice's Adventures in Won...   \n",
       "996  996   Ajin: Demi-Human, Volume 1 (Ajin: Demi-Human #1)   \n",
       "997  997  A Spy's Devotion (The Regency Spies of London #1)   \n",
       "998  998                1st to Die (Women's Murder Club #1)   \n",
       "999  999                 1,000 Places to See Before You Die   \n",
       "\n",
       "                  genre                                               desc  \\\n",
       "995            Classics                                       \\n\\n\\n\\n\\n\\n   \n",
       "996      Sequential Art  High school student Kei Nagai is struck dead i...   \n",
       "997  Historical Fiction  In England’s Regency era, manners and elegance...   \n",
       "998             Mystery  James Patterson, bestselling author of the Ale...   \n",
       "999              Travel  Around the World, continent by continent, here...   \n",
       "\n",
       "     price  stock                                                url  \\\n",
       "995  55.53      1  https://books.toscrape.com/catalogue/alice-in-...   \n",
       "996  57.06      1  https://books.toscrape.com/catalogue/ajin-demi...   \n",
       "997  16.97      1  https://books.toscrape.com/catalogue/a-spys-de...   \n",
       "998  53.98      1  https://books.toscrape.com/catalogue/1st-to-di...   \n",
       "999  26.08      1  https://books.toscrape.com/catalogue/1000-plac...   \n",
       "\n",
       "     num_of_rev  \n",
       "995         0.0  \n",
       "996         0.0  \n",
       "997         0.0  \n",
       "998         0.0  \n",
       "999         0.0  "
      ]
     },
     "metadata": {},
     "output_type": "display_data"
    }
   ],
   "source": [
    "display(\n",
    "    df.head(),\n",
    "    df.tail()\n",
    ")"
   ]
  },
  {
   "cell_type": "code",
   "execution_count": null,
   "id": "d8c4b37c-e680-497d-a6c0-3e7dd9bbc85a",
   "metadata": {},
   "outputs": [],
   "source": []
  }
 ],
 "metadata": {
  "kernelspec": {
   "display_name": "Python 3 (ipykernel)",
   "language": "python",
   "name": "python3"
  },
  "language_info": {
   "codemirror_mode": {
    "name": "ipython",
    "version": 3
   },
   "file_extension": ".py",
   "mimetype": "text/x-python",
   "name": "python",
   "nbconvert_exporter": "python",
   "pygments_lexer": "ipython3",
   "version": "3.10.9"
  }
 },
 "nbformat": 4,
 "nbformat_minor": 5
}
