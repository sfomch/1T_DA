{
 "cells": [
  {
   "cell_type": "markdown",
   "metadata": {},
   "source": [
    "Задание\n",
    "К вам на анализ попал набор данных  о работе сервиса по продаже авиабилетов с дневной агрегацией. Вашей задаче будет рассчитать определенные показатели для каждого месяца, представленные ниже. \n",
    "\n",
    "Данные содержат:\n",
    "\n",
    "Дату\n",
    "\n",
    "Идентификатор сессии\n",
    "\n",
    "Идентификатор пользователя\n",
    "\n",
    "Сумму оплаты во время сессии\n",
    "\n",
    "Оценку сервиса (она запрашивается у пользователя после оформления билетов)\n",
    "\n",
    " \n",
    "\n",
    "Используя данные, рассчитайте показатели для каждого месяца:\n",
    "\n",
    "Количество сессий\n",
    "\n",
    "MAU\n",
    "\n",
    "WAU (среднее)\n",
    "\n",
    "DAU (среднее)\n",
    "\n",
    "Липкость \n",
    "\n",
    "Конверсию в продажу\n",
    "\n",
    "ARPU\n",
    "\n",
    "ARPPU\n",
    "\n",
    "Удовлетворенность клиентов\n",
    "\n",
    "Для второй недели января рассчитайте Retention с 1 по 10 недели. Постройте график, сделайте выводы."
   ]
  },
  {
   "cell_type": "code",
   "execution_count": null,
   "metadata": {},
   "outputs": [],
   "source": [
    "import pandas as pd\n",
    "import numpy as np\n",
    "import matplotlib.pyplot as plt\n",
    "import seaborn as sns\n",
    "import warnings\n",
    "warnings.simplefilter(action = 'ignore', category = FutureWarning)"
   ]
  },
  {
   "cell_type": "code",
   "execution_count": 279,
   "metadata": {},
   "outputs": [],
   "source": [
    "# Загрузка данных\n",
    "df = pd.read_csv('data/data.csv')"
   ]
  },
  {
   "cell_type": "code",
   "execution_count": null,
   "metadata": {},
   "outputs": [],
   "source": [
    "df "
   ]
  },
  {
   "cell_type": "code",
   "execution_count": null,
   "metadata": {},
   "outputs": [],
   "source": [
    "#Проверяю типы данных и пропуски\n",
    "df.info()"
   ]
  },
  {
   "cell_type": "code",
   "execution_count": null,
   "metadata": {},
   "outputs": [],
   "source": [
    "#Статистическая информация\n",
    "df.describe(include = 'all')"
   ]
  },
  {
   "cell_type": "code",
   "execution_count": 281,
   "metadata": {},
   "outputs": [],
   "source": [
    "#Переименовываю столбецы \n",
    "df.rename(columns \n",
    "                 = {'Дата': 'date', 'ID сессии': 'id_ses', 'Оценка': 'evaluation', \n",
    "                    'ID клиента': 'id_user', 'Доход': 'income'}, inplace = True)\n",
    "#Меняю тип данных в колонках с датой\n",
    "df.date = df.date.astype(\"datetime64[ns]\")"
   ]
  },
  {
   "cell_type": "code",
   "execution_count": null,
   "metadata": {},
   "outputs": [],
   "source": [
    "print(f'В датасете {len(df) - len(df.drop_duplicates(subset = \"id_ses\"))} дубликатов строк')"
   ]
  },
  {
   "cell_type": "code",
   "execution_count": 282,
   "metadata": {},
   "outputs": [],
   "source": [
    "#Удаляю дубликаты\n",
    "#df.drop_duplicates(inplace = True)\n",
    "df.drop_duplicates(subset = \"id_ses\", inplace = True)\n",
    "df.reset_index(drop = True, inplace = True)"
   ]
  },
  {
   "cell_type": "code",
   "execution_count": null,
   "metadata": {},
   "outputs": [],
   "source": [
    "# Проверка на дубликаты\n",
    "print(f'В датасете {len(df) - len(df.drop_duplicates())} дубликатов строк')"
   ]
  },
  {
   "cell_type": "code",
   "execution_count": 283,
   "metadata": {},
   "outputs": [],
   "source": [
    "# добавляю столбец month\n",
    "df['month'] = df.date.dt.month\n",
    "df['day'] = df.date.dt.day\n",
    "df['week'] = df.date.dt.to_period('W')"
   ]
  },
  {
   "cell_type": "code",
   "execution_count": null,
   "metadata": {},
   "outputs": [],
   "source": [
    "df"
   ]
  },
  {
   "cell_type": "markdown",
   "metadata": {},
   "source": [
    "## Расчет показателей"
   ]
  },
  {
   "cell_type": "code",
   "execution_count": 284,
   "metadata": {},
   "outputs": [],
   "source": [
    "df_session = df.groupby(by = 'month').id_ses.count().reset_index()\n",
    "df_session.rename(columns = {'id_ses': 'quan_ses'}, inplace = True)\n",
    "df_mau = df.groupby(by = 'month').id_user.nunique().reset_index()\n",
    "df_mau.rename(columns = {'id_user': 'mau'}, inplace = True)\n",
    "df_dau = df.groupby(by = 'date').id_user.nunique().reset_index()\n",
    "df_dau.rename(columns = {'id_user': 'dau'}, inplace = True)\n",
    "df_wau = df.groupby(by = 'week').id_user.nunique().reset_index()\n",
    "df_wau.rename(columns = {'id_user': 'wau'}, inplace = True)\n",
    "df_conv = df.query(\"income > 0\").groupby(by = 'month').income.count().reset_index()\n",
    "df_conv.rename(columns = {'income': 'conv'}, inplace = True)\n",
    "df_purchase = df.query(\"income > 0\").groupby(by = 'month').id_user.nunique().reset_index()\n",
    "df_purchase.rename(columns = {'id_user': 'purchase'}, inplace = True)\n",
    "df_income = df.groupby(by = 'month').income.sum().reset_index()\n",
    "df_income.rename(columns = {'income': 'income_month'}, inplace = True)\n"
   ]
  },
  {
   "cell_type": "code",
   "execution_count": 285,
   "metadata": {},
   "outputs": [],
   "source": [
    "df = df.merge(df_dau, how='left', on='date')\n",
    "df = df.merge(df_wau, how='left', on='week')\n",
    "df = df.merge(df_mau, how='left', on='month')\n",
    "df = df.merge(df_session, how='left', on='month')\n",
    "df = df.merge(df_conv, how='left', on='month')\n",
    "df = df.merge(df_purchase, how='left', on='month')\n",
    "df = df.merge(df_income, how='left', on='month')\n"
   ]
  },
  {
   "cell_type": "code",
   "execution_count": 268,
   "metadata": {},
   "outputs": [],
   "source": [
    "dau_mean = df.groupby(by = 'month').dau.mean().reset_index()\n",
    "dau_mean.rename(columns = {'dau': 'dau_mean'}, inplace = True)\n",
    "wau_mean = df.groupby(by = 'month').wau.mean().reset_index()\n",
    "wau_mean.rename(columns = {'wau': 'wau_mean'}, inplace = True)\n",
    "df = df.merge(dau_mean, how='left', on='month')\n",
    "df = df.merge(wau_mean, how='left', on='month')\n"
   ]
  },
  {
   "cell_type": "code",
   "execution_count": 276,
   "metadata": {},
   "outputs": [
    {
     "data": {
      "text/html": [
       "<div>\n",
       "<style scoped>\n",
       "    .dataframe tbody tr th:only-of-type {\n",
       "        vertical-align: middle;\n",
       "    }\n",
       "\n",
       "    .dataframe tbody tr th {\n",
       "        vertical-align: top;\n",
       "    }\n",
       "\n",
       "    .dataframe thead th {\n",
       "        text-align: right;\n",
       "    }\n",
       "</style>\n",
       "<table border=\"1\" class=\"dataframe\">\n",
       "  <thead>\n",
       "    <tr style=\"text-align: right;\">\n",
       "      <th></th>\n",
       "      <th>date</th>\n",
       "      <th>id_ses</th>\n",
       "      <th>id_user</th>\n",
       "      <th>income</th>\n",
       "      <th>evaluation</th>\n",
       "      <th>month</th>\n",
       "      <th>day</th>\n",
       "      <th>week</th>\n",
       "      <th>dau</th>\n",
       "      <th>wau</th>\n",
       "      <th>mau</th>\n",
       "      <th>quan_ses</th>\n",
       "      <th>conv</th>\n",
       "      <th>purchase</th>\n",
       "      <th>income_month</th>\n",
       "      <th>dau_mean</th>\n",
       "      <th>wau_mean</th>\n",
       "    </tr>\n",
       "  </thead>\n",
       "  <tbody>\n",
       "    <tr>\n",
       "      <th>0</th>\n",
       "      <td>2021-01-05</td>\n",
       "      <td>eeehjltlceclayhacecerhyyxhrxs</td>\n",
       "      <td>45870310</td>\n",
       "      <td>0.0</td>\n",
       "      <td>NaN</td>\n",
       "      <td>1</td>\n",
       "      <td>5</td>\n",
       "      <td>2021-01-04/2021-01-10</td>\n",
       "      <td>1</td>\n",
       "      <td>8</td>\n",
       "      <td>2495</td>\n",
       "      <td>2823</td>\n",
       "      <td>1333</td>\n",
       "      <td>1263</td>\n",
       "      <td>2.227633e+07</td>\n",
       "      <td>162.910025</td>\n",
       "      <td>872.0418</td>\n",
       "    </tr>\n",
       "    <tr>\n",
       "      <th>1</th>\n",
       "      <td>2021-01-06</td>\n",
       "      <td>eeehrcecacecerlrhacecerygejeb</td>\n",
       "      <td>76545402</td>\n",
       "      <td>0.0</td>\n",
       "      <td>NaN</td>\n",
       "      <td>1</td>\n",
       "      <td>6</td>\n",
       "      <td>2021-01-04/2021-01-10</td>\n",
       "      <td>2</td>\n",
       "      <td>8</td>\n",
       "      <td>2495</td>\n",
       "      <td>2823</td>\n",
       "      <td>1333</td>\n",
       "      <td>1263</td>\n",
       "      <td>2.227633e+07</td>\n",
       "      <td>162.910025</td>\n",
       "      <td>872.0418</td>\n",
       "    </tr>\n",
       "    <tr>\n",
       "      <th>2</th>\n",
       "      <td>2021-01-06</td>\n",
       "      <td>eeehalhalhjaracecerxhrhtrm</td>\n",
       "      <td>424242</td>\n",
       "      <td>0.0</td>\n",
       "      <td>NaN</td>\n",
       "      <td>1</td>\n",
       "      <td>6</td>\n",
       "      <td>2021-01-04/2021-01-10</td>\n",
       "      <td>2</td>\n",
       "      <td>8</td>\n",
       "      <td>2495</td>\n",
       "      <td>2823</td>\n",
       "      <td>1333</td>\n",
       "      <td>1263</td>\n",
       "      <td>2.227633e+07</td>\n",
       "      <td>162.910025</td>\n",
       "      <td>872.0418</td>\n",
       "    </tr>\n",
       "  </tbody>\n",
       "</table>\n",
       "</div>"
      ],
      "text/plain": [
       "        date                         id_ses   id_user  income  evaluation  \\\n",
       "0 2021-01-05  eeehjltlceclayhacecerhyyxhrxs  45870310     0.0         NaN   \n",
       "1 2021-01-06  eeehrcecacecerlrhacecerygejeb  76545402     0.0         NaN   \n",
       "2 2021-01-06     eeehalhalhjaracecerxhrhtrm    424242     0.0         NaN   \n",
       "\n",
       "   month  day                   week  dau  wau   mau  quan_ses  conv  \\\n",
       "0      1    5  2021-01-04/2021-01-10    1    8  2495      2823  1333   \n",
       "1      1    6  2021-01-04/2021-01-10    2    8  2495      2823  1333   \n",
       "2      1    6  2021-01-04/2021-01-10    2    8  2495      2823  1333   \n",
       "\n",
       "   purchase  income_month    dau_mean  wau_mean  \n",
       "0      1263  2.227633e+07  162.910025  872.0418  \n",
       "1      1263  2.227633e+07  162.910025  872.0418  \n",
       "2      1263  2.227633e+07  162.910025  872.0418  "
      ]
     },
     "execution_count": 276,
     "metadata": {},
     "output_type": "execute_result"
    }
   ],
   "source": [
    "df.head(3)"
   ]
  },
  {
   "cell_type": "code",
   "execution_count": 286,
   "metadata": {},
   "outputs": [
    {
     "data": {
      "text/html": [
       "<div>\n",
       "<style scoped>\n",
       "    .dataframe tbody tr th:only-of-type {\n",
       "        vertical-align: middle;\n",
       "    }\n",
       "\n",
       "    .dataframe tbody tr th {\n",
       "        vertical-align: top;\n",
       "    }\n",
       "\n",
       "    .dataframe thead th {\n",
       "        text-align: right;\n",
       "    }\n",
       "</style>\n",
       "<table border=\"1\" class=\"dataframe\">\n",
       "  <thead>\n",
       "    <tr style=\"text-align: right;\">\n",
       "      <th></th>\n",
       "      <th>month</th>\n",
       "      <th>dau</th>\n",
       "      <th>wau</th>\n",
       "      <th>mau</th>\n",
       "      <th>conv</th>\n",
       "      <th>quan_ses</th>\n",
       "      <th>purchase</th>\n",
       "      <th>income_month</th>\n",
       "    </tr>\n",
       "  </thead>\n",
       "  <tbody>\n",
       "    <tr>\n",
       "      <th>0</th>\n",
       "      <td>1</td>\n",
       "      <td>162.910025</td>\n",
       "      <td>872.041800</td>\n",
       "      <td>2495.0</td>\n",
       "      <td>1333.0</td>\n",
       "      <td>2823.0</td>\n",
       "      <td>1263.0</td>\n",
       "      <td>2.227633e+07</td>\n",
       "    </tr>\n",
       "    <tr>\n",
       "      <th>1</th>\n",
       "      <td>2</td>\n",
       "      <td>343.583212</td>\n",
       "      <td>2022.900236</td>\n",
       "      <td>7546.0</td>\n",
       "      <td>1233.0</td>\n",
       "      <td>8911.0</td>\n",
       "      <td>1189.0</td>\n",
       "      <td>2.364104e+07</td>\n",
       "    </tr>\n",
       "    <tr>\n",
       "      <th>2</th>\n",
       "      <td>3</td>\n",
       "      <td>353.822075</td>\n",
       "      <td>1923.008076</td>\n",
       "      <td>3610.0</td>\n",
       "      <td>917.0</td>\n",
       "      <td>4086.0</td>\n",
       "      <td>887.0</td>\n",
       "      <td>1.536327e+07</td>\n",
       "    </tr>\n",
       "  </tbody>\n",
       "</table>\n",
       "</div>"
      ],
      "text/plain": [
       "   month         dau          wau     mau    conv  quan_ses  purchase  \\\n",
       "0      1  162.910025   872.041800  2495.0  1333.0    2823.0    1263.0   \n",
       "1      2  343.583212  2022.900236  7546.0  1233.0    8911.0    1189.0   \n",
       "2      3  353.822075  1923.008076  3610.0   917.0    4086.0     887.0   \n",
       "\n",
       "   income_month  \n",
       "0  2.227633e+07  \n",
       "1  2.364104e+07  \n",
       "2  1.536327e+07  "
      ]
     },
     "execution_count": 286,
     "metadata": {},
     "output_type": "execute_result"
    }
   ],
   "source": [
    "df.groupby(by = 'month', as_index = False)[['dau' , 'wau', 'mau',  'conv', 'quan_ses', 'purchase', 'income_month']].mean()\n"
   ]
  },
  {
   "cell_type": "code",
   "execution_count": null,
   "metadata": {},
   "outputs": [],
   "source": [
    "#Количество сессий в месяц\n",
    "df_session = df.groupby(by = 'month').id_ses.count().sort_index()\n",
    "#MAU\n",
    "df_mau = df.groupby(by = 'month').id_user.nunique()\n",
    "dau = df.groupby(by = 'date').id_user.nunique().reset_index()\n",
    "wau = df.groupby(by = 'week').id_user.nunique().reset_index()\n",
    "\n",
    "dau_ = df.groupby(['month', 'day']).agg({'id_user': 'nunique'}).mean()\n",
    "df_dau = pd.DataFrame(df.groupby(df['date'])['id_user'].nunique())\n",
    "dau_mean = df_dau.groupby(df['date'].dt.month)['id_user'].mean()\n",
    "df_wau = df.groupby(df['date'].dt.to_period('W'))['id_user'].nunique()\n",
    "#df_dau = df[[df.groupby(by = 'date')]].groupby(by = 'month')\n",
    "#df_dau = df.groupby([ 'date','month']).id_user.nunique().agg('mean')\n",
    "#df_arpu = \n",
    "print(f'Количество сессий в Январе - {df_session.loc[1]}, в Феврале - {df_session.loc[2]}, \\\n",
    "      в Марте - {df_session.loc[3]}')\n",
    "print(f'MAU в Январе - {df_mau.loc[1]}, в Феврале - {df_mau.loc[2]}, \\\n",
    "      в Марте - {df_mau.loc[3]}')\n"
   ]
  },
  {
   "cell_type": "code",
   "execution_count": null,
   "metadata": {},
   "outputs": [],
   "source": [
    "df_temp = df.merge(dau, how='left', on='date')"
   ]
  },
  {
   "cell_type": "code",
   "execution_count": null,
   "metadata": {},
   "outputs": [],
   "source": [
    "df_temp"
   ]
  },
  {
   "cell_type": "code",
   "execution_count": null,
   "metadata": {},
   "outputs": [],
   "source": [
    "df.groupby(['month', 'day']).agg({'id_user': ['nunique']}).reset_index()\n",
    "\n",
    "\n",
    "\n"
   ]
  },
  {
   "cell_type": "code",
   "execution_count": null,
   "metadata": {},
   "outputs": [],
   "source": [
    "df_dau.groupby(pd.TimeGrouper(freq='M')).mean()"
   ]
  },
  {
   "cell_type": "code",
   "execution_count": null,
   "metadata": {},
   "outputs": [],
   "source": [
    "df_wau"
   ]
  },
  {
   "cell_type": "code",
   "execution_count": null,
   "metadata": {},
   "outputs": [],
   "source": [
    "dau_df = pd.DataFrame(df_dau).reset_index()\n",
    "dau_df.columns = ['date', 'dau']"
   ]
  },
  {
   "cell_type": "code",
   "execution_count": null,
   "metadata": {},
   "outputs": [],
   "source": [
    "dau_df.sample(10)"
   ]
  },
  {
   "cell_type": "code",
   "execution_count": null,
   "metadata": {},
   "outputs": [],
   "source": [
    "s = dau_df.groupby(df.date.dt.month)dau'].mean()"
   ]
  },
  {
   "cell_type": "code",
   "execution_count": null,
   "metadata": {},
   "outputs": [],
   "source": [
    "s"
   ]
  }
 ],
 "metadata": {
  "kernelspec": {
   "display_name": "Python 3",
   "language": "python",
   "name": "python3"
  },
  "language_info": {
   "codemirror_mode": {
    "name": "ipython",
    "version": 3
   },
   "file_extension": ".py",
   "mimetype": "text/x-python",
   "name": "python",
   "nbconvert_exporter": "python",
   "pygments_lexer": "ipython3",
   "version": "3.11.3"
  }
 },
 "nbformat": 4,
 "nbformat_minor": 2
}
