{
 "cells": [
  {
   "cell_type": "code",
   "execution_count": 1,
   "metadata": {},
   "outputs": [],
   "source": [
    "import sqlite3\n",
    "import pandas as pd\n",
    "from matplotlib import pyplot as plt\n",
    "import warnings\n",
    "warnings.simplefilter(\"ignore\")\n",
    "cnx = sqlite3.connect('data\\database.sqlite')"
   ]
  },
  {
   "cell_type": "markdown",
   "metadata": {},
   "source": [
    "1. Очень часто коллеги упоминают Серию А. Может, она действительно интересная? Посмотрите, сколько там забивают суммарно голов за матч. Постройте гистограмму соответствующего данным типа. Оцените скошенность распределения визуально и подтвердите или опровергните свою гипотезу о скошенности, вычислив среднее, медиану и моду для проверки правила об их соотношении."
   ]
  },
  {
   "cell_type": "code",
   "execution_count": 2,
   "metadata": {},
   "outputs": [
    {
     "data": {
      "text/html": [
       "<div>\n",
       "<style scoped>\n",
       "    .dataframe tbody tr th:only-of-type {\n",
       "        vertical-align: middle;\n",
       "    }\n",
       "\n",
       "    .dataframe tbody tr th {\n",
       "        vertical-align: top;\n",
       "    }\n",
       "\n",
       "    .dataframe thead th {\n",
       "        text-align: right;\n",
       "    }\n",
       "</style>\n",
       "<table border=\"1\" class=\"dataframe\">\n",
       "  <thead>\n",
       "    <tr style=\"text-align: right;\">\n",
       "      <th></th>\n",
       "      <th>name</th>\n",
       "      <th>total_goal</th>\n",
       "    </tr>\n",
       "  </thead>\n",
       "  <tbody>\n",
       "    <tr>\n",
       "      <th>0</th>\n",
       "      <td>Italy Serie A</td>\n",
       "      <td>1</td>\n",
       "    </tr>\n",
       "    <tr>\n",
       "      <th>1</th>\n",
       "      <td>Italy Serie A</td>\n",
       "      <td>5</td>\n",
       "    </tr>\n",
       "    <tr>\n",
       "      <th>2</th>\n",
       "      <td>Italy Serie A</td>\n",
       "      <td>1</td>\n",
       "    </tr>\n",
       "  </tbody>\n",
       "</table>\n",
       "</div>"
      ],
      "text/plain": [
       "            name  total_goal\n",
       "0  Italy Serie A           1\n",
       "1  Italy Serie A           5\n",
       "2  Italy Serie A           1"
      ]
     },
     "execution_count": 2,
     "metadata": {},
     "output_type": "execute_result"
    }
   ],
   "source": [
    "#Выберем из базы данных матчи Серии А и количество голов забитых в них\n",
    "Seria_A = pd.read_sql_query(\n",
    "'''\n",
    "select\n",
    "\tleag.name,\n",
    "\tmatch.home_team_goal + match.away_team_goal as total_goal\n",
    "from\n",
    "\tLeague leag\n",
    "join match match \n",
    "on\n",
    "\tleag.id = match.league_id\n",
    "\tand leag.id = 10257\n",
    "'''\n",
    ", cnx)\n",
    "\n",
    "Seria_A.head(3)"
   ]
  },
  {
   "cell_type": "code",
   "execution_count": 3,
   "metadata": {},
   "outputs": [
    {
     "data": {
      "text/html": [
       "<div>\n",
       "<style scoped>\n",
       "    .dataframe tbody tr th:only-of-type {\n",
       "        vertical-align: middle;\n",
       "    }\n",
       "\n",
       "    .dataframe tbody tr th {\n",
       "        vertical-align: top;\n",
       "    }\n",
       "\n",
       "    .dataframe thead th {\n",
       "        text-align: right;\n",
       "    }\n",
       "</style>\n",
       "<table border=\"1\" class=\"dataframe\">\n",
       "  <thead>\n",
       "    <tr style=\"text-align: right;\">\n",
       "      <th></th>\n",
       "      <th>name</th>\n",
       "      <th>total_goal</th>\n",
       "    </tr>\n",
       "  </thead>\n",
       "  <tbody>\n",
       "    <tr>\n",
       "      <th>count</th>\n",
       "      <td>3017</td>\n",
       "      <td>3017.000000</td>\n",
       "    </tr>\n",
       "    <tr>\n",
       "      <th>unique</th>\n",
       "      <td>1</td>\n",
       "      <td>NaN</td>\n",
       "    </tr>\n",
       "    <tr>\n",
       "      <th>top</th>\n",
       "      <td>Italy Serie A</td>\n",
       "      <td>NaN</td>\n",
       "    </tr>\n",
       "    <tr>\n",
       "      <th>freq</th>\n",
       "      <td>3017</td>\n",
       "      <td>NaN</td>\n",
       "    </tr>\n",
       "    <tr>\n",
       "      <th>mean</th>\n",
       "      <td>NaN</td>\n",
       "      <td>2.616838</td>\n",
       "    </tr>\n",
       "    <tr>\n",
       "      <th>std</th>\n",
       "      <td>NaN</td>\n",
       "      <td>1.640327</td>\n",
       "    </tr>\n",
       "    <tr>\n",
       "      <th>min</th>\n",
       "      <td>NaN</td>\n",
       "      <td>0.000000</td>\n",
       "    </tr>\n",
       "    <tr>\n",
       "      <th>25%</th>\n",
       "      <td>NaN</td>\n",
       "      <td>1.000000</td>\n",
       "    </tr>\n",
       "    <tr>\n",
       "      <th>50%</th>\n",
       "      <td>NaN</td>\n",
       "      <td>2.000000</td>\n",
       "    </tr>\n",
       "    <tr>\n",
       "      <th>75%</th>\n",
       "      <td>NaN</td>\n",
       "      <td>4.000000</td>\n",
       "    </tr>\n",
       "    <tr>\n",
       "      <th>max</th>\n",
       "      <td>NaN</td>\n",
       "      <td>9.000000</td>\n",
       "    </tr>\n",
       "  </tbody>\n",
       "</table>\n",
       "</div>"
      ],
      "text/plain": [
       "                 name   total_goal\n",
       "count            3017  3017.000000\n",
       "unique              1          NaN\n",
       "top     Italy Serie A          NaN\n",
       "freq             3017          NaN\n",
       "mean              NaN     2.616838\n",
       "std               NaN     1.640327\n",
       "min               NaN     0.000000\n",
       "25%               NaN     1.000000\n",
       "50%               NaN     2.000000\n",
       "75%               NaN     4.000000\n",
       "max               NaN     9.000000"
      ]
     },
     "execution_count": 3,
     "metadata": {},
     "output_type": "execute_result"
    }
   ],
   "source": [
    "#Выведем сводную статистику\n",
    "Seria_A.describe(include = \"all\")"
   ]
  },
  {
   "cell_type": "markdown",
   "metadata": {},
   "source": [
    "Из полученных данных можно видеть что среднее количество голов за матч - 2.6, а медианное и того меньше - 2"
   ]
  },
  {
   "cell_type": "code",
   "execution_count": 4,
   "metadata": {},
   "outputs": [
    {
     "data": {
      "text/plain": [
       "<Axes: >"
      ]
     },
     "execution_count": 4,
     "metadata": {},
     "output_type": "execute_result"
    },
    {
     "data": {
      "image/png": "[encoded data removed]",
      "text/plain": [
       "<Figure size 640x480 with 1 Axes>"
      ]
     },
     "metadata": {},
     "output_type": "display_data"
    }
   ],
   "source": [
    "#Построим гистограмму плотности распределния количества голов за матч\n",
    "Seria_A['total_goal'].hist(bins=9)"
   ]
  },
  {
   "cell_type": "markdown",
   "metadata": {},
   "source": [
    "Распределени количества голов за матч имеет положительную скошенность"
   ]
  },
  {
   "cell_type": "code",
   "execution_count": 5,
   "metadata": {},
   "outputs": [
    {
     "name": "stdout",
     "output_type": "stream",
     "text": [
      "Среднее 2.6168379184620485\n",
      "Медиана 2.0\n",
      "Мода [2]\n"
     ]
    }
   ],
   "source": [
    "#вычислиv среднее, медиану и моду\n",
    "print(f\"Среднее {Seria_A.total_goal.mean()}\")\n",
    "print(f\"Медиана {Seria_A.total_goal.median()}\")\n",
    "print(f\"Мода {list(Seria_A.total_goal.mode())}\")"
   ]
  },
  {
   "cell_type": "markdown",
   "metadata": {},
   "source": [
    "Так как среднее больше медианы, распределени количества голов за матч имеет положительную скошенность"
   ]
  },
  {
   "cell_type": "markdown",
   "metadata": {},
   "source": [
    "2. Не так уж много голов забивается в Серии А, а в каких лигах забивается в среднем голов за матч больше? Выведите их названия."
   ]
  },
  {
   "cell_type": "code",
   "execution_count": 3,
   "metadata": {},
   "outputs": [
    {
     "data": {
      "text/html": [
       "<div>\n",
       "<style scoped>\n",
       "    .dataframe tbody tr th:only-of-type {\n",
       "        vertical-align: middle;\n",
       "    }\n",
       "\n",
       "    .dataframe tbody tr th {\n",
       "        vertical-align: top;\n",
       "    }\n",
       "\n",
       "    .dataframe thead th {\n",
       "        text-align: right;\n",
       "    }\n",
       "</style>\n",
       "<table border=\"1\" class=\"dataframe\">\n",
       "  <thead>\n",
       "    <tr style=\"text-align: right;\">\n",
       "      <th></th>\n",
       "      <th>name</th>\n",
       "      <th>mean_goal</th>\n",
       "    </tr>\n",
       "  </thead>\n",
       "  <tbody>\n",
       "    <tr>\n",
       "      <th>0</th>\n",
       "      <td>Netherlands Eredivisie</td>\n",
       "      <td>3.080882</td>\n",
       "    </tr>\n",
       "    <tr>\n",
       "      <th>1</th>\n",
       "      <td>Switzerland Super League</td>\n",
       "      <td>2.929677</td>\n",
       "    </tr>\n",
       "    <tr>\n",
       "      <th>2</th>\n",
       "      <td>Germany 1. Bundesliga</td>\n",
       "      <td>2.901552</td>\n",
       "    </tr>\n",
       "    <tr>\n",
       "      <th>3</th>\n",
       "      <td>Belgium Jupiler League</td>\n",
       "      <td>2.801505</td>\n",
       "    </tr>\n",
       "    <tr>\n",
       "      <th>4</th>\n",
       "      <td>Spain LIGA BBVA</td>\n",
       "      <td>2.767105</td>\n",
       "    </tr>\n",
       "    <tr>\n",
       "      <th>5</th>\n",
       "      <td>England Premier League</td>\n",
       "      <td>2.710526</td>\n",
       "    </tr>\n",
       "    <tr>\n",
       "      <th>6</th>\n",
       "      <td>Scotland Premier League</td>\n",
       "      <td>2.633772</td>\n",
       "    </tr>\n",
       "  </tbody>\n",
       "</table>\n",
       "</div>"
      ],
      "text/plain": [
       "                       name  mean_goal\n",
       "0    Netherlands Eredivisie   3.080882\n",
       "1  Switzerland Super League   2.929677\n",
       "2     Germany 1. Bundesliga   2.901552\n",
       "3    Belgium Jupiler League   2.801505\n",
       "4           Spain LIGA BBVA   2.767105\n",
       "5    England Premier League   2.710526\n",
       "6   Scotland Premier League   2.633772"
      ]
     },
     "execution_count": 3,
     "metadata": {},
     "output_type": "execute_result"
    }
   ],
   "source": [
    "#Выберем из базы двнных матчи Серии А и количество голов забитых в них\n",
    "All_Leagues = pd.read_sql_query(\n",
    "'''\n",
    "with t1 as (\n",
    "select\t-- Найдем среднее количество голов во всех лигах\n",
    "\tleag.name,\n",
    "\tavg(match.home_team_goal + match.away_team_goal) over (partition by leag.name) mean_goal\n",
    "from\n",
    "\tLeague leag\n",
    "join match match \n",
    "on\n",
    "\tleag.id = match.league_id)\n",
    "select\t--Выведем лиги где голов больше чем в Серии А\n",
    "\tname,\n",
    "\tmean_goal \n",
    "from\n",
    "\tt1\n",
    "where\n",
    "\tmean_goal > 2.6168379184620485\n",
    "group by\n",
    "\tname\n",
    "order by\n",
    "\tmean_goal desc\n",
    "'''\n",
    ", cnx)\n",
    "\n",
    "All_Leagues"
   ]
  },
  {
   "cell_type": "markdown",
   "metadata": {},
   "source": [
    "3. Таких лиг довольно много. Выберем самую интересную лигу и самый интересный сезон в ней. Для этого посчитаем следующие показатели:\n",
    "\n",
    "- сколько в среднем в каждом сезоне каждой лиги забивалось суммарно голов командами за матч\n",
    "\n",
    "- сколько в среднем матчей за сезон заканчивались победой, а не ничьей."
   ]
  },
  {
   "cell_type": "code",
   "execution_count": 4,
   "metadata": {},
   "outputs": [
    {
     "data": {
      "text/html": [
       "<div>\n",
       "<style scoped>\n",
       "    .dataframe tbody tr th:only-of-type {\n",
       "        vertical-align: middle;\n",
       "    }\n",
       "\n",
       "    .dataframe tbody tr th {\n",
       "        vertical-align: top;\n",
       "    }\n",
       "\n",
       "    .dataframe thead th {\n",
       "        text-align: right;\n",
       "    }\n",
       "</style>\n",
       "<table border=\"1\" class=\"dataframe\">\n",
       "  <thead>\n",
       "    <tr style=\"text-align: right;\">\n",
       "      <th></th>\n",
       "      <th>leag_season</th>\n",
       "      <th>avg_goal</th>\n",
       "    </tr>\n",
       "  </thead>\n",
       "  <tbody>\n",
       "    <tr>\n",
       "      <th>0</th>\n",
       "      <td>Switzerland Super League (2009/2010)</td>\n",
       "      <td>3.327778</td>\n",
       "    </tr>\n",
       "    <tr>\n",
       "      <th>1</th>\n",
       "      <td>Netherlands Eredivisie (2011/2012)</td>\n",
       "      <td>3.258170</td>\n",
       "    </tr>\n",
       "    <tr>\n",
       "      <th>2</th>\n",
       "      <td>Netherlands Eredivisie (2010/2011)</td>\n",
       "      <td>3.225490</td>\n",
       "    </tr>\n",
       "    <tr>\n",
       "      <th>3</th>\n",
       "      <td>Netherlands Eredivisie (2013/2014)</td>\n",
       "      <td>3.196078</td>\n",
       "    </tr>\n",
       "    <tr>\n",
       "      <th>4</th>\n",
       "      <td>Germany 1. Bundesliga (2013/2014)</td>\n",
       "      <td>3.160131</td>\n",
       "    </tr>\n",
       "    <tr>\n",
       "      <th>...</th>\n",
       "      <td>...</td>\n",
       "      <td>...</td>\n",
       "    </tr>\n",
       "    <tr>\n",
       "      <th>83</th>\n",
       "      <td>Portugal Liga ZON Sagres (2008/2009)</td>\n",
       "      <td>2.300000</td>\n",
       "    </tr>\n",
       "    <tr>\n",
       "      <th>84</th>\n",
       "      <td>France Ligue 1 (2008/2009)</td>\n",
       "      <td>2.257895</td>\n",
       "    </tr>\n",
       "    <tr>\n",
       "      <th>85</th>\n",
       "      <td>Poland Ekstraklasa (2009/2010)</td>\n",
       "      <td>2.216667</td>\n",
       "    </tr>\n",
       "    <tr>\n",
       "      <th>86</th>\n",
       "      <td>Poland Ekstraklasa (2011/2012)</td>\n",
       "      <td>2.195833</td>\n",
       "    </tr>\n",
       "    <tr>\n",
       "      <th>87</th>\n",
       "      <td>Poland Ekstraklasa (2008/2009)</td>\n",
       "      <td>2.183333</td>\n",
       "    </tr>\n",
       "  </tbody>\n",
       "</table>\n",
       "<p>88 rows × 2 columns</p>\n",
       "</div>"
      ],
      "text/plain": [
       "                             leag_season  avg_goal\n",
       "0   Switzerland Super League (2009/2010)  3.327778\n",
       "1     Netherlands Eredivisie (2011/2012)  3.258170\n",
       "2     Netherlands Eredivisie (2010/2011)  3.225490\n",
       "3     Netherlands Eredivisie (2013/2014)  3.196078\n",
       "4      Germany 1. Bundesliga (2013/2014)  3.160131\n",
       "..                                   ...       ...\n",
       "83  Portugal Liga ZON Sagres (2008/2009)  2.300000\n",
       "84            France Ligue 1 (2008/2009)  2.257895\n",
       "85        Poland Ekstraklasa (2009/2010)  2.216667\n",
       "86        Poland Ekstraklasa (2011/2012)  2.195833\n",
       "87        Poland Ekstraklasa (2008/2009)  2.183333\n",
       "\n",
       "[88 rows x 2 columns]"
      ]
     },
     "execution_count": 4,
     "metadata": {},
     "output_type": "execute_result"
    }
   ],
   "source": [
    "# Найдем среднее количество голов за сезон во всех лигах\n",
    "All_Leagues_season_goal = pd.read_sql_query(\n",
    "    '''\n",
    "    select\t\n",
    "    leag.name || ' (' || match.season || ')' as leag_season,\n",
    "\tavg(match.home_team_goal + match.away_team_goal) as avg_goal\n",
    "    from\n",
    "\tLeague leag\n",
    "join match match \n",
    "on\n",
    "\tleag.id = match.league_id\n",
    "group by leag.name, match.season\n",
    "order by avg_goal desc\n",
    "    '''\n",
    "    , cnx)\n",
    "\n",
    "All_Leagues_season_goal"
   ]
  },
  {
   "cell_type": "code",
   "execution_count": 12,
   "metadata": {},
   "outputs": [
    {
     "data": {
      "text/html": [
       "<div>\n",
       "<style scoped>\n",
       "    .dataframe tbody tr th:only-of-type {\n",
       "        vertical-align: middle;\n",
       "    }\n",
       "\n",
       "    .dataframe tbody tr th {\n",
       "        vertical-align: top;\n",
       "    }\n",
       "\n",
       "    .dataframe thead th {\n",
       "        text-align: right;\n",
       "    }\n",
       "</style>\n",
       "<table border=\"1\" class=\"dataframe\">\n",
       "  <thead>\n",
       "    <tr style=\"text-align: right;\">\n",
       "      <th></th>\n",
       "      <th>leag_season</th>\n",
       "      <th>avg_win</th>\n",
       "    </tr>\n",
       "  </thead>\n",
       "  <tbody>\n",
       "    <tr>\n",
       "      <th>0</th>\n",
       "      <td>Switzerland Super League (2009/2010)</td>\n",
       "      <td>0.838889</td>\n",
       "    </tr>\n",
       "    <tr>\n",
       "      <th>1</th>\n",
       "      <td>Belgium Jupiler League (2013/2014)</td>\n",
       "      <td>0.833333</td>\n",
       "    </tr>\n",
       "    <tr>\n",
       "      <th>2</th>\n",
       "      <td>Scotland Premier League (2014/2015)</td>\n",
       "      <td>0.807018</td>\n",
       "    </tr>\n",
       "    <tr>\n",
       "      <th>3</th>\n",
       "      <td>Netherlands Eredivisie (2009/2010)</td>\n",
       "      <td>0.797386</td>\n",
       "    </tr>\n",
       "    <tr>\n",
       "      <th>4</th>\n",
       "      <td>England Premier League (2013/2014)</td>\n",
       "      <td>0.794737</td>\n",
       "    </tr>\n",
       "    <tr>\n",
       "      <th>...</th>\n",
       "      <td>...</td>\n",
       "      <td>...</td>\n",
       "    </tr>\n",
       "    <tr>\n",
       "      <th>83</th>\n",
       "      <td>Poland Ekstraklasa (2013/2014)</td>\n",
       "      <td>0.695833</td>\n",
       "    </tr>\n",
       "    <tr>\n",
       "      <th>84</th>\n",
       "      <td>Poland Ekstraklasa (2015/2016)</td>\n",
       "      <td>0.691667</td>\n",
       "    </tr>\n",
       "    <tr>\n",
       "      <th>85</th>\n",
       "      <td>Italy Serie A (2014/2015)</td>\n",
       "      <td>0.683377</td>\n",
       "    </tr>\n",
       "    <tr>\n",
       "      <th>86</th>\n",
       "      <td>Scotland Premier League (2012/2013)</td>\n",
       "      <td>0.679825</td>\n",
       "    </tr>\n",
       "    <tr>\n",
       "      <th>87</th>\n",
       "      <td>France Ligue 1 (2010/2011)</td>\n",
       "      <td>0.657895</td>\n",
       "    </tr>\n",
       "  </tbody>\n",
       "</table>\n",
       "<p>88 rows × 2 columns</p>\n",
       "</div>"
      ],
      "text/plain": [
       "                             leag_season   avg_win\n",
       "0   Switzerland Super League (2009/2010)  0.838889\n",
       "1     Belgium Jupiler League (2013/2014)  0.833333\n",
       "2    Scotland Premier League (2014/2015)  0.807018\n",
       "3     Netherlands Eredivisie (2009/2010)  0.797386\n",
       "4     England Premier League (2013/2014)  0.794737\n",
       "..                                   ...       ...\n",
       "83        Poland Ekstraklasa (2013/2014)  0.695833\n",
       "84        Poland Ekstraklasa (2015/2016)  0.691667\n",
       "85             Italy Serie A (2014/2015)  0.683377\n",
       "86   Scotland Premier League (2012/2013)  0.679825\n",
       "87            France Ligue 1 (2010/2011)  0.657895\n",
       "\n",
       "[88 rows x 2 columns]"
      ]
     },
     "execution_count": 12,
     "metadata": {},
     "output_type": "execute_result"
    }
   ],
   "source": [
    "# Найдем количество побед за сезон во всех лигах\n",
    "All_Leagues_season_win = pd.read_sql_query(\n",
    "'''\n",
    "with t1 as (\n",
    "select\t\n",
    "\tleag.name || ' (' || match.season || ')' as leag_season,\n",
    "    case\n",
    "\t\twhen match.home_team_goal <> match.away_team_goal\n",
    "        then 1\n",
    "\t\telse 0\n",
    "\tend as win\n",
    "from\n",
    "\tLeague leag\n",
    "join match match \n",
    "on\n",
    "\tleag.id = match.league_id),\n",
    "t2 as (\n",
    "select *,\n",
    "avg(win) over (partition by leag_season) avg_win\n",
    "from t1\n",
    ")\n",
    "select\t\n",
    "\tleag_season,\n",
    "    avg_win \n",
    "from\n",
    "\tt2\n",
    "where\n",
    "\twin = 1    \n",
    "group by leag_season\n",
    "order by\n",
    "\tavg_win desc\n",
    "'''\n",
    ", cnx)\n",
    "\n",
    "All_Leagues_season_win"
   ]
  },
  {
   "cell_type": "markdown",
   "metadata": {},
   "source": [
    "4. Для каждого из двух показателей, рассчитанных в предыдущем шаге, выведите, какой сезон какой лиги по нему самый зрелищный."
   ]
  },
  {
   "cell_type": "code",
   "execution_count": 9,
   "metadata": {},
   "outputs": [
    {
     "name": "stdout",
     "output_type": "stream",
     "text": [
      "Максимальное средннее количество голов  в сезоне:\n"
     ]
    },
    {
     "data": {
      "text/html": [
       "<div>\n",
       "<style scoped>\n",
       "    .dataframe tbody tr th:only-of-type {\n",
       "        vertical-align: middle;\n",
       "    }\n",
       "\n",
       "    .dataframe tbody tr th {\n",
       "        vertical-align: top;\n",
       "    }\n",
       "\n",
       "    .dataframe thead th {\n",
       "        text-align: right;\n",
       "    }\n",
       "</style>\n",
       "<table border=\"1\" class=\"dataframe\">\n",
       "  <thead>\n",
       "    <tr style=\"text-align: right;\">\n",
       "      <th></th>\n",
       "      <th>leag_season</th>\n",
       "      <th>avg_goal</th>\n",
       "    </tr>\n",
       "  </thead>\n",
       "  <tbody>\n",
       "    <tr>\n",
       "      <th>0</th>\n",
       "      <td>Switzerland Super League (2009/2010)</td>\n",
       "      <td>3.327778</td>\n",
       "    </tr>\n",
       "  </tbody>\n",
       "</table>\n",
       "</div>"
      ],
      "text/plain": [
       "                            leag_season  avg_goal\n",
       "0  Switzerland Super League (2009/2010)  3.327778"
      ]
     },
     "execution_count": 9,
     "metadata": {},
     "output_type": "execute_result"
    }
   ],
   "source": [
    "print('Максимальное средннее количество голов  в сезоне:')\n",
    "All_Leagues_season_goal.nlargest(1, 'avg_goal')[['leag_season', 'avg_goal']]\n"
   ]
  },
  {
   "cell_type": "code",
   "execution_count": 10,
   "metadata": {},
   "outputs": [
    {
     "name": "stdout",
     "output_type": "stream",
     "text": [
      "Максимальное количество матчей, завершившихся победой одной из команд в сезоне:\n"
     ]
    },
    {
     "data": {
      "text/html": [
       "<div>\n",
       "<style scoped>\n",
       "    .dataframe tbody tr th:only-of-type {\n",
       "        vertical-align: middle;\n",
       "    }\n",
       "\n",
       "    .dataframe tbody tr th {\n",
       "        vertical-align: top;\n",
       "    }\n",
       "\n",
       "    .dataframe thead th {\n",
       "        text-align: right;\n",
       "    }\n",
       "</style>\n",
       "<table border=\"1\" class=\"dataframe\">\n",
       "  <thead>\n",
       "    <tr style=\"text-align: right;\">\n",
       "      <th></th>\n",
       "      <th>leag_season</th>\n",
       "      <th>avg_win</th>\n",
       "    </tr>\n",
       "  </thead>\n",
       "  <tbody>\n",
       "    <tr>\n",
       "      <th>0</th>\n",
       "      <td>Switzerland Super League (2009/2010)</td>\n",
       "      <td>0.838889</td>\n",
       "    </tr>\n",
       "  </tbody>\n",
       "</table>\n",
       "</div>"
      ],
      "text/plain": [
       "                            leag_season   avg_win\n",
       "0  Switzerland Super League (2009/2010)  0.838889"
      ]
     },
     "execution_count": 10,
     "metadata": {},
     "output_type": "execute_result"
    }
   ],
   "source": [
    "print('Максимальное количество матчей, завершившихся победой одной из команд в сезоне:')\n",
    "All_Leagues_season_win.nlargest(1, 'avg_win')[['leag_season', 'avg_win']]\n"
   ]
  },
  {
   "cell_type": "markdown",
   "metadata": {},
   "source": [
    "5. Насколько показатели, рассчитанных в шаге 3, взаимосвязаны? Оцените их корреляцию и постройте для них диаграмму рассеивания, чтобы ответить на этот вопрос."
   ]
  },
  {
   "cell_type": "code",
   "execution_count": 13,
   "metadata": {},
   "outputs": [
    {
     "data": {
      "text/html": [
       "<div>\n",
       "<style scoped>\n",
       "    .dataframe tbody tr th:only-of-type {\n",
       "        vertical-align: middle;\n",
       "    }\n",
       "\n",
       "    .dataframe tbody tr th {\n",
       "        vertical-align: top;\n",
       "    }\n",
       "\n",
       "    .dataframe thead th {\n",
       "        text-align: right;\n",
       "    }\n",
       "</style>\n",
       "<table border=\"1\" class=\"dataframe\">\n",
       "  <thead>\n",
       "    <tr style=\"text-align: right;\">\n",
       "      <th></th>\n",
       "      <th>avg_win</th>\n",
       "      <th>avg_goal</th>\n",
       "    </tr>\n",
       "  </thead>\n",
       "  <tbody>\n",
       "    <tr>\n",
       "      <th>avg_win</th>\n",
       "      <td>1.000000</td>\n",
       "      <td>0.358269</td>\n",
       "    </tr>\n",
       "    <tr>\n",
       "      <th>avg_goal</th>\n",
       "      <td>0.358269</td>\n",
       "      <td>1.000000</td>\n",
       "    </tr>\n",
       "  </tbody>\n",
       "</table>\n",
       "</div>"
      ],
      "text/plain": [
       "           avg_win  avg_goal\n",
       "avg_win   1.000000  0.358269\n",
       "avg_goal  0.358269  1.000000"
      ]
     },
     "execution_count": 13,
     "metadata": {},
     "output_type": "execute_result"
    }
   ],
   "source": [
    "All_Leagues_season = All_Leagues_season_win.merge(All_Leagues_season_goal, on='leag_season')\n",
    "All_Leagues_season.corr(numeric_only = True)"
   ]
  },
  {
   "cell_type": "code",
   "execution_count": 16,
   "metadata": {},
   "outputs": [
    {
     "data": {
      "image/png": "[encoded data removed]",
      "text/plain": [
       "<Figure size 640x480 with 1 Axes>"
      ]
     },
     "metadata": {},
     "output_type": "display_data"
    }
   ],
   "source": [
    "plt.scatter(All_Leagues_season['avg_win'], All_Leagues_season['avg_goal'], alpha=0.5)\n",
    "plt.xlabel('avg_win')\n",
    "plt.ylabel('avg_goal')\n",
    "plt.show;"
   ]
  },
  {
   "cell_type": "markdown",
   "metadata": {},
   "source": [
    "Корреляция среднего количества голов за матч в сезоне и количества побед в сезоне близка к 0, т.е. отсутствует"
   ]
  },
  {
   "cell_type": "markdown",
   "metadata": {},
   "source": [
    "6. Выберите лигу, в которой самый интересный сезон. Чтобы разобраться в правилах футбола и не заскучать, посмотрим именно этот сезон! "
   ]
  },
  {
   "cell_type": "code",
   "execution_count": 14,
   "metadata": {},
   "outputs": [
    {
     "data": {
      "text/html": [
       "<div>\n",
       "<style scoped>\n",
       "    .dataframe tbody tr th:only-of-type {\n",
       "        vertical-align: middle;\n",
       "    }\n",
       "\n",
       "    .dataframe tbody tr th {\n",
       "        vertical-align: top;\n",
       "    }\n",
       "\n",
       "    .dataframe thead th {\n",
       "        text-align: right;\n",
       "    }\n",
       "</style>\n",
       "<table border=\"1\" class=\"dataframe\">\n",
       "  <thead>\n",
       "    <tr style=\"text-align: right;\">\n",
       "      <th></th>\n",
       "      <th>name</th>\n",
       "      <th>season</th>\n",
       "      <th>home_team_goal</th>\n",
       "      <th>away_team_goal</th>\n",
       "      <th>total_goal</th>\n",
       "    </tr>\n",
       "  </thead>\n",
       "  <tbody>\n",
       "    <tr>\n",
       "      <th>0</th>\n",
       "      <td>England Premier League</td>\n",
       "      <td>2013/2014</td>\n",
       "      <td>1</td>\n",
       "      <td>3</td>\n",
       "      <td>4</td>\n",
       "    </tr>\n",
       "    <tr>\n",
       "      <th>1</th>\n",
       "      <td>England Premier League</td>\n",
       "      <td>2013/2014</td>\n",
       "      <td>2</td>\n",
       "      <td>0</td>\n",
       "      <td>2</td>\n",
       "    </tr>\n",
       "    <tr>\n",
       "      <th>2</th>\n",
       "      <td>England Premier League</td>\n",
       "      <td>2013/2014</td>\n",
       "      <td>0</td>\n",
       "      <td>1</td>\n",
       "      <td>1</td>\n",
       "    </tr>\n",
       "    <tr>\n",
       "      <th>3</th>\n",
       "      <td>England Premier League</td>\n",
       "      <td>2013/2014</td>\n",
       "      <td>1</td>\n",
       "      <td>0</td>\n",
       "      <td>1</td>\n",
       "    </tr>\n",
       "    <tr>\n",
       "      <th>4</th>\n",
       "      <td>England Premier League</td>\n",
       "      <td>2013/2014</td>\n",
       "      <td>4</td>\n",
       "      <td>0</td>\n",
       "      <td>4</td>\n",
       "    </tr>\n",
       "    <tr>\n",
       "      <th>...</th>\n",
       "      <td>...</td>\n",
       "      <td>...</td>\n",
       "      <td>...</td>\n",
       "      <td>...</td>\n",
       "      <td>...</td>\n",
       "    </tr>\n",
       "    <tr>\n",
       "      <th>375</th>\n",
       "      <td>England Premier League</td>\n",
       "      <td>2013/2014</td>\n",
       "      <td>0</td>\n",
       "      <td>0</td>\n",
       "      <td>0</td>\n",
       "    </tr>\n",
       "    <tr>\n",
       "      <th>376</th>\n",
       "      <td>England Premier League</td>\n",
       "      <td>2013/2014</td>\n",
       "      <td>2</td>\n",
       "      <td>0</td>\n",
       "      <td>2</td>\n",
       "    </tr>\n",
       "    <tr>\n",
       "      <th>377</th>\n",
       "      <td>England Premier League</td>\n",
       "      <td>2013/2014</td>\n",
       "      <td>2</td>\n",
       "      <td>1</td>\n",
       "      <td>3</td>\n",
       "    </tr>\n",
       "    <tr>\n",
       "      <th>378</th>\n",
       "      <td>England Premier League</td>\n",
       "      <td>2013/2014</td>\n",
       "      <td>1</td>\n",
       "      <td>0</td>\n",
       "      <td>1</td>\n",
       "    </tr>\n",
       "    <tr>\n",
       "      <th>379</th>\n",
       "      <td>England Premier League</td>\n",
       "      <td>2013/2014</td>\n",
       "      <td>0</td>\n",
       "      <td>0</td>\n",
       "      <td>0</td>\n",
       "    </tr>\n",
       "  </tbody>\n",
       "</table>\n",
       "<p>380 rows × 5 columns</p>\n",
       "</div>"
      ],
      "text/plain": [
       "                       name     season  home_team_goal  away_team_goal  \\\n",
       "0    England Premier League  2013/2014               1               3   \n",
       "1    England Premier League  2013/2014               2               0   \n",
       "2    England Premier League  2013/2014               0               1   \n",
       "3    England Premier League  2013/2014               1               0   \n",
       "4    England Premier League  2013/2014               4               0   \n",
       "..                      ...        ...             ...             ...   \n",
       "375  England Premier League  2013/2014               0               0   \n",
       "376  England Premier League  2013/2014               2               0   \n",
       "377  England Premier League  2013/2014               2               1   \n",
       "378  England Premier League  2013/2014               1               0   \n",
       "379  England Premier League  2013/2014               0               0   \n",
       "\n",
       "     total_goal  \n",
       "0             4  \n",
       "1             2  \n",
       "2             1  \n",
       "3             1  \n",
       "4             4  \n",
       "..          ...  \n",
       "375           0  \n",
       "376           2  \n",
       "377           3  \n",
       "378           1  \n",
       "379           0  \n",
       "\n",
       "[380 rows x 5 columns]"
      ]
     },
     "execution_count": 14,
     "metadata": {},
     "output_type": "execute_result"
    }
   ],
   "source": [
    "#Выберем из базы данных матчи England Premier League (2013/2014) и количество голов забитых в них\n",
    "EPL = pd.read_sql_query(\n",
    "'''\n",
    "select\n",
    "\tleag.name,\n",
    "    match.season,\n",
    "\tmatch.home_team_goal,\n",
    "    match.away_team_goal,\n",
    "    match.home_team_goal + match.away_team_goal as total_goal\n",
    "from\n",
    "\tLeague leag\n",
    "join match match \n",
    "on\n",
    "\tleag.id = match.league_id\n",
    "\tand leag.id = 1729 \n",
    "    and match.season = '2013/2014'\n",
    "    \n",
    "'''\n",
    ", cnx)\n",
    "EPL"
   ]
  },
  {
   "cell_type": "markdown",
   "metadata": {},
   "source": [
    "7. Интересно, а можно ли гарантировать, что в этой лиге всегда такой интересный футбол? Оцените математическое ожидание и стандартное отклонение среднего количества голов за матч с помощью имеющейся выборки. Затем постройте ящик с усами. И сделайте вывод, можно ли быть уверенным, что матчи в этой лиге всегда результативные."
   ]
  },
  {
   "cell_type": "code",
   "execution_count": 15,
   "metadata": {},
   "outputs": [
    {
     "name": "stdout",
     "output_type": "stream",
     "text": [
      "Математическое ожидание = 2.768421052631579\n"
     ]
    }
   ],
   "source": [
    "print(f'Математическое ожидание = {EPL.total_goal.mean()}')"
   ]
  },
  {
   "cell_type": "code",
   "execution_count": 16,
   "metadata": {},
   "outputs": [
    {
     "name": "stdout",
     "output_type": "stream",
     "text": [
      "Стандартное отклонение = 1.7325237837608585\n"
     ]
    }
   ],
   "source": [
    "print(f'Стандартное отклонение = {EPL.total_goal.std()}')"
   ]
  },
  {
   "cell_type": "code",
   "execution_count": 17,
   "metadata": {},
   "outputs": [
    {
     "data": {
      "image/png": "[encoded data removed]",
      "text/plain": [
       "<Figure size 640x480 with 1 Axes>"
      ]
     },
     "metadata": {},
     "output_type": "display_data"
    }
   ],
   "source": [
    "bxplt = plt.boxplot(EPL.total_goal);"
   ]
  },
  {
   "cell_type": "markdown",
   "metadata": {},
   "source": [
    "Из полученных данных можно сделать вывод, что наиболее вероятная результативность матчей находится в диапазоне от 1 до 4 голов за матч"
   ]
  }
 ],
 "metadata": {
  "kernelspec": {
   "display_name": "Python 3",
   "language": "python",
   "name": "python3"
  },
  "language_info": {
   "codemirror_mode": {
    "name": "ipython",
    "version": 3
   },
   "file_extension": ".py",
   "mimetype": "text/x-python",
   "name": "python",
   "nbconvert_exporter": "python",
   "pygments_lexer": "ipython3",
   "version": "3.11.3"
  }
 },
 "nbformat": 4,
 "nbformat_minor": 2
}
