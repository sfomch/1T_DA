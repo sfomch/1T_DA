{
 "cells": [
  {
   "cell_type": "code",
   "execution_count": 1,
   "metadata": {},
   "outputs": [],
   "source": [
    "# ваши импорты\n",
    "import numpy as np\n",
    "import pandas as pd\n",
    "import random\n",
    "from scipy import stats as st\n"
   ]
  },
  {
   "cell_type": "markdown",
   "metadata": {},
   "source": [
    "### Задача 1."
   ]
  },
  {
   "cell_type": "markdown",
   "metadata": {},
   "source": [
    "В револьвере вставлены два патрона подряд. Первый участник русской рулетки после выстрела остался жив. Что следует сделать второму участнику: случайно прокрутить барабан перед выстрелом или выстрелить сразу?"
   ]
  },
  {
   "cell_type": "markdown",
   "metadata": {},
   "source": [
    "В рамках решения этой задачи мы будем сравнивать 2 вероятности:\n",
    "- остаться в живых, если произвольно покрутил барабан\n",
    "- остаться в живых, если выстрелил сразу после первого участника\n",
    "\n",
    "Рассчитаем первую.  \n",
    "После выстрела в барабане с шестью ячейками все еще два патрона. Второй участник произвольно крутит барабан. Какова вероятность, что он останется в живых после выстрела? Рассчитайте вероятность, обозначьте ее p_1 и выведите значение этой переменной на экран."
   ]
  },
  {
   "cell_type": "code",
   "execution_count": 2,
   "metadata": {},
   "outputs": [
    {
     "name": "stdout",
     "output_type": "stream",
     "text": [
      "0.3333333333333333\n"
     ]
    }
   ],
   "source": [
    "p_1 = 2/6\n",
    "print(p_1)"
   ]
  },
  {
   "cell_type": "markdown",
   "metadata": {},
   "source": [
    "Чтобы рассчитать вероятность второго события, сформируем множество всех элементарных исходов, обозначая 0 ячейки без путь и X ячейки с пулями:\n",
    "\n",
    "- X 0 0 0 0 X\n",
    "- 0 0 0 0 X X\n",
    "- 0 0 0 X X 0\n",
    "- 0 0 X X 0 0\n",
    "- 0 X X 0 0 0\n",
    "- X X 0 0 0 0\n",
    "\n",
    "Два из этих исходов не возможны с учетом, что один игрок уже выстрелил и остался в живых. Посчитайте количество оставшихся исходов, а также количество таких, при которых второй игрок выжевет. Рассчитайте итоговую вероятность выжить для второго игрока, если он не будет крутить барабан после первого, запишите ее в переменную p_2 и выведите ее значение на экран."
   ]
  },
  {
   "cell_type": "code",
   "execution_count": 3,
   "metadata": {},
   "outputs": [
    {
     "name": "stdout",
     "output_type": "stream",
     "text": [
      "0.25\n"
     ]
    }
   ],
   "source": [
    "p_2 = 1/4\n",
    "print(p_2)"
   ]
  },
  {
   "cell_type": "markdown",
   "metadata": {},
   "source": [
    "Сравните полученные вероятности, и скажите, что лучше сделать второму игроку, чтобы выжить."
   ]
  },
  {
   "cell_type": "code",
   "execution_count": 4,
   "metadata": {},
   "outputs": [
    {
     "name": "stdout",
     "output_type": "stream",
     "text": [
      "Второму игроку лучше не крутить барабан т.к вероятность застрелиться выстрелив сразу = 0.25, \n",
      "       а верояность застелистся покрутив барабан =  0.3333333333333333\n"
     ]
    }
   ],
   "source": [
    "print(f'Второму игроку лучше не крутить барабан т.к вероятность застрелиться выстрелив сразу = {p_2}, \\n \\\n",
    "      а верояность застелистся покрутив барабан =  {p_1}' )"
   ]
  },
  {
   "cell_type": "markdown",
   "metadata": {},
   "source": [
    "### Задача 2. \n",
    "\n",
    "Вася вышел пришел на автобусную остановку, чтобы поехать в гости к бабушке в деревню. Он знает, что вероятность того, что автобус приедет за 30 минут, составляет 95%. Но он решил столько не ждать, а вызвать такси, если автобус не приедет в течение пятнадцати минут. Какова вероятность, что Вася не поедет к бабушке на такси?"
   ]
  },
  {
   "cell_type": "markdown",
   "metadata": {},
   "source": [
    "Сначала давайте ответим на вопрос: какова вероятность того, что автобус НЕ приедет в течение 30 минут? Это событие является противоположным к событию \"автобус приедет в течение 30 минут\". Посчитайте эту вероятность и запишите в переменную p_1, а затем выведите ее значение на экран."
   ]
  },
  {
   "cell_type": "code",
   "execution_count": 5,
   "metadata": {},
   "outputs": [
    {
     "name": "stdout",
     "output_type": "stream",
     "text": [
      "0.05\n"
     ]
    }
   ],
   "source": [
    "p_1 = round((1 - 0.95), 2)\n",
    "print(p_1)"
   ]
  },
  {
   "cell_type": "markdown",
   "metadata": {},
   "source": [
    "Теперь давайте порассуждаем. Чтобы случилось событие \"автобус не приедет в течение тридати минут\", должно произойти три события:\n",
    "- автобус не приезжает первые 15 минут\n",
    "- автобус не приезжает вторые 15 минут\n",
    "\n",
    "Все эти события независимы, то есть вероятность того, что случатся они все, равна произведению их вероятностей. Также их все можно переформулировать в \"автобус не приедет в течение 15 минут\". Обозначьте эту вероятность p_2, рассчитайте и выведите на экран."
   ]
  },
  {
   "cell_type": "code",
   "execution_count": 6,
   "metadata": {},
   "outputs": [
    {
     "name": "stdout",
     "output_type": "stream",
     "text": [
      "0.22\n"
     ]
    }
   ],
   "source": [
    "p_2 = round(np.sqrt(p_1), 2)\n",
    "print(p_2)"
   ]
  },
  {
   "cell_type": "markdown",
   "metadata": {},
   "source": [
    "Мы знаем вероятность того, что автобус не приедет в течение 15 минут! Но нам нужна вероятность того, что Вася все таки поедет к бабушке на автобусе. Рассчитайте ее, запишите в переменную p_3 и выведите ее значение на экран."
   ]
  },
  {
   "cell_type": "code",
   "execution_count": 7,
   "metadata": {},
   "outputs": [
    {
     "name": "stdout",
     "output_type": "stream",
     "text": [
      "0.78\n"
     ]
    }
   ],
   "source": [
    "p_3 = round((1 - p_2), 2)\n",
    "print(p_3)"
   ]
  },
  {
   "cell_type": "markdown",
   "metadata": {},
   "source": [
    "### Задача 3."
   ]
  },
  {
   "cell_type": "markdown",
   "metadata": {},
   "source": [
    "С помощью [данных](https://www.kaggle.com/datasets/burnoutminer/heights-and-weights-dataset) о весе людей в возрасте 18 лет ответьте на два вопроса:\n",
    "- у какой доли людей в этом возрасте вес не превышает 50кг?\n",
    "- какого веса не имеет 70 процентов людей?"
   ]
  },
  {
   "cell_type": "code",
   "execution_count": 8,
   "metadata": {},
   "outputs": [
    {
     "data": {
      "text/html": [
       "<div>\n",
       "<style scoped>\n",
       "    .dataframe tbody tr th:only-of-type {\n",
       "        vertical-align: middle;\n",
       "    }\n",
       "\n",
       "    .dataframe tbody tr th {\n",
       "        vertical-align: top;\n",
       "    }\n",
       "\n",
       "    .dataframe thead th {\n",
       "        text-align: right;\n",
       "    }\n",
       "</style>\n",
       "<table border=\"1\" class=\"dataframe\">\n",
       "  <thead>\n",
       "    <tr style=\"text-align: right;\">\n",
       "      <th></th>\n",
       "      <th>Weight_kg</th>\n",
       "    </tr>\n",
       "  </thead>\n",
       "  <tbody>\n",
       "    <tr>\n",
       "      <th>0</th>\n",
       "      <td>51.252494</td>\n",
       "    </tr>\n",
       "    <tr>\n",
       "      <th>1</th>\n",
       "      <td>61.909547</td>\n",
       "    </tr>\n",
       "    <tr>\n",
       "      <th>2</th>\n",
       "      <td>69.411778</td>\n",
       "    </tr>\n",
       "    <tr>\n",
       "      <th>3</th>\n",
       "      <td>64.562199</td>\n",
       "    </tr>\n",
       "    <tr>\n",
       "      <th>4</th>\n",
       "      <td>65.452010</td>\n",
       "    </tr>\n",
       "    <tr>\n",
       "      <th>...</th>\n",
       "      <td>...</td>\n",
       "    </tr>\n",
       "    <tr>\n",
       "      <th>24995</th>\n",
       "      <td>53.538008</td>\n",
       "    </tr>\n",
       "    <tr>\n",
       "      <th>24996</th>\n",
       "      <td>54.518674</td>\n",
       "    </tr>\n",
       "    <tr>\n",
       "      <th>24997</th>\n",
       "      <td>53.644285</td>\n",
       "    </tr>\n",
       "    <tr>\n",
       "      <th>24998</th>\n",
       "      <td>59.995797</td>\n",
       "    </tr>\n",
       "    <tr>\n",
       "      <th>24999</th>\n",
       "      <td>56.641938</td>\n",
       "    </tr>\n",
       "  </tbody>\n",
       "</table>\n",
       "<p>25000 rows × 1 columns</p>\n",
       "</div>"
      ],
      "text/plain": [
       "       Weight_kg\n",
       "0      51.252494\n",
       "1      61.909547\n",
       "2      69.411778\n",
       "3      64.562199\n",
       "4      65.452010\n",
       "...          ...\n",
       "24995  53.538008\n",
       "24996  54.518674\n",
       "24997  53.644285\n",
       "24998  59.995797\n",
       "24999  56.641938\n",
       "\n",
       "[25000 rows x 1 columns]"
      ]
     },
     "execution_count": 8,
     "metadata": {},
     "output_type": "execute_result"
    }
   ],
   "source": [
    "# считываем данные, переводим вес в килограммы и оставляем только нужный столбец\n",
    "data = pd.read_csv('data/SOCR-HeightWeight.csv', sep = ',')\n",
    "data_1 = pd.DataFrame(columns=['Weight_kg'])\n",
    "data_1['Weight_kg'] = data['Weight(Pounds)'] * 0.453592\n",
    "data_1"
   ]
  },
  {
   "cell_type": "code",
   "execution_count": 10,
   "metadata": {},
   "outputs": [
    {
     "data": {
      "text/plain": [
       "<Axes: >"
      ]
     },
     "execution_count": 10,
     "metadata": {},
     "output_type": "execute_result"
    },
    {
     "data": {
      "image/png": "[encoded data removed]",
      "text/plain": [
       "<Figure size 640x480 with 1 Axes>"
      ]
     },
     "metadata": {},
     "output_type": "display_data"
    }
   ],
   "source": [
    "data_1['Weight_kg'].hist(bins=100)"
   ]
  },
  {
   "cell_type": "code",
   "execution_count": 11,
   "metadata": {},
   "outputs": [
    {
     "data": {
      "text/plain": [
       "<Axes: >"
      ]
     },
     "execution_count": 11,
     "metadata": {},
     "output_type": "execute_result"
    },
    {
     "data": {
      "image/png": "[encoded data removed]",
      "text/plain": [
       "<Figure size 640x480 with 1 Axes>"
      ]
     },
     "metadata": {},
     "output_type": "display_data"
    }
   ],
   "source": [
    "# определяем параметры нормального распределения по имеющейся выборке и визуализируем полученное распределение, чтобы убедиться, что мы все подобрали корректно\n",
    "\n",
    "# ваш код с определением параметров рапределения и его инициализацией\n",
    "weight_exp = []\n",
    "mean_weight =data_1['Weight_kg'].mean()\n",
    "sigm_weight =data_1['Weight_kg'].std()\n",
    "for i in range(data_1.shape[0]):\n",
    "    weight_exp.append(random.normalvariate(mu=mean_weight, sigma=sigm_weight))\n",
    "weight_exp = pd.Series(weight_exp)\n",
    "\n",
    "# ваш код с визуализацией, подтверждующей соответствие распределения исходным данным\n",
    "weight_range = [data_1['Weight_kg'].min(), data_1['Weight_kg'].max()]\n",
    "\n",
    "data_1['Weight_kg'].hist(bins=30, range=weight_range)\n",
    "weight_exp.hist(bins=30, histtype='step', color='coral', range=weight_range)"
   ]
  },
  {
   "cell_type": "markdown",
   "metadata": {},
   "source": [
    "Вероятность того, что вес не превышает 50кг?"
   ]
  },
  {
   "cell_type": "code",
   "execution_count": 12,
   "metadata": {},
   "outputs": [
    {
     "data": {
      "text/plain": [
       "0.925749413854135"
      ]
     },
     "execution_count": 12,
     "metadata": {},
     "output_type": "execute_result"
    }
   ],
   "source": [
    "# ваш код\n",
    "weight_distr = st.norm(mean_weight, sigm_weight)\n",
    "1 - weight_distr.cdf(50)"
   ]
  },
  {
   "cell_type": "markdown",
   "metadata": {},
   "source": [
    "Какого веса не имеет 70% людей?"
   ]
  },
  {
   "cell_type": "code",
   "execution_count": 13,
   "metadata": {},
   "outputs": [
    {
     "name": "stdout",
     "output_type": "stream",
     "text": [
      "Если считать от самых худых то: 60.415915111149374 \n",
      "Если считать от самых полных то: 54.8685024951898 \n",
      "Если считать по популярности значения то: меньше 52.16021219833347 и больше 63.12420540800571\n",
      "\n"
     ]
    }
   ],
   "source": [
    "# ваш код\n",
    "#не совсем понял вопрос\n",
    "ma = weight_distr.ppf(0.7) # \n",
    "mi = weight_distr.ppf(1-0.7) #\n",
    "pop_max = weight_distr.ppf(0.85)\n",
    "pop_min = weight_distr.ppf(1 - 0.85)\n",
    "print(f'Если считать от самых худых то: {ma} \\n' \\\n",
    "      f'Если считать от самых полных то: {mi} \\n' \\\n",
    "      f'Если считать по популярности значения то: меньше {pop_min} и больше {pop_max}\\n')"
   ]
  }
 ],
 "metadata": {
  "kernelspec": {
   "display_name": "Python 3 (ipykernel)",
   "language": "python",
   "name": "python3"
  },
  "language_info": {
   "codemirror_mode": {
    "name": "ipython",
    "version": 3
   },
   "file_extension": ".py",
   "mimetype": "text/x-python",
   "name": "python",
   "nbconvert_exporter": "python",
   "pygments_lexer": "ipython3",
   "version": "3.11.3"
  },
  "toc": {
   "base_numbering": 1,
   "nav_menu": {},
   "number_sections": false,
   "sideBar": false,
   "skip_h1_title": false,
   "title_cell": "Table of Contents",
   "title_sidebar": "Contents",
   "toc_cell": false,
   "toc_position": {},
   "toc_section_display": false,
   "toc_window_display": false
  }
 },
 "nbformat": 4,
 "nbformat_minor": 4
}
