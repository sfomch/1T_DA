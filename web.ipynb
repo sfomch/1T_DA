{
 "cells": [
  {
   "cell_type": "code",
   "execution_count": 57,
   "id": "79b0fa84",
   "metadata": {},
   "outputs": [],
   "source": [
    "import numpy as np\n",
    "import pandas as pd \n",
    "import matplotlib.pyplot as plt \n",
    "from scipy import stats\n",
    "import seaborn as sns"
   ]
  },
  {
   "cell_type": "code",
   "execution_count": 59,
   "id": "6507a25a",
   "metadata": {},
   "outputs": [],
   "source": [
    "df = pd.read_csv('Mall_Customers.csv')"
   ]
  },
  {
   "cell_type": "code",
   "execution_count": 60,
   "id": "b2a619bf",
   "metadata": {},
   "outputs": [],
   "source": [
    "df = df.rename(columns = {'Spending Score':'spend'})"
   ]
  },
  {
   "cell_type": "code",
   "execution_count": 61,
   "id": "611d3f48",
   "metadata": {},
   "outputs": [
    {
     "data": {
      "text/plain": [
       "<AxesSubplot:>"
      ]
     },
     "execution_count": 61,
     "metadata": {},
     "output_type": "execute_result"
    },
    {
     "data": {
      "image/png": "[encoded data removed]",
      "text/plain": [
       "<Figure size 432x288 with 1 Axes>"
      ]
     },
     "metadata": {
      "needs_background": "light"
     },
     "output_type": "display_data"
    }
   ],
   "source": [
    "df.spend.hist()"
   ]
  },
  {
   "cell_type": "code",
   "execution_count": 38,
   "id": "46d99e78",
   "metadata": {},
   "outputs": [],
   "source": [
    "def norm_conf_int(alpha, mean, std, margin=5):\n",
    "    plt.figure(figsize=(10,5))\n",
    "    xs= np.linspace(mean - margin, mean + margin )\n",
    "    pdf = stats.norm(mean, std).pdf(xs)\n",
    "    \n",
    "    plt.plot(xs, pdf)\n",
    "    plt.ylabel('$f(x)$', fontsize=18)\n",
    "    plt.xlabel('$x$', fontsize=18)\n",
    "    \n",
    "    left, right = stats.norm.interval(1-alpha, loc=mean, scale=std)\n",
    "    \n",
    "    for i in [left, right]:\n",
    "        ymax=plt.ylim()[1]\n",
    "        plt.axvline(i, color='blue', linestyle='dashed', lw=2)\n",
    "        \n",
    "        if i == left:\n",
    "            xq=np.linspace(mean - margin, left)\n",
    "        else:\n",
    "            xq = np.linspace(right, mean + margin)\n",
    "        \n",
    "        text_margin = 0.05\n",
    "        plt.text(i + text_margin, 0.8*ymax, round(i,2), color='blue')\n",
    "        yq = stats.norm(mean, std).pdf(xq)\n",
    "        plt.fill_between(xq, 0, yq, color='blue', alpha=0.3)\n",
    "    \n",
    "    return left, right\n",
    "    "
   ]
  },
  {
   "cell_type": "code",
   "execution_count": 62,
   "id": "9c291ce0",
   "metadata": {},
   "outputs": [],
   "source": [
    "norm = stats.norm()\n",
    "\n",
    "alpha = 0.05\n",
    "z_crit = norm.ppf(1-alpha/2)\n",
    "\n",
    "mu = df.spend.mean()\n",
    "var = df.spend.var(ddof=1)\n",
    "n = df.spend.count()\n",
    "\n",
    "left = mu-z_crit*np.sqrt(var/n)\n",
    "right = mu+z_crit*np.sqrt(var/n)"
   ]
  },
  {
   "cell_type": "code",
   "execution_count": 63,
   "id": "2d4eddb9",
   "metadata": {},
   "outputs": [
    {
     "data": {
      "text/plain": [
       "200"
      ]
     },
     "execution_count": 63,
     "metadata": {},
     "output_type": "execute_result"
    }
   ],
   "source": [
    "n"
   ]
  },
  {
   "cell_type": "code",
   "execution_count": 21,
   "id": "e3c11425",
   "metadata": {},
   "outputs": [
    {
     "data": {
      "text/plain": [
       "53.7788917438371"
      ]
     },
     "execution_count": 21,
     "metadata": {},
     "output_type": "execute_result"
    }
   ],
   "source": [
    "right"
   ]
  },
  {
   "cell_type": "code",
   "execution_count": 64,
   "id": "e1d43a2e",
   "metadata": {},
   "outputs": [
    {
     "data": {
      "text/plain": [
       "(46.621108256162906, 53.7788917438371)"
      ]
     },
     "execution_count": 64,
     "metadata": {},
     "output_type": "execute_result"
    }
   ],
   "source": [
    "mu = df.spend.mean()\n",
    "sd = df.spend.std(ddof=1)/np.sqrt(n)\n",
    "\n",
    "stats.norm.interval(0.95, loc=mu, scale=sd)"
   ]
  },
  {
   "cell_type": "code",
   "execution_count": 66,
   "id": "099b746a",
   "metadata": {},
   "outputs": [
    {
     "data": {
      "text/plain": [
       "25.823521668370162"
      ]
     },
     "execution_count": 66,
     "metadata": {},
     "output_type": "execute_result"
    }
   ],
   "source": [
    "df.spend.std(ddof=1)"
   ]
  },
  {
   "cell_type": "code",
   "execution_count": null,
   "id": "ee680d87",
   "metadata": {},
   "outputs": [],
   "source": []
  },
  {
   "cell_type": "code",
   "execution_count": 55,
   "id": "37a8a734",
   "metadata": {},
   "outputs": [
    {
     "data": {
      "text/plain": [
       "25.823521668370162"
      ]
     },
     "execution_count": 55,
     "metadata": {},
     "output_type": "execute_result"
    }
   ],
   "source": [
    "df.spend.std(ddof=1)"
   ]
  },
  {
   "cell_type": "code",
   "execution_count": 39,
   "id": "3ce3f3c9",
   "metadata": {},
   "outputs": [
    {
     "data": {
      "text/plain": [
       "(46.621108256162906, 53.7788917438371)"
      ]
     },
     "execution_count": 39,
     "metadata": {},
     "output_type": "execute_result"
    },
    {
     "data": {
      "image/png": "[encoded data removed]",
      "text/plain": [
       "<Figure size 720x360 with 1 Axes>"
      ]
     },
     "metadata": {
      "needs_background": "light"
     },
     "output_type": "display_data"
    }
   ],
   "source": [
    "norm_conf_int(alpha, mu, sd, margin=5)"
   ]
  },
  {
   "cell_type": "code",
   "execution_count": 98,
   "id": "48e27971",
   "metadata": {},
   "outputs": [],
   "source": [
    "a = df.spend.sample(50)"
   ]
  },
  {
   "cell_type": "code",
   "execution_count": 99,
   "id": "87033cfa",
   "metadata": {},
   "outputs": [],
   "source": [
    "mu = a.mean()\n",
    "var = a.var(ddof=1)\n",
    "se = a.std(ddof=1)/np.sqrt(n)\n",
    "n = a.count()"
   ]
  },
  {
   "cell_type": "code",
   "execution_count": 100,
   "id": "47158816",
   "metadata": {},
   "outputs": [
    {
     "data": {
      "text/plain": [
       "8.597480251019286"
      ]
     },
     "execution_count": 100,
     "metadata": {},
     "output_type": "execute_result"
    }
   ],
   "source": [
    "sd"
   ]
  },
  {
   "cell_type": "code",
   "execution_count": 101,
   "id": "f1d15e7d",
   "metadata": {},
   "outputs": [
    {
     "data": {
      "text/plain": [
       "<AxesSubplot:>"
      ]
     },
     "execution_count": 101,
     "metadata": {},
     "output_type": "execute_result"
    },
    {
     "data": {
      "image/png": "[encoded data removed]",
      "text/plain": [
       "<Figure size 432x288 with 1 Axes>"
      ]
     },
     "metadata": {
      "needs_background": "light"
     },
     "output_type": "display_data"
    }
   ],
   "source": [
    "a.hist()"
   ]
  },
  {
   "cell_type": "code",
   "execution_count": 102,
   "id": "07ff1c02",
   "metadata": {},
   "outputs": [
    {
     "data": {
      "text/plain": [
       "(36.89809126171231, 68.7819087382877)"
      ]
     },
     "execution_count": 102,
     "metadata": {},
     "output_type": "execute_result"
    }
   ],
   "source": [
    "stats.t.interval(0.95, df=n-1, loc=mu, scale=se) "
   ]
  },
  {
   "cell_type": "code",
   "execution_count": 103,
   "id": "4a49adbe",
   "metadata": {},
   "outputs": [
    {
     "data": {
      "text/plain": [
       "(35.989248350207816, 69.69075164979219)"
      ]
     },
     "execution_count": 103,
     "metadata": {},
     "output_type": "execute_result"
    }
   ],
   "source": [
    "stats.norm.interval(0.95, loc=mu, scale=sd)"
   ]
  },
  {
   "cell_type": "code",
   "execution_count": null,
   "id": "26c8c3c9",
   "metadata": {},
   "outputs": [],
   "source": []
  }
 ],
 "metadata": {
  "kernelspec": {
   "display_name": "Python 3 (ipykernel)",
   "language": "python",
   "name": "python3"
  },
  "language_info": {
   "codemirror_mode": {
    "name": "ipython",
    "version": 3
   },
   "file_extension": ".py",
   "mimetype": "text/x-python",
   "name": "python",
   "nbconvert_exporter": "python",
   "pygments_lexer": "ipython3",
   "version": "3.9.7"
  }
 },
 "nbformat": 4,
 "nbformat_minor": 5
}
