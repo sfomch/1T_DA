{
 "cells": [
  {
   "cell_type": "markdown",
   "metadata": {},
   "source": [
    "# Итоговая аттестация аналитик данных "
   ]
  },
  {
   "cell_type": "markdown",
   "metadata": {},
   "source": [
    "## 1. Исследовательский анализ данных "
   ]
  },
  {
   "cell_type": "markdown",
   "metadata": {},
   "source": [
    "### 1.1. Предварительный обзор и предобработка давнных"
   ]
  },
  {
   "cell_type": "markdown",
   "metadata": {},
   "source": [
    "Набор данных, содержащий информацию о фильмах и сериалах всем известного интернет-кинотеатра Netflix"
   ]
  },
  {
   "cell_type": "code",
   "execution_count": 1,
   "metadata": {},
   "outputs": [],
   "source": [
    "import pandas as pd\n",
    "import matplotlib.pyplot as plt\n",
    "import numpy as np\n",
    "from scipy.stats import shapiro\n",
    "from scipy.stats import ttest_ind\n",
    "from scipy.stats import levene"
   ]
  },
  {
   "cell_type": "code",
   "execution_count": 2,
   "metadata": {},
   "outputs": [
    {
     "name": "stdout",
     "output_type": "stream",
     "text": [
      "<class 'pandas.core.frame.DataFrame'>\n",
      "RangeIndex: 8790 entries, 0 to 8789\n",
      "Data columns (total 10 columns):\n",
      " #   Column        Non-Null Count  Dtype \n",
      "---  ------        --------------  ----- \n",
      " 0   show_id       8790 non-null   object\n",
      " 1   type          8790 non-null   object\n",
      " 2   title         8790 non-null   object\n",
      " 3   director      8790 non-null   object\n",
      " 4   country       8790 non-null   object\n",
      " 5   date_added    8790 non-null   object\n",
      " 6   release_year  8790 non-null   int64 \n",
      " 7   rating        8790 non-null   object\n",
      " 8   duration      8790 non-null   object\n",
      " 9   listed_in     8790 non-null   object\n",
      "dtypes: int64(1), object(9)\n",
      "memory usage: 686.8+ KB\n"
     ]
    }
   ],
   "source": [
    "# Загрузка данных\n",
    "df = pd.read_csv('data/netflix1.csv', skipinitialspace = True)\n",
    "df.info()"
   ]
  },
  {
   "cell_type": "code",
   "execution_count": 3,
   "metadata": {},
   "outputs": [
    {
     "name": "stdout",
     "output_type": "stream",
     "text": [
      "В датасете 0 дубликатов строк\n"
     ]
    },
    {
     "data": {
      "text/plain": [
       "show_id         0\n",
       "type            0\n",
       "title           0\n",
       "director        0\n",
       "country         0\n",
       "date_added      0\n",
       "release_year    0\n",
       "rating          0\n",
       "duration        0\n",
       "listed_in       0\n",
       "dtype: int64"
      ]
     },
     "execution_count": 3,
     "metadata": {},
     "output_type": "execute_result"
    }
   ],
   "source": [
    "# Проверка на дубликаты\n",
    "print(f'В датасете {len(df) - len(df.drop_duplicates())} дубликатов строк')\n",
    "# Проверка на пропущенные значения\n",
    "df.isnull().sum()"
   ]
  },
  {
   "cell_type": "markdown",
   "metadata": {},
   "source": [
    "В наборе данных нет дублирующий строк и пропущенных значений"
   ]
  },
  {
   "cell_type": "code",
   "execution_count": 4,
   "metadata": {},
   "outputs": [
    {
     "data": {
      "text/html": [
       "<div>\n",
       "<style scoped>\n",
       "    .dataframe tbody tr th:only-of-type {\n",
       "        vertical-align: middle;\n",
       "    }\n",
       "\n",
       "    .dataframe tbody tr th {\n",
       "        vertical-align: top;\n",
       "    }\n",
       "\n",
       "    .dataframe thead th {\n",
       "        text-align: right;\n",
       "    }\n",
       "</style>\n",
       "<table border=\"1\" class=\"dataframe\">\n",
       "  <thead>\n",
       "    <tr style=\"text-align: right;\">\n",
       "      <th></th>\n",
       "      <th>show_id</th>\n",
       "      <th>type</th>\n",
       "      <th>title</th>\n",
       "      <th>director</th>\n",
       "      <th>country</th>\n",
       "      <th>date_added</th>\n",
       "      <th>release_year</th>\n",
       "      <th>rating</th>\n",
       "      <th>duration</th>\n",
       "      <th>listed_in</th>\n",
       "    </tr>\n",
       "  </thead>\n",
       "  <tbody>\n",
       "    <tr>\n",
       "      <th>0</th>\n",
       "      <td>s1</td>\n",
       "      <td>Movie</td>\n",
       "      <td>Dick Johnson Is Dead</td>\n",
       "      <td>Kirsten Johnson</td>\n",
       "      <td>United States</td>\n",
       "      <td>9/25/2021</td>\n",
       "      <td>2020</td>\n",
       "      <td>PG-13</td>\n",
       "      <td>90 min</td>\n",
       "      <td>Documentaries</td>\n",
       "    </tr>\n",
       "    <tr>\n",
       "      <th>1</th>\n",
       "      <td>s3</td>\n",
       "      <td>TV Show</td>\n",
       "      <td>Ganglands</td>\n",
       "      <td>Julien Leclercq</td>\n",
       "      <td>France</td>\n",
       "      <td>9/24/2021</td>\n",
       "      <td>2021</td>\n",
       "      <td>TV-MA</td>\n",
       "      <td>1 Season</td>\n",
       "      <td>Crime TV Shows, International TV Shows, TV Act...</td>\n",
       "    </tr>\n",
       "    <tr>\n",
       "      <th>2</th>\n",
       "      <td>s6</td>\n",
       "      <td>TV Show</td>\n",
       "      <td>Midnight Mass</td>\n",
       "      <td>Mike Flanagan</td>\n",
       "      <td>United States</td>\n",
       "      <td>9/24/2021</td>\n",
       "      <td>2021</td>\n",
       "      <td>TV-MA</td>\n",
       "      <td>1 Season</td>\n",
       "      <td>TV Dramas, TV Horror, TV Mysteries</td>\n",
       "    </tr>\n",
       "    <tr>\n",
       "      <th>3</th>\n",
       "      <td>s14</td>\n",
       "      <td>Movie</td>\n",
       "      <td>Confessions of an Invisible Girl</td>\n",
       "      <td>Bruno Garotti</td>\n",
       "      <td>Brazil</td>\n",
       "      <td>9/22/2021</td>\n",
       "      <td>2021</td>\n",
       "      <td>TV-PG</td>\n",
       "      <td>91 min</td>\n",
       "      <td>Children &amp; Family Movies, Comedies</td>\n",
       "    </tr>\n",
       "    <tr>\n",
       "      <th>4</th>\n",
       "      <td>s8</td>\n",
       "      <td>Movie</td>\n",
       "      <td>Sankofa</td>\n",
       "      <td>Haile Gerima</td>\n",
       "      <td>United States</td>\n",
       "      <td>9/24/2021</td>\n",
       "      <td>1993</td>\n",
       "      <td>TV-MA</td>\n",
       "      <td>125 min</td>\n",
       "      <td>Dramas, Independent Movies, International Movies</td>\n",
       "    </tr>\n",
       "  </tbody>\n",
       "</table>\n",
       "</div>"
      ],
      "text/plain": [
       "  show_id     type                             title         director  \\\n",
       "0      s1    Movie              Dick Johnson Is Dead  Kirsten Johnson   \n",
       "1      s3  TV Show                         Ganglands  Julien Leclercq   \n",
       "2      s6  TV Show                     Midnight Mass    Mike Flanagan   \n",
       "3     s14    Movie  Confessions of an Invisible Girl    Bruno Garotti   \n",
       "4      s8    Movie                           Sankofa     Haile Gerima   \n",
       "\n",
       "         country date_added  release_year rating  duration  \\\n",
       "0  United States  9/25/2021          2020  PG-13    90 min   \n",
       "1         France  9/24/2021          2021  TV-MA  1 Season   \n",
       "2  United States  9/24/2021          2021  TV-MA  1 Season   \n",
       "3         Brazil  9/22/2021          2021  TV-PG    91 min   \n",
       "4  United States  9/24/2021          1993  TV-MA   125 min   \n",
       "\n",
       "                                           listed_in  \n",
       "0                                      Documentaries  \n",
       "1  Crime TV Shows, International TV Shows, TV Act...  \n",
       "2                 TV Dramas, TV Horror, TV Mysteries  \n",
       "3                 Children & Family Movies, Comedies  \n",
       "4   Dramas, Independent Movies, International Movies  "
      ]
     },
     "execution_count": 4,
     "metadata": {},
     "output_type": "execute_result"
    }
   ],
   "source": [
    "#Первый взляд на дынные\n",
    "df.head(5)"
   ]
  },
  {
   "cell_type": "code",
   "execution_count": 5,
   "metadata": {},
   "outputs": [
    {
     "data": {
      "text/plain": [
       "type\n",
       "Movie      6126\n",
       "TV Show    2664\n",
       "Name: count, dtype: int64"
      ]
     },
     "execution_count": 5,
     "metadata": {},
     "output_type": "execute_result"
    }
   ],
   "source": [
    "#посмотрим какие значения может принимать type\n",
    "df.type.value_counts()"
   ]
  },
  {
   "cell_type": "code",
   "execution_count": 6,
   "metadata": {},
   "outputs": [
    {
     "data": {
      "text/plain": [
       "rating\n",
       "TV-MA       3205\n",
       "TV-14       2157\n",
       "TV-PG        861\n",
       "R            799\n",
       "PG-13        490\n",
       "TV-Y7        333\n",
       "TV-Y         306\n",
       "PG           287\n",
       "TV-G         220\n",
       "NR            79\n",
       "G             41\n",
       "TV-Y7-FV       6\n",
       "NC-17          3\n",
       "UR             3\n",
       "Name: count, dtype: int64"
      ]
     },
     "execution_count": 6,
     "metadata": {},
     "output_type": "execute_result"
    }
   ],
   "source": [
    "#посмотрим какие значения может принимать rating\n",
    "df.rating.value_counts()"
   ]
  },
  {
   "cell_type": "code",
   "execution_count": 9,
   "metadata": {},
   "outputs": [
    {
     "data": {
      "text/plain": [
       "country\n",
       "United States     3240\n",
       "India             1057\n",
       "United Kingdom     638\n",
       "Pakistan           421\n",
       "Not Given          287\n",
       "                  ... \n",
       "Iran                 1\n",
       "West Germany         1\n",
       "Greece               1\n",
       "Zimbabwe             1\n",
       "Soviet Union         1\n",
       "Name: count, Length: 86, dtype: int64"
      ]
     },
     "execution_count": 9,
     "metadata": {},
     "output_type": "execute_result"
    }
   ],
   "source": [
    "#посмотрим какие значения может принимать country\n",
    "df.country.value_counts()"
   ]
  },
  {
   "cell_type": "code",
   "execution_count": 8,
   "metadata": {},
   "outputs": [
    {
     "data": {
      "text/plain": [
       "duration\n",
       "1 Season      1791\n",
       "2 Seasons      421\n",
       "3 Seasons      198\n",
       "90 min         152\n",
       "97 min         146\n",
       "              ... \n",
       "5 min            1\n",
       "16 min           1\n",
       "186 min          1\n",
       "193 min          1\n",
       "11 Seasons       1\n",
       "Name: count, Length: 220, dtype: int64"
      ]
     },
     "execution_count": 8,
     "metadata": {},
     "output_type": "execute_result"
    }
   ],
   "source": [
    "#посмотрим какие значения может принимать duration\n",
    "df.duration.value_counts()"
   ]
  },
  {
   "cell_type": "code",
   "execution_count": 10,
   "metadata": {},
   "outputs": [
    {
     "name": "stdout",
     "output_type": "stream",
     "text": [
      "duration\n",
      "90 min     152\n",
      "93 min     146\n",
      "94 min     146\n",
      "97 min     146\n",
      "91 min     144\n",
      "          ... \n",
      "208 min      1\n",
      "5 min        1\n",
      "16 min       1\n",
      "186 min      1\n",
      "312 min      1\n",
      "Name: count, Length: 205, dtype: int64\n"
     ]
    },
    {
     "data": {
      "text/plain": [
       "duration\n",
       "1 Season      1791\n",
       "2 Seasons      421\n",
       "3 Seasons      198\n",
       "4 Seasons       94\n",
       "5 Seasons       64\n",
       "6 Seasons       33\n",
       "7 Seasons       23\n",
       "8 Seasons       17\n",
       "9 Seasons        9\n",
       "10 Seasons       6\n",
       "15 Seasons       2\n",
       "13 Seasons       2\n",
       "12 Seasons       2\n",
       "17 Seasons       1\n",
       "11 Seasons       1\n",
       "Name: count, dtype: int64"
      ]
     },
     "execution_count": 10,
     "metadata": {},
     "output_type": "execute_result"
    }
   ],
   "source": [
    "#посмотрим  duration в разрезе типа контента\n",
    "df_movies = df[df.type == 'Movie'] \n",
    "df_tv_show = df[df.type == 'TV Show'] \n",
    "print(df_movies.duration.value_counts())\n",
    "df_tv_show.duration.value_counts()"
   ]
  },
  {
   "cell_type": "code",
   "execution_count": 11,
   "metadata": {},
   "outputs": [
    {
     "data": {
      "text/plain": [
       "0"
      ]
     },
     "execution_count": 11,
     "metadata": {},
     "output_type": "execute_result"
    }
   ],
   "source": [
    "#Проверю может ли продолжительность фильм измерятся в сезонах\n",
    "df_movies.duration.str.contains('Season').sum()"
   ]
  },
  {
   "cell_type": "code",
   "execution_count": 12,
   "metadata": {},
   "outputs": [
    {
     "name": "stdout",
     "output_type": "stream",
     "text": [
      "В каталоге содержится 42 жанров фильмов и телешоу:\n"
     ]
    },
    {
     "data": {
      "text/plain": [
       "{'Action & Adventure',\n",
       " 'Anime Features',\n",
       " 'Anime Series',\n",
       " 'British TV Shows',\n",
       " 'Children & Family Movies',\n",
       " 'Classic & Cult TV',\n",
       " 'Classic Movies',\n",
       " 'Comedies',\n",
       " 'Crime TV Shows',\n",
       " 'Cult Movies',\n",
       " 'Documentaries',\n",
       " 'Docuseries',\n",
       " 'Dramas',\n",
       " 'Faith & Spirituality',\n",
       " 'Horror Movies',\n",
       " 'Independent Movies',\n",
       " 'International Movies',\n",
       " 'International TV Shows',\n",
       " \"Kids' TV\",\n",
       " 'Korean TV Shows',\n",
       " 'LGBTQ Movies',\n",
       " 'Movies',\n",
       " 'Music & Musicals',\n",
       " 'Reality TV',\n",
       " 'Romantic Movies',\n",
       " 'Romantic TV Shows',\n",
       " 'Sci-Fi & Fantasy',\n",
       " 'Science & Nature TV',\n",
       " 'Spanish-Language TV Shows',\n",
       " 'Sports Movies',\n",
       " 'Stand-Up Comedy',\n",
       " 'Stand-Up Comedy & Talk Shows',\n",
       " 'TV Action & Adventure',\n",
       " 'TV Comedies',\n",
       " 'TV Dramas',\n",
       " 'TV Horror',\n",
       " 'TV Mysteries',\n",
       " 'TV Sci-Fi & Fantasy',\n",
       " 'TV Shows',\n",
       " 'TV Thrillers',\n",
       " 'Teen TV Shows',\n",
       " 'Thrillers'}"
      ]
     },
     "execution_count": 12,
     "metadata": {},
     "output_type": "execute_result"
    }
   ],
   "source": [
    "#Создадим множество для типов жанров\n",
    "genre_ = set()\n",
    "for i in range(df.shape[0]):\n",
    "    list_ = df['listed_in'][i].split(',') # Создаю список из строки\n",
    "    set_ = {list_[n].strip() for n in range(len(list_))} #добавляю элемент без начальных пробелов списка в множество\n",
    "    genre_.update(set_) \n",
    "\n",
    "print(f'В каталоге содержится {len(genre_)} жанров фильмов и телешоу:')\n",
    "genre_\n"
   ]
  },
  {
   "cell_type": "markdown",
   "metadata": {},
   "source": [
    "Набор данных содержит 8790 строк и 10 столбцов со следующей инфомацией:\n",
    "- show_id - уникальный идетификатор фильма (телешоу) в формате 'sчисло' (тип данных - object)\n",
    "- type - тип контента (тип данных - object). Может примимать значения:\n",
    "    - Movie - фильм;\n",
    "    - TV Show - телешоу.\n",
    "- title - название фильма (телешоу) (тип данных - object)\n",
    "- director - режиссер (тип данных - object)\n",
    "- country - страна происхождения(тип данных - object) \n",
    "    - страна происхождения известна не для всех фильмов, есть значение **Not Given**\n",
    "- date_added - дата добавления в каталог Netflix (тип данных - object)\n",
    "- release_year - год выхода в прокат фильма (телешоу) (тип данных - int64)\n",
    "- rating - возрастное ограничение фильма (телешоу) - (тип данных - object).  Может примимать значения:\n",
    "    - TV-MA — Эта программа предназначена для просмотра взрослыми и поэтому может не подходить для детей младше 17 лет;\n",
    "    - TV-Y — Эта программа предназначена для очень юной аудитории, в том числе для детей от 2 до 6 лет;\n",
    "    - TV-Y7 — Эта программа предназначена для детей от 7 лет и старше;\n",
    "    - TV-Y7-FV — Эта программа демонстрируют больше «фантастического насилия», которое может быть более интенсивным или боевым, чем другие программы с рейтингом TV-Y7;\n",
    "    - TV-G обычно подходят для всех возрастов;\n",
    "    - TV-PG — Рекомендуется родительское руководство; эти программы могут быть неподходящими для детей младшего возраста.\n",
    "    - PG-13 — Детям до 13 лет просмотр не желателен;\n",
    "    - PG – кино разрешённое для просмотра всем, но маленьким детям рекомендуется просмотр с родителями;\n",
    "    - NC-17 – зрители до 18 не допускаются (в названии «17» потому что включительно);\n",
    "    - R – зрители до 17 лет должны присутствовать в зале с сопровождением родителей;\n",
    "    - G – кино без всяких возрастных ограничений;\n",
    "    - NR - нет рейтинга;\n",
    "    - UR - фильм вышедший в прокат до введения системы рейтингов, то есть до 1 ноября 1968 года.\n",
    "- duration - продолжительность  (тип данных - object).  Может примимать значения:\n",
    "    - для фильма в минутах;\n",
    "    - для телешою в сезонах.\n",
    "- listed_in - жанры фильма (телешоу) (тип данных - object). Может примимать значения:\n",
    "    - список из жанров фильма (всего в каталоге 42 жанра)\n"
   ]
  },
  {
   "cell_type": "markdown",
   "metadata": {},
   "source": [
    "Для удобства провдения исследовательского анализа набора данных:\n",
    "- поменяю тип данных **date_added** \n",
    "- создам столбец **duration_temp** с типом данных **int64** с продолжителностью в минутах для фильмов и количеством сезонов для телешоу"
   ]
  },
  {
   "cell_type": "code",
   "execution_count": 13,
   "metadata": {},
   "outputs": [],
   "source": [
    "#Меняю тип данных в date_added\n",
    "df.date_added = df.date_added.astype(\"datetime64[ns]\")\n",
    "#Вставляю  столбец\n",
    "df.insert(9, 'duration_temp', 0 , allow_duplicates = False)\n",
    "#Заполняю столбец минутами для фильмов и количеством сезонов для телешоу\n",
    "for i in range(df.shape[0]):\n",
    "    list_ = df.duration[i].split(' ')\n",
    "    df.loc[i,'duration_temp'] = int(list_[0])"
   ]
  },
  {
   "cell_type": "markdown",
   "metadata": {},
   "source": [
    "### 1.2. Исследовательский анализ данных (EDA)"
   ]
  },
  {
   "cell_type": "code",
   "execution_count": null,
   "metadata": {},
   "outputs": [],
   "source": []
  },
  {
   "cell_type": "code",
   "execution_count": null,
   "metadata": {},
   "outputs": [],
   "source": []
  },
  {
   "cell_type": "code",
   "execution_count": null,
   "metadata": {},
   "outputs": [],
   "source": []
  }
 ],
 "metadata": {
  "kernelspec": {
   "display_name": "Python 3",
   "language": "python",
   "name": "python3"
  },
  "language_info": {
   "codemirror_mode": {
    "name": "ipython",
    "version": 3
   },
   "file_extension": ".py",
   "mimetype": "text/x-python",
   "name": "python",
   "nbconvert_exporter": "python",
   "pygments_lexer": "ipython3",
   "version": "3.11.3"
  }
 },
 "nbformat": 4,
 "nbformat_minor": 2
}
